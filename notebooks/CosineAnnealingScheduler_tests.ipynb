{
 "cells": [
  {
   "cell_type": "code",
   "execution_count": null,
   "metadata": {},
   "outputs": [],
   "source": [
    "from mlp.tests import test_cosine_scheduler\n",
    "\n",
    "check_functionality, functionality_correct, functionality_output, check_continue_from_checkpoint, continuation_correct, continuation_output = test_cosine_scheduler()\n",
    "\n",
    "assert check_functionality == 1.0, (\n",
    "'The scheduler functionality test failed'\n",
    "'Correct output is \\n\\n{0}\\n\\n but returned output is \\n\\n{1}\\n\\n difference is \\n\\n{2}'\n",
    ".format(functionality_correct, functionality_output, functionality_output-functionality_correct)\n",
    ")\n",
    "\n",
    "print(\"Scheduler Functionality Test Passed\")\n",
    "\n",
    "assert check_continue_from_checkpoint == 1.0, (\n",
    "'The scheduler continue-from feature test failed'\n",
    "'Correct output is \\n\\n{0}\\n\\n but returned output is \\n\\n{1}\\n\\n difference is \\n\\n{2}'\n",
    ".format(continuation_correct, continuation_output, continuation_output-continuation_correct)\n",
    ")\n",
    "\n",
    "print(\"Scheduler Continue-from Test Passed\")\n",
    "\n"
   ]
  },
  {
   "cell_type": "code",
   "execution_count": null,
   "metadata": {},
   "outputs": [],
   "source": []
  },
  {
   "cell_type": "code",
   "execution_count": null,
   "metadata": {},
   "outputs": [],
   "source": []
  },
  {
   "cell_type": "code",
   "execution_count": null,
   "metadata": {},
   "outputs": [],
   "source": []
  },
  {
   "cell_type": "code",
   "execution_count": null,
   "metadata": {},
   "outputs": [],
   "source": []
  }
 ],
 "metadata": {
  "kernelspec": {
   "display_name": "Python 3",
   "language": "python",
   "name": "python3"
  },
  "language_info": {
   "codemirror_mode": {
    "name": "ipython",
    "version": 3
   },
   "file_extension": ".py",
   "mimetype": "text/x-python",
   "name": "python",
   "nbconvert_exporter": "python",
   "pygments_lexer": "ipython3",
   "version": "3.6.6"
  }
 },
 "nbformat": 4,
 "nbformat_minor": 1
}
