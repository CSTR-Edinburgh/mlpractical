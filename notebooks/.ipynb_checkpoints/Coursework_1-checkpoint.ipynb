{
 "cells": [
  {
   "cell_type": "markdown",
   "metadata": {},
   "source": [
    "# Coursework 1\n",
    "\n",
    "This notebook is intended to be used as a starting point for your experiments. The instructions can be found in the instructions file located under spec/coursework1.pdf. The methods provided here are just helper functions. If you want more complex graphs such as side by side comparisons of different experiments you should learn more about matplotlib and implement them. Before each experiment remember to re-initialize neural network weights and reset the data providers so you get a properly initialized experiment. For each experiment try to keep most hyperparameters the same except the one under investigation so you can understand what the effects of each are."
   ]
  },
  {
   "cell_type": "code",
<<<<<<< HEAD
   "execution_count": 1,
=======
   "execution_count": null,
>>>>>>> afb40114e9f11e8f8e95443222c7707024fbb52d
   "metadata": {},
   "outputs": [],
   "source": [
    "import matplotlib.pyplot as plt\n",
    "%matplotlib inline\n",
    "plt.style.use('ggplot')\n",
    "\n",
    "def train_model_and_plot_stats(\n",
    "        model, error, learning_rule, train_data, valid_data, num_epochs, stats_interval, notebook=True):\n",
    "    \n",
    "    # As well as monitoring the error over training also monitor classification\n",
    "    # accuracy i.e. proportion of most-probable predicted classes being equal to targets\n",
    "    data_monitors={'acc': lambda y, t: (y.argmax(-1) == t.argmax(-1)).mean()}\n",
    "\n",
    "    # Use the created objects to initialise a new Optimiser instance.\n",
    "    optimiser = Optimiser(\n",
    "        model, error, learning_rule, train_data, valid_data, data_monitors, notebook=notebook)\n",
    "\n",
    "    # Run the optimiser for 5 epochs (full passes through the training set)\n",
    "    # printing statistics every epoch.\n",
    "    stats, keys, run_time = optimiser.train(num_epochs=num_epochs, stats_interval=stats_interval)\n",
    "\n",
    "    # Plot the change in the validation and training set error over training.\n",
    "    fig_1 = plt.figure(figsize=(8, 4))\n",
    "    ax_1 = fig_1.add_subplot(111)\n",
    "    for k in ['error(train)', 'error(valid)']:\n",
    "        ax_1.plot(np.arange(1, stats.shape[0]) * stats_interval, \n",
    "                  stats[1:, keys[k]], label=k)\n",
    "    ax_1.legend(loc=0)\n",
    "    ax_1.set_xlabel('Epoch number')\n",
    "\n",
    "    # Plot the change in the validation and training set accuracy over training.\n",
    "    fig_2 = plt.figure(figsize=(8, 4))\n",
    "    ax_2 = fig_2.add_subplot(111)\n",
    "    for k in ['acc(train)', 'acc(valid)']:\n",
    "        ax_2.plot(np.arange(1, stats.shape[0]) * stats_interval, \n",
    "                  stats[1:, keys[k]], label=k)\n",
    "    ax_2.legend(loc=0)\n",
    "    ax_2.set_xlabel('Epoch number')\n",
    "    \n",
<<<<<<< HEAD
    "    return stats, keys, run_time, fig_1, ax_1, fig_2, ax_2\n",
    "plt.show()"
=======
    "    return stats, keys, run_time, fig_1, ax_1, fig_2, ax_2"
>>>>>>> afb40114e9f11e8f8e95443222c7707024fbb52d
   ]
  },
  {
   "cell_type": "code",
   "execution_count": 2,
   "metadata": {},
   "outputs": [
    {
     "name": "stdout",
     "output_type": "stream",
     "text": [
<<<<<<< HEAD
      "KeysView(<numpy.lib.npyio.NpzFile object at 0x115b83b50>)\n",
      "KeysView(<numpy.lib.npyio.NpzFile object at 0x11e50da10>)\n"
=======
      "KeysView(<numpy.lib.npyio.NpzFile object at 0x7f455d7b1eb8>)\n",
      "KeysView(<numpy.lib.npyio.NpzFile object at 0x7f455d7ad7f0>)\n"
>>>>>>> afb40114e9f11e8f8e95443222c7707024fbb52d
     ]
    }
   ],
   "source": [
    "# The below code will set up the data providers, random number\n",
    "# generator and logger objects needed for training runs. As\n",
    "# loading the data from file take a little while you generally\n",
    "# will probably not want to reload the data providers on\n",
    "# every training run. If you wish to reset their state you\n",
    "# should instead use the .reset() method of the data providers.\n",
<<<<<<< HEAD
    "\n",
    "import numpy as np\n",
    "import logging\n",
    "from mlp.data_providers import MNISTDataProvider, EMNISTDataProvider\n",
    "# Seed a random number generator\n",
    "seed = 11102019 \n",
=======
    "import numpy as np\n",
    "import logging\n",
    "from mlp.data_providers import MNISTDataProvider, EMNISTDataProvider\n",
    "\n",
    "# Seed a random number generator\n",
    "seed = 11102018 \n",
>>>>>>> afb40114e9f11e8f8e95443222c7707024fbb52d
    "rng = np.random.RandomState(seed)\n",
    "batch_size = 100\n",
    "# Set up a logger object to print info about the training run to stdout\n",
    "logger = logging.getLogger()\n",
    "logger.setLevel(logging.INFO)\n",
    "logger.handlers = [logging.StreamHandler()]\n",
    "\n",
    "# Create data provider objects for the MNIST data set\n",
    "train_data = EMNISTDataProvider('train', batch_size=batch_size, rng=rng)\n",
    "valid_data = EMNISTDataProvider('valid', batch_size=batch_size, rng=rng)"
   ]
  },
  {
   "cell_type": "code",
<<<<<<< HEAD
   "execution_count": null,
   "metadata": {
    "scrolled": false
   },
   "outputs": [
    {
     "data": {
      "application/vnd.jupyter.widget-view+json": {
       "model_id": "2557128c801248fea7bd52cfd1230cc1",
       "version_major": 2,
       "version_minor": 0
      },
=======
   "execution_count": 3,
   "metadata": {},
   "outputs": [
    {
     "data": {
>>>>>>> afb40114e9f11e8f8e95443222c7707024fbb52d
      "text/plain": [
       "HBox(children=(IntProgress(value=0), HTML(value='')))"
      ]
     },
     "metadata": {},
     "output_type": "display_data"
    },
    {
     "data": {
<<<<<<< HEAD
      "application/vnd.jupyter.widget-view+json": {
       "model_id": "af8b42b522524997ad18ed27b56c4391",
       "version_major": 2,
       "version_minor": 0
      },
=======
>>>>>>> afb40114e9f11e8f8e95443222c7707024fbb52d
      "text/plain": [
       "HBox(children=(IntProgress(value=0, max=1000), HTML(value='')))"
      ]
     },
     "metadata": {},
     "output_type": "display_data"
    },
    {
<<<<<<< HEAD
     "name": "stdout",
     "output_type": "stream",
     "text": [
      "\n"
     ]
    },
    {
     "name": "stderr",
     "output_type": "stream",
     "text": [
      "Epoch 1: 7.5s to complete\n",
      "    error(train)=8.15e-01, acc(train)=7.54e-01, error(valid)=8.34e-01, acc(valid)=7.44e-01\n"
=======
     "name": "stderr",
     "output_type": "stream",
     "text": [
      "Epoch 1: 3.9s to complete\n",
      "    error(train)=8.15e-01, acc(train)=7.58e-01, error(valid)=8.36e-01, acc(valid)=7.51e-01\n"
>>>>>>> afb40114e9f11e8f8e95443222c7707024fbb52d
     ]
    },
    {
     "data": {
<<<<<<< HEAD
      "application/vnd.jupyter.widget-view+json": {
       "model_id": "52ddff57473d4cb2a4c637fcf53ed73e",
       "version_major": 2,
       "version_minor": 0
      },
=======
>>>>>>> afb40114e9f11e8f8e95443222c7707024fbb52d
      "text/plain": [
       "HBox(children=(IntProgress(value=0, max=1000), HTML(value='')))"
      ]
     },
     "metadata": {},
     "output_type": "display_data"
    },
    {
<<<<<<< HEAD
     "name": "stdout",
     "output_type": "stream",
     "text": [
      "\n"
     ]
    },
    {
     "name": "stderr",
     "output_type": "stream",
     "text": [
      "Epoch 2: 10.6s to complete\n",
      "    error(train)=6.37e-01, acc(train)=7.99e-01, error(valid)=6.75e-01, acc(valid)=7.87e-01\n"
=======
     "name": "stderr",
     "output_type": "stream",
     "text": [
      "Epoch 2: 9.5s to complete\n",
      "    error(train)=6.45e-01, acc(train)=7.95e-01, error(valid)=6.82e-01, acc(valid)=7.85e-01\n"
>>>>>>> afb40114e9f11e8f8e95443222c7707024fbb52d
     ]
    },
    {
     "data": {
<<<<<<< HEAD
      "application/vnd.jupyter.widget-view+json": {
       "model_id": "04bb56f129f54e25a6238cf86c3e1237",
       "version_major": 2,
       "version_minor": 0
      },
=======
>>>>>>> afb40114e9f11e8f8e95443222c7707024fbb52d
      "text/plain": [
       "HBox(children=(IntProgress(value=0, max=1000), HTML(value='')))"
      ]
     },
     "metadata": {},
     "output_type": "display_data"
    },
    {
<<<<<<< HEAD
     "name": "stdout",
     "output_type": "stream",
     "text": [
      "\n"
     ]
    },
    {
     "name": "stderr",
     "output_type": "stream",
     "text": [
      "Epoch 3: 9.3s to complete\n",
      "    error(train)=5.54e-01, acc(train)=8.22e-01, error(valid)=6.07e-01, acc(valid)=8.08e-01\n"
=======
     "name": "stderr",
     "output_type": "stream",
     "text": [
      "Epoch 3: 10.2s to complete\n",
      "    error(train)=5.68e-01, acc(train)=8.15e-01, error(valid)=6.23e-01, acc(valid)=8.00e-01\n"
>>>>>>> afb40114e9f11e8f8e95443222c7707024fbb52d
     ]
    },
    {
     "data": {
<<<<<<< HEAD
      "application/vnd.jupyter.widget-view+json": {
       "model_id": "caec846acf9046d9899ed6ae38b93b4d",
       "version_major": 2,
       "version_minor": 0
      },
=======
>>>>>>> afb40114e9f11e8f8e95443222c7707024fbb52d
      "text/plain": [
       "HBox(children=(IntProgress(value=0, max=1000), HTML(value='')))"
      ]
     },
     "metadata": {},
     "output_type": "display_data"
    },
    {
<<<<<<< HEAD
     "name": "stdout",
     "output_type": "stream",
     "text": [
      "\n"
     ]
    },
    {
     "name": "stderr",
     "output_type": "stream",
     "text": [
      "Epoch 4: 6.7s to complete\n",
      "    error(train)=5.05e-01, acc(train)=8.34e-01, error(valid)=5.75e-01, acc(valid)=8.15e-01\n"
=======
     "name": "stderr",
     "output_type": "stream",
     "text": [
      "Epoch 4: 12.0s to complete\n",
      "    error(train)=5.24e-01, acc(train)=8.29e-01, error(valid)=5.93e-01, acc(valid)=8.11e-01\n"
>>>>>>> afb40114e9f11e8f8e95443222c7707024fbb52d
     ]
    },
    {
     "data": {
<<<<<<< HEAD
      "application/vnd.jupyter.widget-view+json": {
       "model_id": "3cef6753f086455f81f28bbf11f1a840",
       "version_major": 2,
       "version_minor": 0
      },
=======
>>>>>>> afb40114e9f11e8f8e95443222c7707024fbb52d
      "text/plain": [
       "HBox(children=(IntProgress(value=0, max=1000), HTML(value='')))"
      ]
     },
     "metadata": {},
     "output_type": "display_data"
    },
    {
<<<<<<< HEAD
     "name": "stdout",
     "output_type": "stream",
     "text": [
      "\n"
     ]
    },
    {
     "name": "stderr",
     "output_type": "stream",
     "text": [
      "Epoch 5: 5.0s to complete\n",
      "    error(train)=4.78e-01, acc(train)=8.39e-01, error(valid)=5.61e-01, acc(valid)=8.14e-01\n"
=======
     "name": "stderr",
     "output_type": "stream",
     "text": [
      "Epoch 5: 13.5s to complete\n",
      "    error(train)=4.93e-01, acc(train)=8.34e-01, error(valid)=5.76e-01, acc(valid)=8.10e-01\n"
>>>>>>> afb40114e9f11e8f8e95443222c7707024fbb52d
     ]
    },
    {
     "data": {
<<<<<<< HEAD
      "application/vnd.jupyter.widget-view+json": {
       "model_id": "e118c5af96dc402eaad0f3658c9c31c6",
       "version_major": 2,
       "version_minor": 0
      },
=======
>>>>>>> afb40114e9f11e8f8e95443222c7707024fbb52d
      "text/plain": [
       "HBox(children=(IntProgress(value=0, max=1000), HTML(value='')))"
      ]
     },
     "metadata": {},
     "output_type": "display_data"
    },
    {
<<<<<<< HEAD
     "name": "stdout",
     "output_type": "stream",
     "text": [
      "\n"
     ]
    },
    {
     "name": "stderr",
     "output_type": "stream",
     "text": [
      "Epoch 6: 6.2s to complete\n",
      "    error(train)=4.63e-01, acc(train)=8.45e-01, error(valid)=5.65e-01, acc(valid)=8.21e-01\n"
=======
     "name": "stderr",
     "output_type": "stream",
     "text": [
      "Epoch 6: 13.9s to complete\n",
      "    error(train)=4.50e-01, acc(train)=8.50e-01, error(valid)=5.35e-01, acc(valid)=8.26e-01\n"
>>>>>>> afb40114e9f11e8f8e95443222c7707024fbb52d
     ]
    },
    {
     "data": {
<<<<<<< HEAD
      "application/vnd.jupyter.widget-view+json": {
       "model_id": "830ae7d1303e4176a2432afd5ab0829f",
       "version_major": 2,
       "version_minor": 0
      },
=======
>>>>>>> afb40114e9f11e8f8e95443222c7707024fbb52d
      "text/plain": [
       "HBox(children=(IntProgress(value=0, max=1000), HTML(value='')))"
      ]
     },
     "metadata": {},
     "output_type": "display_data"
    },
    {
<<<<<<< HEAD
     "name": "stdout",
     "output_type": "stream",
     "text": [
      "\n"
     ]
    },
    {
     "name": "stderr",
     "output_type": "stream",
     "text": [
      "Epoch 7: 6.6s to complete\n",
      "    error(train)=4.24e-01, acc(train)=8.55e-01, error(valid)=5.33e-01, acc(valid)=8.24e-01\n"
=======
     "name": "stderr",
     "output_type": "stream",
     "text": [
      "Epoch 7: 18.7s to complete\n",
      "    error(train)=4.24e-01, acc(train)=8.56e-01, error(valid)=5.23e-01, acc(valid)=8.27e-01\n"
>>>>>>> afb40114e9f11e8f8e95443222c7707024fbb52d
     ]
    },
    {
     "data": {
<<<<<<< HEAD
      "application/vnd.jupyter.widget-view+json": {
       "model_id": "6a718223c3b24649850cc4537eb07b4b",
       "version_major": 2,
       "version_minor": 0
      },
=======
>>>>>>> afb40114e9f11e8f8e95443222c7707024fbb52d
      "text/plain": [
       "HBox(children=(IntProgress(value=0, max=1000), HTML(value='')))"
      ]
     },
     "metadata": {},
     "output_type": "display_data"
<<<<<<< HEAD
    }
   ],
   "source": [
    "# The model set up code below is provided as a starting point.\n",
    "# You will probably want to add further code cells for the\n",
    "# different experiments you run.\n",
    "\n",
    "from mlp.layers import AffineLayer, SoftmaxLayer, SigmoidLayer, ReluLayer\n",
    "from mlp.errors import CrossEntropySoftmaxError\n",
    "from mlp.models import MultipleLayerModel\n",
    "from mlp.initialisers import ConstantInit, GlorotUniformInit\n",
    "from mlp.learning_rules import AdamLearningRule\n",
    "from mlp.optimisers import Optimiser\n",
    "\n",
    "#setup hyperparameters\n",
    "learning_rate = 0.1\n",
    "num_epochs = 100\n",
    "stats_interval = 1\n",
    "input_dim, output_dim, hidden_dim = 784, 47, 100\n",
    "\n",
    "weights_init = GlorotUniformInit(rng=rng)\n",
    "biases_init = ConstantInit(0.)\n",
    "model = MultipleLayerModel([\n",
    "    AffineLayer(input_dim, hidden_dim, weights_init, biases_init), \n",
    "    ReluLayer(),\n",
    "    AffineLayer(hidden_dim, hidden_dim, weights_init, biases_init), \n",
    "    ReluLayer(),\n",
    "    AffineLayer(hidden_dim, output_dim, weights_init, biases_init)\n",
    "])\n",
    "\n",
    "error = CrossEntropySoftmaxError()\n",
    "# Use a basic gradient descent learning rule\n",
    "learning_rule = AdamLearningRule()\n",
    "\n",
    "#Remember to use notebook=False when you write a script to be run in a terminal\n",
    "_ = train_model_and_plot_stats(\n",
    "    model, error, learning_rule, train_data, valid_data, num_epochs, stats_interval, notebook=True)"
   ]
  },
  {
   "cell_type": "markdown",
   "metadata": {},
   "source": [
    "## 32 ReLU hidden Unit 3 layer"
   ]
  },
  {
   "cell_type": "code",
   "execution_count": 12,
   "metadata": {
    "scrolled": true
   },
   "outputs": [
    {
     "data": {
      "application/vnd.jupyter.widget-view+json": {
       "model_id": "dd2849733a424613964bba688336cece",
       "version_major": 2,
       "version_minor": 0
      },
      "text/plain": [
       "HBox(children=(IntProgress(value=0), HTML(value='')))"
      ]
     },
     "metadata": {},
     "output_type": "display_data"
    },
    {
     "data": {
      "application/vnd.jupyter.widget-view+json": {
       "model_id": "6b96e042c6cb40d2ac38ea89370cb8fe",
       "version_major": 2,
       "version_minor": 0
      },
=======
    },
    {
     "name": "stderr",
     "output_type": "stream",
     "text": [
      "Epoch 8: 18.8s to complete\n",
      "    error(train)=3.99e-01, acc(train)=8.63e-01, error(valid)=5.16e-01, acc(valid)=8.32e-01\n"
     ]
    },
    {
     "data": {
>>>>>>> afb40114e9f11e8f8e95443222c7707024fbb52d
      "text/plain": [
       "HBox(children=(IntProgress(value=0, max=1000), HTML(value='')))"
      ]
     },
     "metadata": {},
     "output_type": "display_data"
    },
    {
<<<<<<< HEAD
     "name": "stdout",
     "output_type": "stream",
     "text": [
      "\n"
     ]
    },
    {
     "name": "stderr",
     "output_type": "stream",
     "text": [
      "Epoch 1: 3.8s to complete\n",
      "    error(train)=1.13e+00, acc(train)=6.70e-01, error(valid)=1.14e+00, acc(valid)=6.69e-01\n"
=======
     "name": "stderr",
     "output_type": "stream",
     "text": [
      "Epoch 9: 19.4s to complete\n",
      "    error(train)=3.94e-01, acc(train)=8.62e-01, error(valid)=5.20e-01, acc(valid)=8.29e-01\n"
>>>>>>> afb40114e9f11e8f8e95443222c7707024fbb52d
     ]
    },
    {
     "data": {
<<<<<<< HEAD
      "application/vnd.jupyter.widget-view+json": {
       "model_id": "b77b4240c31543c9b37f99bf34546260",
       "version_major": 2,
       "version_minor": 0
      },
=======
>>>>>>> afb40114e9f11e8f8e95443222c7707024fbb52d
      "text/plain": [
       "HBox(children=(IntProgress(value=0, max=1000), HTML(value='')))"
      ]
     },
     "metadata": {},
     "output_type": "display_data"
    },
    {
<<<<<<< HEAD
     "name": "stdout",
     "output_type": "stream",
     "text": [
      "\n"
     ]
    },
    {
     "name": "stderr",
     "output_type": "stream",
     "text": [
      "Epoch 2: 3.2s to complete\n",
      "    error(train)=9.29e-01, acc(train)=7.26e-01, error(valid)=9.47e-01, acc(valid)=7.19e-01\n"
=======
     "name": "stderr",
     "output_type": "stream",
     "text": [
      "Epoch 10: 16.1s to complete\n",
      "    error(train)=3.89e-01, acc(train)=8.62e-01, error(valid)=5.30e-01, acc(valid)=8.26e-01\n"
>>>>>>> afb40114e9f11e8f8e95443222c7707024fbb52d
     ]
    },
    {
     "data": {
<<<<<<< HEAD
      "application/vnd.jupyter.widget-view+json": {
       "model_id": "e083f77f14ae4b5e86c8427ee11bae1e",
       "version_major": 2,
       "version_minor": 0
      },
=======
>>>>>>> afb40114e9f11e8f8e95443222c7707024fbb52d
      "text/plain": [
       "HBox(children=(IntProgress(value=0, max=1000), HTML(value='')))"
      ]
     },
     "metadata": {},
     "output_type": "display_data"
    },
    {
<<<<<<< HEAD
     "name": "stdout",
     "output_type": "stream",
     "text": [
      "\n"
     ]
    },
    {
     "name": "stderr",
     "output_type": "stream",
     "text": [
      "Epoch 3: 3.2s to complete\n",
      "    error(train)=8.29e-01, acc(train)=7.52e-01, error(valid)=8.59e-01, acc(valid)=7.42e-01\n"
=======
     "name": "stderr",
     "output_type": "stream",
     "text": [
      "Epoch 11: 16.6s to complete\n",
      "    error(train)=3.60e-01, acc(train)=8.74e-01, error(valid)=5.09e-01, acc(valid)=8.32e-01\n"
>>>>>>> afb40114e9f11e8f8e95443222c7707024fbb52d
     ]
    },
    {
     "data": {
<<<<<<< HEAD
      "application/vnd.jupyter.widget-view+json": {
       "model_id": "8753281eb3ed47be849bbb2c06b34699",
       "version_major": 2,
       "version_minor": 0
      },
=======
>>>>>>> afb40114e9f11e8f8e95443222c7707024fbb52d
      "text/plain": [
       "HBox(children=(IntProgress(value=0, max=1000), HTML(value='')))"
      ]
     },
     "metadata": {},
     "output_type": "display_data"
    },
    {
<<<<<<< HEAD
     "name": "stdout",
     "output_type": "stream",
     "text": [
      "\n"
     ]
    },
    {
     "name": "stderr",
     "output_type": "stream",
     "text": [
      "Epoch 4: 3.1s to complete\n",
      "    error(train)=7.72e-01, acc(train)=7.66e-01, error(valid)=8.05e-01, acc(valid)=7.56e-01\n"
=======
     "name": "stderr",
     "output_type": "stream",
     "text": [
      "Epoch 12: 13.3s to complete\n",
      "    error(train)=3.58e-01, acc(train)=8.73e-01, error(valid)=5.20e-01, acc(valid)=8.29e-01\n"
>>>>>>> afb40114e9f11e8f8e95443222c7707024fbb52d
     ]
    },
    {
     "data": {
<<<<<<< HEAD
      "application/vnd.jupyter.widget-view+json": {
       "model_id": "5d7f712a9700472686ebb2cf9cc8d28d",
       "version_major": 2,
       "version_minor": 0
      },
=======
>>>>>>> afb40114e9f11e8f8e95443222c7707024fbb52d
      "text/plain": [
       "HBox(children=(IntProgress(value=0, max=1000), HTML(value='')))"
      ]
     },
     "metadata": {},
     "output_type": "display_data"
    },
    {
<<<<<<< HEAD
     "name": "stdout",
     "output_type": "stream",
     "text": [
      "\n"
     ]
    },
    {
     "name": "stderr",
     "output_type": "stream",
     "text": [
      "Epoch 5: 3.1s to complete\n",
      "    error(train)=7.52e-01, acc(train)=7.69e-01, error(valid)=7.96e-01, acc(valid)=7.56e-01\n"
=======
     "name": "stderr",
     "output_type": "stream",
     "text": [
      "Epoch 13: 19.7s to complete\n",
      "    error(train)=3.39e-01, acc(train)=8.81e-01, error(valid)=5.10e-01, acc(valid)=8.35e-01\n"
>>>>>>> afb40114e9f11e8f8e95443222c7707024fbb52d
     ]
    },
    {
     "data": {
<<<<<<< HEAD
      "application/vnd.jupyter.widget-view+json": {
       "model_id": "8935aba97ae84df885d31a1120bbb492",
       "version_major": 2,
       "version_minor": 0
      },
=======
>>>>>>> afb40114e9f11e8f8e95443222c7707024fbb52d
      "text/plain": [
       "HBox(children=(IntProgress(value=0, max=1000), HTML(value='')))"
      ]
     },
     "metadata": {},
     "output_type": "display_data"
    },
    {
<<<<<<< HEAD
     "name": "stdout",
     "output_type": "stream",
     "text": [
      "\n"
     ]
    },
    {
     "name": "stderr",
     "output_type": "stream",
     "text": [
      "Epoch 6: 4.4s to complete\n",
      "    error(train)=7.08e-01, acc(train)=7.81e-01, error(valid)=7.50e-01, acc(valid)=7.67e-01\n"
=======
     "name": "stderr",
     "output_type": "stream",
     "text": [
      "Epoch 14: 16.4s to complete\n",
      "    error(train)=3.44e-01, acc(train)=8.76e-01, error(valid)=5.25e-01, acc(valid)=8.25e-01\n"
>>>>>>> afb40114e9f11e8f8e95443222c7707024fbb52d
     ]
    },
    {
     "data": {
<<<<<<< HEAD
      "application/vnd.jupyter.widget-view+json": {
       "model_id": "6b206328136a4aefab56fa1b428478c4",
       "version_major": 2,
       "version_minor": 0
      },
=======
>>>>>>> afb40114e9f11e8f8e95443222c7707024fbb52d
      "text/plain": [
       "HBox(children=(IntProgress(value=0, max=1000), HTML(value='')))"
      ]
     },
     "metadata": {},
     "output_type": "display_data"
    },
    {
<<<<<<< HEAD
     "name": "stdout",
     "output_type": "stream",
     "text": [
      "\n"
     ]
    },
    {
     "name": "stderr",
     "output_type": "stream",
     "text": [
      "Epoch 7: 11.6s to complete\n",
      "    error(train)=6.94e-01, acc(train)=7.84e-01, error(valid)=7.40e-01, acc(valid)=7.71e-01\n"
=======
     "name": "stderr",
     "output_type": "stream",
     "text": [
      "Epoch 15: 12.2s to complete\n",
      "    error(train)=3.22e-01, acc(train)=8.84e-01, error(valid)=5.11e-01, acc(valid)=8.36e-01\n"
>>>>>>> afb40114e9f11e8f8e95443222c7707024fbb52d
     ]
    },
    {
     "data": {
<<<<<<< HEAD
      "application/vnd.jupyter.widget-view+json": {
       "model_id": "6c7ca821570947af8deac481bbb4f8c7",
       "version_major": 2,
       "version_minor": 0
      },
=======
>>>>>>> afb40114e9f11e8f8e95443222c7707024fbb52d
      "text/plain": [
       "HBox(children=(IntProgress(value=0, max=1000), HTML(value='')))"
      ]
     },
     "metadata": {},
     "output_type": "display_data"
    },
    {
<<<<<<< HEAD
     "name": "stdout",
     "output_type": "stream",
     "text": [
      "\n"
     ]
    },
    {
     "name": "stderr",
     "output_type": "stream",
     "text": [
      "Epoch 8: 4.7s to complete\n",
      "    error(train)=6.96e-01, acc(train)=7.84e-01, error(valid)=7.50e-01, acc(valid)=7.69e-01\n"
=======
     "name": "stderr",
     "output_type": "stream",
     "text": [
      "Epoch 16: 10.4s to complete\n",
      "    error(train)=3.26e-01, acc(train)=8.82e-01, error(valid)=5.29e-01, acc(valid)=8.30e-01\n"
>>>>>>> afb40114e9f11e8f8e95443222c7707024fbb52d
     ]
    },
    {
     "data": {
<<<<<<< HEAD
      "application/vnd.jupyter.widget-view+json": {
       "model_id": "855530330521473a83eb11760c3cea7b",
       "version_major": 2,
       "version_minor": 0
      },
=======
>>>>>>> afb40114e9f11e8f8e95443222c7707024fbb52d
      "text/plain": [
       "HBox(children=(IntProgress(value=0, max=1000), HTML(value='')))"
      ]
     },
     "metadata": {},
     "output_type": "display_data"
    },
    {
<<<<<<< HEAD
     "name": "stdout",
     "output_type": "stream",
     "text": [
      "\n"
     ]
    },
    {
     "name": "stderr",
     "output_type": "stream",
     "text": [
      "Epoch 9: 4.6s to complete\n",
      "    error(train)=6.67e-01, acc(train)=7.89e-01, error(valid)=7.26e-01, acc(valid)=7.76e-01\n"
=======
     "name": "stderr",
     "output_type": "stream",
     "text": [
      "Epoch 17: 15.4s to complete\n",
      "    error(train)=3.08e-01, acc(train)=8.87e-01, error(valid)=5.23e-01, acc(valid)=8.34e-01\n"
>>>>>>> afb40114e9f11e8f8e95443222c7707024fbb52d
     ]
    },
    {
     "data": {
<<<<<<< HEAD
      "application/vnd.jupyter.widget-view+json": {
       "model_id": "a991a62a0abe4def913b334357573db6",
       "version_major": 2,
       "version_minor": 0
      },
=======
>>>>>>> afb40114e9f11e8f8e95443222c7707024fbb52d
      "text/plain": [
       "HBox(children=(IntProgress(value=0, max=1000), HTML(value='')))"
      ]
     },
     "metadata": {},
     "output_type": "display_data"
    },
    {
<<<<<<< HEAD
     "name": "stdout",
     "output_type": "stream",
     "text": [
      "\n"
     ]
    },
    {
     "name": "stderr",
     "output_type": "stream",
     "text": [
      "Epoch 10: 6.2s to complete\n",
      "    error(train)=6.40e-01, acc(train)=7.99e-01, error(valid)=6.97e-01, acc(valid)=7.83e-01\n"
=======
     "name": "stderr",
     "output_type": "stream",
     "text": [
      "Epoch 18: 15.5s to complete\n",
      "    error(train)=3.01e-01, acc(train)=8.90e-01, error(valid)=5.21e-01, acc(valid)=8.37e-01\n"
>>>>>>> afb40114e9f11e8f8e95443222c7707024fbb52d
     ]
    },
    {
     "data": {
<<<<<<< HEAD
      "application/vnd.jupyter.widget-view+json": {
       "model_id": "39f8a2b99a724b3d8315e435b0afb3e5",
       "version_major": 2,
       "version_minor": 0
      },
=======
>>>>>>> afb40114e9f11e8f8e95443222c7707024fbb52d
      "text/plain": [
       "HBox(children=(IntProgress(value=0, max=1000), HTML(value='')))"
      ]
     },
     "metadata": {},
     "output_type": "display_data"
    },
    {
<<<<<<< HEAD
     "name": "stdout",
     "output_type": "stream",
     "text": [
      "\n"
     ]
    },
    {
     "name": "stderr",
     "output_type": "stream",
     "text": [
      "Epoch 11: 2.8s to complete\n",
      "    error(train)=6.37e-01, acc(train)=7.97e-01, error(valid)=7.05e-01, acc(valid)=7.82e-01\n"
=======
     "name": "stderr",
     "output_type": "stream",
     "text": [
      "Epoch 19: 15.7s to complete\n",
      "    error(train)=3.08e-01, acc(train)=8.87e-01, error(valid)=5.46e-01, acc(valid)=8.30e-01\n"
>>>>>>> afb40114e9f11e8f8e95443222c7707024fbb52d
     ]
    },
    {
     "data": {
<<<<<<< HEAD
      "application/vnd.jupyter.widget-view+json": {
       "model_id": "1fa206d0c109422b96acc3b3d58169f4",
       "version_major": 2,
       "version_minor": 0
      },
=======
>>>>>>> afb40114e9f11e8f8e95443222c7707024fbb52d
      "text/plain": [
       "HBox(children=(IntProgress(value=0, max=1000), HTML(value='')))"
      ]
     },
     "metadata": {},
     "output_type": "display_data"
    },
    {
<<<<<<< HEAD
     "name": "stdout",
     "output_type": "stream",
     "text": [
      "\n"
     ]
    },
    {
     "name": "stderr",
     "output_type": "stream",
     "text": [
      "Epoch 12: 3.0s to complete\n",
      "    error(train)=6.23e-01, acc(train)=8.02e-01, error(valid)=6.94e-01, acc(valid)=7.84e-01\n"
=======
     "name": "stderr",
     "output_type": "stream",
     "text": [
      "Epoch 20: 11.6s to complete\n",
      "    error(train)=3.03e-01, acc(train)=8.88e-01, error(valid)=5.48e-01, acc(valid)=8.30e-01\n"
>>>>>>> afb40114e9f11e8f8e95443222c7707024fbb52d
     ]
    },
    {
     "data": {
<<<<<<< HEAD
      "application/vnd.jupyter.widget-view+json": {
       "model_id": "88ee11a19ff0421ebc22c1c4d260f3e2",
       "version_major": 2,
       "version_minor": 0
      },
=======
>>>>>>> afb40114e9f11e8f8e95443222c7707024fbb52d
      "text/plain": [
       "HBox(children=(IntProgress(value=0, max=1000), HTML(value='')))"
      ]
     },
     "metadata": {},
     "output_type": "display_data"
    },
    {
<<<<<<< HEAD
     "name": "stdout",
     "output_type": "stream",
     "text": [
      "\n"
     ]
    },
    {
     "name": "stderr",
     "output_type": "stream",
     "text": [
      "Epoch 13: 2.8s to complete\n",
      "    error(train)=6.36e-01, acc(train)=7.96e-01, error(valid)=7.14e-01, acc(valid)=7.78e-01\n"
=======
     "name": "stderr",
     "output_type": "stream",
     "text": [
      "Epoch 21: 15.3s to complete\n",
      "    error(train)=2.95e-01, acc(train)=8.90e-01, error(valid)=5.56e-01, acc(valid)=8.29e-01\n"
>>>>>>> afb40114e9f11e8f8e95443222c7707024fbb52d
     ]
    },
    {
     "data": {
<<<<<<< HEAD
      "application/vnd.jupyter.widget-view+json": {
       "model_id": "dbc7e968e454473c8a9fd17ebdc86358",
       "version_major": 2,
       "version_minor": 0
      },
=======
>>>>>>> afb40114e9f11e8f8e95443222c7707024fbb52d
      "text/plain": [
       "HBox(children=(IntProgress(value=0, max=1000), HTML(value='')))"
      ]
     },
     "metadata": {},
     "output_type": "display_data"
    },
    {
<<<<<<< HEAD
     "name": "stdout",
     "output_type": "stream",
     "text": [
      "\n"
     ]
    },
    {
     "name": "stderr",
     "output_type": "stream",
     "text": [
      "Epoch 14: 4.7s to complete\n",
      "    error(train)=6.11e-01, acc(train)=8.05e-01, error(valid)=6.89e-01, acc(valid)=7.85e-01\n"
=======
     "name": "stderr",
     "output_type": "stream",
     "text": [
      "Epoch 22: 19.0s to complete\n",
      "    error(train)=2.90e-01, acc(train)=8.92e-01, error(valid)=5.55e-01, acc(valid)=8.33e-01\n"
>>>>>>> afb40114e9f11e8f8e95443222c7707024fbb52d
     ]
    },
    {
     "data": {
<<<<<<< HEAD
      "application/vnd.jupyter.widget-view+json": {
       "model_id": "8f2c09a266ae40698b406ca45c49e105",
       "version_major": 2,
       "version_minor": 0
      },
=======
>>>>>>> afb40114e9f11e8f8e95443222c7707024fbb52d
      "text/plain": [
       "HBox(children=(IntProgress(value=0, max=1000), HTML(value='')))"
      ]
     },
     "metadata": {},
     "output_type": "display_data"
    },
    {
<<<<<<< HEAD
     "name": "stdout",
     "output_type": "stream",
     "text": [
      "\n"
     ]
    },
    {
     "name": "stderr",
     "output_type": "stream",
     "text": [
      "Epoch 15: 3.9s to complete\n",
      "    error(train)=5.98e-01, acc(train)=8.09e-01, error(valid)=6.77e-01, acc(valid)=7.90e-01\n"
=======
     "name": "stderr",
     "output_type": "stream",
     "text": [
      "Epoch 23: 14.6s to complete\n",
      "    error(train)=2.73e-01, acc(train)=8.98e-01, error(valid)=5.53e-01, acc(valid)=8.34e-01\n"
>>>>>>> afb40114e9f11e8f8e95443222c7707024fbb52d
     ]
    },
    {
     "data": {
<<<<<<< HEAD
      "application/vnd.jupyter.widget-view+json": {
       "model_id": "c820bcbf93604a0dab5a05dfcaf31400",
       "version_major": 2,
       "version_minor": 0
      },
=======
>>>>>>> afb40114e9f11e8f8e95443222c7707024fbb52d
      "text/plain": [
       "HBox(children=(IntProgress(value=0, max=1000), HTML(value='')))"
      ]
     },
     "metadata": {},
     "output_type": "display_data"
    },
    {
<<<<<<< HEAD
     "name": "stdout",
     "output_type": "stream",
     "text": [
      "\n"
     ]
    },
    {
     "name": "stderr",
     "output_type": "stream",
     "text": [
      "Epoch 16: 3.9s to complete\n",
      "    error(train)=5.82e-01, acc(train)=8.12e-01, error(valid)=6.63e-01, acc(valid)=7.93e-01\n"
=======
     "name": "stderr",
     "output_type": "stream",
     "text": [
      "Epoch 24: 10.8s to complete\n",
      "    error(train)=2.68e-01, acc(train)=9.00e-01, error(valid)=5.54e-01, acc(valid)=8.35e-01\n"
>>>>>>> afb40114e9f11e8f8e95443222c7707024fbb52d
     ]
    },
    {
     "data": {
<<<<<<< HEAD
      "application/vnd.jupyter.widget-view+json": {
       "model_id": "7b9de8f072c44e37a593d9da6acea7e9",
       "version_major": 2,
       "version_minor": 0
      },
=======
>>>>>>> afb40114e9f11e8f8e95443222c7707024fbb52d
      "text/plain": [
       "HBox(children=(IntProgress(value=0, max=1000), HTML(value='')))"
      ]
     },
     "metadata": {},
     "output_type": "display_data"
    },
    {
<<<<<<< HEAD
     "name": "stdout",
     "output_type": "stream",
     "text": [
      "\n"
     ]
    },
    {
     "name": "stderr",
     "output_type": "stream",
     "text": [
      "Epoch 17: 5.4s to complete\n",
      "    error(train)=5.78e-01, acc(train)=8.14e-01, error(valid)=6.57e-01, acc(valid)=7.93e-01\n"
=======
     "name": "stderr",
     "output_type": "stream",
     "text": [
      "Epoch 25: 9.9s to complete\n",
      "    error(train)=2.69e-01, acc(train)=8.98e-01, error(valid)=5.72e-01, acc(valid)=8.34e-01\n"
>>>>>>> afb40114e9f11e8f8e95443222c7707024fbb52d
     ]
    },
    {
     "data": {
<<<<<<< HEAD
      "application/vnd.jupyter.widget-view+json": {
       "model_id": "f608bf4a3e014ee096dc829ccb667f95",
       "version_major": 2,
       "version_minor": 0
      },
=======
>>>>>>> afb40114e9f11e8f8e95443222c7707024fbb52d
      "text/plain": [
       "HBox(children=(IntProgress(value=0, max=1000), HTML(value='')))"
      ]
     },
     "metadata": {},
     "output_type": "display_data"
    },
    {
<<<<<<< HEAD
     "name": "stdout",
     "output_type": "stream",
     "text": [
      "\n"
     ]
    },
    {
     "name": "stderr",
     "output_type": "stream",
     "text": [
      "Epoch 18: 7.7s to complete\n",
      "    error(train)=5.77e-01, acc(train)=8.13e-01, error(valid)=6.65e-01, acc(valid)=7.89e-01\n"
=======
     "name": "stderr",
     "output_type": "stream",
     "text": [
      "Epoch 26: 7.1s to complete\n",
      "    error(train)=2.64e-01, acc(train)=9.00e-01, error(valid)=5.72e-01, acc(valid)=8.30e-01\n"
>>>>>>> afb40114e9f11e8f8e95443222c7707024fbb52d
     ]
    },
    {
     "data": {
<<<<<<< HEAD
      "application/vnd.jupyter.widget-view+json": {
       "model_id": "1f6b29739a344937bd9729724abb1b5f",
       "version_major": 2,
       "version_minor": 0
      },
=======
>>>>>>> afb40114e9f11e8f8e95443222c7707024fbb52d
      "text/plain": [
       "HBox(children=(IntProgress(value=0, max=1000), HTML(value='')))"
      ]
     },
     "metadata": {},
     "output_type": "display_data"
    },
    {
<<<<<<< HEAD
     "name": "stdout",
     "output_type": "stream",
     "text": [
      "\n"
     ]
    },
    {
     "name": "stderr",
     "output_type": "stream",
     "text": [
      "Epoch 19: 4.1s to complete\n",
      "    error(train)=5.70e-01, acc(train)=8.17e-01, error(valid)=6.60e-01, acc(valid)=7.95e-01\n"
=======
     "name": "stderr",
     "output_type": "stream",
     "text": [
      "Epoch 27: 10.2s to complete\n",
      "    error(train)=2.65e-01, acc(train)=8.99e-01, error(valid)=5.80e-01, acc(valid)=8.29e-01\n"
>>>>>>> afb40114e9f11e8f8e95443222c7707024fbb52d
     ]
    },
    {
     "data": {
<<<<<<< HEAD
      "application/vnd.jupyter.widget-view+json": {
       "model_id": "f1b1441d29834d25a2079e60ea7d5423",
       "version_major": 2,
       "version_minor": 0
      },
=======
>>>>>>> afb40114e9f11e8f8e95443222c7707024fbb52d
      "text/plain": [
       "HBox(children=(IntProgress(value=0, max=1000), HTML(value='')))"
      ]
     },
     "metadata": {},
     "output_type": "display_data"
    },
    {
<<<<<<< HEAD
     "name": "stdout",
     "output_type": "stream",
     "text": [
      "\n"
     ]
    },
    {
     "name": "stderr",
     "output_type": "stream",
     "text": [
      "Epoch 20: 3.4s to complete\n",
      "    error(train)=5.58e-01, acc(train)=8.19e-01, error(valid)=6.52e-01, acc(valid)=7.93e-01\n"
=======
     "name": "stderr",
     "output_type": "stream",
     "text": [
      "Epoch 28: 9.3s to complete\n",
      "    error(train)=2.48e-01, acc(train)=9.06e-01, error(valid)=5.77e-01, acc(valid)=8.34e-01\n"
>>>>>>> afb40114e9f11e8f8e95443222c7707024fbb52d
     ]
    },
    {
     "data": {
<<<<<<< HEAD
      "application/vnd.jupyter.widget-view+json": {
       "model_id": "232c4a31c66d4ca8b431ab1c94bc4aec",
       "version_major": 2,
       "version_minor": 0
      },
=======
>>>>>>> afb40114e9f11e8f8e95443222c7707024fbb52d
      "text/plain": [
       "HBox(children=(IntProgress(value=0, max=1000), HTML(value='')))"
      ]
     },
     "metadata": {},
     "output_type": "display_data"
    },
    {
<<<<<<< HEAD
     "name": "stdout",
     "output_type": "stream",
     "text": [
      "\n"
     ]
    },
    {
     "name": "stderr",
     "output_type": "stream",
     "text": [
      "Epoch 21: 4.8s to complete\n",
      "    error(train)=5.67e-01, acc(train)=8.15e-01, error(valid)=6.64e-01, acc(valid)=7.92e-01\n"
=======
     "name": "stderr",
     "output_type": "stream",
     "text": [
      "Epoch 29: 9.8s to complete\n",
      "    error(train)=2.50e-01, acc(train)=9.05e-01, error(valid)=5.92e-01, acc(valid)=8.32e-01\n"
>>>>>>> afb40114e9f11e8f8e95443222c7707024fbb52d
     ]
    },
    {
     "data": {
<<<<<<< HEAD
      "application/vnd.jupyter.widget-view+json": {
       "model_id": "e9c3e95d176043ccab3d34cbf2ffc64c",
       "version_major": 2,
       "version_minor": 0
      },
=======
>>>>>>> afb40114e9f11e8f8e95443222c7707024fbb52d
      "text/plain": [
       "HBox(children=(IntProgress(value=0, max=1000), HTML(value='')))"
      ]
     },
     "metadata": {},
     "output_type": "display_data"
    },
    {
<<<<<<< HEAD
     "name": "stdout",
     "output_type": "stream",
     "text": [
      "\n"
     ]
    },
    {
     "name": "stderr",
     "output_type": "stream",
     "text": [
      "Epoch 22: 3.0s to complete\n",
      "    error(train)=5.74e-01, acc(train)=8.12e-01, error(valid)=6.72e-01, acc(valid)=7.90e-01\n"
=======
     "name": "stderr",
     "output_type": "stream",
     "text": [
      "Epoch 30: 11.2s to complete\n",
      "    error(train)=2.51e-01, acc(train)=9.04e-01, error(valid)=6.00e-01, acc(valid)=8.32e-01\n"
>>>>>>> afb40114e9f11e8f8e95443222c7707024fbb52d
     ]
    },
    {
     "data": {
<<<<<<< HEAD
      "application/vnd.jupyter.widget-view+json": {
       "model_id": "c021c4f46ea141a79fc001543a25e73c",
       "version_major": 2,
       "version_minor": 0
      },
=======
>>>>>>> afb40114e9f11e8f8e95443222c7707024fbb52d
      "text/plain": [
       "HBox(children=(IntProgress(value=0, max=1000), HTML(value='')))"
      ]
     },
     "metadata": {},
     "output_type": "display_data"
    },
    {
<<<<<<< HEAD
     "name": "stdout",
     "output_type": "stream",
     "text": [
      "\n"
     ]
    },
    {
     "name": "stderr",
     "output_type": "stream",
     "text": [
      "Epoch 23: 3.2s to complete\n",
      "    error(train)=5.66e-01, acc(train)=8.15e-01, error(valid)=6.61e-01, acc(valid)=7.92e-01\n"
=======
     "name": "stderr",
     "output_type": "stream",
     "text": [
      "Epoch 31: 10.0s to complete\n",
      "    error(train)=2.47e-01, acc(train)=9.05e-01, error(valid)=6.01e-01, acc(valid)=8.28e-01\n"
>>>>>>> afb40114e9f11e8f8e95443222c7707024fbb52d
     ]
    },
    {
     "data": {
<<<<<<< HEAD
      "application/vnd.jupyter.widget-view+json": {
       "model_id": "4cb53375b01648bba4a3c93fd0761692",
       "version_major": 2,
       "version_minor": 0
      },
=======
>>>>>>> afb40114e9f11e8f8e95443222c7707024fbb52d
      "text/plain": [
       "HBox(children=(IntProgress(value=0, max=1000), HTML(value='')))"
      ]
     },
     "metadata": {},
     "output_type": "display_data"
    },
    {
<<<<<<< HEAD
     "name": "stdout",
     "output_type": "stream",
     "text": [
      "\n"
     ]
    },
    {
     "name": "stderr",
     "output_type": "stream",
     "text": [
      "Epoch 24: 2.9s to complete\n",
      "    error(train)=5.72e-01, acc(train)=8.12e-01, error(valid)=6.78e-01, acc(valid)=7.89e-01\n"
=======
     "name": "stderr",
     "output_type": "stream",
     "text": [
      "Epoch 32: 11.4s to complete\n",
      "    error(train)=2.36e-01, acc(train)=9.09e-01, error(valid)=6.00e-01, acc(valid)=8.33e-01\n"
>>>>>>> afb40114e9f11e8f8e95443222c7707024fbb52d
     ]
    },
    {
     "data": {
<<<<<<< HEAD
      "application/vnd.jupyter.widget-view+json": {
       "model_id": "4f9e881315e548b696f85fbb827de8db",
       "version_major": 2,
       "version_minor": 0
      },
=======
>>>>>>> afb40114e9f11e8f8e95443222c7707024fbb52d
      "text/plain": [
       "HBox(children=(IntProgress(value=0, max=1000), HTML(value='')))"
      ]
     },
     "metadata": {},
     "output_type": "display_data"
    },
    {
<<<<<<< HEAD
     "name": "stdout",
     "output_type": "stream",
     "text": [
      "\n"
     ]
    },
    {
     "name": "stderr",
     "output_type": "stream",
     "text": [
      "Epoch 25: 3.3s to complete\n",
      "    error(train)=5.46e-01, acc(train)=8.22e-01, error(valid)=6.48e-01, acc(valid)=7.95e-01\n"
=======
     "name": "stderr",
     "output_type": "stream",
     "text": [
      "Epoch 33: 11.7s to complete\n",
      "    error(train)=2.55e-01, acc(train)=9.03e-01, error(valid)=6.30e-01, acc(valid)=8.26e-01\n"
>>>>>>> afb40114e9f11e8f8e95443222c7707024fbb52d
     ]
    },
    {
     "data": {
<<<<<<< HEAD
      "application/vnd.jupyter.widget-view+json": {
       "model_id": "74d8d6e5210b40bb915d3029b1c10656",
       "version_major": 2,
       "version_minor": 0
      },
=======
>>>>>>> afb40114e9f11e8f8e95443222c7707024fbb52d
      "text/plain": [
       "HBox(children=(IntProgress(value=0, max=1000), HTML(value='')))"
      ]
     },
     "metadata": {},
     "output_type": "display_data"
    },
    {
<<<<<<< HEAD
     "name": "stdout",
     "output_type": "stream",
     "text": [
      "\n"
     ]
    },
    {
     "name": "stderr",
     "output_type": "stream",
     "text": [
      "Epoch 26: 3.7s to complete\n",
      "    error(train)=5.38e-01, acc(train)=8.23e-01, error(valid)=6.44e-01, acc(valid)=7.96e-01\n"
=======
     "name": "stderr",
     "output_type": "stream",
     "text": [
      "Epoch 34: 13.5s to complete\n",
      "    error(train)=2.55e-01, acc(train)=9.02e-01, error(valid)=6.39e-01, acc(valid)=8.26e-01\n"
>>>>>>> afb40114e9f11e8f8e95443222c7707024fbb52d
     ]
    },
    {
     "data": {
<<<<<<< HEAD
      "application/vnd.jupyter.widget-view+json": {
       "model_id": "47b841328bd740d3befd26eeb84dd653",
       "version_major": 2,
       "version_minor": 0
      },
=======
>>>>>>> afb40114e9f11e8f8e95443222c7707024fbb52d
      "text/plain": [
       "HBox(children=(IntProgress(value=0, max=1000), HTML(value='')))"
      ]
     },
     "metadata": {},
     "output_type": "display_data"
    },
    {
<<<<<<< HEAD
     "name": "stdout",
     "output_type": "stream",
     "text": [
      "\n"
     ]
    },
    {
     "name": "stderr",
     "output_type": "stream",
     "text": [
      "Epoch 27: 3.5s to complete\n",
      "    error(train)=5.56e-01, acc(train)=8.15e-01, error(valid)=6.64e-01, acc(valid)=7.89e-01\n"
=======
     "name": "stderr",
     "output_type": "stream",
     "text": [
      "Epoch 35: 9.6s to complete\n",
      "    error(train)=2.34e-01, acc(train)=9.09e-01, error(valid)=6.31e-01, acc(valid)=8.27e-01\n"
>>>>>>> afb40114e9f11e8f8e95443222c7707024fbb52d
     ]
    },
    {
     "data": {
<<<<<<< HEAD
      "application/vnd.jupyter.widget-view+json": {
       "model_id": "158edacb26304afbbfbfac5d46ea6d07",
       "version_major": 2,
       "version_minor": 0
      },
=======
>>>>>>> afb40114e9f11e8f8e95443222c7707024fbb52d
      "text/plain": [
       "HBox(children=(IntProgress(value=0, max=1000), HTML(value='')))"
      ]
     },
     "metadata": {},
     "output_type": "display_data"
    },
    {
<<<<<<< HEAD
     "name": "stdout",
     "output_type": "stream",
     "text": [
      "\n"
     ]
    },
    {
     "name": "stderr",
     "output_type": "stream",
     "text": [
      "Epoch 28: 4.0s to complete\n",
      "    error(train)=5.43e-01, acc(train)=8.21e-01, error(valid)=6.53e-01, acc(valid)=7.95e-01\n"
=======
     "name": "stderr",
     "output_type": "stream",
     "text": [
      "Epoch 36: 10.7s to complete\n",
      "    error(train)=2.37e-01, acc(train)=9.07e-01, error(valid)=6.47e-01, acc(valid)=8.26e-01\n"
>>>>>>> afb40114e9f11e8f8e95443222c7707024fbb52d
     ]
    },
    {
     "data": {
<<<<<<< HEAD
      "application/vnd.jupyter.widget-view+json": {
       "model_id": "d1266f941d26404dabbbfab8b0ce45bb",
       "version_major": 2,
       "version_minor": 0
      },
=======
>>>>>>> afb40114e9f11e8f8e95443222c7707024fbb52d
      "text/plain": [
       "HBox(children=(IntProgress(value=0, max=1000), HTML(value='')))"
      ]
     },
     "metadata": {},
     "output_type": "display_data"
    },
    {
<<<<<<< HEAD
     "name": "stdout",
     "output_type": "stream",
     "text": [
      "\n"
     ]
    },
    {
     "name": "stderr",
     "output_type": "stream",
     "text": [
      "Epoch 29: 3.6s to complete\n",
      "    error(train)=5.29e-01, acc(train)=8.26e-01, error(valid)=6.40e-01, acc(valid)=8.00e-01\n"
=======
     "name": "stderr",
     "output_type": "stream",
     "text": [
      "Epoch 37: 11.5s to complete\n",
      "    error(train)=2.30e-01, acc(train)=9.11e-01, error(valid)=6.60e-01, acc(valid)=8.26e-01\n"
>>>>>>> afb40114e9f11e8f8e95443222c7707024fbb52d
     ]
    },
    {
     "data": {
<<<<<<< HEAD
      "application/vnd.jupyter.widget-view+json": {
       "model_id": "b39ec2589b6d4543a485103448589d7d",
       "version_major": 2,
       "version_minor": 0
      },
=======
>>>>>>> afb40114e9f11e8f8e95443222c7707024fbb52d
      "text/plain": [
       "HBox(children=(IntProgress(value=0, max=1000), HTML(value='')))"
      ]
     },
     "metadata": {},
     "output_type": "display_data"
    },
    {
<<<<<<< HEAD
     "name": "stdout",
     "output_type": "stream",
     "text": [
      "\n"
     ]
    },
    {
     "name": "stderr",
     "output_type": "stream",
     "text": [
      "Epoch 30: 3.3s to complete\n",
      "    error(train)=5.33e-01, acc(train)=8.24e-01, error(valid)=6.45e-01, acc(valid)=7.99e-01\n"
=======
     "name": "stderr",
     "output_type": "stream",
     "text": [
      "Epoch 38: 12.0s to complete\n",
      "    error(train)=2.25e-01, acc(train)=9.13e-01, error(valid)=6.59e-01, acc(valid)=8.28e-01\n"
>>>>>>> afb40114e9f11e8f8e95443222c7707024fbb52d
     ]
    },
    {
     "data": {
<<<<<<< HEAD
      "application/vnd.jupyter.widget-view+json": {
       "model_id": "0bb0a8e0b1684c6dbc6fc4759685b07e",
       "version_major": 2,
       "version_minor": 0
      },
=======
>>>>>>> afb40114e9f11e8f8e95443222c7707024fbb52d
      "text/plain": [
       "HBox(children=(IntProgress(value=0, max=1000), HTML(value='')))"
      ]
     },
     "metadata": {},
     "output_type": "display_data"
    },
    {
<<<<<<< HEAD
     "name": "stdout",
     "output_type": "stream",
     "text": [
      "\n"
     ]
    },
    {
     "name": "stderr",
     "output_type": "stream",
     "text": [
      "Epoch 31: 4.3s to complete\n",
      "    error(train)=5.33e-01, acc(train)=8.24e-01, error(valid)=6.45e-01, acc(valid)=7.97e-01\n"
=======
     "name": "stderr",
     "output_type": "stream",
     "text": [
      "Epoch 39: 10.6s to complete\n",
      "    error(train)=2.35e-01, acc(train)=9.08e-01, error(valid)=6.80e-01, acc(valid)=8.21e-01\n"
>>>>>>> afb40114e9f11e8f8e95443222c7707024fbb52d
     ]
    },
    {
     "data": {
<<<<<<< HEAD
      "application/vnd.jupyter.widget-view+json": {
       "model_id": "2bf999fb74d841c1b934ac991db951be",
       "version_major": 2,
       "version_minor": 0
      },
=======
>>>>>>> afb40114e9f11e8f8e95443222c7707024fbb52d
      "text/plain": [
       "HBox(children=(IntProgress(value=0, max=1000), HTML(value='')))"
      ]
     },
     "metadata": {},
     "output_type": "display_data"
    },
    {
<<<<<<< HEAD
     "name": "stdout",
     "output_type": "stream",
     "text": [
      "\n"
     ]
    },
    {
     "name": "stderr",
     "output_type": "stream",
     "text": [
      "Epoch 32: 3.8s to complete\n",
      "    error(train)=5.14e-01, acc(train)=8.30e-01, error(valid)=6.36e-01, acc(valid)=8.02e-01\n"
=======
     "name": "stderr",
     "output_type": "stream",
     "text": [
      "Epoch 40: 11.4s to complete\n",
      "    error(train)=2.27e-01, acc(train)=9.12e-01, error(valid)=6.75e-01, acc(valid)=8.24e-01\n"
>>>>>>> afb40114e9f11e8f8e95443222c7707024fbb52d
     ]
    },
    {
     "data": {
<<<<<<< HEAD
      "application/vnd.jupyter.widget-view+json": {
       "model_id": "5abef927da6144a18a523e97d89f3d2e",
       "version_major": 2,
       "version_minor": 0
      },
=======
>>>>>>> afb40114e9f11e8f8e95443222c7707024fbb52d
      "text/plain": [
       "HBox(children=(IntProgress(value=0, max=1000), HTML(value='')))"
      ]
     },
     "metadata": {},
     "output_type": "display_data"
    },
    {
<<<<<<< HEAD
     "name": "stdout",
     "output_type": "stream",
     "text": [
      "\n"
     ]
    },
    {
     "name": "stderr",
     "output_type": "stream",
     "text": [
      "Epoch 33: 6.0s to complete\n",
      "    error(train)=5.25e-01, acc(train)=8.27e-01, error(valid)=6.44e-01, acc(valid)=8.00e-01\n"
=======
     "name": "stderr",
     "output_type": "stream",
     "text": [
      "Epoch 41: 11.3s to complete\n",
      "    error(train)=2.10e-01, acc(train)=9.19e-01, error(valid)=6.68e-01, acc(valid)=8.32e-01\n"
>>>>>>> afb40114e9f11e8f8e95443222c7707024fbb52d
     ]
    },
    {
     "data": {
<<<<<<< HEAD
      "application/vnd.jupyter.widget-view+json": {
       "model_id": "269b376905744e91b1c35bbe290a004f",
       "version_major": 2,
       "version_minor": 0
      },
=======
>>>>>>> afb40114e9f11e8f8e95443222c7707024fbb52d
      "text/plain": [
       "HBox(children=(IntProgress(value=0, max=1000), HTML(value='')))"
      ]
     },
     "metadata": {},
     "output_type": "display_data"
    },
    {
<<<<<<< HEAD
     "name": "stdout",
     "output_type": "stream",
     "text": [
      "\n"
     ]
    },
    {
     "name": "stderr",
     "output_type": "stream",
     "text": [
      "Epoch 34: 3.3s to complete\n",
      "    error(train)=5.27e-01, acc(train)=8.24e-01, error(valid)=6.47e-01, acc(valid)=7.93e-01\n"
=======
     "name": "stderr",
     "output_type": "stream",
     "text": [
      "Epoch 42: 10.3s to complete\n",
      "    error(train)=2.25e-01, acc(train)=9.12e-01, error(valid)=6.99e-01, acc(valid)=8.22e-01\n"
>>>>>>> afb40114e9f11e8f8e95443222c7707024fbb52d
     ]
    },
    {
     "data": {
<<<<<<< HEAD
      "application/vnd.jupyter.widget-view+json": {
       "model_id": "0317f6d18f224fc4a7245815d3ce4c4c",
       "version_major": 2,
       "version_minor": 0
      },
=======
>>>>>>> afb40114e9f11e8f8e95443222c7707024fbb52d
      "text/plain": [
       "HBox(children=(IntProgress(value=0, max=1000), HTML(value='')))"
      ]
     },
     "metadata": {},
     "output_type": "display_data"
    },
    {
<<<<<<< HEAD
     "name": "stdout",
     "output_type": "stream",
     "text": [
      "\n"
     ]
    },
    {
     "name": "stderr",
     "output_type": "stream",
     "text": [
      "Epoch 35: 3.3s to complete\n",
      "    error(train)=5.27e-01, acc(train)=8.26e-01, error(valid)=6.46e-01, acc(valid)=7.97e-01\n"
=======
     "name": "stderr",
     "output_type": "stream",
     "text": [
      "Epoch 43: 10.0s to complete\n",
      "    error(train)=2.01e-01, acc(train)=9.20e-01, error(valid)=6.81e-01, acc(valid)=8.24e-01\n"
>>>>>>> afb40114e9f11e8f8e95443222c7707024fbb52d
     ]
    },
    {
     "data": {
<<<<<<< HEAD
      "application/vnd.jupyter.widget-view+json": {
       "model_id": "8e8761556f9e4698bd55c17abb11b05c",
       "version_major": 2,
       "version_minor": 0
      },
=======
>>>>>>> afb40114e9f11e8f8e95443222c7707024fbb52d
      "text/plain": [
       "HBox(children=(IntProgress(value=0, max=1000), HTML(value='')))"
      ]
     },
     "metadata": {},
     "output_type": "display_data"
    },
    {
<<<<<<< HEAD
     "name": "stdout",
     "output_type": "stream",
     "text": [
      "\n"
     ]
    },
    {
     "name": "stderr",
     "output_type": "stream",
     "text": [
      "Epoch 36: 10.6s to complete\n",
      "    error(train)=5.18e-01, acc(train)=8.28e-01, error(valid)=6.42e-01, acc(valid)=7.98e-01\n"
=======
     "name": "stderr",
     "output_type": "stream",
     "text": [
      "Epoch 44: 10.4s to complete\n",
      "    error(train)=2.11e-01, acc(train)=9.17e-01, error(valid)=6.97e-01, acc(valid)=8.25e-01\n"
>>>>>>> afb40114e9f11e8f8e95443222c7707024fbb52d
     ]
    },
    {
     "data": {
<<<<<<< HEAD
      "application/vnd.jupyter.widget-view+json": {
       "model_id": "b65a24f2c278488b9cb0091fc2c70acf",
       "version_major": 2,
       "version_minor": 0
      },
=======
>>>>>>> afb40114e9f11e8f8e95443222c7707024fbb52d
      "text/plain": [
       "HBox(children=(IntProgress(value=0, max=1000), HTML(value='')))"
      ]
     },
     "metadata": {},
     "output_type": "display_data"
    },
    {
<<<<<<< HEAD
     "name": "stdout",
     "output_type": "stream",
     "text": [
      "\n"
     ]
    },
    {
     "name": "stderr",
     "output_type": "stream",
     "text": [
      "Epoch 37: 5.1s to complete\n",
      "    error(train)=5.32e-01, acc(train)=8.23e-01, error(valid)=6.53e-01, acc(valid)=7.93e-01\n"
=======
     "name": "stderr",
     "output_type": "stream",
     "text": [
      "Epoch 45: 11.6s to complete\n",
      "    error(train)=2.04e-01, acc(train)=9.20e-01, error(valid)=7.03e-01, acc(valid)=8.32e-01\n"
>>>>>>> afb40114e9f11e8f8e95443222c7707024fbb52d
     ]
    },
    {
     "data": {
<<<<<<< HEAD
      "application/vnd.jupyter.widget-view+json": {
       "model_id": "90160962bd4c4806a6560daa410880cb",
       "version_major": 2,
       "version_minor": 0
      },
=======
>>>>>>> afb40114e9f11e8f8e95443222c7707024fbb52d
      "text/plain": [
       "HBox(children=(IntProgress(value=0, max=1000), HTML(value='')))"
      ]
     },
     "metadata": {},
     "output_type": "display_data"
    },
    {
<<<<<<< HEAD
     "name": "stdout",
     "output_type": "stream",
     "text": [
      "\n"
     ]
    },
    {
     "name": "stderr",
     "output_type": "stream",
     "text": [
      "Epoch 38: 5.1s to complete\n",
      "    error(train)=5.21e-01, acc(train)=8.26e-01, error(valid)=6.46e-01, acc(valid)=7.95e-01\n"
=======
     "name": "stderr",
     "output_type": "stream",
     "text": [
      "Epoch 46: 10.6s to complete\n",
      "    error(train)=2.10e-01, acc(train)=9.18e-01, error(valid)=7.30e-01, acc(valid)=8.22e-01\n"
>>>>>>> afb40114e9f11e8f8e95443222c7707024fbb52d
     ]
    },
    {
     "data": {
<<<<<<< HEAD
      "application/vnd.jupyter.widget-view+json": {
       "model_id": "d10d886b01f7441f88addff80516e583",
       "version_major": 2,
       "version_minor": 0
      },
=======
>>>>>>> afb40114e9f11e8f8e95443222c7707024fbb52d
      "text/plain": [
       "HBox(children=(IntProgress(value=0, max=1000), HTML(value='')))"
      ]
     },
     "metadata": {},
     "output_type": "display_data"
    },
    {
<<<<<<< HEAD
     "name": "stdout",
     "output_type": "stream",
     "text": [
      "\n"
     ]
    },
    {
     "name": "stderr",
     "output_type": "stream",
     "text": [
      "Epoch 39: 7.0s to complete\n",
      "    error(train)=5.01e-01, acc(train)=8.33e-01, error(valid)=6.28e-01, acc(valid)=8.03e-01\n"
=======
     "name": "stderr",
     "output_type": "stream",
     "text": [
      "Epoch 47: 7.1s to complete\n",
      "    error(train)=2.03e-01, acc(train)=9.20e-01, error(valid)=7.19e-01, acc(valid)=8.22e-01\n"
>>>>>>> afb40114e9f11e8f8e95443222c7707024fbb52d
     ]
    },
    {
     "data": {
<<<<<<< HEAD
      "application/vnd.jupyter.widget-view+json": {
       "model_id": "8bb6318e63cf4a8bb2dd43703a5e2173",
       "version_major": 2,
       "version_minor": 0
      },
=======
>>>>>>> afb40114e9f11e8f8e95443222c7707024fbb52d
      "text/plain": [
       "HBox(children=(IntProgress(value=0, max=1000), HTML(value='')))"
      ]
     },
     "metadata": {},
     "output_type": "display_data"
    },
    {
<<<<<<< HEAD
     "name": "stdout",
     "output_type": "stream",
     "text": [
      "\n"
     ]
    },
    {
     "name": "stderr",
     "output_type": "stream",
     "text": [
      "Epoch 40: 3.4s to complete\n",
      "    error(train)=5.05e-01, acc(train)=8.32e-01, error(valid)=6.33e-01, acc(valid)=8.02e-01\n"
=======
     "name": "stderr",
     "output_type": "stream",
     "text": [
      "Epoch 48: 6.8s to complete\n",
      "    error(train)=1.92e-01, acc(train)=9.24e-01, error(valid)=7.23e-01, acc(valid)=8.28e-01\n"
>>>>>>> afb40114e9f11e8f8e95443222c7707024fbb52d
     ]
    },
    {
     "data": {
<<<<<<< HEAD
      "application/vnd.jupyter.widget-view+json": {
       "model_id": "b915d80178364d0b9155fae2770ba122",
       "version_major": 2,
       "version_minor": 0
      },
=======
>>>>>>> afb40114e9f11e8f8e95443222c7707024fbb52d
      "text/plain": [
       "HBox(children=(IntProgress(value=0, max=1000), HTML(value='')))"
      ]
     },
     "metadata": {},
     "output_type": "display_data"
    },
    {
<<<<<<< HEAD
     "name": "stdout",
     "output_type": "stream",
     "text": [
      "\n"
     ]
    },
    {
     "name": "stderr",
     "output_type": "stream",
     "text": [
      "Epoch 41: 3.4s to complete\n",
      "    error(train)=5.19e-01, acc(train)=8.24e-01, error(valid)=6.45e-01, acc(valid)=7.95e-01\n"
=======
     "name": "stderr",
     "output_type": "stream",
     "text": [
      "Epoch 49: 7.6s to complete\n",
      "    error(train)=1.95e-01, acc(train)=9.21e-01, error(valid)=7.45e-01, acc(valid)=8.24e-01\n"
>>>>>>> afb40114e9f11e8f8e95443222c7707024fbb52d
     ]
    },
    {
     "data": {
<<<<<<< HEAD
      "application/vnd.jupyter.widget-view+json": {
       "model_id": "6171e95759a74a6fab69ef7685f199bb",
       "version_major": 2,
       "version_minor": 0
      },
=======
>>>>>>> afb40114e9f11e8f8e95443222c7707024fbb52d
      "text/plain": [
       "HBox(children=(IntProgress(value=0, max=1000), HTML(value='')))"
      ]
     },
     "metadata": {},
     "output_type": "display_data"
    },
    {
<<<<<<< HEAD
     "name": "stdout",
     "output_type": "stream",
     "text": [
      "\n"
     ]
    },
    {
     "name": "stderr",
     "output_type": "stream",
     "text": [
      "Epoch 42: 3.2s to complete\n",
      "    error(train)=5.04e-01, acc(train)=8.30e-01, error(valid)=6.34e-01, acc(valid)=7.99e-01\n"
=======
     "name": "stderr",
     "output_type": "stream",
     "text": [
      "Epoch 50: 11.7s to complete\n",
      "    error(train)=2.05e-01, acc(train)=9.15e-01, error(valid)=7.57e-01, acc(valid)=8.19e-01\n"
>>>>>>> afb40114e9f11e8f8e95443222c7707024fbb52d
     ]
    },
    {
     "data": {
<<<<<<< HEAD
      "application/vnd.jupyter.widget-view+json": {
       "model_id": "cc09c34367a142cab372c6eaefe1cfd5",
       "version_major": 2,
       "version_minor": 0
      },
=======
>>>>>>> afb40114e9f11e8f8e95443222c7707024fbb52d
      "text/plain": [
       "HBox(children=(IntProgress(value=0, max=1000), HTML(value='')))"
      ]
     },
     "metadata": {},
     "output_type": "display_data"
    },
    {
<<<<<<< HEAD
     "name": "stdout",
     "output_type": "stream",
     "text": [
      "\n"
     ]
    },
    {
     "name": "stderr",
     "output_type": "stream",
     "text": [
      "Epoch 43: 3.1s to complete\n",
      "    error(train)=5.04e-01, acc(train)=8.32e-01, error(valid)=6.32e-01, acc(valid)=8.00e-01\n"
=======
     "name": "stderr",
     "output_type": "stream",
     "text": [
      "Epoch 51: 12.7s to complete\n",
      "    error(train)=2.11e-01, acc(train)=9.16e-01, error(valid)=7.80e-01, acc(valid)=8.19e-01\n"
>>>>>>> afb40114e9f11e8f8e95443222c7707024fbb52d
     ]
    },
    {
     "data": {
<<<<<<< HEAD
      "application/vnd.jupyter.widget-view+json": {
       "model_id": "fdcc7f71af5e4d67822a76167aadcf1c",
       "version_major": 2,
       "version_minor": 0
      },
=======
>>>>>>> afb40114e9f11e8f8e95443222c7707024fbb52d
      "text/plain": [
       "HBox(children=(IntProgress(value=0, max=1000), HTML(value='')))"
      ]
     },
     "metadata": {},
     "output_type": "display_data"
    },
    {
<<<<<<< HEAD
     "name": "stdout",
     "output_type": "stream",
     "text": [
      "\n"
     ]
    },
    {
     "name": "stderr",
     "output_type": "stream",
     "text": [
      "Epoch 44: 3.1s to complete\n",
      "    error(train)=4.99e-01, acc(train)=8.34e-01, error(valid)=6.33e-01, acc(valid)=8.00e-01\n"
=======
     "name": "stderr",
     "output_type": "stream",
     "text": [
      "Epoch 52: 14.0s to complete\n",
      "    error(train)=1.93e-01, acc(train)=9.22e-01, error(valid)=7.70e-01, acc(valid)=8.24e-01\n"
>>>>>>> afb40114e9f11e8f8e95443222c7707024fbb52d
     ]
    },
    {
     "data": {
<<<<<<< HEAD
      "application/vnd.jupyter.widget-view+json": {
       "model_id": "54cda87cecf243048dadfcd06f6351f3",
       "version_major": 2,
       "version_minor": 0
      },
=======
>>>>>>> afb40114e9f11e8f8e95443222c7707024fbb52d
      "text/plain": [
       "HBox(children=(IntProgress(value=0, max=1000), HTML(value='')))"
      ]
     },
     "metadata": {},
     "output_type": "display_data"
    },
    {
<<<<<<< HEAD
     "name": "stdout",
     "output_type": "stream",
     "text": [
      "\n"
     ]
    },
    {
     "name": "stderr",
     "output_type": "stream",
     "text": [
      "Epoch 45: 3.9s to complete\n",
      "    error(train)=4.87e-01, acc(train)=8.37e-01, error(valid)=6.22e-01, acc(valid)=8.04e-01\n"
=======
     "name": "stderr",
     "output_type": "stream",
     "text": [
      "Epoch 53: 12.0s to complete\n",
      "    error(train)=1.98e-01, acc(train)=9.22e-01, error(valid)=7.88e-01, acc(valid)=8.23e-01\n"
>>>>>>> afb40114e9f11e8f8e95443222c7707024fbb52d
     ]
    },
    {
     "data": {
<<<<<<< HEAD
      "application/vnd.jupyter.widget-view+json": {
       "model_id": "d5349f306e8e4fdeafd21106c52da829",
       "version_major": 2,
       "version_minor": 0
      },
=======
>>>>>>> afb40114e9f11e8f8e95443222c7707024fbb52d
      "text/plain": [
       "HBox(children=(IntProgress(value=0, max=1000), HTML(value='')))"
      ]
     },
     "metadata": {},
     "output_type": "display_data"
    },
    {
<<<<<<< HEAD
     "name": "stdout",
     "output_type": "stream",
     "text": [
      "\n"
     ]
    },
    {
     "name": "stderr",
     "output_type": "stream",
     "text": [
      "Epoch 46: 3.0s to complete\n",
      "    error(train)=4.95e-01, acc(train)=8.33e-01, error(valid)=6.31e-01, acc(valid)=8.00e-01\n"
=======
     "name": "stderr",
     "output_type": "stream",
     "text": [
      "Epoch 54: 11.5s to complete\n",
      "    error(train)=1.89e-01, acc(train)=9.25e-01, error(valid)=7.98e-01, acc(valid)=8.21e-01\n"
>>>>>>> afb40114e9f11e8f8e95443222c7707024fbb52d
     ]
    },
    {
     "data": {
<<<<<<< HEAD
      "application/vnd.jupyter.widget-view+json": {
       "model_id": "b97b941643544e199ff94f019362258d",
       "version_major": 2,
       "version_minor": 0
      },
=======
>>>>>>> afb40114e9f11e8f8e95443222c7707024fbb52d
      "text/plain": [
       "HBox(children=(IntProgress(value=0, max=1000), HTML(value='')))"
      ]
     },
     "metadata": {},
     "output_type": "display_data"
    },
    {
<<<<<<< HEAD
     "name": "stdout",
     "output_type": "stream",
     "text": [
      "\n"
     ]
    },
    {
     "name": "stderr",
     "output_type": "stream",
     "text": [
      "Epoch 47: 3.7s to complete\n",
      "    error(train)=5.01e-01, acc(train)=8.29e-01, error(valid)=6.41e-01, acc(valid)=7.96e-01\n"
=======
     "name": "stderr",
     "output_type": "stream",
     "text": [
      "Epoch 55: 11.8s to complete\n",
      "    error(train)=1.93e-01, acc(train)=9.22e-01, error(valid)=8.10e-01, acc(valid)=8.20e-01\n"
>>>>>>> afb40114e9f11e8f8e95443222c7707024fbb52d
     ]
    },
    {
     "data": {
<<<<<<< HEAD
      "application/vnd.jupyter.widget-view+json": {
       "model_id": "67f8e42fac824b4eacf65b632ef00d75",
       "version_major": 2,
       "version_minor": 0
      },
=======
>>>>>>> afb40114e9f11e8f8e95443222c7707024fbb52d
      "text/plain": [
       "HBox(children=(IntProgress(value=0, max=1000), HTML(value='')))"
      ]
     },
     "metadata": {},
     "output_type": "display_data"
    },
    {
<<<<<<< HEAD
     "name": "stdout",
     "output_type": "stream",
     "text": [
      "\n"
     ]
    },
    {
     "name": "stderr",
     "output_type": "stream",
     "text": [
      "Epoch 48: 5.3s to complete\n",
      "    error(train)=4.86e-01, acc(train)=8.36e-01, error(valid)=6.24e-01, acc(valid)=8.00e-01\n"
=======
     "name": "stderr",
     "output_type": "stream",
     "text": [
      "Epoch 56: 10.9s to complete\n",
      "    error(train)=1.92e-01, acc(train)=9.20e-01, error(valid)=8.28e-01, acc(valid)=8.17e-01\n"
>>>>>>> afb40114e9f11e8f8e95443222c7707024fbb52d
     ]
    },
    {
     "data": {
<<<<<<< HEAD
      "application/vnd.jupyter.widget-view+json": {
       "model_id": "ab3e11f9a0d44994b754c64ad0829374",
       "version_major": 2,
       "version_minor": 0
      },
=======
>>>>>>> afb40114e9f11e8f8e95443222c7707024fbb52d
      "text/plain": [
       "HBox(children=(IntProgress(value=0, max=1000), HTML(value='')))"
      ]
     },
     "metadata": {},
     "output_type": "display_data"
    },
    {
<<<<<<< HEAD
     "name": "stdout",
     "output_type": "stream",
     "text": [
      "\n"
     ]
    },
    {
     "name": "stderr",
     "output_type": "stream",
     "text": [
      "Epoch 49: 3.6s to complete\n",
      "    error(train)=5.01e-01, acc(train)=8.32e-01, error(valid)=6.38e-01, acc(valid)=8.03e-01\n"
=======
     "name": "stderr",
     "output_type": "stream",
     "text": [
      "Epoch 57: 10.7s to complete\n",
      "    error(train)=1.88e-01, acc(train)=9.24e-01, error(valid)=8.27e-01, acc(valid)=8.17e-01\n"
>>>>>>> afb40114e9f11e8f8e95443222c7707024fbb52d
     ]
    },
    {
     "data": {
<<<<<<< HEAD
      "application/vnd.jupyter.widget-view+json": {
       "model_id": "89ceaec1ec3e469dad44802e73f3f62b",
       "version_major": 2,
       "version_minor": 0
      },
=======
>>>>>>> afb40114e9f11e8f8e95443222c7707024fbb52d
      "text/plain": [
       "HBox(children=(IntProgress(value=0, max=1000), HTML(value='')))"
      ]
     },
     "metadata": {},
     "output_type": "display_data"
    },
    {
<<<<<<< HEAD
     "name": "stdout",
     "output_type": "stream",
     "text": [
      "\n"
     ]
    },
    {
     "name": "stderr",
     "output_type": "stream",
     "text": [
      "Epoch 50: 3.6s to complete\n",
      "    error(train)=4.83e-01, acc(train)=8.37e-01, error(valid)=6.19e-01, acc(valid)=8.04e-01\n"
=======
     "name": "stderr",
     "output_type": "stream",
     "text": [
      "Epoch 58: 11.2s to complete\n",
      "    error(train)=1.80e-01, acc(train)=9.27e-01, error(valid)=8.08e-01, acc(valid)=8.22e-01\n"
>>>>>>> afb40114e9f11e8f8e95443222c7707024fbb52d
     ]
    },
    {
     "data": {
<<<<<<< HEAD
      "application/vnd.jupyter.widget-view+json": {
       "model_id": "a267eca64b974d85a626538124fc21c9",
       "version_major": 2,
       "version_minor": 0
      },
=======
>>>>>>> afb40114e9f11e8f8e95443222c7707024fbb52d
      "text/plain": [
       "HBox(children=(IntProgress(value=0, max=1000), HTML(value='')))"
      ]
     },
     "metadata": {},
     "output_type": "display_data"
    },
    {
<<<<<<< HEAD
     "name": "stdout",
     "output_type": "stream",
     "text": [
      "\n"
     ]
    },
    {
     "name": "stderr",
     "output_type": "stream",
     "text": [
      "Epoch 51: 9.1s to complete\n",
      "    error(train)=4.93e-01, acc(train)=8.35e-01, error(valid)=6.34e-01, acc(valid)=8.00e-01\n"
=======
     "name": "stderr",
     "output_type": "stream",
     "text": [
      "Epoch 59: 11.9s to complete\n",
      "    error(train)=1.93e-01, acc(train)=9.22e-01, error(valid)=8.54e-01, acc(valid)=8.18e-01\n"
>>>>>>> afb40114e9f11e8f8e95443222c7707024fbb52d
     ]
    },
    {
     "data": {
<<<<<<< HEAD
      "application/vnd.jupyter.widget-view+json": {
       "model_id": "49a7a60435d14f679f0100719414dd87",
       "version_major": 2,
       "version_minor": 0
      },
=======
>>>>>>> afb40114e9f11e8f8e95443222c7707024fbb52d
      "text/plain": [
       "HBox(children=(IntProgress(value=0, max=1000), HTML(value='')))"
      ]
     },
     "metadata": {},
     "output_type": "display_data"
    },
    {
<<<<<<< HEAD
     "name": "stdout",
     "output_type": "stream",
     "text": [
      "\n"
     ]
    },
    {
     "name": "stderr",
     "output_type": "stream",
     "text": [
      "Epoch 52: 4.2s to complete\n",
      "    error(train)=4.92e-01, acc(train)=8.35e-01, error(valid)=6.34e-01, acc(valid)=8.00e-01\n"
=======
     "name": "stderr",
     "output_type": "stream",
     "text": [
      "Epoch 60: 11.1s to complete\n",
      "    error(train)=1.77e-01, acc(train)=9.28e-01, error(valid)=8.36e-01, acc(valid)=8.19e-01\n"
>>>>>>> afb40114e9f11e8f8e95443222c7707024fbb52d
     ]
    },
    {
     "data": {
<<<<<<< HEAD
      "application/vnd.jupyter.widget-view+json": {
       "model_id": "8bc8f87f12454d78b3b61eb015aca77d",
       "version_major": 2,
       "version_minor": 0
      },
=======
>>>>>>> afb40114e9f11e8f8e95443222c7707024fbb52d
      "text/plain": [
       "HBox(children=(IntProgress(value=0, max=1000), HTML(value='')))"
      ]
     },
     "metadata": {},
     "output_type": "display_data"
    },
    {
<<<<<<< HEAD
     "name": "stdout",
     "output_type": "stream",
     "text": [
      "\n"
     ]
    },
    {
     "name": "stderr",
     "output_type": "stream",
     "text": [
      "Epoch 53: 4.0s to complete\n",
      "    error(train)=4.98e-01, acc(train)=8.33e-01, error(valid)=6.39e-01, acc(valid)=7.99e-01\n"
=======
     "name": "stderr",
     "output_type": "stream",
     "text": [
      "Epoch 61: 11.5s to complete\n",
      "    error(train)=1.85e-01, acc(train)=9.26e-01, error(valid)=8.65e-01, acc(valid)=8.18e-01\n"
>>>>>>> afb40114e9f11e8f8e95443222c7707024fbb52d
     ]
    },
    {
     "data": {
<<<<<<< HEAD
      "application/vnd.jupyter.widget-view+json": {
       "model_id": "6aac067bd99b4b6d9abf143e3eb3a4dc",
       "version_major": 2,
       "version_minor": 0
      },
=======
>>>>>>> afb40114e9f11e8f8e95443222c7707024fbb52d
      "text/plain": [
       "HBox(children=(IntProgress(value=0, max=1000), HTML(value='')))"
      ]
     },
     "metadata": {},
     "output_type": "display_data"
    },
    {
<<<<<<< HEAD
     "name": "stdout",
     "output_type": "stream",
     "text": [
      "\n"
     ]
    },
    {
     "name": "stderr",
     "output_type": "stream",
     "text": [
      "Epoch 54: 5.8s to complete\n",
      "    error(train)=4.86e-01, acc(train)=8.36e-01, error(valid)=6.32e-01, acc(valid)=8.00e-01\n"
=======
     "name": "stderr",
     "output_type": "stream",
     "text": [
      "Epoch 62: 11.3s to complete\n",
      "    error(train)=1.78e-01, acc(train)=9.28e-01, error(valid)=8.56e-01, acc(valid)=8.22e-01\n"
>>>>>>> afb40114e9f11e8f8e95443222c7707024fbb52d
     ]
    },
    {
     "data": {
<<<<<<< HEAD
      "application/vnd.jupyter.widget-view+json": {
       "model_id": "d0f8d70f19464798889977501fa6b58e",
       "version_major": 2,
       "version_minor": 0
      },
=======
>>>>>>> afb40114e9f11e8f8e95443222c7707024fbb52d
      "text/plain": [
       "HBox(children=(IntProgress(value=0, max=1000), HTML(value='')))"
      ]
     },
     "metadata": {},
     "output_type": "display_data"
    },
    {
<<<<<<< HEAD
     "name": "stdout",
     "output_type": "stream",
     "text": [
      "\n"
     ]
    },
    {
     "name": "stderr",
     "output_type": "stream",
     "text": [
      "Epoch 55: 3.4s to complete\n",
      "    error(train)=4.89e-01, acc(train)=8.35e-01, error(valid)=6.34e-01, acc(valid)=7.99e-01\n"
=======
     "name": "stderr",
     "output_type": "stream",
     "text": [
      "Epoch 63: 11.1s to complete\n",
      "    error(train)=1.88e-01, acc(train)=9.22e-01, error(valid)=8.83e-01, acc(valid)=8.16e-01\n"
>>>>>>> afb40114e9f11e8f8e95443222c7707024fbb52d
     ]
    },
    {
     "data": {
<<<<<<< HEAD
      "application/vnd.jupyter.widget-view+json": {
       "model_id": "8458c71622f94aacbf0d853c5f7899e3",
       "version_major": 2,
       "version_minor": 0
      },
=======
>>>>>>> afb40114e9f11e8f8e95443222c7707024fbb52d
      "text/plain": [
       "HBox(children=(IntProgress(value=0, max=1000), HTML(value='')))"
      ]
     },
     "metadata": {},
     "output_type": "display_data"
    },
    {
<<<<<<< HEAD
     "name": "stdout",
     "output_type": "stream",
     "text": [
      "\n"
     ]
    },
    {
     "name": "stderr",
     "output_type": "stream",
     "text": [
      "Epoch 56: 4.0s to complete\n",
      "    error(train)=4.80e-01, acc(train)=8.38e-01, error(valid)=6.30e-01, acc(valid)=8.02e-01\n"
=======
     "name": "stderr",
     "output_type": "stream",
     "text": [
      "Epoch 64: 11.1s to complete\n",
      "    error(train)=1.80e-01, acc(train)=9.28e-01, error(valid)=9.02e-01, acc(valid)=8.15e-01\n"
>>>>>>> afb40114e9f11e8f8e95443222c7707024fbb52d
     ]
    },
    {
     "data": {
<<<<<<< HEAD
      "application/vnd.jupyter.widget-view+json": {
       "model_id": "a4c8bfcc444e42058ec56682efc317af",
       "version_major": 2,
       "version_minor": 0
      },
=======
>>>>>>> afb40114e9f11e8f8e95443222c7707024fbb52d
      "text/plain": [
       "HBox(children=(IntProgress(value=0, max=1000), HTML(value='')))"
      ]
     },
     "metadata": {},
     "output_type": "display_data"
    },
    {
<<<<<<< HEAD
     "name": "stdout",
     "output_type": "stream",
     "text": [
      "\n"
     ]
    },
    {
     "name": "stderr",
     "output_type": "stream",
     "text": [
      "Epoch 57: 3.6s to complete\n",
      "    error(train)=4.90e-01, acc(train)=8.35e-01, error(valid)=6.41e-01, acc(valid)=7.97e-01\n"
=======
     "name": "stderr",
     "output_type": "stream",
     "text": [
      "Epoch 65: 10.4s to complete\n",
      "    error(train)=1.68e-01, acc(train)=9.32e-01, error(valid)=8.83e-01, acc(valid)=8.20e-01\n"
>>>>>>> afb40114e9f11e8f8e95443222c7707024fbb52d
     ]
    },
    {
     "data": {
<<<<<<< HEAD
      "application/vnd.jupyter.widget-view+json": {
       "model_id": "a1b9bfec79744356ad198b4aaf2aefee",
       "version_major": 2,
       "version_minor": 0
      },
=======
>>>>>>> afb40114e9f11e8f8e95443222c7707024fbb52d
      "text/plain": [
       "HBox(children=(IntProgress(value=0, max=1000), HTML(value='')))"
      ]
     },
     "metadata": {},
     "output_type": "display_data"
    },
    {
<<<<<<< HEAD
     "name": "stdout",
     "output_type": "stream",
     "text": [
      "\n"
     ]
    },
    {
     "name": "stderr",
     "output_type": "stream",
     "text": [
      "Epoch 58: 3.5s to complete\n",
      "    error(train)=4.80e-01, acc(train)=8.37e-01, error(valid)=6.28e-01, acc(valid)=7.99e-01\n"
=======
     "name": "stderr",
     "output_type": "stream",
     "text": [
      "Epoch 66: 10.5s to complete\n",
      "    error(train)=1.73e-01, acc(train)=9.31e-01, error(valid)=9.12e-01, acc(valid)=8.19e-01\n"
>>>>>>> afb40114e9f11e8f8e95443222c7707024fbb52d
     ]
    },
    {
     "data": {
<<<<<<< HEAD
      "application/vnd.jupyter.widget-view+json": {
       "model_id": "9d8a4871e8e24cc68f5277d0a5a8da48",
       "version_major": 2,
       "version_minor": 0
      },
=======
>>>>>>> afb40114e9f11e8f8e95443222c7707024fbb52d
      "text/plain": [
       "HBox(children=(IntProgress(value=0, max=1000), HTML(value='')))"
      ]
     },
     "metadata": {},
     "output_type": "display_data"
    },
    {
<<<<<<< HEAD
     "name": "stdout",
     "output_type": "stream",
     "text": [
      "\n"
     ]
    },
    {
     "name": "stderr",
     "output_type": "stream",
     "text": [
      "Epoch 59: 7.1s to complete\n",
      "    error(train)=4.92e-01, acc(train)=8.34e-01, error(valid)=6.39e-01, acc(valid)=7.99e-01\n"
=======
     "name": "stderr",
     "output_type": "stream",
     "text": [
      "Epoch 67: 7.8s to complete\n",
      "    error(train)=1.64e-01, acc(train)=9.33e-01, error(valid)=8.98e-01, acc(valid)=8.21e-01\n"
>>>>>>> afb40114e9f11e8f8e95443222c7707024fbb52d
     ]
    },
    {
     "data": {
<<<<<<< HEAD
      "application/vnd.jupyter.widget-view+json": {
       "model_id": "d65875c3976949358a344812b1981370",
       "version_major": 2,
       "version_minor": 0
      },
=======
>>>>>>> afb40114e9f11e8f8e95443222c7707024fbb52d
      "text/plain": [
       "HBox(children=(IntProgress(value=0, max=1000), HTML(value='')))"
      ]
     },
     "metadata": {},
     "output_type": "display_data"
    },
    {
<<<<<<< HEAD
     "name": "stdout",
     "output_type": "stream",
     "text": [
      "\n"
     ]
    },
    {
     "name": "stderr",
     "output_type": "stream",
     "text": [
      "Epoch 60: 3.3s to complete\n",
      "    error(train)=4.88e-01, acc(train)=8.36e-01, error(valid)=6.42e-01, acc(valid)=7.99e-01\n"
=======
     "name": "stderr",
     "output_type": "stream",
     "text": [
      "Epoch 68: 10.3s to complete\n",
      "    error(train)=1.66e-01, acc(train)=9.33e-01, error(valid)=8.97e-01, acc(valid)=8.17e-01\n"
>>>>>>> afb40114e9f11e8f8e95443222c7707024fbb52d
     ]
    },
    {
     "data": {
<<<<<<< HEAD
      "application/vnd.jupyter.widget-view+json": {
       "model_id": "d3e1f15490bd460cb03e9a43011bcdd0",
       "version_major": 2,
       "version_minor": 0
      },
=======
>>>>>>> afb40114e9f11e8f8e95443222c7707024fbb52d
      "text/plain": [
       "HBox(children=(IntProgress(value=0, max=1000), HTML(value='')))"
      ]
     },
     "metadata": {},
     "output_type": "display_data"
    },
    {
<<<<<<< HEAD
     "name": "stdout",
     "output_type": "stream",
     "text": [
      "\n"
     ]
    },
    {
     "name": "stderr",
     "output_type": "stream",
     "text": [
      "Epoch 61: 3.6s to complete\n",
      "    error(train)=4.75e-01, acc(train)=8.40e-01, error(valid)=6.28e-01, acc(valid)=8.03e-01\n"
=======
     "name": "stderr",
     "output_type": "stream",
     "text": [
      "Epoch 69: 7.0s to complete\n",
      "    error(train)=1.66e-01, acc(train)=9.33e-01, error(valid)=9.09e-01, acc(valid)=8.19e-01\n"
>>>>>>> afb40114e9f11e8f8e95443222c7707024fbb52d
     ]
    },
    {
     "data": {
<<<<<<< HEAD
      "application/vnd.jupyter.widget-view+json": {
       "model_id": "55a66f8b8d8c4a00a91093cf425c7c80",
       "version_major": 2,
       "version_minor": 0
      },
=======
>>>>>>> afb40114e9f11e8f8e95443222c7707024fbb52d
      "text/plain": [
       "HBox(children=(IntProgress(value=0, max=1000), HTML(value='')))"
      ]
     },
     "metadata": {},
     "output_type": "display_data"
    },
    {
<<<<<<< HEAD
     "name": "stdout",
     "output_type": "stream",
     "text": [
      "\n"
     ]
    },
    {
     "name": "stderr",
     "output_type": "stream",
     "text": [
      "Epoch 62: 3.1s to complete\n",
      "    error(train)=4.78e-01, acc(train)=8.36e-01, error(valid)=6.32e-01, acc(valid)=7.99e-01\n"
=======
     "name": "stderr",
     "output_type": "stream",
     "text": [
      "Epoch 70: 12.6s to complete\n",
      "    error(train)=1.75e-01, acc(train)=9.29e-01, error(valid)=9.48e-01, acc(valid)=8.16e-01\n"
>>>>>>> afb40114e9f11e8f8e95443222c7707024fbb52d
     ]
    },
    {
     "data": {
<<<<<<< HEAD
      "application/vnd.jupyter.widget-view+json": {
       "model_id": "7f2fd2c60479413eb5a896fabebebd9d",
       "version_major": 2,
       "version_minor": 0
      },
=======
>>>>>>> afb40114e9f11e8f8e95443222c7707024fbb52d
      "text/plain": [
       "HBox(children=(IntProgress(value=0, max=1000), HTML(value='')))"
      ]
     },
     "metadata": {},
     "output_type": "display_data"
    },
    {
<<<<<<< HEAD
     "name": "stdout",
     "output_type": "stream",
     "text": [
      "\n"
     ]
    },
    {
     "name": "stderr",
     "output_type": "stream",
     "text": [
      "Epoch 63: 3.1s to complete\n",
      "    error(train)=4.82e-01, acc(train)=8.37e-01, error(valid)=6.34e-01, acc(valid)=8.01e-01\n"
=======
     "name": "stderr",
     "output_type": "stream",
     "text": [
      "Epoch 71: 12.6s to complete\n",
      "    error(train)=1.58e-01, acc(train)=9.36e-01, error(valid)=9.51e-01, acc(valid)=8.18e-01\n"
>>>>>>> afb40114e9f11e8f8e95443222c7707024fbb52d
     ]
    },
    {
     "data": {
<<<<<<< HEAD
      "application/vnd.jupyter.widget-view+json": {
       "model_id": "3dcadad3b34549b19c6b450d73004c13",
       "version_major": 2,
       "version_minor": 0
      },
=======
>>>>>>> afb40114e9f11e8f8e95443222c7707024fbb52d
      "text/plain": [
       "HBox(children=(IntProgress(value=0, max=1000), HTML(value='')))"
      ]
     },
     "metadata": {},
     "output_type": "display_data"
    },
    {
<<<<<<< HEAD
     "name": "stdout",
     "output_type": "stream",
     "text": [
      "\n"
     ]
    },
    {
     "name": "stderr",
     "output_type": "stream",
     "text": [
      "Epoch 64: 3.2s to complete\n",
      "    error(train)=4.73e-01, acc(train)=8.39e-01, error(valid)=6.24e-01, acc(valid)=8.02e-01\n"
=======
     "name": "stderr",
     "output_type": "stream",
     "text": [
      "Epoch 72: 10.9s to complete\n",
      "    error(train)=1.71e-01, acc(train)=9.30e-01, error(valid)=9.56e-01, acc(valid)=8.18e-01\n"
>>>>>>> afb40114e9f11e8f8e95443222c7707024fbb52d
     ]
    },
    {
     "data": {
<<<<<<< HEAD
      "application/vnd.jupyter.widget-view+json": {
       "model_id": "8df8f165c955495682090d1c19fa8aea",
       "version_major": 2,
       "version_minor": 0
      },
=======
>>>>>>> afb40114e9f11e8f8e95443222c7707024fbb52d
      "text/plain": [
       "HBox(children=(IntProgress(value=0, max=1000), HTML(value='')))"
      ]
     },
     "metadata": {},
     "output_type": "display_data"
    },
    {
<<<<<<< HEAD
     "name": "stdout",
     "output_type": "stream",
     "text": [
      "\n"
     ]
    },
    {
     "name": "stderr",
     "output_type": "stream",
     "text": [
      "Epoch 65: 3.4s to complete\n",
      "    error(train)=4.82e-01, acc(train)=8.36e-01, error(valid)=6.37e-01, acc(valid)=7.97e-01\n"
=======
     "name": "stderr",
     "output_type": "stream",
     "text": [
      "Epoch 73: 7.4s to complete\n",
      "    error(train)=1.67e-01, acc(train)=9.31e-01, error(valid)=9.74e-01, acc(valid)=8.13e-01\n"
>>>>>>> afb40114e9f11e8f8e95443222c7707024fbb52d
     ]
    },
    {
     "data": {
<<<<<<< HEAD
      "application/vnd.jupyter.widget-view+json": {
       "model_id": "ba9532120a704a65bea17643fa6ef18c",
       "version_major": 2,
       "version_minor": 0
      },
=======
>>>>>>> afb40114e9f11e8f8e95443222c7707024fbb52d
      "text/plain": [
       "HBox(children=(IntProgress(value=0, max=1000), HTML(value='')))"
      ]
     },
     "metadata": {},
     "output_type": "display_data"
    },
    {
<<<<<<< HEAD
     "name": "stdout",
     "output_type": "stream",
     "text": [
      "\n"
     ]
    },
    {
     "name": "stderr",
     "output_type": "stream",
     "text": [
      "Epoch 66: 3.5s to complete\n",
      "    error(train)=4.70e-01, acc(train)=8.41e-01, error(valid)=6.25e-01, acc(valid)=8.04e-01\n"
=======
     "name": "stderr",
     "output_type": "stream",
     "text": [
      "Epoch 74: 12.4s to complete\n",
      "    error(train)=1.59e-01, acc(train)=9.35e-01, error(valid)=9.65e-01, acc(valid)=8.17e-01\n"
>>>>>>> afb40114e9f11e8f8e95443222c7707024fbb52d
     ]
    },
    {
     "data": {
<<<<<<< HEAD
      "application/vnd.jupyter.widget-view+json": {
       "model_id": "5bc6f315f1664d6082ffb8fb38a99865",
       "version_major": 2,
       "version_minor": 0
      },
=======
>>>>>>> afb40114e9f11e8f8e95443222c7707024fbb52d
      "text/plain": [
       "HBox(children=(IntProgress(value=0, max=1000), HTML(value='')))"
      ]
     },
     "metadata": {},
     "output_type": "display_data"
    },
    {
<<<<<<< HEAD
     "name": "stdout",
     "output_type": "stream",
     "text": [
      "\n"
     ]
    },
    {
     "name": "stderr",
     "output_type": "stream",
     "text": [
      "Epoch 67: 3.7s to complete\n",
      "    error(train)=4.85e-01, acc(train)=8.32e-01, error(valid)=6.39e-01, acc(valid)=7.95e-01\n"
=======
     "name": "stderr",
     "output_type": "stream",
     "text": [
      "Epoch 75: 12.7s to complete\n",
      "    error(train)=1.62e-01, acc(train)=9.34e-01, error(valid)=9.82e-01, acc(valid)=8.17e-01\n"
>>>>>>> afb40114e9f11e8f8e95443222c7707024fbb52d
     ]
    },
    {
     "data": {
<<<<<<< HEAD
      "application/vnd.jupyter.widget-view+json": {
       "model_id": "be4dfbb09db546efb0bf8f0b607c26dc",
       "version_major": 2,
       "version_minor": 0
      },
=======
>>>>>>> afb40114e9f11e8f8e95443222c7707024fbb52d
      "text/plain": [
       "HBox(children=(IntProgress(value=0, max=1000), HTML(value='')))"
      ]
     },
     "metadata": {},
     "output_type": "display_data"
    },
    {
<<<<<<< HEAD
     "name": "stdout",
     "output_type": "stream",
     "text": [
      "\n"
     ]
    },
    {
     "name": "stderr",
     "output_type": "stream",
     "text": [
      "Epoch 68: 3.0s to complete\n",
      "    error(train)=4.72e-01, acc(train)=8.38e-01, error(valid)=6.30e-01, acc(valid)=8.02e-01\n"
=======
     "name": "stderr",
     "output_type": "stream",
     "text": [
      "Epoch 76: 10.9s to complete\n",
      "    error(train)=1.52e-01, acc(train)=9.37e-01, error(valid)=9.85e-01, acc(valid)=8.17e-01\n"
>>>>>>> afb40114e9f11e8f8e95443222c7707024fbb52d
     ]
    },
    {
     "data": {
<<<<<<< HEAD
      "application/vnd.jupyter.widget-view+json": {
       "model_id": "fb69622c0b0e498b892e11103e255aaa",
       "version_major": 2,
       "version_minor": 0
      },
=======
>>>>>>> afb40114e9f11e8f8e95443222c7707024fbb52d
      "text/plain": [
       "HBox(children=(IntProgress(value=0, max=1000), HTML(value='')))"
      ]
     },
     "metadata": {},
     "output_type": "display_data"
    },
    {
<<<<<<< HEAD
     "name": "stdout",
     "output_type": "stream",
     "text": [
      "\n"
     ]
    },
    {
     "name": "stderr",
     "output_type": "stream",
     "text": [
      "Epoch 69: 5.7s to complete\n",
      "    error(train)=4.68e-01, acc(train)=8.40e-01, error(valid)=6.32e-01, acc(valid)=8.02e-01\n"
=======
     "name": "stderr",
     "output_type": "stream",
     "text": [
      "Epoch 77: 11.6s to complete\n",
      "    error(train)=1.70e-01, acc(train)=9.31e-01, error(valid)=1.02e+00, acc(valid)=8.15e-01\n"
>>>>>>> afb40114e9f11e8f8e95443222c7707024fbb52d
     ]
    },
    {
     "data": {
<<<<<<< HEAD
      "application/vnd.jupyter.widget-view+json": {
       "model_id": "b3767f0f0b884ab599ed4f9405d583e7",
       "version_major": 2,
       "version_minor": 0
      },
=======
>>>>>>> afb40114e9f11e8f8e95443222c7707024fbb52d
      "text/plain": [
       "HBox(children=(IntProgress(value=0, max=1000), HTML(value='')))"
      ]
     },
     "metadata": {},
     "output_type": "display_data"
    },
    {
<<<<<<< HEAD
     "name": "stdout",
     "output_type": "stream",
     "text": [
      "\n"
     ]
    },
    {
     "name": "stderr",
     "output_type": "stream",
     "text": [
      "Epoch 70: 3.2s to complete\n",
      "    error(train)=4.72e-01, acc(train)=8.38e-01, error(valid)=6.36e-01, acc(valid)=8.00e-01\n"
=======
     "name": "stderr",
     "output_type": "stream",
     "text": [
      "Epoch 78: 11.4s to complete\n",
      "    error(train)=1.65e-01, acc(train)=9.33e-01, error(valid)=1.02e+00, acc(valid)=8.14e-01\n"
>>>>>>> afb40114e9f11e8f8e95443222c7707024fbb52d
     ]
    },
    {
     "data": {
<<<<<<< HEAD
      "application/vnd.jupyter.widget-view+json": {
       "model_id": "a6ae0aab75b34c94a6600d114ed95938",
       "version_major": 2,
       "version_minor": 0
      },
=======
>>>>>>> afb40114e9f11e8f8e95443222c7707024fbb52d
      "text/plain": [
       "HBox(children=(IntProgress(value=0, max=1000), HTML(value='')))"
      ]
     },
     "metadata": {},
     "output_type": "display_data"
    },
    {
<<<<<<< HEAD
     "name": "stdout",
     "output_type": "stream",
     "text": [
      "\n"
     ]
    },
    {
     "name": "stderr",
     "output_type": "stream",
     "text": [
      "Epoch 71: 3.2s to complete\n",
      "    error(train)=4.80e-01, acc(train)=8.36e-01, error(valid)=6.41e-01, acc(valid)=7.98e-01\n"
=======
     "name": "stderr",
     "output_type": "stream",
     "text": [
      "Epoch 79: 12.0s to complete\n",
      "    error(train)=1.59e-01, acc(train)=9.35e-01, error(valid)=1.03e+00, acc(valid)=8.13e-01\n"
>>>>>>> afb40114e9f11e8f8e95443222c7707024fbb52d
     ]
    },
    {
     "data": {
<<<<<<< HEAD
      "application/vnd.jupyter.widget-view+json": {
       "model_id": "b41f6ee4ed494cfaa1e4c43b0b315bf8",
       "version_major": 2,
       "version_minor": 0
      },
=======
>>>>>>> afb40114e9f11e8f8e95443222c7707024fbb52d
      "text/plain": [
       "HBox(children=(IntProgress(value=0, max=1000), HTML(value='')))"
      ]
     },
     "metadata": {},
     "output_type": "display_data"
    },
    {
<<<<<<< HEAD
     "name": "stdout",
     "output_type": "stream",
     "text": [
      "\n"
     ]
    },
    {
     "name": "stderr",
     "output_type": "stream",
     "text": [
      "Epoch 72: 4.1s to complete\n",
      "    error(train)=4.72e-01, acc(train)=8.41e-01, error(valid)=6.35e-01, acc(valid)=8.02e-01\n"
=======
     "name": "stderr",
     "output_type": "stream",
     "text": [
      "Epoch 80: 11.3s to complete\n",
      "    error(train)=1.48e-01, acc(train)=9.40e-01, error(valid)=1.02e+00, acc(valid)=8.20e-01\n"
>>>>>>> afb40114e9f11e8f8e95443222c7707024fbb52d
     ]
    },
    {
     "data": {
<<<<<<< HEAD
      "application/vnd.jupyter.widget-view+json": {
       "model_id": "281894e0b4774644b89008aa7bcecb42",
       "version_major": 2,
       "version_minor": 0
      },
=======
>>>>>>> afb40114e9f11e8f8e95443222c7707024fbb52d
      "text/plain": [
       "HBox(children=(IntProgress(value=0, max=1000), HTML(value='')))"
      ]
     },
     "metadata": {},
     "output_type": "display_data"
    },
    {
<<<<<<< HEAD
     "name": "stdout",
     "output_type": "stream",
     "text": [
      "\n"
     ]
    },
    {
     "name": "stderr",
     "output_type": "stream",
     "text": [
      "Epoch 73: 3.6s to complete\n",
      "    error(train)=4.80e-01, acc(train)=8.37e-01, error(valid)=6.45e-01, acc(valid)=7.96e-01\n"
=======
     "name": "stderr",
     "output_type": "stream",
     "text": [
      "Epoch 81: 11.3s to complete\n",
      "    error(train)=1.50e-01, acc(train)=9.39e-01, error(valid)=1.03e+00, acc(valid)=8.19e-01\n"
>>>>>>> afb40114e9f11e8f8e95443222c7707024fbb52d
     ]
    },
    {
     "data": {
<<<<<<< HEAD
      "application/vnd.jupyter.widget-view+json": {
       "model_id": "6347be60f0554eb2b25a4c27d01f9429",
       "version_major": 2,
       "version_minor": 0
      },
=======
>>>>>>> afb40114e9f11e8f8e95443222c7707024fbb52d
      "text/plain": [
       "HBox(children=(IntProgress(value=0, max=1000), HTML(value='')))"
      ]
     },
     "metadata": {},
     "output_type": "display_data"
    },
    {
<<<<<<< HEAD
     "name": "stdout",
     "output_type": "stream",
     "text": [
      "\n"
     ]
    },
    {
     "name": "stderr",
     "output_type": "stream",
     "text": [
      "Epoch 74: 5.6s to complete\n",
      "    error(train)=4.73e-01, acc(train)=8.38e-01, error(valid)=6.41e-01, acc(valid)=8.00e-01\n"
=======
     "name": "stderr",
     "output_type": "stream",
     "text": [
      "Epoch 82: 12.0s to complete\n",
      "    error(train)=1.59e-01, acc(train)=9.35e-01, error(valid)=1.06e+00, acc(valid)=8.15e-01\n"
>>>>>>> afb40114e9f11e8f8e95443222c7707024fbb52d
     ]
    },
    {
     "data": {
<<<<<<< HEAD
      "application/vnd.jupyter.widget-view+json": {
       "model_id": "58814efd05d24c4b881b0a7573e70605",
       "version_major": 2,
       "version_minor": 0
      },
=======
>>>>>>> afb40114e9f11e8f8e95443222c7707024fbb52d
      "text/plain": [
       "HBox(children=(IntProgress(value=0, max=1000), HTML(value='')))"
      ]
     },
     "metadata": {},
     "output_type": "display_data"
    },
    {
<<<<<<< HEAD
     "name": "stdout",
     "output_type": "stream",
     "text": [
      "\n"
     ]
    },
    {
     "name": "stderr",
     "output_type": "stream",
     "text": [
      "Epoch 75: 3.1s to complete\n",
      "    error(train)=4.63e-01, acc(train)=8.42e-01, error(valid)=6.27e-01, acc(valid)=8.04e-01\n"
=======
     "name": "stderr",
     "output_type": "stream",
     "text": [
      "Epoch 83: 10.5s to complete\n",
      "    error(train)=1.56e-01, acc(train)=9.34e-01, error(valid)=1.05e+00, acc(valid)=8.12e-01\n"
>>>>>>> afb40114e9f11e8f8e95443222c7707024fbb52d
     ]
    },
    {
     "data": {
<<<<<<< HEAD
      "application/vnd.jupyter.widget-view+json": {
       "model_id": "4182194d34e44c79ade57104a266e305",
       "version_major": 2,
       "version_minor": 0
      },
=======
>>>>>>> afb40114e9f11e8f8e95443222c7707024fbb52d
      "text/plain": [
       "HBox(children=(IntProgress(value=0, max=1000), HTML(value='')))"
      ]
     },
     "metadata": {},
     "output_type": "display_data"
    },
    {
<<<<<<< HEAD
     "name": "stdout",
     "output_type": "stream",
     "text": [
      "\n"
     ]
    },
    {
     "name": "stderr",
     "output_type": "stream",
     "text": [
      "Epoch 76: 3.3s to complete\n",
      "    error(train)=4.76e-01, acc(train)=8.37e-01, error(valid)=6.42e-01, acc(valid)=8.01e-01\n"
=======
     "name": "stderr",
     "output_type": "stream",
     "text": [
      "Epoch 84: 9.1s to complete\n",
      "    error(train)=1.78e-01, acc(train)=9.27e-01, error(valid)=1.10e+00, acc(valid)=8.06e-01\n"
>>>>>>> afb40114e9f11e8f8e95443222c7707024fbb52d
     ]
    },
    {
     "data": {
<<<<<<< HEAD
      "application/vnd.jupyter.widget-view+json": {
       "model_id": "951798448e0b44d2b3f63bf115f0393b",
       "version_major": 2,
       "version_minor": 0
      },
=======
>>>>>>> afb40114e9f11e8f8e95443222c7707024fbb52d
      "text/plain": [
       "HBox(children=(IntProgress(value=0, max=1000), HTML(value='')))"
      ]
     },
     "metadata": {},
     "output_type": "display_data"
    },
    {
<<<<<<< HEAD
     "name": "stdout",
     "output_type": "stream",
     "text": [
      "\n"
     ]
    },
    {
     "name": "stderr",
     "output_type": "stream",
     "text": [
      "Epoch 77: 3.4s to complete\n",
      "    error(train)=4.60e-01, acc(train)=8.42e-01, error(valid)=6.31e-01, acc(valid)=8.01e-01\n"
=======
     "name": "stderr",
     "output_type": "stream",
     "text": [
      "Epoch 85: 10.7s to complete\n",
      "    error(train)=1.51e-01, acc(train)=9.39e-01, error(valid)=1.07e+00, acc(valid)=8.16e-01\n"
>>>>>>> afb40114e9f11e8f8e95443222c7707024fbb52d
     ]
    },
    {
     "data": {
<<<<<<< HEAD
      "application/vnd.jupyter.widget-view+json": {
       "model_id": "f915e281f4a6480fbc8b5ff1211983ab",
       "version_major": 2,
       "version_minor": 0
      },
=======
>>>>>>> afb40114e9f11e8f8e95443222c7707024fbb52d
      "text/plain": [
       "HBox(children=(IntProgress(value=0, max=1000), HTML(value='')))"
      ]
     },
     "metadata": {},
     "output_type": "display_data"
    },
    {
<<<<<<< HEAD
     "name": "stdout",
     "output_type": "stream",
     "text": [
      "\n"
     ]
    },
    {
     "name": "stderr",
     "output_type": "stream",
     "text": [
      "Epoch 78: 3.5s to complete\n",
      "    error(train)=4.60e-01, acc(train)=8.43e-01, error(valid)=6.37e-01, acc(valid)=8.02e-01\n"
=======
     "name": "stderr",
     "output_type": "stream",
     "text": [
      "Epoch 86: 11.0s to complete\n",
      "    error(train)=1.49e-01, acc(train)=9.39e-01, error(valid)=1.09e+00, acc(valid)=8.12e-01\n"
>>>>>>> afb40114e9f11e8f8e95443222c7707024fbb52d
     ]
    },
    {
     "data": {
<<<<<<< HEAD
      "application/vnd.jupyter.widget-view+json": {
       "model_id": "d5d6ca935be7497aba231f80f6edb279",
       "version_major": 2,
       "version_minor": 0
      },
=======
>>>>>>> afb40114e9f11e8f8e95443222c7707024fbb52d
      "text/plain": [
       "HBox(children=(IntProgress(value=0, max=1000), HTML(value='')))"
      ]
     },
     "metadata": {},
     "output_type": "display_data"
    },
    {
<<<<<<< HEAD
     "name": "stdout",
     "output_type": "stream",
     "text": [
      "\n"
     ]
    },
    {
     "name": "stderr",
     "output_type": "stream",
     "text": [
      "Epoch 79: 3.6s to complete\n",
      "    error(train)=4.67e-01, acc(train)=8.40e-01, error(valid)=6.38e-01, acc(valid)=7.98e-01\n"
=======
     "name": "stderr",
     "output_type": "stream",
     "text": [
      "Epoch 87: 10.8s to complete\n",
      "    error(train)=1.55e-01, acc(train)=9.37e-01, error(valid)=1.12e+00, acc(valid)=8.13e-01\n"
>>>>>>> afb40114e9f11e8f8e95443222c7707024fbb52d
     ]
    },
    {
     "data": {
<<<<<<< HEAD
      "application/vnd.jupyter.widget-view+json": {
       "model_id": "900dfdb587fb4ba3928393dc3cc15262",
       "version_major": 2,
       "version_minor": 0
      },
=======
>>>>>>> afb40114e9f11e8f8e95443222c7707024fbb52d
      "text/plain": [
       "HBox(children=(IntProgress(value=0, max=1000), HTML(value='')))"
      ]
     },
     "metadata": {},
     "output_type": "display_data"
    },
    {
<<<<<<< HEAD
     "name": "stdout",
     "output_type": "stream",
     "text": [
      "\n"
     ]
    },
    {
     "name": "stderr",
     "output_type": "stream",
     "text": [
      "Epoch 80: 3.2s to complete\n",
      "    error(train)=4.77e-01, acc(train)=8.36e-01, error(valid)=6.50e-01, acc(valid)=7.98e-01\n"
=======
     "name": "stderr",
     "output_type": "stream",
     "text": [
      "Epoch 88: 7.5s to complete\n",
      "    error(train)=1.52e-01, acc(train)=9.38e-01, error(valid)=1.11e+00, acc(valid)=8.14e-01\n"
>>>>>>> afb40114e9f11e8f8e95443222c7707024fbb52d
     ]
    },
    {
     "data": {
<<<<<<< HEAD
      "application/vnd.jupyter.widget-view+json": {
       "model_id": "6ce80faca712448fb7a30631fd410fb1",
       "version_major": 2,
       "version_minor": 0
      },
=======
>>>>>>> afb40114e9f11e8f8e95443222c7707024fbb52d
      "text/plain": [
       "HBox(children=(IntProgress(value=0, max=1000), HTML(value='')))"
      ]
     },
     "metadata": {},
     "output_type": "display_data"
    },
    {
<<<<<<< HEAD
     "name": "stdout",
     "output_type": "stream",
     "text": [
      "\n"
     ]
    },
    {
     "name": "stderr",
     "output_type": "stream",
     "text": [
      "Epoch 81: 3.5s to complete\n",
      "    error(train)=4.71e-01, acc(train)=8.38e-01, error(valid)=6.41e-01, acc(valid)=7.97e-01\n"
=======
     "name": "stderr",
     "output_type": "stream",
     "text": [
      "Epoch 89: 10.9s to complete\n",
      "    error(train)=1.62e-01, acc(train)=9.35e-01, error(valid)=1.13e+00, acc(valid)=8.14e-01\n"
>>>>>>> afb40114e9f11e8f8e95443222c7707024fbb52d
     ]
    },
    {
     "data": {
<<<<<<< HEAD
      "application/vnd.jupyter.widget-view+json": {
       "model_id": "15958c3912ab4dc9b9650fe8fa5291e1",
       "version_major": 2,
       "version_minor": 0
      },
=======
>>>>>>> afb40114e9f11e8f8e95443222c7707024fbb52d
      "text/plain": [
       "HBox(children=(IntProgress(value=0, max=1000), HTML(value='')))"
      ]
     },
     "metadata": {},
     "output_type": "display_data"
    },
    {
<<<<<<< HEAD
     "name": "stdout",
     "output_type": "stream",
     "text": [
      "\n"
     ]
    },
    {
     "name": "stderr",
     "output_type": "stream",
     "text": [
      "Epoch 82: 3.4s to complete\n",
      "    error(train)=4.68e-01, acc(train)=8.41e-01, error(valid)=6.40e-01, acc(valid)=8.00e-01\n"
=======
     "name": "stderr",
     "output_type": "stream",
     "text": [
      "Epoch 90: 13.4s to complete\n",
      "    error(train)=1.43e-01, acc(train)=9.41e-01, error(valid)=1.11e+00, acc(valid)=8.14e-01\n"
>>>>>>> afb40114e9f11e8f8e95443222c7707024fbb52d
     ]
    },
    {
     "data": {
<<<<<<< HEAD
      "application/vnd.jupyter.widget-view+json": {
       "model_id": "22d2ab33b6a640848a23c50dda8d839c",
       "version_major": 2,
       "version_minor": 0
      },
=======
>>>>>>> afb40114e9f11e8f8e95443222c7707024fbb52d
      "text/plain": [
       "HBox(children=(IntProgress(value=0, max=1000), HTML(value='')))"
      ]
     },
     "metadata": {},
     "output_type": "display_data"
    },
    {
<<<<<<< HEAD
     "name": "stdout",
     "output_type": "stream",
     "text": [
      "\n"
     ]
    },
    {
     "name": "stderr",
     "output_type": "stream",
     "text": [
      "Epoch 83: 3.2s to complete\n",
      "    error(train)=4.58e-01, acc(train)=8.43e-01, error(valid)=6.33e-01, acc(valid)=8.04e-01\n"
=======
     "name": "stderr",
     "output_type": "stream",
     "text": [
      "Epoch 91: 13.7s to complete\n",
      "    error(train)=1.48e-01, acc(train)=9.39e-01, error(valid)=1.15e+00, acc(valid)=8.11e-01\n"
>>>>>>> afb40114e9f11e8f8e95443222c7707024fbb52d
     ]
    },
    {
     "data": {
<<<<<<< HEAD
      "application/vnd.jupyter.widget-view+json": {
       "model_id": "58b19eb8c9da4ec3a5d53f37202b77e9",
       "version_major": 2,
       "version_minor": 0
      },
=======
>>>>>>> afb40114e9f11e8f8e95443222c7707024fbb52d
      "text/plain": [
       "HBox(children=(IntProgress(value=0, max=1000), HTML(value='')))"
      ]
     },
     "metadata": {},
     "output_type": "display_data"
    },
    {
<<<<<<< HEAD
     "name": "stdout",
     "output_type": "stream",
     "text": [
      "\n"
     ]
    },
    {
     "name": "stderr",
     "output_type": "stream",
     "text": [
      "Epoch 84: 3.1s to complete\n",
      "    error(train)=4.83e-01, acc(train)=8.35e-01, error(valid)=6.62e-01, acc(valid)=7.96e-01\n"
=======
     "name": "stderr",
     "output_type": "stream",
     "text": [
      "Epoch 92: 11.8s to complete\n",
      "    error(train)=1.47e-01, acc(train)=9.39e-01, error(valid)=1.13e+00, acc(valid)=8.11e-01\n"
>>>>>>> afb40114e9f11e8f8e95443222c7707024fbb52d
     ]
    },
    {
     "data": {
<<<<<<< HEAD
      "application/vnd.jupyter.widget-view+json": {
       "model_id": "f70ecaf98aa44d118a0f2bed1fc96a68",
       "version_major": 2,
       "version_minor": 0
      },
=======
>>>>>>> afb40114e9f11e8f8e95443222c7707024fbb52d
      "text/plain": [
       "HBox(children=(IntProgress(value=0, max=1000), HTML(value='')))"
      ]
     },
     "metadata": {},
     "output_type": "display_data"
    },
    {
<<<<<<< HEAD
     "name": "stdout",
     "output_type": "stream",
     "text": [
      "\n"
     ]
    },
    {
     "name": "stderr",
     "output_type": "stream",
     "text": [
      "Epoch 85: 3.0s to complete\n",
      "    error(train)=4.53e-01, acc(train)=8.46e-01, error(valid)=6.27e-01, acc(valid)=8.04e-01\n"
=======
     "name": "stderr",
     "output_type": "stream",
     "text": [
      "Epoch 93: 10.1s to complete\n",
      "    error(train)=1.48e-01, acc(train)=9.38e-01, error(valid)=1.14e+00, acc(valid)=8.10e-01\n"
>>>>>>> afb40114e9f11e8f8e95443222c7707024fbb52d
     ]
    },
    {
     "data": {
<<<<<<< HEAD
      "application/vnd.jupyter.widget-view+json": {
       "model_id": "c0496620c86e47bfb00e6ad4934bf9c5",
       "version_major": 2,
       "version_minor": 0
      },
=======
>>>>>>> afb40114e9f11e8f8e95443222c7707024fbb52d
      "text/plain": [
       "HBox(children=(IntProgress(value=0, max=1000), HTML(value='')))"
      ]
     },
     "metadata": {},
     "output_type": "display_data"
    },
    {
<<<<<<< HEAD
     "name": "stdout",
     "output_type": "stream",
     "text": [
      "\n"
     ]
    },
    {
     "name": "stderr",
     "output_type": "stream",
     "text": [
      "Epoch 86: 3.0s to complete\n",
      "    error(train)=4.53e-01, acc(train)=8.46e-01, error(valid)=6.29e-01, acc(valid)=8.02e-01\n"
=======
     "name": "stderr",
     "output_type": "stream",
     "text": [
      "Epoch 94: 9.8s to complete\n",
      "    error(train)=1.37e-01, acc(train)=9.43e-01, error(valid)=1.15e+00, acc(valid)=8.12e-01\n"
>>>>>>> afb40114e9f11e8f8e95443222c7707024fbb52d
     ]
    },
    {
     "data": {
<<<<<<< HEAD
      "application/vnd.jupyter.widget-view+json": {
       "model_id": "46087944217e48ec84db3212fa2d29d4",
       "version_major": 2,
       "version_minor": 0
      },
=======
>>>>>>> afb40114e9f11e8f8e95443222c7707024fbb52d
      "text/plain": [
       "HBox(children=(IntProgress(value=0, max=1000), HTML(value='')))"
      ]
     },
     "metadata": {},
     "output_type": "display_data"
    },
    {
<<<<<<< HEAD
     "name": "stdout",
     "output_type": "stream",
     "text": [
      "\n"
     ]
    },
    {
     "name": "stderr",
     "output_type": "stream",
     "text": [
      "Epoch 87: 3.4s to complete\n",
      "    error(train)=4.67e-01, acc(train)=8.42e-01, error(valid)=6.45e-01, acc(valid)=8.02e-01\n"
=======
     "name": "stderr",
     "output_type": "stream",
     "text": [
      "Epoch 95: 8.2s to complete\n",
      "    error(train)=1.43e-01, acc(train)=9.42e-01, error(valid)=1.16e+00, acc(valid)=8.14e-01\n"
>>>>>>> afb40114e9f11e8f8e95443222c7707024fbb52d
     ]
    },
    {
     "data": {
<<<<<<< HEAD
      "application/vnd.jupyter.widget-view+json": {
       "model_id": "0d128140c9b04b149d64b95b018498d4",
       "version_major": 2,
       "version_minor": 0
      },
=======
>>>>>>> afb40114e9f11e8f8e95443222c7707024fbb52d
      "text/plain": [
       "HBox(children=(IntProgress(value=0, max=1000), HTML(value='')))"
      ]
     },
     "metadata": {},
     "output_type": "display_data"
    },
    {
<<<<<<< HEAD
     "name": "stdout",
     "output_type": "stream",
     "text": [
      "\n"
     ]
    },
    {
     "name": "stderr",
     "output_type": "stream",
     "text": [
      "Epoch 88: 6.1s to complete\n",
      "    error(train)=4.66e-01, acc(train)=8.41e-01, error(valid)=6.50e-01, acc(valid)=7.97e-01\n"
=======
     "name": "stderr",
     "output_type": "stream",
     "text": [
      "Epoch 96: 10.7s to complete\n",
      "    error(train)=1.41e-01, acc(train)=9.42e-01, error(valid)=1.17e+00, acc(valid)=8.12e-01\n"
>>>>>>> afb40114e9f11e8f8e95443222c7707024fbb52d
     ]
    },
    {
     "data": {
<<<<<<< HEAD
      "application/vnd.jupyter.widget-view+json": {
       "model_id": "9a891837bfbb4726a472c050f261a600",
       "version_major": 2,
       "version_minor": 0
      },
=======
>>>>>>> afb40114e9f11e8f8e95443222c7707024fbb52d
      "text/plain": [
       "HBox(children=(IntProgress(value=0, max=1000), HTML(value='')))"
      ]
     },
     "metadata": {},
     "output_type": "display_data"
    },
    {
<<<<<<< HEAD
     "name": "stdout",
     "output_type": "stream",
     "text": [
      "\n"
     ]
    },
    {
     "name": "stderr",
     "output_type": "stream",
     "text": [
      "Epoch 89: 4.0s to complete\n",
      "    error(train)=4.54e-01, acc(train)=8.46e-01, error(valid)=6.43e-01, acc(valid)=8.02e-01\n"
=======
     "name": "stderr",
     "output_type": "stream",
     "text": [
      "Epoch 97: 6.9s to complete\n",
      "    error(train)=1.49e-01, acc(train)=9.39e-01, error(valid)=1.20e+00, acc(valid)=8.08e-01\n"
>>>>>>> afb40114e9f11e8f8e95443222c7707024fbb52d
     ]
    },
    {
     "data": {
<<<<<<< HEAD
      "application/vnd.jupyter.widget-view+json": {
       "model_id": "98515a9aa33e451cacf8b837d9c7eb55",
       "version_major": 2,
       "version_minor": 0
      },
=======
>>>>>>> afb40114e9f11e8f8e95443222c7707024fbb52d
      "text/plain": [
       "HBox(children=(IntProgress(value=0, max=1000), HTML(value='')))"
      ]
     },
     "metadata": {},
     "output_type": "display_data"
    },
    {
<<<<<<< HEAD
     "name": "stdout",
     "output_type": "stream",
     "text": [
      "\n"
     ]
    },
    {
     "name": "stderr",
     "output_type": "stream",
     "text": [
      "Epoch 90: 2.9s to complete\n",
      "    error(train)=4.58e-01, acc(train)=8.43e-01, error(valid)=6.44e-01, acc(valid)=7.98e-01\n"
=======
     "name": "stderr",
     "output_type": "stream",
     "text": [
      "Epoch 98: 7.3s to complete\n",
      "    error(train)=1.43e-01, acc(train)=9.41e-01, error(valid)=1.20e+00, acc(valid)=8.10e-01\n"
>>>>>>> afb40114e9f11e8f8e95443222c7707024fbb52d
     ]
    },
    {
     "data": {
<<<<<<< HEAD
      "application/vnd.jupyter.widget-view+json": {
       "model_id": "20bbc0fa4fad45438a888bd97765211f",
       "version_major": 2,
       "version_minor": 0
      },
=======
>>>>>>> afb40114e9f11e8f8e95443222c7707024fbb52d
      "text/plain": [
       "HBox(children=(IntProgress(value=0, max=1000), HTML(value='')))"
      ]
     },
     "metadata": {},
     "output_type": "display_data"
    },
    {
<<<<<<< HEAD
     "name": "stdout",
     "output_type": "stream",
     "text": [
      "\n"
     ]
    },
    {
     "name": "stderr",
     "output_type": "stream",
     "text": [
      "Epoch 91: 6.2s to complete\n",
      "    error(train)=4.54e-01, acc(train)=8.42e-01, error(valid)=6.34e-01, acc(valid)=8.00e-01\n"
=======
     "name": "stderr",
     "output_type": "stream",
     "text": [
      "Epoch 99: 8.3s to complete\n",
      "    error(train)=1.35e-01, acc(train)=9.44e-01, error(valid)=1.18e+00, acc(valid)=8.14e-01\n"
>>>>>>> afb40114e9f11e8f8e95443222c7707024fbb52d
     ]
    },
    {
     "data": {
<<<<<<< HEAD
      "application/vnd.jupyter.widget-view+json": {
       "model_id": "30f596de9050414fa5e61249b7228e7f",
       "version_major": 2,
       "version_minor": 0
      },
=======
>>>>>>> afb40114e9f11e8f8e95443222c7707024fbb52d
      "text/plain": [
       "HBox(children=(IntProgress(value=0, max=1000), HTML(value='')))"
      ]
     },
     "metadata": {},
     "output_type": "display_data"
    },
    {
<<<<<<< HEAD
     "name": "stdout",
     "output_type": "stream",
     "text": [
      "\n"
     ]
    },
    {
     "name": "stderr",
     "output_type": "stream",
     "text": [
      "Epoch 92: 3.5s to complete\n",
      "    error(train)=4.60e-01, acc(train)=8.41e-01, error(valid)=6.45e-01, acc(valid)=7.99e-01\n"
=======
     "name": "stderr",
     "output_type": "stream",
     "text": [
      "Epoch 100: 11.1s to complete\n",
      "    error(train)=1.46e-01, acc(train)=9.40e-01, error(valid)=1.24e+00, acc(valid)=8.08e-01\n"
     ]
    },
    {
     "name": "stdout",
     "output_type": "stream",
     "text": [
      "\n"
>>>>>>> afb40114e9f11e8f8e95443222c7707024fbb52d
     ]
    },
    {
     "data": {
<<<<<<< HEAD
      "application/vnd.jupyter.widget-view+json": {
       "model_id": "77dddbe442f645d3b7395a14a0e87919",
       "version_major": 2,
       "version_minor": 0
      },
      "text/plain": [
       "HBox(children=(IntProgress(value=0, max=1000), HTML(value='')))"
      ]
     },
     "metadata": {},
     "output_type": "display_data"
    },
    {
     "name": "stdout",
     "output_type": "stream",
     "text": [
      "\n"
     ]
    },
    {
     "name": "stderr",
     "output_type": "stream",
     "text": [
      "Epoch 93: 10.4s to complete\n",
      "    error(train)=4.49e-01, acc(train)=8.47e-01, error(valid)=6.36e-01, acc(valid)=8.02e-01\n"
     ]
    },
    {
     "data": {
      "application/vnd.jupyter.widget-view+json": {
       "model_id": "c54fa14d0d284d5c98b3c88d54bb211f",
       "version_major": 2,
       "version_minor": 0
      },
      "text/plain": [
       "HBox(children=(IntProgress(value=0, max=1000), HTML(value='')))"
      ]
     },
     "metadata": {},
     "output_type": "display_data"
    },
    {
     "name": "stdout",
     "output_type": "stream",
     "text": [
      "\n"
     ]
    },
    {
     "name": "stderr",
     "output_type": "stream",
     "text": [
      "Epoch 94: 5.1s to complete\n",
      "    error(train)=4.43e-01, acc(train)=8.49e-01, error(valid)=6.35e-01, acc(valid)=8.04e-01\n"
     ]
    },
    {
     "data": {
      "application/vnd.jupyter.widget-view+json": {
       "model_id": "62170aabaa484e11ac9c23733eee2145",
       "version_major": 2,
       "version_minor": 0
      },
      "text/plain": [
       "HBox(children=(IntProgress(value=0, max=1000), HTML(value='')))"
      ]
     },
     "metadata": {},
     "output_type": "display_data"
    },
    {
     "name": "stdout",
     "output_type": "stream",
     "text": [
      "\n"
     ]
    },
    {
     "name": "stderr",
     "output_type": "stream",
     "text": [
      "Epoch 95: 3.4s to complete\n",
      "    error(train)=4.60e-01, acc(train)=8.42e-01, error(valid)=6.49e-01, acc(valid)=7.99e-01\n"
     ]
    },
    {
     "data": {
      "application/vnd.jupyter.widget-view+json": {
       "model_id": "b42235f4a78a4b73ba215f880c9d4485",
       "version_major": 2,
       "version_minor": 0
      },
      "text/plain": [
       "HBox(children=(IntProgress(value=0, max=1000), HTML(value='')))"
      ]
     },
     "metadata": {},
     "output_type": "display_data"
    },
    {
     "name": "stdout",
     "output_type": "stream",
     "text": [
      "\n"
     ]
    },
    {
     "name": "stderr",
     "output_type": "stream",
     "text": [
      "Epoch 96: 4.4s to complete\n",
      "    error(train)=4.54e-01, acc(train)=8.45e-01, error(valid)=6.43e-01, acc(valid)=8.02e-01\n"
     ]
    },
    {
     "data": {
      "application/vnd.jupyter.widget-view+json": {
       "model_id": "80adfa37f7d84148ba1a8bfc4def615a",
       "version_major": 2,
       "version_minor": 0
      },
      "text/plain": [
       "HBox(children=(IntProgress(value=0, max=1000), HTML(value='')))"
      ]
     },
     "metadata": {},
     "output_type": "display_data"
    },
    {
     "name": "stdout",
     "output_type": "stream",
     "text": [
      "\n"
     ]
    },
    {
     "name": "stderr",
     "output_type": "stream",
     "text": [
      "Epoch 97: 3.5s to complete\n",
      "    error(train)=4.69e-01, acc(train)=8.39e-01, error(valid)=6.59e-01, acc(valid)=7.97e-01\n"
     ]
    },
    {
     "data": {
      "application/vnd.jupyter.widget-view+json": {
       "model_id": "08ebd172712b4be982e55158feb151cd",
       "version_major": 2,
       "version_minor": 0
      },
      "text/plain": [
       "HBox(children=(IntProgress(value=0, max=1000), HTML(value='')))"
      ]
     },
     "metadata": {},
     "output_type": "display_data"
    },
    {
     "name": "stdout",
     "output_type": "stream",
     "text": [
      "\n"
     ]
    },
    {
     "name": "stderr",
     "output_type": "stream",
     "text": [
      "Epoch 98: 7.8s to complete\n",
      "    error(train)=4.52e-01, acc(train)=8.45e-01, error(valid)=6.43e-01, acc(valid)=8.00e-01\n"
     ]
    },
    {
     "data": {
      "application/vnd.jupyter.widget-view+json": {
       "model_id": "329e79604e5a40e0bcaa608d800301b8",
       "version_major": 2,
       "version_minor": 0
      },
      "text/plain": [
       "HBox(children=(IntProgress(value=0, max=1000), HTML(value='')))"
      ]
     },
     "metadata": {},
     "output_type": "display_data"
    },
    {
     "name": "stdout",
     "output_type": "stream",
     "text": [
      "\n"
     ]
    },
    {
     "name": "stderr",
     "output_type": "stream",
     "text": [
      "Epoch 99: 3.6s to complete\n",
      "    error(train)=4.53e-01, acc(train)=8.42e-01, error(valid)=6.46e-01, acc(valid)=7.96e-01\n"
     ]
    },
    {
     "data": {
      "application/vnd.jupyter.widget-view+json": {
       "model_id": "a08020c84b1b48e1b2039080282c2ddf",
       "version_major": 2,
       "version_minor": 0
      },
      "text/plain": [
       "HBox(children=(IntProgress(value=0, max=1000), HTML(value='')))"
      ]
     },
     "metadata": {},
     "output_type": "display_data"
    },
    {
     "name": "stdout",
     "output_type": "stream",
     "text": [
      "\n"
     ]
    },
    {
     "name": "stderr",
     "output_type": "stream",
     "text": [
      "Epoch 100: 3.5s to complete\n",
      "    error(train)=4.54e-01, acc(train)=8.47e-01, error(valid)=6.51e-01, acc(valid)=8.01e-01\n"
     ]
    },
    {
     "name": "stdout",
     "output_type": "stream",
     "text": [
      "\n"
     ]
    },
    {
     "data": {
      "image/png": "iVBORw0KGgoAAAANSUhEUgAAAeMAAAEJCAYAAACnqE/cAAAABHNCSVQICAgIfAhkiAAAAAlwSFlzAAALEgAACxIB0t1+/AAAADh0RVh0U29mdHdhcmUAbWF0cGxvdGxpYiB2ZXJzaW9uMy4xLjEsIGh0dHA6Ly9tYXRwbG90bGliLm9yZy8QZhcZAAAgAElEQVR4nOzdd5hU1fnA8e+9M7uzbbaxvdA7iCBIsYFiD2qMegXjL9EYURM1dkWNGg127C32GKNyjQ0VFbAiIIJ0kd522cL22TazM3PP74+BlS2wuzDb38/z+IS5c+6dd05m551z7imaUgohhBBCtB+9vQMQQgghujtJxkIIIUQ7k2QshBBCtDNJxkIIIUQ7k2QshBBCtDN7O762DOMWQgjRHWn1D7RnMiYnJ+eQz01ISKCwsDCI0XRPUo/BIfUYHFKPwSH1GBytUY9paWmNHpduaiGEEKKdSTIWQggh2pkkYyGEEKKdtes9YyGEEG1DKYXb7cayLDStwfgh0Yj8/Hw8Hk+Lz1NKoes6YWFhza5rScZCCNENuN1uQkJCsNvla7+57HY7NpvtkM71+Xy43W7Cw8ObVV66qYUQohuwLEsScRuy2+1YltXs8pKMhRCiG5Cu6bbXkjrvEsk4t7yGN1cVUFDpbe9QhBBCiBbrEsm4qMrHuz8XkVNe096hCCGEEC3WJZKx0xbol3dVuts5EiGEEO3ppZde4t133wVg9uzZ5OXltfgab7zxRu01DuSXX37huuuuO6QYG9M1knH2ZgBcefntHIkQQojD4ff7D/r4QHw+Hz6fj9mzZ3PuuecC8O6775Kf33heONh1//CHP3DBBRcc9PWGDBlCbm4uu3fvblZ8TekSQ+uioiMBi/JK6aYWQoimWO+8hMraHtRrapl90Kde3mS59957j1dffZWamhpGjRrFAw88wODBg5k+fTrffvstd911F9dccw1Tp07l22+/5dJLL6Vfv37cdtttuN1uevXqxaxZs4iNjeX8889n9OjRLF++nFNOOYUhQ4YwfPhw7HY7n3zyCatXr+bqq68mLCyMOXPmMGnSpDrXraio4L///S81NTX06dOHp556ivDwcGbNmkVkZCRXX301559/PqNGjWLx4sWUlZUxa9Ysxo0bB8App5zCRx99xF/+8pfDrr8u0TIOcUYT4avG5fa1dyhCCCEOYPPmzcyZM4cPP/yQ+fPnY7PZeP/996mqqmLQoEF88sknjB07FgCHw8GHH37IOeecw3XXXccdd9zBggULGDx4MI899ljtNV0uF++99x5XXnkly5YtY8SIEQBMmTKFI488kmeeeYb58+fXzvfd/7pnnHEGc+fOZcGCBfTv35+333670bh9Ph+ffvop//jHP+q89pFHHsnSpUuDUjddomVMpBOndyvlNV3j7QghRGtqTgu2NXz//fesXbuWM888EwgsRJKQkIDNZuM3v/lNnbJnn302EEi2ZWVlTJgwAYALLriAK664okE5gD179jBgwICDxrB/+Y0bN/Lwww/jcrmorKxk4sSJjZ6zL94RI0aQnZ1de7xHjx4H7AZvqa6RvcIjiPJVUe51tnckQgghDkApxQUXXMCMGTPqHH/hhRcarHQVERHRrGvuXy4sLAy3++ADefcvf/311/PKK68wbNgwZs+ezZIlSxo9JzQ0FACbzYbP92sPrMfjISwsrFlxNqVLdFNrmobTqqHc3yXejhBCdEnHHXccn3zySe0ewSUlJXVamo2Jjo4mJiamtjv4vffeY/z48Y2W7d+/Pzt27Kh9HBkZSUVFxQGvXVFRQXJyMl6vlw8++KCF7wa2bdvGoEGDWnxeY5psGRuG8SowBdhjmubwRp4fDLwGHAXcYZrmo0GJrIWi8ZKrDm0NUSGEEK1v4MCB3HLLLUybNg2lFHa7nZkzZzZ53hNPPFE7gKtnz5517tvu76STTuLaa6+tfWwYBrfddlvtAK76br75ZqZMmUJGRgaDBw8+aOJuzOLFi5k8eXKLzjkQTSl10AKGYZwAVABvHCAZJwG9gN8CJS1IxionJ6eF4f4qISGh9tcVwIsvvMfXkQN4+/9GHPI1u6P69SgOjdRjcEg9Bkdj9VhVVdXsrt/O7LLLLuOOO+6gb9++h30tu91ep1t6fx6Ph/POO48PP/zwgGt+N1bnaWlpAA3WyWyyX9c0ze+A4oM8v8c0zWVAu65F6bQpqvRQfNbBf1wIIYToumbMmMGePXta/XV2797N7bffHrTNN9p0AJdhGNOB6QCmaZKQkHDI17Lb7XXOj48I3GAPiYyhR2To4QXajdSvR3FopB6DQ+oxOBqrx/z8/G6xa9PgwYODer0D1dnAgQMZOHDgQc91OBzN/jy36f8zpmm+CLy496E6nO6o+t0w4boCC3bmFqBiHYcXaDci3YLBIfUYHFKPwdFYPXo8nkPem7e7Olg3dXN4PJ4G/z/s7aZuoMsMP3aGhwDgqvK0cyRCCCFEy3SdZLy3m7rcVdnOkQghhBAt05ypTW8Dk4AEwzCygbuBEADTNF8wDCMFWA5EA5ZhGNcBQ03TdLVa1I2IjgqHAnCVV7flywohhBCHrclkbJrmtCaezwMyghbRIYqOjgSgvEq2URRCiO7qpZdeIjY2tsldlxpz3XXXcfLJJzNlyhRuuukmrrrqKvr161enzOzZs1mzZg0zZ87ktddeIyIiggsvvPCw4+4y3dQOp5NQv5fyatm5SQghOqtgbqF4OB599NEmV9eaOnUqr7zyymG/FnSVtakBopw4vQW43CHtHYkQQnRoLy/PZ3tJcHsR+8SF8ecxyU2Wa6stFDdv3sx1113Hp59+CkBWVhaXXnopCxYs4PHHH2f+/Pm43W7GjBnDQw89hKbVXYfj/PPP55577mH48OHMnj2bp59+muTkZPr27Vu7VnV4eDiZmZmsXLmSUaNGHVb9dZmWMZFROH1VlHut9o5ECCFEI9pyC8UBAwZQU1PDzp07AZgzZw5TpkwB4JJLLmHu3Ll89dVXVFdXM3/+/APGnJ+fz6OPPspHH33E22+/zaZNm+o8P2LEiKBso9h1WsaOcJy+asp9snOTEEIcTHNasK2hrbdQPOuss/j444+5+uqrmTNnDs8//zwQWFP6+eefp7q6mtLSUgYNGsSpp57aaMwrV65kwoQJ9OjRo/b1tm3bVvt8QkICW7ZsOeQ62afLJGNN03CqGnbKzk1CCNEhtfUWimeffTZXXHEFZ5xxBpqm0bdvX9xuN7fffjtz584lPT2dWbNm4fEcfH2K+l3Y+wvWNopdKnM58eJSXeb3hRBCdCltvYVi7969sdlsPPHEE7Ut6H2JNz4+nsrKytp7ygcyatQolixZQnFxMV6vl08++aTO89u2bQvKEpxdKnM5bYpKLQRLKfSD/JIRQgjR9tp6C0UItI7vu+8+fvjhBwBiYmK46KKLOPnkk8nIyODII4886GsnJydz4403cvbZZ5OcnMwRRxxRZ4T3smXLuOGGG5p8D01pcgvFVhTULRQBPnzpHV6LGMmb5w/A6ZA1WJtD1gIODqnH4JB6DA7ZQrH1t1AEWLduHf/61794+umnG30+qFsodibRoYG34/I0b16aEEKIrqWttlAEKC4u5pZbbgnKtbpWN3WYHXxQLslYCCHqaMde0DbVv39/+vfv3yavdcIJJxz0+ZbUeZdqGTvD9u3cJEtiCiHE/nRdP6ztAEXL+Hw+dL35KbZrtYyjwqECysurgLj2DkcIITqMfdN+PB7PQafqiF85HI4mpz01RimFrustmvLUpZJxTFQ4IDs3CSFEfZqmER4e3t5hdCptOaCwSyXjCGcUNstPeZUsiSmEEKLz6FL3jLUoJ1G+KsrdsnOTEEKIzqNLJWOinER7K3F5pGUshBCi8+hayTjSidNbRbm3ewzhF0II0TV0rWQc6iDKX025X0YKCiGE6Dy6VDIO7Nzko9ySpTCFEEJ0Hk2OpjYM41VgCrDHNM3hjTyvAU8CZwJVwCWmaa4IdqDNFa37KCcEpZTMpRNCCNEpNKdl/Dpw+kGePwMYsPe/6cDzhx/WoXPaFD5Np9ong7iEEEJ0Dk0mY9M0vwOKD1LkHOAN0zSVaZo/ALGGYaQGK8CWcoYEWsOyPrUQQojOIhiLfqQDWfs9zt57LLd+QcMwphNoPWOaJgkJCYf8ona7vdHze0SFgQV6uJOEBOchX7+7OFA9ipaRegwOqcfgkHoMjrasx2Ak48ZuzDY6t8g0zReBF/eVOZxlxg60TFmYTYEFWflFJNpavqZodyP7xwaH1GNwSD0Gh9RjcLRGPe7dz7iBYIymzgYy93ucAeQE4bqHxBkRCoCrUhKxEEKIziEYLeM5wNWGYbwDjAPKTNNs0EXdVpyR4VC2b+emHu0VhhBCCNFszZna9DYwCUgwDCMbuBsIATBN8wVgLoFpTVsITG26tLWCbQ6nMxJNWZRXyp7GQgghOocmk7FpmtOaeF4Bfw1aRIfJ5nQS6XNTXi1LYgohhOgcutQKXABERgXWp3b72jsSIYQQolm6XjKOcOL0VuKqkUU/hBBCdA5dLxlHOXH6qiiXhrEQQohOosslYy3UgdPvptzf5d6aEEKILqpLZiwnPlwqGLO2hBBCiNbXNZOx7sej2ajxy31jIYQQHV/XTMYhgf+VzSKEEEJ0Bl00GcvOTUIIITqPLpmMox2B+8UuScZCCCE6ga6ZjMMD/dSl1TK/SQghRMfXJZNxSpQdTVnklFa1dyhCCCFEk7pkMnZERZHkLiGruLq9QxFCCCGa1CWTsRbpJLMynyxXTXuHIoQQQjSpSyZjopxkVOWzu1rht2T3JiGEEB1b10zGkdFkVu7BpzRyK6R1LIQQomPrmsm4RyIZVfkAZJVJMhZCCNGxdclkrIWFk2H3ApBV5mnnaIQQQoiD65LJGCA8MYFEX7m0jIUQQnR4XTYZa0lpgRHV0jIWQgjRwXXZZExSKhmu3WSXeWREtRBCiA6tWZv+GoZxOvAkYANeNk3zwXrP9wJeBRKBYuBi0zSzgxxriwRaxuvxWrCn0kuqM7Q9wxFCCCEOqMmWsWEYNuBZ4AxgKDDNMIyh9Yo9CrxhmuYI4F7ggWAH2mLJqWRWBkZU75KuaiGEEB1Yc7qpxwJbTNPcZppmDfAOcE69MkOBL/f+++tGnm97ialkVO0BZHqTEEKIjq053dTpQNZ+j7OBcfXKrAbOI9CVfS7gNAyjh2maRfsXMgxjOjAdwDRNEhISDjVu7HZ70+fHOEnAzR43h/VaXVmz6lE0SeoxOKQeg0PqMTjash6bk4y1Ro7VHxF1E/CMYRiXAN8Bu4EG+xeapvki8OK+axQWFjY/0noSEhJo6nwrIYWM6kK27Ilpsmx31Zx6FE2TegwOqcfgkHoMjtaox7S0tEaPNycZZwOZ+z3OAHL2L2CaZg7wOwDDMKKA80zTLDukSINIS04js3A3X0RlYimFrjX2u0IIIYRoX81JxsuAAYZh9CHQ4p0KXLR/AcMwEoBi0zQtYAaBkdXtLymVjC2/UJM8joJKL8lRMqJaCCFEx9PkAC7TNH3A1cAXwC+BQ+bPhmHcaxjG2XuLTQI2GoaxCUgGZrZSvC2yb+EPgF2lMohLCCFEx9Ssecamac4F5tY7dtd+//4f8L/ghhYESalk1m4Y4eHojKh2DkgIIYRoqOuuwAWQmEqkz028VkOWS+YaCyGE6Ji6dDLWHA6ISyDT55K5xkIIITqsLp2MgcAgrqrAhhFKyRrVQgghOp4un4y1pFQyinbi9ikKKhtMfRZCCCHaXZdPxiSn0bNkB4BspyiEEKJD6vLJWEtKI2Pv9KbtJZKMhRBCdDxdPhmTlIbTV02vUC9r8ivbOxohhBCiga6fjBOTARhBCb8UVFPjt9o5ICGEEKKuLp+MtVAHxCcwomInNX7FhoLq9g5JCCGEqKPLJ2MAktIYmrcemwar86raOxohhBCijm6RjLWkNMLzdzEwIZzVeXLfWAghRMfSLZIxyalQWc6IeDtbi91UePztHZEQQghRq1skYy0pFYAjQyqwFKzdI13VQgghOo5ukYxJSgOgf1UuYXaN1bnSVS2EEKLj6B7JODEVQkIJ2bWVYUkRrMmXlrEQQoiOo1skYy0kBPoOQm1ay5Epkex21VBY5W3vsIQQQgigmyRjAG3QEZC1nRExgcdrZIqTEEKIDqJ7JWOl6Jm/iZgwm9w3FkII0WF0m2RMn4EQEoq2aR0jkiNYnVcp+xsLIYToEOzNKWQYxunAk4ANeNk0zQfrPd8T+DcQu7fMbaZpzg1yrIdFCwmBfoNRG9Zy5OjzWbiznCxXDT1jHO0dmhBCiG6uyZaxYRg24FngDGAoMM0wjKH1it0JmKZpjgKmAs8FO9Bg0AYdAbt3cER0oEU8d2MJXr+0joUQQrSv5nRTjwW2mKa5zTTNGuAd4Jx6ZRQQvfffMUBO8EIMnn33jZN3b2RS72g+21zKtZ9uY/nuCumyFkII0W6a002dDmTt9zgbGFevzD3APMMwrgEigZMbu5BhGNOB6QCmaZKQkNDSeGvZ7fYWn69ixrMn1IFj52Zm/nkKS3YU89R327nvm2zG94rjppP6kRoddsgxdUaHUo+iIanH4JB6DA6px+Boy3psTjLWGjlWvxk5DXjdNM1ZhmFMAP5jGMZw0zTrbB5smuaLwIv7rlFYWNjigPdJSEjgkM7vN5jq1cuoKSxkQBQ8dlpP5m4q4a01hTzwxS/cdWLmIcfUGR1yPYo6pB6DQ+oxOKQeg6M16jEtLa3R483pps4G9s9QGTTshr4MMAFM01wChAEd8meZNugIyN6BKncBEGLTOGdIPKf1j2F1XhVVXtlEQgghRNtqTjJeBgwwDKOPYRihBAZozalXZhcwGcAwjCEEknFBMAMNFm3QEYF/bF5X5/i4DCc+S7EyR+YfCyGEaFtNJmPTNH3A1cAXwC+BQ+bPhmHcaxjG2XuL3QhcbhjGauBt4BLTNDvmiKje/SHUgdpYNxkPTgwn2mHjh+yKdgpMCCFEd9WsecZ75wzPrXfsrv3+vR44NrihtQ7NHgL9h6A2rq1z3KZrHJ0exQ9Z5fgshV1v7Fa5EEIIEXzdZwWu/QTmG+9ElZfVOT4uM4pKr8U62dVJCCFEG+q+yRhg0891jo9MiSTUprE0u7wdohJCCNFddctkTK/+EB6J9eUclP/X0dMOu86o1EiWZssiIEIIIdpOt0zGmt2ONm06bF6P+vjtOs+Nz3RSVOVja7GnnaITQgjR3XTLZAygTzgR7djJqLnvotavqj0+Jj0KXUO6qoUQQrSZbpuMAbRpV0BKBtYrj6HKSgCIdtgYmhjO0iyZ4iSEEKJtdO9k7AhDv+JWcFdhvTwLZQXuH4/LdLKzzENueU07RyiEEKI76NbJGEBL74k2dTpsWIOaH1hYbFxGFAA/HmQBEL+lcPusAz4vhBBCNFe3T8YA2nGnwKAjUN99jlKK5KhQ+sU7eHddIUuyGt473lHi5sbPd3DFR1txeWQtayGEEIdHkjGgaRra2ONhTy5k7wDgxmPTSYoK5cHvdvP0D7lUef34LcV7Pxdx4+c7KK724fL4eXNVh1yCWwghRCfSrOUwuwNt5HjUmy+gflqEltmH9OhQHjq1F7PXFvLe+iLW5VcRE2ZnY2E1EzKd/GVsMu/+XMTHG0o4pX8MA3qEt/dbEEII0UlJy3gvLToWBg5DrVhSeyzEpnHxyERmntwTS0F2mYfrj0nl1uPTiA6zM21EArFhNv61LB9LFgkRQghxiCQZ70cbfQzkZqFydtU5PjQpgmfP6sNLv+3HpD4xaFpgE4mIEBuXHJXE5iI3C7aWNXZJIYQQokmSjPejjRoPmob6aXGD50JtOpGhtgbHJ/aOZlhSOG+s3CODuYQQQhwSScb70WJ7QL8hqBUNk/EBz9E0rjg6hUqvJYO5hBBCHBJJxvVooydA9g5U3u5mn9Mr1sFvBsUxb0spu0plTWshhBAtI8m4Hm3UMQAtah0DGMN64LDrvLO2sDXCEkII0YVJMq5H65EIfQY2et/4YKLD7EwZFMfiXeXslNaxEEKIFpBk3Aht9LGwayuqIK9F550zJJ4wu87sQ2gdF1V5ufGzHY2u+CWEEKJrk2TcCO2oCQB15hw3R7TDxpRBcSxqYevYUoonl+SypdjNv5blU+2VNa+FEKI7adYKXIZhnA48CdiAl03TfLDe848DJ+59GAEkmaYZG8xA25KWmAK9B6C+eB81Ygxaamazzz1nSDyfbirhnbWF3Hp8eu3xKq+fVbmVHJ0eRYit7m+gORuKWZ1XxekDYvl8cyn/+7mI/xuZGLT3I4QQomNrsmVsGIYNeBY4AxgKTDMMY+j+ZUzTvN40zZGmaY4Engbeb41g25L+p+tA07AevaPBIiAH49zbOl68q5wdJW68fsUnG4u54qNtPLQwh9vn76Kwyltbfluxm/+sKmB8ZhRXHp3MxN7RfPRLMfkVsn2jEEJ0F83pph4LbDFNc5tpmjXAO8A5Byk/DXg7GMG1Jy01E/2m+39NyLubn5DPGRxPRIjOs0vzuPqTbby0fA+9Yh38eXQSu8pquGHuDtbkVeLxWcxalEO0w85fx6WiaRp/GJWIrsHrK2XOshBCdBfN6aZOB7L2e5wNjGusoGEYvYA+wFcHeH46MB3ANE0SEhJaFOz+7Hb7YZ3fLAkJ+GY+R8nfr0E9difOK2/GKivFn7ML3+5d6LFxRF99R+3ymLWnAVOPcvPq0iz69ojg0ckDGN8rDk3TOGloBrd/+gt3f5XF4GQn2a4anjh3OH3TY2vPvfhoL6/8sIssdwijMmJa9S22ST12A1KPwSH1GBxSj8HRlvXYnGSsNXLsQLsiTAX+Z5pmo+tCmqb5IvDivmsUFh76nNyEhAQO5/xmc0TCDfeiHr2TsofvCBwLdUBsPKxYQs3Q0WhHHt3gtN/0jaCfsydDEsOx6RZFRUUARAIPnJzBMz/ksWhXOb8dEk+fCF+d93JarzA+WmNn1lebmHV6b2x6Y/8XBEeb1WMXJ/UYHFKPwSH1GBytUY9paWmNHm9OMs4G9h/BlAHkHKDsVOCvLYqsE9BSMtDvfhJ274SktEAitiysu/6C9fHb6CPGNGgd23WN4ckRjV4vIsTGzcelcW6xm75xYQ2ed9h1/jgqiVmLcvjfz0UYw3s0uL4QQoiuoznJeBkwwDCMPsBuAgn3ovqFDMMYBMQBLZsP1ElozhgYPOLXA7qO9hsD9fpTsGYZHDm2ZdfTtIPugXx8Lyc/ZDl5a00heyq9XHl0coNR2EIIIbqGJr/dTdP0AVcDXwC/BA6ZPxuGca9hGGfvV3Qa8I5pmt1mY19t3CRITMGa8zYqyPsZa5rGTcelceERPViwtYw7F2RRWu0L6msIIYToGLRgJ5EWUDk5B+rtblpHuSdiLfoS9fqT6FffidbC1nFzLdrp4okluTgdNu6cmEHf+IZd24fqcOpRKcX8rWUckRxBqjM0aDF1Rh3l89jZST0Gh9RjcLTiPeMG9x2l3/MwaeMntVrreJ9je0Xz0Km9ALjzy11sLqpulddpzMHe0ztrC3l2aR7P/JDbZvEIIURXJMn4MGk2G9pvLoRdW2H1j632On3jw3jwlF5Ehti4+6usVk/IHp/Ff1cXMM3czH9WFeC36iblBVtLeWdtEanOENbtqebnPVWtGo8QQnRlkoyDoLZ1/HHrtY4BkqJCmHlyT6JCbdz9ZRabCoOfkJVS/JBVztWfbMNcV0RadAj/+7mIe77KotQduGe9IqeCZ5fmMTIlgsfO6E1MmI131xUFPRYhhOguJBkHgWazoU25EHZtg5WtO5i8NiE7Ai3ktfmVjZYrrfbxwo953DZvJ7PXFrKjxN3kD4XCKi/3fp3NA9/tJjzExv0n9+SxM/pwzfgUNhRWc/3cHczbUspDC3PoGePg1hPSiQixcc7geFbmVjartf7dDhez1xbi9XebcX5CdDplbl+D3jDRumz33HNPe732PeXlh75dYEREBFVVHahrNK0Xavki1Ma1aBNPR9Na73dOZKiN8ZlOFu0qZ86GEtbkVRIZYiPNGYrPUnzwSzEPL8xhU1E1UaE2Fu4s57PNpXy93UVxtY/ecQ7C7IH49tXjmrxK7v4qi7yKGi4ZlcQ141NJ3jsoq298GGPSovghq5yvt7uICbMx8+SexIQFZsb1jnPwxeZSCip9HN87+oBxby12889vslidV8XqvCpGpkYSGWprtXpqSx3u89hJST0Gx+HUY0GllyvnbEPTYFhS42sldEblHj8en4XD3vzv5tb4PDqdToB/1D8uyThINF1Hi4lFfTMXktLQMvu06utFhtqY3C+G2DA7q3Kr+GJLKd/scPHpxhKWZFUwOi2SGRMzuGB4AqcNiCU9OhSXx8832118tqkUSyn6xYcRHRXBf3/K5skluSREhHDv5J4cneFEr7fISFy4nRP7xmDXNS4ZlUTKfqOnQ2w6Xr/i8y2lTMiMIja84fR1t8/inq+ysGsafxqdxNfbXczfWkbvWEeXGInd0T6PnZXUY3AcTj3+Z1UBGwrd7HbVcNaguAbfBZ1RUZWXGz7fwdxNJYzPdBLlaF4joC2TsUxtCiJlWVgzb4CqSvT7nkOzh7TJ6/otxY/ZFXyysRi/gotGJDAiJbLRstkuD2+uKmBJVgWxYTb6JzpZnlXKMT2dXDM+hYiQQ2uplnv8XP7hVsakR3LTcekNnn9uaR7ztpRy7+RMRqREku3y8PB3Oewq8zB1RAIXdqBVxhbtdFFY5eP0AbHN/hXdET+PnZHUY3Acaj0WVnm54qNtpESFkO2q4fYT0hmX6WyFCNtOldfPjHm7yK/wYtcDDZkHT+1FXCONhvpi4+IpLSkOajwHmtokLeMg0jQNLT4R9fWnEBuP1ntAm7yurmlkxjiY3C+Wk/vFkhx14JZmtMPOcb2iGZUaybZiN+vyKrjkqEQuOyqJ0MNY4cth16n0+pm3pYzjejuJdvz6QV+SVc6/Vxbwu6HxnDYgrjaOk/rGUFjl5eONJZS6/YxOi2zXhOy3FK+t2MOrKwpYmVvJgm1lOGwafeLCmmwddMTPY2ck9Xj4thW7+XRjCWmReu3tqAklyjIAACAASURBVOZ6c1UBW4rcPHRaLxbtKqe42sfEPi3brCa/oobPNpWwOq+SzGgHYSFtMzRpV5kHS0H4fq/n9Svu/zabLUVu7piUweR+sczdVMKK3EqO6xXd6Heey+Pn+50u3lpTyDOLdnLmwFjsQdwf4EAt4+YshylaYvhR0H8o6hMTdcxktFBHe0fUqMGJ4dx/Sk/Co+Nwl5cG5ZrnDInnk40l3PrFTo5MiWRUaiS94xw8+0Mu/eLDuGhEYp3yDrvO3yakEh9u5731xVTVWPztmNQ6H3xLKfLKvVR6/VR5Laq8FhowJj3qoH8gJdU+tha72VbiZnuJB6UU4SE2wkN0Iuw6veMcjNrvnnW5x88j3+9mdV4VvxkUx4TMKP67upAXluXz0YZiLh2V1OwWgqUU2a4aMqNDO0xrX7Sf4mofzlAbIbbW/yzsWyCoxq/4YI2NP49O4oTe0c36HBZVefliSxkn9Y0h1RnKKf1ieHddEXsqvCRFHbyXr6LGz8IdLr7Z7mLD3lkeugYfri/mzIFxnDs0vnaMyT5KqQPG5bMUK3MqGZES0azeqa+2lfH0D7lowPhMJ78ZGMeQpHCeXZrL6rwqrh2fwsjUQG/hbSekM/PbbGZ+k809J2VS7bPYWuRma4mbtXlVrNtThaUgMcLOaYOT8PgVjjbIlNJN3QrUpnVYj9yOdv6l6Ked297hHFSw6/HnPVUs2FrGytxKSvYu3+mwaTx2Zm8yog/8w+R/Pxfxn1UFjEmL5Jbj08kqq2HhThcLd7ooqmq4DGi/eAfXTUijZ+yv17SU4tvtLt5eW0h+hbf2eEpUCKE2jSqvRbXPotprYSmwaTA0KYKRqZHM31JKYZWPq8Ymc3K/wHaWSil+yqnkjZUF7Crz8PdJGYxOj2o0/n316PFZPL44lyVZ5ZzYJ5qrxqa0aMBIc3l8VoNWQEd0sC/c/VlKkV/hJdIZQzRtt6jN4VJK4fGrRlugbp/F6yv28NnmUsLsOiNTIxidFsXotEh6RBw4uS3NLifcrh/wVlNjLKUw1xbx9tpCBieE89eJ/Xj6my1sKnIzJi2SK8emkBh58IT64vJ8Pt9UwvNn9yU5KpQ9FV6mf7SVC4b34PdHJh7wvFK3j9vm7SS33EvPmFAm9o7hhN7ReC2FubaQ73a6CLVpjEmPosLjp7DKR1GVD7sOV45N4bhedQd9utw+Hlq4m3V7qsmIDuW6Y1IPuo7/R78U8+qKPYxIiaBPrIMF28qorLHoEW6nqNrHtBEJTD2i7jaIC3e4mLUohzC7TrXPqj2eGRPK+AwnE3o66RvnIDExsc1W4JJk3Er8T9wN2zahHTsZevVH690/MLBL71hfnq1Vj0opdpXVsCq3kl6xjtpfpQfz2aYS/rUsv/YPxK7DqNRIxmY4iQuzExGiEx6is9tVw4vL86n2Wlw8MoGzBsWzpdjNy8vz2VTkpn98GBP7RNMvLow+8Y4G98H9lmJTUTXLd1eybHcFO0s9xIXZuO2EDAYnNvyjd/ssbpu3k/wKL4+c1ouMmIY/KhISEtiUlVfbJTY+M4olWRX0iw9jxgnpTX4RtsS6/CoeW5yDTYOHT+vd6L0vpRRVXuuQRqv7LcXa/CpW5lYyLCmco9OjWtzCL6j08vjiHGr8ittOSCehkeSzq8zDvC2lbCt2s63YU/ulePGRCZw/rG3GEGwoqKaipuW3SHLLa1i4w8V3O11kldUwMiWCMwfFMSYtCpuu8UtBFU8uySW33MsZA2JRwPLdFRTu/WH52yHxXDIqscFrfru9jMcWB1p4Fx2ZwAUHqQdLKSprLErdPt5eU8iiXeWc1Deav4xNITU5ifw9BXy6qYQ3VxXgtRQhuoauaeg6hNp0TuwTzTlD4okNs1O0917xxD7RXDM+tfY17v06i20lHl7+bb9Ge6KqvRZ3LtjFrjIPd07KYERyRIN4s8s8zF5bxPqCKuLC7SRE2OkREcLmomo2Fro5rX8sl41OwmHX2VnqYea32RRX+fjdsHgWbCmjxO3jwuEJnD+8R50YlFK8ubqQ//1cxDE9ndxwTCohNh2Pz2LhThfztpQyoEc4fx6d1GgdLtzh4qecCvrEhdEvPow+cY4Gfy9tuRymJONWovKysd54BnZugZqawMEoJ/plN6ANH92wfHUV6rN30Y6ZjJaS0WZxdrR6/H6ni2+2lzE2w8mETCfOA4x6LK328dyPeSzNriDVGUJuuZe4cDt/GJnIpD7RLRoBWljlJXJvF/aB7KnwctPnO4gMtfHI6b2IqvdHW6LCuOnDdVTU+Lnh2DTGZTj5MbucxxfnEqJr3HJ8+gG31Gwuv6V4Z23gyycpMoSSah89Yx3MPLlnnda322fx0He7WV9QzUOn9qR3I9t0QiBhuve2sJVSlNf4WZJVwaKdLkrdfjQCG5f3inVw/rAeHNvTWbu3tqUU5R4/kaG2Bl/Sy3dX8MTiHLxW4BsnPETn75N+XVNdKcXnm0t5dcUeAPrEOegbF0bf+DA2l/qZtzEwvuAPIxsmq/15/RYuj5/4cHuj5UqrfcxanEOvGAd/HJXUoJt40S4Xjy3KwWfB6LRILh+TfNCR/dkuDz9mVbA4q5zNRW4AhiaGMzAhvLYHJynSztCkCL7b4SIhws61E1I5Ijmy9n1nldUwZ0Mx87eWccaAWKYfnVz7WV2RU8E/v8lmSGI48REhfLfDxYRMJ3+bkEp4iI6lFKtyK5m3pYwNhdW43D72TdfXgD+OSuS3Q+LRNK3O33V+RQ3zt5RR47ewAEtBYaWXH7MrCLFpnNY/looaP9/ucPH8WX3rzJRYml3O/d/u5rYT0plQ7zaNz1LM/CabVXmVzDghnbEZLRvo5bMUb60u4L31xfSKcXDGwFheX1lAuF1jxsQMBiWEU+Hx89LyfL7Z4aJfvIOhiRFoWmCcTG55DUuzKzitfyxXHJ3cKvu+SzJuho6WRA5E+f2Qm4XauQW14GPIzUK//Ea00cf+WqakCOupf0D2Dug7CP3Wh9qsBd1Z6rExSim+2lbG7HVFHN8rmvOH9WjVbtuf91Rx15e7OCI5kr9PykDXYEuxm8W7yvlscxkRdo07J9XdyCPb5eH+b3eTW15DYmRIbasgPtyOx2dR5vFT5vZR4bE4oXc0vxsW3+gPifyKGh5blMuGwmpO6hvN5WOSWZNXxYPf7eaYnk5uOi4NXdOo8Pi575tsNhVVExmiExlqY9bpvRtM5XhrTQGz1zZcNS1ED3QnntDbycjUSJZmVfDe+iKyympIiQrEXVjlo7jai8+CiBCdkamRjEmLZGRqJJ9sLOH99cX0jnVwy/HpeP0W932TTUWNnxuPTWNoYgTPLM1jSVY5I1MjuX5Cap2pcPE9enD/Zz/z2ebSOl+ypdU+fsqpYE1eFbkVXgoqvZRU+1DAmLRIrp2QWueeZF55DXd/lUVhlQ+fpRiaGM6tx6fXvtaXW0t5ZmkeA3uEM6FnFO+sKcJnKc4f3oOzB8dR7vFTtLc7dVuJmx+zK8h2BX5U941zcHzvaI7vFV3b47FvRsOnm0pYm1/Fyf1iuGx0UqOzE5RSvLGqgPfXFzO5bwx/HZfClmI3f1+wi7ToUGae3JOIEJ2PNhTz75UFZEY7OKanky+3lbGn0ku0w8aY9Cjiw+3EhNmIcdjoFeuo86OrOX/X2S4P7/1czDfby7AUTO4bw7UTUuuU8VuKyz/cSs9YB/ec9Ou29kopnlySy9fbXfx1XAqn9o896GsdzIqcCp5YnEuZx0+/+DBun9iwJ2XxLhevryygwuPHrwI/BjXgt0PjmXZEQqv1okgybobOmERUVQXW0/fB1o1of7wG/djJqOwdWE/dC1WVaOMnor79HO1P16NPOLFNYuqM9die5m0p5dmleYxIiSCv3MueSi+6BuN7xfHnUfGN3gus8vqZ80sJOeU1FFZ5A8msykdYiE6Mw0ZsmA1LwfqCakanRXL9MWm1PQI+S/HxhmLeWVuIrmlcNTaFE/ZbWOXDX4p4bUUB5w/rwZRBcdz9VRa7XTXceGwq8eEh3LEgMJjuzkkZtUl+9tpC3lpTyMTe0RydHoWug45GiE1jSGJ4g646S+1NNBtLsJSiR0QIPSLsxIfb2VnqYXnOr+MDAE7tH8OfRyfXttaLq33885tstpe4iXHYcHn8XDwy0Iqr/8MjISGBgoKC2u7HESkRVHstthS5UUBcmI3MGAeJkSEkRYXgtxTvry/G6bBxwzGpjEgJzBL4x9dZ+C3F30/MJK+8hmeW5uF02JhxQjobC6t5afkeRqZEMGNiBmF2naIqL6+t2MPCnQ1neNg0GJ4cwbgMJ2Mzopq85eCzVJOjb5VSzN57j3dsRhS/7KkiMtTGQ6f2qvPjZFVuJY9+v5vyGosRKRGc2i+W8ZlRTe5t3pK/6/yKGr7d4eLUfrGNrhHw9t4fbg+d1guPz2K3q4a1+VUs2lXe6P3YQ1Fc7eOHrHIm941plTEWh0qScTN01iSiPG6s5+6H9avQTpqCWvIVOMLQr7kLMnpjPXgLFBeg//N5tLDWX/2ms9Zje3p5eT6fbS7hyJRIjunpZGyGk77pyYdVj0opPttcyis/5RMfbt/bqlS88GM+O8s8HJ0e6EatP21NKcVzP+Yxb0sZsWE23D6LGSdk1N6j/2xTCS8sy2fqET2YNiKxdqDciXvvDQaja08pxfYSDytyK8mIDmV8I6PO3T6Lp5bksr3Ew/XHpDIwofEBOft/Ht9fX8TbawrpHevg6PQoxqRH0SfO0aAVtL3EzSPf55DjquHU/rEs3OkiIkTnnpMyydx7f39bsZsHvsumuNqHz4JxGVHcfFxag6S2Jq+SDYXVxIcHfmz0iAghKTKk1Xpc3vu5iDdWFRAXFpj7mtJIN3mFx0+1z2rRuINg/l0XVAYGcu2/OmaYXef0AbGN3vfuSiQZN0NnTiLK68V68RFY9QOk90K/9i60+MBoRbVtI9YDN6Odfh76eX9s9Vg6cz22F6UUPkvV+SIPVj1uKqzm4YW7Ka4O3A9MjLBz+Zjkg06r8lmK+77JZktRNXedmMmg/RKdUoqnf8jjy21lTOodzTc7XJzQO5rrJgQnEbdUU6Or69djc0dju30WLy3PZ8HWMjKiQ7nnpMwGycvl9vHM0jziwu1MH9M69xgPxU+7K0iPDm00ER+qYP9dL9zhwuXxkx4dSmZM6AHv03c1koybobMnEeX3o1YsQRs2Ci2i7khj69UnUMu+Q7/nGbTktFaNo7PXY0cRzHp0efy8sjyfhMgQLhjeo1kLN/gtRY1fNdqC8/gsZszfxdZiN8f2dHLjsWkdJhHVd7j1uLEwMB2mq6x5fqjk7zo42jIZy6If7USz2dCOPq7x5373B9TKJVjmK9iu+XsbRybaW7TDxvXHtuxHmE3XCD9AgnXYde6clMHSrHJO6R/bYRNxMAw6QPe3EB1dx7lTLmppsfGBLRnXLEOtaN0tGUX3EB9u54yBcUFd1k8IETzNahkbhnE68CRgA142TfPBRsoYwD0EpiauNk3zoiDG2e1ok89CLf0W68VH0C65Fn38pPYOSQghRCtpsmVsGIYNeBY4AxgKTDMMY2i9MgOAGcCxpmkOA65rhVi7Fc0egn7TTOg3GPXKY1hfvE873t8XQgjRiprTTT0W2GKa5jbTNGuAd4Bz6pW5HHjWNM0SANM09wQ3zO5Ji4hCv+4faGOOQ/3vddTsl1GWv73DEkIIEWTN6aZOB7L2e5wNjKtXZiCAYRiLCHRl32Oa5uf1L2QYxnRgOoBpmiQkHPpkcbvdfljndyZqxoNUvP40VR/PxuH3EX3NHUFboas71WNrknoMDqnH4JB6DI62rMfmJOPGRnzU7y+1AwOASUAGsNAwjOGmadbZm880zReBF/dd43CGjHe7oftn/x5Ns+Ge8xYeRxj6+ZcG5bLdrh5bidRjcEg9BofUY3C04tSmBpqTjLOBzP0eZwD1JwhnAz+YpukFthuGsZFAcl7W8lDFgWhTLoTyUtQXH2BFx6Kf2rG3ZxRCCNE8zUnGy4ABhmH0AXYDU4H6I6U/BKYBrxuGkUCg23pbMAMVBFa8mXo5uMpQ774WSMjj22YNayGEEK2nyRuPpmn6gKuBL4BfAofMnw3DuNcwjLP3FvsCKDIMYz3wNXCzaZoNt4QRh03TbWiX3QCDjkC9/hTWoi9RNZ72DksIIcRhkOUwOylVVYn12N8D+yU7wgJ7JB81Aa3/UHA4wB4KISFNDvTq7vUYLFKPwSH1GBxSj8Ehy2GKJmkRkei3PQyb1qFWLEat/AF+WtRgZB09ktCmXIg24SQ0W/der1cIIToqScadmGa3w9CRaENHoi66ArZsQOVmgc8LNTXg9aDWrUD9+2nUFx+g//biQOu5GbutKFcp6rvPUat+RDtyLNop56CF1V33V5W7UEu/Rhs+Bi0lvbXephBCdHmSjLsITbfBwGFoA4fVOa7OmgYrf8D68E2sFx6EvoPQL78JLSG50euo7O2oBR+jln4bSOoZvVFz3kJ9+xnaWdPQjjsFigtQ8z9ELVoANTWoZd+j3/Zwt9hSTQghWoMk4y5O0zQ4agL6yLGoJV+jZr+CNfNG9CtvRRt0RG05VVmOeve1QIINdaAddzLaSWehpWagtm7A+t/rqDefQ31qQmkx6Dra+IkQn4j6+B1YsQRGH9OO71QIITovScbdhKbb0I49GdVvCNazM7Ee+zva1MtR5/8Ba+m3qNkvQ2U52unnoZ3+O7TIXzez1/oNRr/lAVi9FOurT9HGnoA2+Sy0uB4oy4/6aTHW+2+gHzk20HUuhBCiReSbs5vRUtLRZzyC9cpjqLf+RdG3n6F274LeA9BvuBcto0/j52kajByPbeT4usd1G/rv/oj1zH2o7+ehTTqzLd6GEEJ0KbKfcTekRUSi//UOtDMNrHIX2tTL0Wc8fMBE3KQRY2DgMNTH76Dc1QcsppTC+u/z+B+/G1VZcYjRCyFE1yPJuJvSdB393ItJfP1T9MlnBQaAHeq1NA39vEvAVYqa9+EBy6kvP0Z98xmsX4n16B0oV+kBywohRHciybibC9YIaK3vIDjqGNS8D1CukgbPq00/o/73Gowch/63e2DPbqxHZqCKZWECIYSQZCyCRj/3/8Bbg/Xs/agdm2uPq9IirH89BAkp6Jdehzb8KPS//QNKi7Eevg21J7cdoxZCiPYnyVgEjZaSjnbpdVCQhzXzRqyXZqHyc7BeeAg8bvSrZqBFRAbKDhyGfuM/wV2N9fAM1O6d7Ry9EEK0H0nGIqj08ZPQZ/4L7UwDtXIJ1p1XwtYN6Jdci5bes05ZrfcA9JsfAAgk5G0b2yFiIYRofzK1SQSdFh6Bdu7FqImno+aakJiCNua4xsum90S/9UGsx+/Ceuzv6H+5HW3oyNrnlbsKcrLAXQ0eN8pTjRbigFHjDmvQ2cEobw34fWhhEa1yfSGEqE+SsWg1WnwC2sV/abpcYgr6LQ9iPXE31tP3op3zeygtRm35BbK2gWXVKa8A7UwD7dyLgx6zcpVgPXonlJc1WKVMCCFaiyRj0SFosfHoN9+P9dS9qPf+DSGh0HcQ2hnno/UZCJFREBoGYWGoT99FffYuatAwtKGjGlxLWX7Iz0Xt2gq7tqGytoHfF7hmSChaSCgcMQZt/KQ6o8mVqzSQiIv2QGx8YJWyC/+MduJvZN1tIUSrkmQsOgwt0ol+8/2QnwPJaWj2kMYLXnQlasdmrJcfQ7/rSbTY+Nqn1OplWP9+CsrLAgfsIZDeCxxhUFUJ3pLAgiPLFqIWf4n+f39BS0pDlZcF9ocuyke/5i7o2Q/r1cdRb78IO7fCxVcFkrgQQrQCScaiQ9H2Jc+DlXE40K+4JTBi++VZ6DfcC5ZCffBGYNGRzD5o512C1qsvpGQ2WC9bWRbquy9Q7/8b655r0c48H7V8EezJRb/m72iDRwCg/+X2wKpin7yD2pOLfuN9B/6BsP/1fT7YsQn6DkbTZYykEKJpkoxFp6Sl9US76ErU60+i3nkJtXMrbNuINulMNONPB23FarqONukM1JFjsd55EfXRWxASin71nWhDjqxb7pyLsJJTUa88jvrgTbQLLj1oXMrrDcypXv0j2uSz4MI/Sxe3EKJJkoxFp6UfOxlr4xrU13MhLBz9ilsOOGq7MVpcD2xXzUD9vBIiIgP3pht7nfEnYm3dEFhdbMgItOGjGy2nPB6s5+6H9Sth0BGoLz+GsHC03wZ/oJkQomuRZCw6Ne33V0FSGtrY49GS0g7tGsMaDgJrUOaCP6E2r8d69Qn0u59Ci4mr87xVXYn19L2waR3aH68JbFf5n2dRn5pYYeHop593SLEJIbqHZiVjwzBOB54EbMDLpmk+WO/5S4BHgN17Dz1jmubLQYxTiEZpjjC0KRe2/uuEOtAvvxnr/huwXn0c/W/3oOk6SinI2k6p+TJsXo922Q3o4yYGTrr4KnBXo977N1ZYBPqkM1o9TiFE59RkMjYMwwY8C5wCZAPLDMOYY5rm+npFZ5umeXUrxChEh6Cl90S78M+o/zyHevM5lNeLWr8SXKVY9hD0K25FO2rCr+V1G/zpepTHjfrv8/jfegE0LfCfzQYDhqGNnYg2ajxaeMsWGFHZ20HT0Q4w2E0pBTU1aA7HYb1nIUTbaE7LeCywxTTNbQCGYbwDnAPUT8ZCdHna8aeh1q9CLZwHUU60ISNh+FH0OP5kSvyqYXm7Hf3KWwNbR1aWg1KB/zxu1OofUa89gXozFEaMQf/NhWiZB95TWikF61ZgzfsANqyBUAf69fei9R9St5zPh3p5Fmr9KvRbH2qwDGlzqNIi1PJFaEdNQItPbPH5QoiWaU4yTgey9nucDYxrpNx5hmGcAGwCrjdNM6t+AcMwpgPTAUzTJCEhoeUR72W32w/rfBEg9dhy6tb78eVkYc/ojWYLLMlpt9tJ8PkOfNK0yxpeRym8G9fhXjgf98L5WGtvJvqKWwg/6cy65fx+3N/No/KDN/FnbUfvkUjExVdS/eWnWE/fR+w/nyWkz4C9ZX2UPfEPPD8tQguLQPvXQ8Q/8jJ6pLNZ7827dSNVH7+De9GX4POhzfuAmDseIaTf4GbWzuGRz2NwSD0GR1vWY3OScWPzMuo3AT4G3jZN02MYxpXAv4GT6p9kmuaLwIv7rlFYeOh72SYkJHA454sAqcdDFBkDJb/u23zI9ZiQCuf+AW3y2agXH8H19D8pX70cberlYLfDqqVYH/wHcrMgow/aZdfDmOOotoegho9BPXgrxff8Df3WByEhGfXKE6gfv0U7/1K0voPwz7qDgofuCEzb2jvnWSmF+n4+at4HgBZYEMURBh437NwCjnC0iWegDR+N9eZzFN9+FfrlN6KNHN+it6YqXIGEvt+iLHWe37UVtX5VoGXfZxCazSafxyCRegyO1qjHtLTGB5o2JxlnA5n7Pc4AcvYvYJpm0X4PXwIeamF8QnRrWnQs+vX3oj58E/X5e6idW0DXYfsmSElHv+o2GDWhzpxlrUcS+g33Yj08A+uxu9D6DkItW4h27v+hn3ZuoMyFl6PeegH18dto5/weVe7C+s8zsPIH6DMQLT4R5XFDjRvsdrQLLkU77tTarS712x/BevqfWM89EJi/fcTRgWVGd25F7d6B1nsg2um/Q3OE1Xk/6qfFWP95FnxeNOMytONPrY1dKRVYdOWdF8HnC/yyD4+AQSOoPn4yavjRsliK6Haak4yXAQMMw+hDYLT0VOCi/QsYhpFqmua+HeLPBn4JapRCdAOazYZ23h9RfQZivfYEhEWg/eFqtGMm13aHNzgnNRP9unuwHr0jkIjPuQj9zAt+fX7SGbBzM+qT2ViAWjgfKlyBlvMp5zSZ9LToOPSb7sd6ZRZq9iuo2a8EnrDZISkVtW4FavEC9Av+BKOPBU816u2XUIu/hN4DIDwiMMVrzTL0P1wNjnDUf59DLfkaho1Cv+gKyNqO+nkl6ueVuJ7+Ae3o4+HSv7XJ8qNq3U/g8aCNPqbVX6szUZXlEB4pP4rakKZUw0En9RmGcSbwBIGpTa+apjnTMIx7geWmac4xDOMBAknYBxQDV5mmuaGJy6qcnJwmihyYdMMEh9RjcAS7HlVlBYQ60EKaXn4TQO3cgsrNRh8/qeFz3hqsh2fAjs2Qmon+5xvRevZtWTyWhVryFSgVODetJ5o9JDD3+q1/QfZ2GHQEFBdA4R60M89HmzIVdB311SeBzT/CIyAqGvKy0aZMRZti1NkGUylFxPfzqHjjWeg3GP2vd6I5oxvG4q6CzetRG9aidm0NjEafeEaDHyxq11as9/6N1qs/2m9/32DLTWvxV6jXnwJloZ19EdqUC1u8Wpry+6EwH5JSGz1XKRW4xZCY0qZrmx/O51EV5GH941q0036HftbUIEfWubRiN3WDD0uzknErkWTcAUg9BkdHr0flKkGt+AHtmJPQQoM73UlZftS3X6A+fBPCI9AvuwFtwNC6ZXbvwnplFpQUol92I9rwoxq9VkJCAgVffIT1yuMQ1yOwaYfNhtqxGbZtQm3bEPhRYVmBe+rxSbAnBzL6oF90BdqAoaiqStRH/w2szOZwBPbCHjoKffpNaHsHslkL56H+8ywMHoEWG49a8jXapDPQpk1v1j7ZyrJQPy1CzXkL8nZDn4Hov70Yhhz5a3f8xnVYH7wBWzdATFygJ2Li6a2+T7byeIitqaQ0MvaQWrb+5+4P3Mb4//buPEqq+krg+PdVI7uICIpsCghuIAERFxQ9uI9EUPFmRBQUM5Gg4jYxGo/J0RiXOMYdRXCEkaBXYBAnLOIS9w0UUNlFRRCNsrkA3dDvN3/c11g03U03FDwK7uecOlS9V8uvfvy67vvtteuQuWv4br2vtwfjStjZf/zyhedjbng+Qli3FgoKyq0Bhji2PuQKLgZK8jF8Opf44dvhx+9tKhjYFpgHtCZqdX9/lAAADvlJREFU284282h1CFSvDh+8RazDYcV30OlYWDgHflhtwbVXX8L0twijHoUGDckM+gNhwWzCqCHQrhOZgTfCHtUJ40YSJo+FTseRuezair/DR9OIx4+y1oD9mxN1OcGmuq34Dtq2I+p2OuGtl21Z1Pr7EHXvQZg7E2bPsGVXu/cgOrXXxn75Td5/5XLix+4i2rsh0YBrN9vkZIv/B5/OJX7iPrtAadTYtv/sejJR7bqVe/2cmbZ16JFdCdPfJOp9ycbxB7sjD8aV4D9+ueH5mBuej7mRnY/h268Jr06Cho1t3fCmB5QbnELhOsLEMYQXxlktue9AogMO+vn8p3OJh9yRbKNZBB262CItWd0A8dTnCDrcAmz7zkRtDoXWh1ntes4swqz3CLPeh1UrLNCd3ceWYc0U2AIwr08hTHwWVq+0Oehnnm8XBMnFR/hsAfGkZ63W2aARmQHXELVt93Mal3xO/MCtdgGyvsgWhBlwTaVqt2HDesLzzxAmjYG996Furz78+NoLdmFSvQZRl25wcDuiA9vY8rFlvGcoLia+dTAUFZK59WFLy7IlZO54vNLdJbsaD8aV4D9+ueH5mBuej7mxrfkY1vxkm3OUFWxWLicefi9R/QZE/a8qczvMMP1N4hcnWFN4ybzxatXsfo1acHhH66PufHyZFwahsBDmfwwHHVruqmph0Tzi4ffCt1/bSPSz+8D8j4mH3Gkbnlx5C+GjaYTxT1kw73N5hX3ZYeEc4tGPweJFVgv+1a9p1LyFtTAs/pTwykTC+6/b1DWAWnWsWf0sIWp7+Mb3iV/+P8LooWQG3kjU6VjC7BnEf7uF6KJBZLqdXlG2W+vD/I+hXn2o34Co3t7Q/ECi+vtU+LodJRQWEj96B8SBzKCbKt1V48G4EvzHLzc8H3PD8zE3dpZ8DOuL4POFhIWzbfT5YR2tCTpHNcSwbi3hmWGEN6bC/s2tWblxMzJX3WLTzUIgjB1BmDKO6MzeZM69eNPXFxfDjHeIXxgPi+bBnnuRuXjQxrngpfMxFBfDssWEzxbY9/poGqz8jqjb6UTn9YM4Jv7D5XBAa1vVLYoIIRDffh2s/YnMbY+U25cevzqZ8NQj1o2wvujnE9VrEPUfTOaoyu+ktj2E9UXED/0Z5swCAnQ4mszAGyo1NmBHBmPftck550qJ9qgObQ7bbCBazt6/Zi2iflcS2h9p87EPPsK2AE36kaMogvP6wdqfCJPGULzsS6JadZL+80BYOMdGcTdqTNTnNzb9rdRc700+r6DAFo1p1hJOOM2a9Sf8nTB1AmHme9CkBaxbQyZr/+0oisic2Zv40TsJ098mKiOoxq9NsUDcvrP1v4fYmulXrSAe+yRh6N3EXywgOuficqfnlSV8tZgw/xOizl2J6m4+or7M10x7A2rX3XQQ3YYNxI/dDbNnEPUfDOvW2P7no4fCFlocdjQPxs45l5Ko03FkjjgKCqptFhiiKIILL7fpYbOmEUo2GYki2Gdfm9v9iy6VquFt9rk1atq2oF1OJB75IMyZaYO9Sm880vFo2K8pYfIYQueum6Rx44j0JBBvbDVo1BgaNSZz/e02N33K/xIWLyLT97fwzVeEhbOtxWHFd0StD7HgeUgHqFef8MFbhNcmw/xPAAiTx5IZ+PtN+v/LsrF2Dtbn370HUZduhJEPwcz3iC68nEzXk+25K5cTpoyzwXVnSZXzbnvxZurdnOdjbng+5obnY25UJR9DcbGN/D64fZl9qfEbUwkjHiQ6pSfU28tq5z+sJrz0vC3c8tubKpxDHb/5IuGpIbBhvR3IZKBFa2jQEBbMhh9W2/Hq1aGoyGr7J55B1Lwl8YgH4fvVRH1+Q+aE08pO/8z3beR9u05EnbsSXv6HLetaUA2KNxCdfymZ03r9/Pw4tg1a3vkn0ak9rTZdtA4KC61fvajQZgYUrqNavIH4mttyOh3Qm6mdc85tJioogPadyz9/zEmESWMJLz636YkOXaxpfQuLmWS6nkJo3oowZ4bVcFu23dikHkKApV/Y1K+vlxJ1PNZqyskAvMzN9xEPu4cw8iHiz+YTnddv41xxSEaoD70bWrSytNSoSTi2OyyaZyPxW7Qic0rPTb9PJgP9riT89CNhavKdCqrZqPnqNaFmTRusV6Mmmb32Ji4urmxWbhOvGe/mPB9zw/MxNzwfcyPnK8IVF1vNtqSZnGiHTXcKcTHhudGEiWoj29t3tpXm9m9O/NebLGjeeLeN4K7K+4YAa9fYQLNypsz5AC7nnHM7jaigAKowACunn50pIDqnL+HI4whvv0J471XiD9+xk3X2JDP4j1UOxJD0yZex8EpaPBg755zb6UUtWhG1aEXo3R/mziJ8+LaNIm/cLO2k5YQHY+ecc3kjKiiwxVcO75h2UnLK98dyzjnnUubB2DnnnEuZB2PnnHMuZR6MnXPOuZR5MHbOOedS5sHYOeecS5kHY+eccy5lHoydc865lKW6NnVaH+ycc86laLO1qdOsGUfbchOR6dv6Hn7zfPR83Lluno+ejzvTbTvm42a8mdo555xLmQdj55xzLmX5HIyHpp2AXYTnY254PuaG52NueD7mxg7LxzQHcDnnnHOO/K4ZO+ecc7sED8bOOedcyqqlnYCtISJnAPcDBcAwVb0z5STlBRFpDowEGgMxMFRV7xeRBsAzwIHA54Co6sq00pkvRKQAmAYsVdUeItISeBpoAHwAXKSqRWmmcWcnIvWBYUA7bO2BS4F5eHmsEhG5BrgMy8OPgEuA/fHyWCEReQLoAfxLVdslx8r8PRSRCIs7/wasAfqr6ge5Skve1YyTH8CHgTOBw4ALROSwdFOVNzYA16nqocAxwKAk734PvKSqbYCXksduywYDc7Ie3wX8LcnHlcCAVFKVX+4HJqvqIUAHLD+9PFaBiDQFrgI6JwGlAPh3vDxWxpPAGaWOlVf+zgTaJLf/AIbkMiF5F4yBLsBCVV2UXOU9DfRMOU15QVWXlVzJqeoP2A9fUyz/RiRPGwH0SieF+UNEmgFnYbU6kqvm7sCY5Cmej1sgIvWAbsBwAFUtUtVVeHncGtWAWiJSDagNLMPL4xap6mvAilKHyyt/PYGRqhpU9R2gvojsn6u05GMwbgp8mfV4SXLMVYGIHAh0BN4F9lPVZWABG9g3xaTli/uA32HN/QD7AKtUdUPy2MvllrUCvgX+W0Q+FJFhIlIHL49VoqpLgXuAxVgQXg1Mx8vj1iqv/G3X2JOPwbispcR8flYViEhdYCxwtap+n3Z68o2IlPQxTc867OWy6qoBnYAhqtoR+Alvkq4yEdkbq7W1BJoAdbAm1dK8PG6b7fo3no/BeAnQPOtxM+CrlNKSd0RkDywQj1LVccnhb0qaW5J//5VW+vJEV+BsEfkc6ybpjtWU6yfNhODlsjKWAEtU9d3k8RgsOHt5rJpTgM9U9VtVXQ+MA47Dy+PWKq/8bdfYk4/B+H2gjYi0FJHq2ECFCSmnKS8k/ZrDgTmqem/WqQlAv+R+P+C5HZ22fKKqN6pqM1U9ECt/L6vqhcArQO/kaZ6PW6CqXwNfisjByaGTgdl4eayqxcAxIlI7+RsvyUcvj1unvPI3AbhYRCIROQZYXdKcnQt5N7VJVTeIyBXAFGzU4BOq+knKycoXXYGLgI9EZEZy7CbgTkBFZAD2h31+SunLdzcAT4vIn4EPSQYmuQpdCYxKLqwXYVNyMnh5rDRVfVdExmDTlzZgZW8o8A+8PFZIREYDJwENRWQJ8EfK/z2ciE1rWohNbbokl2nx5TCdc865lOVjM7Vzzjm3S/Fg7JxzzqXMg7FzzjmXMg/GzjnnXMo8GDvnnHMp82DsXB4TkSAiB6WdjtJE5E8i8lTa6XAuX+TdPGPndlbJilz7AcVZh59U1SvSSZFzLl94MHYut36pqi+mnYhdiYhUy9rwwLldkgdj53YAEekP/BpbJelibHedQar6UnK+CfAocDy2pdtdqvp4cq4AW91rALaDzHygl6qW7CBziohMAhoCfweuUNXNVvMRkT9he4CvA87BVhfqp6rTkvMBaKOqC5PHT2JrR98sIicBTwEPANdjtf+BQBG2LndD4B5V/UvWR9YUkWewVYsWAJeo6sys7/sgtoXij9i+uw9kpbNdks6zgWtJtqp0blflfcbO7ThHY0s+NsSW3RsnIg2Sc6OxheibYOsJ/0VETk7OXQtcgAW1esCl2HJ8JXoARwEdAAFOryANZ2ObW9TH1tp9qArpbwzUxLaNuwV4HOgLHAmcANwiIq2ynt8TeBZogF0kjBeRPUQkAzwPzEze62TgahE5vdRrxyTpHFWFNDqXl7xm7FxujReR7CbV/yyp4WK7v9yX1FqfEZHrgLNE5J9YjbiHqq4DZojIMGwd8ZeAy4Dfqeq85H1mlvrMO1V1FbBKRF4BfgFMLid9b6jqRAAR+R/g6ip8t/XA7apaLCJPY+sf36+qPwCfiMgnwBHYBQfAdFUdk3zWvcB1wDFYbbqRqt6aPG+RiDyObboxJTn2tqqOT+6vrUIanctLHoydy61eFfQZLy3VfPwFVhNuAqxIglr2uc7J/ebApxV85tdZ99cAdavw3JpV6JNdrqolg9NKAuQ3WefXlvrsjRuxq2qcLMTfBNsDtomIrMp6bgHwelmvdW534MHYuR2nqYhEWQG5BdZU/BXQQET2zArILYClyf0vgdbAx9s5fWuA2lmPG2NN51tr496vSdN0yf6vG7D9d9tU8FrfwcbtVjwYO7fj7AtcJSKPAL2AQ4GJqrpcRN4C7hCR64G22GCtvsnrhgG3ichsbPu29lgte3mO0zcD6JM0N58KnAhM24b3O1JEzsUuOK4CCoF3gBj4XkRuwAaEFWF5UUtV39+Gz3Mub3kwdi63nheR7HnGU1X1nOT+u0Ab4Dusebd3VkC9ABtN/RWwEvijqk5Nzt0L1ABewAZ/zcVGQ+faYGAEMAgYn9y2xXPAr5L3XAicq6rrAUTkl8B/AZ9h320ecPM2fp5zecv3M3ZuB0imNl2mqsennRbn3M7HpzY555xzKfNg7JxzzqXMm6mdc865lHnN2DnnnEuZB2PnnHMuZR6MnXPOuZR5MHbOOedS5sHYOeecS9n/AzMD3BaqZTlUAAAAAElFTkSuQmCC\n",
      "text/plain": [
       "<Figure size 576x288 with 1 Axes>"
      ]
     },
     "metadata": {
      "needs_background": "light"
     },
=======
      "image/png": "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\n",
      "text/plain": [
       "<Figure size 576x288 with 1 Axes>"
      ]
     },
     "metadata": {
      "needs_background": "light"
     },
>>>>>>> afb40114e9f11e8f8e95443222c7707024fbb52d
     "output_type": "display_data"
    },
    {
     "data": {
<<<<<<< HEAD
      "image/png": "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\n",
=======
      "image/png": "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\n",
>>>>>>> afb40114e9f11e8f8e95443222c7707024fbb52d
      "text/plain": [
       "<Figure size 576x288 with 1 Axes>"
      ]
     },
     "metadata": {
      "needs_background": "light"
     },
     "output_type": "display_data"
    }
   ],
   "source": [
    "# The model set up code below is provided as a starting point.\n",
    "# You will probably want to add further code cells for the\n",
    "# different experiments you run.\n",
    "\n",
<<<<<<< HEAD
    "from mlp.layers import AffineLayer, SoftmaxLayer, SigmoidLayer, ReluLayer\n",
    "from mlp.layers import LeakyReluLayer, RandomReluLayer, ParametricReluLayer, ExponentialLinearUnitLayer\n",
=======
    "from mlp.layers import AffineLayer, SoftmaxLayer, SigmoidLayer, ReluLayer, LeakyReluLayer\n",
>>>>>>> afb40114e9f11e8f8e95443222c7707024fbb52d
    "from mlp.errors import CrossEntropySoftmaxError\n",
    "from mlp.models import MultipleLayerModel\n",
    "from mlp.initialisers import ConstantInit, GlorotUniformInit\n",
    "from mlp.learning_rules import AdamLearningRule\n",
    "from mlp.optimisers import Optimiser\n",
    "\n",
    "#setup hyperparameters\n",
    "learning_rate = 0.1\n",
    "num_epochs = 100\n",
    "stats_interval = 1\n",
<<<<<<< HEAD
    "input_dim, output_dim, hidden_dim = 784, 47, 32\n",
    "\n",
    "weights_init = GlorotUniformInit(rng=rng)\n",
    "biases_init = ConstantInit(0.)\n",
    "model_32 = MultipleLayerModel([\n",
=======
    "input_dim, output_dim, hidden_dim = 784, 47, 100\n",
    "\n",
    "weights_init = GlorotUniformInit(rng=rng)\n",
    "biases_init = ConstantInit(0.)\n",
    "model = MultipleLayerModel([\n",
>>>>>>> afb40114e9f11e8f8e95443222c7707024fbb52d
    "    AffineLayer(input_dim, hidden_dim, weights_init, biases_init), \n",
    "    ReluLayer(),\n",
    "    AffineLayer(hidden_dim, hidden_dim, weights_init, biases_init), \n",
    "    ReluLayer(),\n",
<<<<<<< HEAD
    "    AffineLayer(hidden_dim, hidden_dim, weights_init, biases_init),\n",
    "    ReluLayer(),\n",
=======
>>>>>>> afb40114e9f11e8f8e95443222c7707024fbb52d
    "    AffineLayer(hidden_dim, output_dim, weights_init, biases_init)\n",
    "])\n",
    "\n",
    "error = CrossEntropySoftmaxError()\n",
    "# Use a basic gradient descent learning rule\n",
    "learning_rule = AdamLearningRule()\n",
    "\n",
    "#Remember to use notebook=False when you write a script to be run in a terminal\n",
    "_ = train_model_and_plot_stats(\n",
    "    model, error, learning_rule, train_data, valid_data, num_epochs, stats_interval, notebook=True)"
   ]
<<<<<<< HEAD
  },
  {
   "cell_type": "markdown",
   "metadata": {},
   "source": [
    "## 32 ReLU hidden Unit 2 layer"
   ]
  },
  {
   "cell_type": "code",
   "execution_count": 21,
   "metadata": {
    "scrolled": true
   },
   "outputs": [
    {
     "data": {
      "application/vnd.jupyter.widget-view+json": {
       "model_id": "0c1f97d3e90548ddbf437e1a6865a692",
       "version_major": 2,
       "version_minor": 0
      },
      "text/plain": [
       "HBox(children=(IntProgress(value=0), HTML(value='')))"
      ]
     },
     "metadata": {},
     "output_type": "display_data"
    },
    {
     "data": {
      "application/vnd.jupyter.widget-view+json": {
       "model_id": "6c02db40633d444abafcc2be755fafcb",
       "version_major": 2,
       "version_minor": 0
      },
      "text/plain": [
       "HBox(children=(IntProgress(value=0, max=1000), HTML(value='')))"
      ]
     },
     "metadata": {},
     "output_type": "display_data"
    },
    {
     "name": "stdout",
     "output_type": "stream",
     "text": [
      "\n"
     ]
    },
    {
     "name": "stderr",
     "output_type": "stream",
     "text": [
      "Epoch 1: 9.0s to complete\n",
      "    error(train)=1.05e-01, acc(train)=9.60e-01, error(valid)=1.69e+00, acc(valid)=8.23e-01\n"
     ]
    },
    {
     "data": {
      "application/vnd.jupyter.widget-view+json": {
       "model_id": "7e850b7b641d4cf5b9f04b5c55c6e788",
       "version_major": 2,
       "version_minor": 0
      },
      "text/plain": [
       "HBox(children=(IntProgress(value=0, max=1000), HTML(value='')))"
      ]
     },
     "metadata": {},
     "output_type": "display_data"
    },
    {
     "name": "stdout",
     "output_type": "stream",
     "text": [
      "\n"
     ]
    },
    {
     "name": "stderr",
     "output_type": "stream",
     "text": [
      "Epoch 2: 7.5s to complete\n",
      "    error(train)=1.20e-01, acc(train)=9.57e-01, error(valid)=1.75e+00, acc(valid)=8.21e-01\n"
     ]
    },
    {
     "data": {
      "application/vnd.jupyter.widget-view+json": {
       "model_id": "092c284e1c0f45619277e83628dd9a07",
       "version_major": 2,
       "version_minor": 0
      },
      "text/plain": [
       "HBox(children=(IntProgress(value=0, max=1000), HTML(value='')))"
      ]
     },
     "metadata": {},
     "output_type": "display_data"
    },
    {
     "name": "stdout",
     "output_type": "stream",
     "text": [
      "\n"
     ]
    },
    {
     "name": "stderr",
     "output_type": "stream",
     "text": [
      "Epoch 3: 7.9s to complete\n",
      "    error(train)=1.01e-01, acc(train)=9.61e-01, error(valid)=1.76e+00, acc(valid)=8.23e-01\n"
     ]
    },
    {
     "data": {
      "application/vnd.jupyter.widget-view+json": {
       "model_id": "614fa81446894609ab0833f4379d4aa4",
       "version_major": 2,
       "version_minor": 0
      },
      "text/plain": [
       "HBox(children=(IntProgress(value=0, max=1000), HTML(value='')))"
      ]
     },
     "metadata": {},
     "output_type": "display_data"
    },
    {
     "name": "stdout",
     "output_type": "stream",
     "text": [
      "\n"
     ]
    },
    {
     "name": "stderr",
     "output_type": "stream",
     "text": [
      "Epoch 4: 7.4s to complete\n",
      "    error(train)=1.06e-01, acc(train)=9.59e-01, error(valid)=1.71e+00, acc(valid)=8.20e-01\n"
     ]
    },
    {
     "data": {
      "application/vnd.jupyter.widget-view+json": {
       "model_id": "38efda2e93104e6e8e02f6aac38d744d",
       "version_major": 2,
       "version_minor": 0
      },
      "text/plain": [
       "HBox(children=(IntProgress(value=0, max=1000), HTML(value='')))"
      ]
     },
     "metadata": {},
     "output_type": "display_data"
    },
    {
     "name": "stdout",
     "output_type": "stream",
     "text": [
      "\n"
     ]
    },
    {
     "name": "stderr",
     "output_type": "stream",
     "text": [
      "Epoch 5: 7.2s to complete\n",
      "    error(train)=1.10e-01, acc(train)=9.59e-01, error(valid)=1.70e+00, acc(valid)=8.20e-01\n"
     ]
    },
    {
     "data": {
      "application/vnd.jupyter.widget-view+json": {
       "model_id": "04e703df85ef4a898fd08fdf7c9c2c78",
       "version_major": 2,
       "version_minor": 0
      },
      "text/plain": [
       "HBox(children=(IntProgress(value=0, max=1000), HTML(value='')))"
      ]
     },
     "metadata": {},
     "output_type": "display_data"
    },
    {
     "name": "stdout",
     "output_type": "stream",
     "text": [
      "\n"
     ]
    },
    {
     "name": "stderr",
     "output_type": "stream",
     "text": [
      "Epoch 6: 7.2s to complete\n",
      "    error(train)=1.05e-01, acc(train)=9.60e-01, error(valid)=1.79e+00, acc(valid)=8.17e-01\n"
     ]
    },
    {
     "data": {
      "application/vnd.jupyter.widget-view+json": {
       "model_id": "45952956bf384f12aad0594cc5d6d127",
       "version_major": 2,
       "version_minor": 0
      },
      "text/plain": [
       "HBox(children=(IntProgress(value=0, max=1000), HTML(value='')))"
      ]
     },
     "metadata": {},
     "output_type": "display_data"
    },
    {
     "name": "stdout",
     "output_type": "stream",
     "text": [
      "\n"
     ]
    },
    {
     "name": "stderr",
     "output_type": "stream",
     "text": [
      "Epoch 7: 7.2s to complete\n",
      "    error(train)=9.32e-02, acc(train)=9.63e-01, error(valid)=1.75e+00, acc(valid)=8.24e-01\n"
     ]
    },
    {
     "data": {
      "application/vnd.jupyter.widget-view+json": {
       "model_id": "dff369e588bd4e92ab5bc6556702b93f",
       "version_major": 2,
       "version_minor": 0
      },
      "text/plain": [
       "HBox(children=(IntProgress(value=0, max=1000), HTML(value='')))"
      ]
     },
     "metadata": {},
     "output_type": "display_data"
    },
    {
     "name": "stdout",
     "output_type": "stream",
     "text": [
      "\n"
     ]
    },
    {
     "name": "stderr",
     "output_type": "stream",
     "text": [
      "Epoch 8: 7.2s to complete\n",
      "    error(train)=1.12e-01, acc(train)=9.59e-01, error(valid)=1.80e+00, acc(valid)=8.22e-01\n"
     ]
    },
    {
     "data": {
      "application/vnd.jupyter.widget-view+json": {
       "model_id": "9d677ba43f084aa6991e920a384fa56b",
       "version_major": 2,
       "version_minor": 0
      },
      "text/plain": [
       "HBox(children=(IntProgress(value=0, max=1000), HTML(value='')))"
      ]
     },
     "metadata": {},
     "output_type": "display_data"
    },
    {
     "name": "stdout",
     "output_type": "stream",
     "text": [
      "\n"
     ]
    },
    {
     "name": "stderr",
     "output_type": "stream",
     "text": [
      "Epoch 9: 6.9s to complete\n",
      "    error(train)=1.08e-01, acc(train)=9.59e-01, error(valid)=1.75e+00, acc(valid)=8.21e-01\n"
     ]
    },
    {
     "data": {
      "application/vnd.jupyter.widget-view+json": {
       "model_id": "ddab1790b2bb4e46b43da1c1d787a672",
       "version_major": 2,
       "version_minor": 0
      },
      "text/plain": [
       "HBox(children=(IntProgress(value=0, max=1000), HTML(value='')))"
      ]
     },
     "metadata": {},
     "output_type": "display_data"
    },
    {
     "name": "stdout",
     "output_type": "stream",
     "text": [
      "\n"
     ]
    },
    {
     "name": "stderr",
     "output_type": "stream",
     "text": [
      "Epoch 10: 7.3s to complete\n",
      "    error(train)=1.09e-01, acc(train)=9.58e-01, error(valid)=1.78e+00, acc(valid)=8.18e-01\n"
     ]
    },
    {
     "data": {
      "application/vnd.jupyter.widget-view+json": {
       "model_id": "1affd4b74c9b4017a0443df59d94d63a",
       "version_major": 2,
       "version_minor": 0
      },
      "text/plain": [
       "HBox(children=(IntProgress(value=0, max=1000), HTML(value='')))"
      ]
     },
     "metadata": {},
     "output_type": "display_data"
    },
    {
     "name": "stdout",
     "output_type": "stream",
     "text": [
      "\n"
     ]
    },
    {
     "name": "stderr",
     "output_type": "stream",
     "text": [
      "Epoch 11: 6.9s to complete\n",
      "    error(train)=9.44e-02, acc(train)=9.64e-01, error(valid)=1.82e+00, acc(valid)=8.26e-01\n"
     ]
    },
    {
     "data": {
      "application/vnd.jupyter.widget-view+json": {
       "model_id": "43fc46a9a5934fd49e6b17b1f09ac8b0",
       "version_major": 2,
       "version_minor": 0
      },
      "text/plain": [
       "HBox(children=(IntProgress(value=0, max=1000), HTML(value='')))"
      ]
     },
     "metadata": {},
     "output_type": "display_data"
    },
    {
     "name": "stdout",
     "output_type": "stream",
     "text": [
      "\n"
     ]
    },
    {
     "name": "stderr",
     "output_type": "stream",
     "text": [
      "Epoch 12: 7.3s to complete\n",
      "    error(train)=1.17e-01, acc(train)=9.56e-01, error(valid)=1.84e+00, acc(valid)=8.15e-01\n"
     ]
    },
    {
     "data": {
      "application/vnd.jupyter.widget-view+json": {
       "model_id": "6dfe8b8fcfb24a869037a8bc378cdce1",
       "version_major": 2,
       "version_minor": 0
      },
      "text/plain": [
       "HBox(children=(IntProgress(value=0, max=1000), HTML(value='')))"
      ]
     },
     "metadata": {},
     "output_type": "display_data"
    },
    {
     "name": "stdout",
     "output_type": "stream",
     "text": [
      "\n"
     ]
    },
    {
     "name": "stderr",
     "output_type": "stream",
     "text": [
      "Epoch 13: 7.7s to complete\n",
      "    error(train)=1.05e-01, acc(train)=9.61e-01, error(valid)=1.79e+00, acc(valid)=8.26e-01\n"
     ]
    },
    {
     "data": {
      "application/vnd.jupyter.widget-view+json": {
       "model_id": "dd045b99db69498f90943513a147ba4c",
       "version_major": 2,
       "version_minor": 0
      },
      "text/plain": [
       "HBox(children=(IntProgress(value=0, max=1000), HTML(value='')))"
      ]
     },
     "metadata": {},
     "output_type": "display_data"
    },
    {
     "name": "stdout",
     "output_type": "stream",
     "text": [
      "\n"
     ]
    },
    {
     "name": "stderr",
     "output_type": "stream",
     "text": [
      "Epoch 14: 7.4s to complete\n",
      "    error(train)=1.08e-01, acc(train)=9.61e-01, error(valid)=1.88e+00, acc(valid)=8.18e-01\n"
     ]
    },
    {
     "data": {
      "application/vnd.jupyter.widget-view+json": {
       "model_id": "b95bc8b61fbf4db3aa4fa2b7362843ae",
       "version_major": 2,
       "version_minor": 0
      },
      "text/plain": [
       "HBox(children=(IntProgress(value=0, max=1000), HTML(value='')))"
      ]
     },
     "metadata": {},
     "output_type": "display_data"
    },
    {
     "name": "stdout",
     "output_type": "stream",
     "text": [
      "\n"
     ]
    },
    {
     "name": "stderr",
     "output_type": "stream",
     "text": [
      "Epoch 15: 7.3s to complete\n",
      "    error(train)=1.10e-01, acc(train)=9.60e-01, error(valid)=1.86e+00, acc(valid)=8.21e-01\n"
     ]
    },
    {
     "data": {
      "application/vnd.jupyter.widget-view+json": {
       "model_id": "baa4c3cfb7d34e539acd8954dd71ab3e",
       "version_major": 2,
       "version_minor": 0
      },
      "text/plain": [
       "HBox(children=(IntProgress(value=0, max=1000), HTML(value='')))"
      ]
     },
     "metadata": {},
     "output_type": "display_data"
    },
    {
     "name": "stdout",
     "output_type": "stream",
     "text": [
      "\n"
     ]
    },
    {
     "name": "stderr",
     "output_type": "stream",
     "text": [
      "Epoch 16: 7.3s to complete\n",
      "    error(train)=1.11e-01, acc(train)=9.60e-01, error(valid)=1.92e+00, acc(valid)=8.22e-01\n"
     ]
    },
    {
     "data": {
      "application/vnd.jupyter.widget-view+json": {
       "model_id": "1432cbfbb0e6484d97c55953a2c47d8f",
       "version_major": 2,
       "version_minor": 0
      },
      "text/plain": [
       "HBox(children=(IntProgress(value=0, max=1000), HTML(value='')))"
      ]
     },
     "metadata": {},
     "output_type": "display_data"
    },
    {
     "name": "stdout",
     "output_type": "stream",
     "text": [
      "\n"
     ]
    },
    {
     "name": "stderr",
     "output_type": "stream",
     "text": [
      "Epoch 17: 7.1s to complete\n",
      "    error(train)=9.48e-02, acc(train)=9.65e-01, error(valid)=1.88e+00, acc(valid)=8.20e-01\n"
     ]
    },
    {
     "data": {
      "application/vnd.jupyter.widget-view+json": {
       "model_id": "cbb6729d48404ec7803028540460cf5b",
       "version_major": 2,
       "version_minor": 0
      },
      "text/plain": [
       "HBox(children=(IntProgress(value=0, max=1000), HTML(value='')))"
      ]
     },
     "metadata": {},
     "output_type": "display_data"
    },
    {
     "name": "stdout",
     "output_type": "stream",
     "text": [
      "\n"
     ]
    },
    {
     "name": "stderr",
     "output_type": "stream",
     "text": [
      "Epoch 18: 7.1s to complete\n",
      "    error(train)=1.04e-01, acc(train)=9.62e-01, error(valid)=1.92e+00, acc(valid)=8.21e-01\n"
     ]
    },
    {
     "data": {
      "application/vnd.jupyter.widget-view+json": {
       "model_id": "893f691327ae42cea4766d1b0df5c89c",
       "version_major": 2,
       "version_minor": 0
      },
      "text/plain": [
       "HBox(children=(IntProgress(value=0, max=1000), HTML(value='')))"
      ]
     },
     "metadata": {},
     "output_type": "display_data"
    },
    {
     "name": "stdout",
     "output_type": "stream",
     "text": [
      "\n"
     ]
    },
    {
     "name": "stderr",
     "output_type": "stream",
     "text": [
      "Epoch 19: 7.2s to complete\n",
      "    error(train)=1.16e-01, acc(train)=9.59e-01, error(valid)=1.92e+00, acc(valid)=8.21e-01\n"
     ]
    },
    {
     "data": {
      "application/vnd.jupyter.widget-view+json": {
       "model_id": "b07e4d4cf5d349f396056eb47a1271cf",
       "version_major": 2,
       "version_minor": 0
      },
      "text/plain": [
       "HBox(children=(IntProgress(value=0, max=1000), HTML(value='')))"
      ]
     },
     "metadata": {},
     "output_type": "display_data"
    },
    {
     "name": "stdout",
     "output_type": "stream",
     "text": [
      "\n"
     ]
    },
    {
     "name": "stderr",
     "output_type": "stream",
     "text": [
      "Epoch 20: 6.9s to complete\n",
      "    error(train)=9.73e-02, acc(train)=9.63e-01, error(valid)=1.92e+00, acc(valid)=8.24e-01\n"
     ]
    },
    {
     "data": {
      "application/vnd.jupyter.widget-view+json": {
       "model_id": "2357790a23a64c929859daea8607fb0e",
       "version_major": 2,
       "version_minor": 0
      },
      "text/plain": [
       "HBox(children=(IntProgress(value=0, max=1000), HTML(value='')))"
      ]
     },
     "metadata": {},
     "output_type": "display_data"
    },
    {
     "name": "stdout",
     "output_type": "stream",
     "text": [
      "\n"
     ]
    },
    {
     "name": "stderr",
     "output_type": "stream",
     "text": [
      "Epoch 21: 6.9s to complete\n",
      "    error(train)=1.01e-01, acc(train)=9.63e-01, error(valid)=1.91e+00, acc(valid)=8.21e-01\n"
     ]
    },
    {
     "data": {
      "application/vnd.jupyter.widget-view+json": {
       "model_id": "c0bd1aad2358482a8af00ab6f82355d3",
       "version_major": 2,
       "version_minor": 0
      },
      "text/plain": [
       "HBox(children=(IntProgress(value=0, max=1000), HTML(value='')))"
      ]
     },
     "metadata": {},
     "output_type": "display_data"
    },
    {
     "name": "stdout",
     "output_type": "stream",
     "text": [
      "\n"
     ]
    },
    {
     "name": "stderr",
     "output_type": "stream",
     "text": [
      "Epoch 22: 8.1s to complete\n",
      "    error(train)=1.16e-01, acc(train)=9.60e-01, error(valid)=1.98e+00, acc(valid)=8.18e-01\n"
     ]
    },
    {
     "data": {
      "application/vnd.jupyter.widget-view+json": {
       "model_id": "ba1c08f2a63b4677af9678556ccf0933",
       "version_major": 2,
       "version_minor": 0
      },
      "text/plain": [
       "HBox(children=(IntProgress(value=0, max=1000), HTML(value='')))"
      ]
     },
     "metadata": {},
     "output_type": "display_data"
    },
    {
     "name": "stdout",
     "output_type": "stream",
     "text": [
      "\n"
     ]
    },
    {
     "name": "stderr",
     "output_type": "stream",
     "text": [
      "Epoch 23: 7.3s to complete\n",
      "    error(train)=9.84e-02, acc(train)=9.64e-01, error(valid)=1.99e+00, acc(valid)=8.22e-01\n"
     ]
    },
    {
     "data": {
      "application/vnd.jupyter.widget-view+json": {
       "model_id": "17ba6322791c4950912f777eb764231e",
       "version_major": 2,
       "version_minor": 0
      },
      "text/plain": [
       "HBox(children=(IntProgress(value=0, max=1000), HTML(value='')))"
      ]
     },
     "metadata": {},
     "output_type": "display_data"
    },
    {
     "name": "stdout",
     "output_type": "stream",
     "text": [
      "\n"
     ]
    },
    {
     "name": "stderr",
     "output_type": "stream",
     "text": [
      "Epoch 24: 7.4s to complete\n",
      "    error(train)=9.80e-02, acc(train)=9.63e-01, error(valid)=1.99e+00, acc(valid)=8.22e-01\n"
     ]
    },
    {
     "data": {
      "application/vnd.jupyter.widget-view+json": {
       "model_id": "fff0caafecab4e32ab74d3de9e7a7fa1",
       "version_major": 2,
       "version_minor": 0
      },
      "text/plain": [
       "HBox(children=(IntProgress(value=0, max=1000), HTML(value='')))"
      ]
     },
     "metadata": {},
     "output_type": "display_data"
    },
    {
     "name": "stdout",
     "output_type": "stream",
     "text": [
      "\n"
     ]
    },
    {
     "name": "stderr",
     "output_type": "stream",
     "text": [
      "Epoch 25: 6.9s to complete\n",
      "    error(train)=1.11e-01, acc(train)=9.59e-01, error(valid)=2.00e+00, acc(valid)=8.23e-01\n"
     ]
    },
    {
     "data": {
      "application/vnd.jupyter.widget-view+json": {
       "model_id": "19e9beaa1d0b44c19604c580ae0dcef7",
       "version_major": 2,
       "version_minor": 0
      },
      "text/plain": [
       "HBox(children=(IntProgress(value=0, max=1000), HTML(value='')))"
      ]
     },
     "metadata": {},
     "output_type": "display_data"
    },
    {
     "name": "stdout",
     "output_type": "stream",
     "text": [
      "\n"
     ]
    },
    {
     "name": "stderr",
     "output_type": "stream",
     "text": [
      "Epoch 26: 7.2s to complete\n",
      "    error(train)=1.03e-01, acc(train)=9.61e-01, error(valid)=1.96e+00, acc(valid)=8.21e-01\n"
     ]
    },
    {
     "data": {
      "application/vnd.jupyter.widget-view+json": {
       "model_id": "f405e90c067c43d499f91f355fc19566",
       "version_major": 2,
       "version_minor": 0
      },
      "text/plain": [
       "HBox(children=(IntProgress(value=0, max=1000), HTML(value='')))"
      ]
     },
     "metadata": {},
     "output_type": "display_data"
    },
    {
     "name": "stdout",
     "output_type": "stream",
     "text": [
      "\n"
     ]
    },
    {
     "name": "stderr",
     "output_type": "stream",
     "text": [
      "Epoch 27: 7.5s to complete\n",
      "    error(train)=1.05e-01, acc(train)=9.62e-01, error(valid)=1.99e+00, acc(valid)=8.19e-01\n"
     ]
    },
    {
     "data": {
      "application/vnd.jupyter.widget-view+json": {
       "model_id": "320b3d7415af437dbd42ed05d824d88f",
       "version_major": 2,
       "version_minor": 0
      },
      "text/plain": [
       "HBox(children=(IntProgress(value=0, max=1000), HTML(value='')))"
      ]
     },
     "metadata": {},
     "output_type": "display_data"
    },
    {
     "name": "stdout",
     "output_type": "stream",
     "text": [
      "\n"
     ]
    },
    {
     "name": "stderr",
     "output_type": "stream",
     "text": [
      "Epoch 28: 7.5s to complete\n",
      "    error(train)=9.59e-02, acc(train)=9.64e-01, error(valid)=2.03e+00, acc(valid)=8.18e-01\n"
     ]
    },
    {
     "data": {
      "application/vnd.jupyter.widget-view+json": {
       "model_id": "54aa23b50b49467aabf6f307df2e7cc0",
       "version_major": 2,
       "version_minor": 0
      },
      "text/plain": [
       "HBox(children=(IntProgress(value=0, max=1000), HTML(value='')))"
      ]
     },
     "metadata": {},
     "output_type": "display_data"
    },
    {
     "name": "stdout",
     "output_type": "stream",
     "text": [
      "\n"
     ]
    },
    {
     "name": "stderr",
     "output_type": "stream",
     "text": [
      "Epoch 29: 7.5s to complete\n",
      "    error(train)=1.02e-01, acc(train)=9.63e-01, error(valid)=2.04e+00, acc(valid)=8.15e-01\n"
     ]
    },
    {
     "data": {
      "application/vnd.jupyter.widget-view+json": {
       "model_id": "815621b57e554c9c9d83e96bfe33a581",
       "version_major": 2,
       "version_minor": 0
      },
      "text/plain": [
       "HBox(children=(IntProgress(value=0, max=1000), HTML(value='')))"
      ]
     },
     "metadata": {},
     "output_type": "display_data"
    },
    {
     "name": "stdout",
     "output_type": "stream",
     "text": [
      "\n"
     ]
    },
    {
     "name": "stderr",
     "output_type": "stream",
     "text": [
      "Epoch 30: 7.0s to complete\n",
      "    error(train)=9.92e-02, acc(train)=9.64e-01, error(valid)=2.01e+00, acc(valid)=8.22e-01\n"
     ]
    },
    {
     "data": {
      "application/vnd.jupyter.widget-view+json": {
       "model_id": "d09c627f68664850bb6aed7e0f97d57e",
       "version_major": 2,
       "version_minor": 0
      },
      "text/plain": [
       "HBox(children=(IntProgress(value=0, max=1000), HTML(value='')))"
      ]
     },
     "metadata": {},
     "output_type": "display_data"
    },
    {
     "name": "stdout",
     "output_type": "stream",
     "text": [
      "\n"
     ]
    },
    {
     "name": "stderr",
     "output_type": "stream",
     "text": [
      "Epoch 31: 7.1s to complete\n",
      "    error(train)=1.17e-01, acc(train)=9.59e-01, error(valid)=2.14e+00, acc(valid)=8.21e-01\n"
     ]
    },
    {
     "data": {
      "application/vnd.jupyter.widget-view+json": {
       "model_id": "1017439f00e641019ed335d2636b8dbd",
       "version_major": 2,
       "version_minor": 0
      },
      "text/plain": [
       "HBox(children=(IntProgress(value=0, max=1000), HTML(value='')))"
      ]
     },
     "metadata": {},
     "output_type": "display_data"
    },
    {
     "name": "stdout",
     "output_type": "stream",
     "text": [
      "\n"
     ]
    },
    {
     "name": "stderr",
     "output_type": "stream",
     "text": [
      "Epoch 32: 7.1s to complete\n",
      "    error(train)=9.06e-02, acc(train)=9.65e-01, error(valid)=2.07e+00, acc(valid)=8.19e-01\n"
     ]
    },
    {
     "data": {
      "application/vnd.jupyter.widget-view+json": {
       "model_id": "895113ca4a26449abdb262e84e4c3f30",
       "version_major": 2,
       "version_minor": 0
      },
      "text/plain": [
       "HBox(children=(IntProgress(value=0, max=1000), HTML(value='')))"
      ]
     },
     "metadata": {},
     "output_type": "display_data"
    },
    {
     "name": "stdout",
     "output_type": "stream",
     "text": [
      "\n"
     ]
    },
    {
     "name": "stderr",
     "output_type": "stream",
     "text": [
      "Epoch 33: 6.9s to complete\n",
      "    error(train)=1.05e-01, acc(train)=9.62e-01, error(valid)=2.11e+00, acc(valid)=8.18e-01\n"
     ]
    },
    {
     "data": {
      "application/vnd.jupyter.widget-view+json": {
       "model_id": "8bcf486d4a704e70a997809a6d3242c4",
       "version_major": 2,
       "version_minor": 0
      },
      "text/plain": [
       "HBox(children=(IntProgress(value=0, max=1000), HTML(value='')))"
      ]
     },
     "metadata": {},
     "output_type": "display_data"
    },
    {
     "name": "stdout",
     "output_type": "stream",
     "text": [
      "\n"
     ]
    },
    {
     "name": "stderr",
     "output_type": "stream",
     "text": [
      "Epoch 34: 7.2s to complete\n",
      "    error(train)=9.03e-02, acc(train)=9.66e-01, error(valid)=2.06e+00, acc(valid)=8.25e-01\n"
     ]
    },
    {
     "data": {
      "application/vnd.jupyter.widget-view+json": {
       "model_id": "c206b471b48f4876bb255f99fc12cd56",
       "version_major": 2,
       "version_minor": 0
      },
      "text/plain": [
       "HBox(children=(IntProgress(value=0, max=1000), HTML(value='')))"
      ]
     },
     "metadata": {},
     "output_type": "display_data"
    },
    {
     "name": "stdout",
     "output_type": "stream",
     "text": [
      "\n"
     ]
    },
    {
     "name": "stderr",
     "output_type": "stream",
     "text": [
      "Epoch 35: 7.9s to complete\n",
      "    error(train)=1.03e-01, acc(train)=9.63e-01, error(valid)=2.16e+00, acc(valid)=8.18e-01\n"
     ]
    },
    {
     "data": {
      "application/vnd.jupyter.widget-view+json": {
       "model_id": "accbfd9d86254aedb56f3c1d2b4b7269",
       "version_major": 2,
       "version_minor": 0
      },
      "text/plain": [
       "HBox(children=(IntProgress(value=0, max=1000), HTML(value='')))"
      ]
     },
     "metadata": {},
     "output_type": "display_data"
    },
    {
     "name": "stdout",
     "output_type": "stream",
     "text": [
      "\n"
     ]
    },
    {
     "name": "stderr",
     "output_type": "stream",
     "text": [
      "Epoch 36: 7.1s to complete\n",
      "    error(train)=1.30e-01, acc(train)=9.57e-01, error(valid)=2.22e+00, acc(valid)=8.14e-01\n"
     ]
    },
    {
     "data": {
      "application/vnd.jupyter.widget-view+json": {
       "model_id": "c692074dcb064d9ba228718040050811",
       "version_major": 2,
       "version_minor": 0
      },
      "text/plain": [
       "HBox(children=(IntProgress(value=0, max=1000), HTML(value='')))"
      ]
     },
     "metadata": {},
     "output_type": "display_data"
    },
    {
     "name": "stdout",
     "output_type": "stream",
     "text": [
      "\n"
     ]
    },
    {
     "name": "stderr",
     "output_type": "stream",
     "text": [
      "Epoch 37: 7.2s to complete\n",
      "    error(train)=1.06e-01, acc(train)=9.63e-01, error(valid)=2.18e+00, acc(valid)=8.19e-01\n"
     ]
    },
    {
     "data": {
      "application/vnd.jupyter.widget-view+json": {
       "model_id": "4b4f6eeab89a41e58255a82fa583f02f",
       "version_major": 2,
       "version_minor": 0
      },
      "text/plain": [
       "HBox(children=(IntProgress(value=0, max=1000), HTML(value='')))"
      ]
     },
     "metadata": {},
     "output_type": "display_data"
    },
    {
     "name": "stdout",
     "output_type": "stream",
     "text": [
      "\n"
     ]
    },
    {
     "name": "stderr",
     "output_type": "stream",
     "text": [
      "Epoch 38: 7.4s to complete\n",
      "    error(train)=1.01e-01, acc(train)=9.63e-01, error(valid)=2.16e+00, acc(valid)=8.19e-01\n"
     ]
    },
    {
     "data": {
      "application/vnd.jupyter.widget-view+json": {
       "model_id": "2e83176df87b49ff8649bb77d8670d29",
       "version_major": 2,
       "version_minor": 0
      },
      "text/plain": [
       "HBox(children=(IntProgress(value=0, max=1000), HTML(value='')))"
      ]
     },
     "metadata": {},
     "output_type": "display_data"
    },
    {
     "name": "stdout",
     "output_type": "stream",
     "text": [
      "\n"
     ]
    },
    {
     "name": "stderr",
     "output_type": "stream",
     "text": [
      "Epoch 39: 7.8s to complete\n",
      "    error(train)=9.49e-02, acc(train)=9.66e-01, error(valid)=2.24e+00, acc(valid)=8.21e-01\n"
     ]
    },
    {
     "data": {
      "application/vnd.jupyter.widget-view+json": {
       "model_id": "d27da65a65f74bf6a5fba0bbb09bc3c4",
       "version_major": 2,
       "version_minor": 0
      },
      "text/plain": [
       "HBox(children=(IntProgress(value=0, max=1000), HTML(value='')))"
      ]
     },
     "metadata": {},
     "output_type": "display_data"
    },
    {
     "name": "stdout",
     "output_type": "stream",
     "text": [
      "\n"
     ]
    },
    {
     "name": "stderr",
     "output_type": "stream",
     "text": [
      "Epoch 40: 7.2s to complete\n",
      "    error(train)=1.02e-01, acc(train)=9.64e-01, error(valid)=2.17e+00, acc(valid)=8.23e-01\n"
     ]
    },
    {
     "data": {
      "application/vnd.jupyter.widget-view+json": {
       "model_id": "b545b601c4794d39b025432e93ade731",
       "version_major": 2,
       "version_minor": 0
      },
      "text/plain": [
       "HBox(children=(IntProgress(value=0, max=1000), HTML(value='')))"
      ]
     },
     "metadata": {},
     "output_type": "display_data"
    },
    {
     "name": "stdout",
     "output_type": "stream",
     "text": [
      "\n"
     ]
    },
    {
     "name": "stderr",
     "output_type": "stream",
     "text": [
      "Epoch 41: 7.4s to complete\n",
      "    error(train)=8.94e-02, acc(train)=9.67e-01, error(valid)=2.19e+00, acc(valid)=8.21e-01\n"
     ]
    },
    {
     "data": {
      "application/vnd.jupyter.widget-view+json": {
       "model_id": "ca2fdfaec4f34e2a977a535abd2400c4",
       "version_major": 2,
       "version_minor": 0
      },
      "text/plain": [
       "HBox(children=(IntProgress(value=0, max=1000), HTML(value='')))"
      ]
     },
     "metadata": {},
     "output_type": "display_data"
    },
    {
     "name": "stdout",
     "output_type": "stream",
     "text": [
      "\n"
     ]
    },
    {
     "name": "stderr",
     "output_type": "stream",
     "text": [
      "Epoch 42: 7.0s to complete\n",
      "    error(train)=9.83e-02, acc(train)=9.65e-01, error(valid)=2.17e+00, acc(valid)=8.21e-01\n"
     ]
    },
    {
     "data": {
      "application/vnd.jupyter.widget-view+json": {
       "model_id": "6c82ea23d19547a38b113abb99066966",
       "version_major": 2,
       "version_minor": 0
      },
      "text/plain": [
       "HBox(children=(IntProgress(value=0, max=1000), HTML(value='')))"
      ]
     },
     "metadata": {},
     "output_type": "display_data"
    },
    {
     "name": "stdout",
     "output_type": "stream",
     "text": [
      "\n"
     ]
    },
    {
     "name": "stderr",
     "output_type": "stream",
     "text": [
      "Epoch 43: 7.4s to complete\n",
      "    error(train)=1.03e-01, acc(train)=9.64e-01, error(valid)=2.24e+00, acc(valid)=8.23e-01\n"
     ]
    },
    {
     "data": {
      "application/vnd.jupyter.widget-view+json": {
       "model_id": "06f0e66c6ade4ec3a7531676e63adbc7",
       "version_major": 2,
       "version_minor": 0
      },
      "text/plain": [
       "HBox(children=(IntProgress(value=0, max=1000), HTML(value='')))"
      ]
     },
     "metadata": {},
     "output_type": "display_data"
    },
    {
     "name": "stdout",
     "output_type": "stream",
     "text": [
      "\n"
     ]
    },
    {
     "name": "stderr",
     "output_type": "stream",
     "text": [
      "Epoch 44: 11.7s to complete\n",
      "    error(train)=9.66e-02, acc(train)=9.66e-01, error(valid)=2.26e+00, acc(valid)=8.20e-01\n"
     ]
    },
    {
     "data": {
      "application/vnd.jupyter.widget-view+json": {
       "model_id": "c26575bc78fd4c1f818c0e8c108abfab",
       "version_major": 2,
       "version_minor": 0
      },
      "text/plain": [
       "HBox(children=(IntProgress(value=0, max=1000), HTML(value='')))"
      ]
     },
     "metadata": {},
     "output_type": "display_data"
    },
    {
     "name": "stdout",
     "output_type": "stream",
     "text": [
      "\n"
     ]
    },
    {
     "name": "stderr",
     "output_type": "stream",
     "text": [
      "Epoch 45: 10.1s to complete\n",
      "    error(train)=1.21e-01, acc(train)=9.61e-01, error(valid)=2.38e+00, acc(valid)=8.19e-01\n"
     ]
    },
    {
     "data": {
      "application/vnd.jupyter.widget-view+json": {
       "model_id": "cb498f5a92f74f1db43695c3d5147f34",
       "version_major": 2,
       "version_minor": 0
      },
      "text/plain": [
       "HBox(children=(IntProgress(value=0, max=1000), HTML(value='')))"
      ]
     },
     "metadata": {},
     "output_type": "display_data"
    },
    {
     "name": "stdout",
     "output_type": "stream",
     "text": [
      "\n"
     ]
    },
    {
     "name": "stderr",
     "output_type": "stream",
     "text": [
      "Epoch 46: 8.1s to complete\n",
      "    error(train)=1.13e-01, acc(train)=9.62e-01, error(valid)=2.29e+00, acc(valid)=8.17e-01\n"
     ]
    },
    {
     "data": {
      "application/vnd.jupyter.widget-view+json": {
       "model_id": "70c444a5d9754707b16220de1db707b7",
       "version_major": 2,
       "version_minor": 0
      },
      "text/plain": [
       "HBox(children=(IntProgress(value=0, max=1000), HTML(value='')))"
      ]
     },
     "metadata": {},
     "output_type": "display_data"
    },
    {
     "name": "stdout",
     "output_type": "stream",
     "text": [
      "\n"
     ]
    },
    {
     "name": "stderr",
     "output_type": "stream",
     "text": [
      "Epoch 47: 7.9s to complete\n",
      "    error(train)=1.00e-01, acc(train)=9.65e-01, error(valid)=2.28e+00, acc(valid)=8.19e-01\n"
     ]
    },
    {
     "data": {
      "application/vnd.jupyter.widget-view+json": {
       "model_id": "92289381d5f34163ab366ea879bdb475",
       "version_major": 2,
       "version_minor": 0
      },
      "text/plain": [
       "HBox(children=(IntProgress(value=0, max=1000), HTML(value='')))"
      ]
     },
     "metadata": {},
     "output_type": "display_data"
    },
    {
     "name": "stdout",
     "output_type": "stream",
     "text": [
      "\n"
     ]
    },
    {
     "name": "stderr",
     "output_type": "stream",
     "text": [
      "Epoch 48: 8.3s to complete\n",
      "    error(train)=9.97e-02, acc(train)=9.65e-01, error(valid)=2.38e+00, acc(valid)=8.17e-01\n"
     ]
    },
    {
     "data": {
      "application/vnd.jupyter.widget-view+json": {
       "model_id": "30bd6a0d075848949a051a4e7c7c94b5",
       "version_major": 2,
       "version_minor": 0
      },
      "text/plain": [
       "HBox(children=(IntProgress(value=0, max=1000), HTML(value='')))"
      ]
     },
     "metadata": {},
     "output_type": "display_data"
    },
    {
     "name": "stdout",
     "output_type": "stream",
     "text": [
      "\n"
     ]
    },
    {
     "name": "stderr",
     "output_type": "stream",
     "text": [
      "Epoch 49: 10.2s to complete\n",
      "    error(train)=1.01e-01, acc(train)=9.65e-01, error(valid)=2.30e+00, acc(valid)=8.19e-01\n"
     ]
    },
    {
     "data": {
      "application/vnd.jupyter.widget-view+json": {
       "model_id": "6cfe7d4bf829459f8b050a86b34c0cb1",
       "version_major": 2,
       "version_minor": 0
      },
      "text/plain": [
       "HBox(children=(IntProgress(value=0, max=1000), HTML(value='')))"
      ]
     },
     "metadata": {},
     "output_type": "display_data"
    },
    {
     "name": "stdout",
     "output_type": "stream",
     "text": [
      "\n"
     ]
    },
    {
     "name": "stderr",
     "output_type": "stream",
     "text": [
      "Epoch 50: 8.5s to complete\n",
      "    error(train)=9.05e-02, acc(train)=9.67e-01, error(valid)=2.28e+00, acc(valid)=8.23e-01\n"
     ]
    },
    {
     "data": {
      "application/vnd.jupyter.widget-view+json": {
       "model_id": "de661883ddaf43c5bac3ccf7d4eeda70",
       "version_major": 2,
       "version_minor": 0
      },
      "text/plain": [
       "HBox(children=(IntProgress(value=0, max=1000), HTML(value='')))"
      ]
     },
     "metadata": {},
     "output_type": "display_data"
    },
    {
     "name": "stdout",
     "output_type": "stream",
     "text": [
      "\n"
     ]
    },
    {
     "name": "stderr",
     "output_type": "stream",
     "text": [
      "Epoch 51: 7.3s to complete\n",
      "    error(train)=8.63e-02, acc(train)=9.68e-01, error(valid)=2.28e+00, acc(valid)=8.20e-01\n"
     ]
    },
    {
     "data": {
      "application/vnd.jupyter.widget-view+json": {
       "model_id": "79ea653a4b14494c8a652c7d9f91e6f0",
       "version_major": 2,
       "version_minor": 0
      },
      "text/plain": [
       "HBox(children=(IntProgress(value=0, max=1000), HTML(value='')))"
      ]
     },
     "metadata": {},
     "output_type": "display_data"
    },
    {
     "name": "stdout",
     "output_type": "stream",
     "text": [
      "\n"
     ]
    },
    {
     "name": "stderr",
     "output_type": "stream",
     "text": [
      "Epoch 52: 7.3s to complete\n",
      "    error(train)=9.60e-02, acc(train)=9.66e-01, error(valid)=2.30e+00, acc(valid)=8.24e-01\n"
     ]
    },
    {
     "data": {
      "application/vnd.jupyter.widget-view+json": {
       "model_id": "c0334cc925db4f7b9bdbe5c7beb362d0",
       "version_major": 2,
       "version_minor": 0
      },
      "text/plain": [
       "HBox(children=(IntProgress(value=0, max=1000), HTML(value='')))"
      ]
     },
     "metadata": {},
     "output_type": "display_data"
    },
    {
     "name": "stdout",
     "output_type": "stream",
     "text": [
      "\n"
     ]
    },
    {
     "name": "stderr",
     "output_type": "stream",
     "text": [
      "Epoch 53: 7.0s to complete\n",
      "    error(train)=9.83e-02, acc(train)=9.65e-01, error(valid)=2.37e+00, acc(valid)=8.24e-01\n"
     ]
    },
    {
     "data": {
      "application/vnd.jupyter.widget-view+json": {
       "model_id": "35b058b02d85494e89fe68360b78dee6",
       "version_major": 2,
       "version_minor": 0
      },
      "text/plain": [
       "HBox(children=(IntProgress(value=0, max=1000), HTML(value='')))"
      ]
     },
     "metadata": {},
     "output_type": "display_data"
    },
    {
     "name": "stdout",
     "output_type": "stream",
     "text": [
      "\n"
     ]
    },
    {
     "name": "stderr",
     "output_type": "stream",
     "text": [
      "Epoch 54: 7.2s to complete\n",
      "    error(train)=9.58e-02, acc(train)=9.66e-01, error(valid)=2.35e+00, acc(valid)=8.18e-01\n"
     ]
    },
    {
     "data": {
      "application/vnd.jupyter.widget-view+json": {
       "model_id": "cc5441be1b3348a7bb6d7318b0ab48ec",
       "version_major": 2,
       "version_minor": 0
      },
      "text/plain": [
       "HBox(children=(IntProgress(value=0, max=1000), HTML(value='')))"
      ]
     },
     "metadata": {},
     "output_type": "display_data"
    },
    {
     "name": "stdout",
     "output_type": "stream",
     "text": [
      "\n"
     ]
    },
    {
     "name": "stderr",
     "output_type": "stream",
     "text": [
      "Epoch 55: 8.6s to complete\n",
      "    error(train)=8.53e-02, acc(train)=9.68e-01, error(valid)=2.30e+00, acc(valid)=8.20e-01\n"
     ]
    },
    {
     "data": {
      "application/vnd.jupyter.widget-view+json": {
       "model_id": "930a3539fe0d43669302678bb8e221f6",
       "version_major": 2,
       "version_minor": 0
      },
      "text/plain": [
       "HBox(children=(IntProgress(value=0, max=1000), HTML(value='')))"
      ]
     },
     "metadata": {},
     "output_type": "display_data"
    },
    {
     "name": "stdout",
     "output_type": "stream",
     "text": [
      "\n"
     ]
    },
    {
     "name": "stderr",
     "output_type": "stream",
     "text": [
      "Epoch 56: 7.3s to complete\n",
      "    error(train)=1.04e-01, acc(train)=9.65e-01, error(valid)=2.38e+00, acc(valid)=8.15e-01\n"
     ]
    },
    {
     "data": {
      "application/vnd.jupyter.widget-view+json": {
       "model_id": "b13cb13579df4afc9c736a74aef41ebc",
       "version_major": 2,
       "version_minor": 0
      },
      "text/plain": [
       "HBox(children=(IntProgress(value=0, max=1000), HTML(value='')))"
      ]
     },
     "metadata": {},
     "output_type": "display_data"
    },
    {
     "name": "stdout",
     "output_type": "stream",
     "text": [
      "\n"
     ]
    },
    {
     "name": "stderr",
     "output_type": "stream",
     "text": [
      "Epoch 57: 7.6s to complete\n",
      "    error(train)=9.38e-02, acc(train)=9.67e-01, error(valid)=2.42e+00, acc(valid)=8.17e-01\n"
     ]
    },
    {
     "data": {
      "application/vnd.jupyter.widget-view+json": {
       "model_id": "3e724e90ef8f44e3a87a112883465f89",
       "version_major": 2,
       "version_minor": 0
      },
      "text/plain": [
       "HBox(children=(IntProgress(value=0, max=1000), HTML(value='')))"
      ]
     },
     "metadata": {},
     "output_type": "display_data"
    },
    {
     "name": "stdout",
     "output_type": "stream",
     "text": [
      "\n"
     ]
    },
    {
     "name": "stderr",
     "output_type": "stream",
     "text": [
      "Epoch 58: 7.4s to complete\n",
      "    error(train)=1.13e-01, acc(train)=9.64e-01, error(valid)=2.43e+00, acc(valid)=8.21e-01\n"
     ]
    },
    {
     "data": {
      "application/vnd.jupyter.widget-view+json": {
       "model_id": "184d4fba53ba441da72c478d79500435",
       "version_major": 2,
       "version_minor": 0
      },
      "text/plain": [
       "HBox(children=(IntProgress(value=0, max=1000), HTML(value='')))"
      ]
     },
     "metadata": {},
     "output_type": "display_data"
    },
    {
     "name": "stdout",
     "output_type": "stream",
     "text": [
      "\n"
     ]
    },
    {
     "name": "stderr",
     "output_type": "stream",
     "text": [
      "Epoch 59: 7.2s to complete\n",
      "    error(train)=1.01e-01, acc(train)=9.65e-01, error(valid)=2.37e+00, acc(valid)=8.20e-01\n"
     ]
    },
    {
     "data": {
      "application/vnd.jupyter.widget-view+json": {
       "model_id": "dc65e167a4aa468aa50aa622a878b67b",
       "version_major": 2,
       "version_minor": 0
      },
      "text/plain": [
       "HBox(children=(IntProgress(value=0, max=1000), HTML(value='')))"
      ]
     },
     "metadata": {},
     "output_type": "display_data"
    },
    {
     "name": "stdout",
     "output_type": "stream",
     "text": [
      "\n"
     ]
    },
    {
     "name": "stderr",
     "output_type": "stream",
     "text": [
      "Epoch 60: 7.0s to complete\n",
      "    error(train)=1.03e-01, acc(train)=9.64e-01, error(valid)=2.40e+00, acc(valid)=8.19e-01\n"
     ]
    },
    {
     "data": {
      "application/vnd.jupyter.widget-view+json": {
       "model_id": "eb6373c18d6746ac84a65f7c2d8ab902",
       "version_major": 2,
       "version_minor": 0
      },
      "text/plain": [
       "HBox(children=(IntProgress(value=0, max=1000), HTML(value='')))"
      ]
     },
     "metadata": {},
     "output_type": "display_data"
    },
    {
     "name": "stdout",
     "output_type": "stream",
     "text": [
      "\n"
     ]
    },
    {
     "name": "stderr",
     "output_type": "stream",
     "text": [
      "Epoch 61: 7.3s to complete\n",
      "    error(train)=1.23e-01, acc(train)=9.60e-01, error(valid)=2.52e+00, acc(valid)=8.11e-01\n"
     ]
    },
    {
     "data": {
      "application/vnd.jupyter.widget-view+json": {
       "model_id": "abd00b0e29d34995b98439ba538e4f65",
       "version_major": 2,
       "version_minor": 0
      },
      "text/plain": [
       "HBox(children=(IntProgress(value=0, max=1000), HTML(value='')))"
      ]
     },
     "metadata": {},
     "output_type": "display_data"
    },
    {
     "name": "stdout",
     "output_type": "stream",
     "text": [
      "\n"
     ]
    },
    {
     "name": "stderr",
     "output_type": "stream",
     "text": [
      "Epoch 62: 7.4s to complete\n",
      "    error(train)=8.41e-02, acc(train)=9.70e-01, error(valid)=2.47e+00, acc(valid)=8.18e-01\n"
     ]
    },
    {
     "data": {
      "application/vnd.jupyter.widget-view+json": {
       "model_id": "194056ec4a0f41da8c8a3d719ddeb178",
       "version_major": 2,
       "version_minor": 0
      },
      "text/plain": [
       "HBox(children=(IntProgress(value=0, max=1000), HTML(value='')))"
      ]
     },
     "metadata": {},
     "output_type": "display_data"
    },
    {
     "name": "stdout",
     "output_type": "stream",
     "text": [
      "\n"
     ]
    },
    {
     "name": "stderr",
     "output_type": "stream",
     "text": [
      "Epoch 63: 6.9s to complete\n",
      "    error(train)=9.96e-02, acc(train)=9.65e-01, error(valid)=2.50e+00, acc(valid)=8.15e-01\n"
     ]
    },
    {
     "data": {
      "application/vnd.jupyter.widget-view+json": {
       "model_id": "8927283c493d4e669c00d41623629862",
       "version_major": 2,
       "version_minor": 0
      },
      "text/plain": [
       "HBox(children=(IntProgress(value=0, max=1000), HTML(value='')))"
      ]
     },
     "metadata": {},
     "output_type": "display_data"
    },
    {
     "name": "stdout",
     "output_type": "stream",
     "text": [
      "\n"
     ]
    },
    {
     "name": "stderr",
     "output_type": "stream",
     "text": [
      "Epoch 64: 7.1s to complete\n",
      "    error(train)=8.86e-02, acc(train)=9.69e-01, error(valid)=2.46e+00, acc(valid)=8.22e-01\n"
     ]
    },
    {
     "data": {
      "application/vnd.jupyter.widget-view+json": {
       "model_id": "f4637651b65b43fdb78a38bf39c64814",
       "version_major": 2,
       "version_minor": 0
      },
      "text/plain": [
       "HBox(children=(IntProgress(value=0, max=1000), HTML(value='')))"
      ]
     },
     "metadata": {},
     "output_type": "display_data"
    },
    {
     "name": "stdout",
     "output_type": "stream",
     "text": [
      "\n"
     ]
    },
    {
     "name": "stderr",
     "output_type": "stream",
     "text": [
      "Epoch 65: 7.0s to complete\n",
      "    error(train)=9.03e-02, acc(train)=9.69e-01, error(valid)=2.52e+00, acc(valid)=8.23e-01\n"
     ]
    },
    {
     "data": {
      "application/vnd.jupyter.widget-view+json": {
       "model_id": "632ec854ade04f9f9db2e18acefe2326",
       "version_major": 2,
       "version_minor": 0
      },
      "text/plain": [
       "HBox(children=(IntProgress(value=0, max=1000), HTML(value='')))"
      ]
     },
     "metadata": {},
     "output_type": "display_data"
    },
    {
     "name": "stdout",
     "output_type": "stream",
     "text": [
      "\n"
     ]
    },
    {
     "name": "stderr",
     "output_type": "stream",
     "text": [
      "Epoch 66: 7.2s to complete\n",
      "    error(train)=1.15e-01, acc(train)=9.62e-01, error(valid)=2.59e+00, acc(valid)=8.19e-01\n"
     ]
    },
    {
     "data": {
      "application/vnd.jupyter.widget-view+json": {
       "model_id": "e4460987402e4ab9bcd5b549a352c229",
       "version_major": 2,
       "version_minor": 0
      },
      "text/plain": [
       "HBox(children=(IntProgress(value=0, max=1000), HTML(value='')))"
      ]
     },
     "metadata": {},
     "output_type": "display_data"
    },
    {
     "name": "stdout",
     "output_type": "stream",
     "text": [
      "\n"
     ]
    },
    {
     "name": "stderr",
     "output_type": "stream",
     "text": [
      "Epoch 67: 7.8s to complete\n",
      "    error(train)=8.99e-02, acc(train)=9.68e-01, error(valid)=2.48e+00, acc(valid)=8.19e-01\n"
     ]
    },
    {
     "data": {
      "application/vnd.jupyter.widget-view+json": {
       "model_id": "52f1398f10f34e25a085abe2f52207de",
       "version_major": 2,
       "version_minor": 0
      },
      "text/plain": [
       "HBox(children=(IntProgress(value=0, max=1000), HTML(value='')))"
      ]
     },
     "metadata": {},
     "output_type": "display_data"
    },
    {
     "name": "stdout",
     "output_type": "stream",
     "text": [
      "\n"
     ]
    },
    {
     "name": "stderr",
     "output_type": "stream",
     "text": [
      "Epoch 68: 7.0s to complete\n",
      "    error(train)=9.44e-02, acc(train)=9.66e-01, error(valid)=2.47e+00, acc(valid)=8.19e-01\n"
     ]
    },
    {
     "data": {
      "application/vnd.jupyter.widget-view+json": {
       "model_id": "81b6fdb3aa09447cb73f401b8a323966",
       "version_major": 2,
       "version_minor": 0
      },
      "text/plain": [
       "HBox(children=(IntProgress(value=0, max=1000), HTML(value='')))"
      ]
     },
     "metadata": {},
     "output_type": "display_data"
    },
    {
     "name": "stdout",
     "output_type": "stream",
     "text": [
      "\n"
     ]
    },
    {
     "name": "stderr",
     "output_type": "stream",
     "text": [
      "Epoch 69: 7.5s to complete\n",
      "    error(train)=9.47e-02, acc(train)=9.68e-01, error(valid)=2.57e+00, acc(valid)=8.22e-01\n"
     ]
    },
    {
     "data": {
      "application/vnd.jupyter.widget-view+json": {
       "model_id": "9e652e7849c14eb887440bbeb8550207",
       "version_major": 2,
       "version_minor": 0
      },
      "text/plain": [
       "HBox(children=(IntProgress(value=0, max=1000), HTML(value='')))"
      ]
     },
     "metadata": {},
     "output_type": "display_data"
    },
    {
     "name": "stdout",
     "output_type": "stream",
     "text": [
      "\n"
     ]
    },
    {
     "name": "stderr",
     "output_type": "stream",
     "text": [
      "Epoch 70: 7.3s to complete\n",
      "    error(train)=9.52e-02, acc(train)=9.68e-01, error(valid)=2.56e+00, acc(valid)=8.21e-01\n"
     ]
    },
    {
     "data": {
      "application/vnd.jupyter.widget-view+json": {
       "model_id": "381d927361fa41f1bf3bcc81b8d5398d",
       "version_major": 2,
       "version_minor": 0
      },
      "text/plain": [
       "HBox(children=(IntProgress(value=0, max=1000), HTML(value='')))"
      ]
     },
     "metadata": {},
     "output_type": "display_data"
    },
    {
     "name": "stdout",
     "output_type": "stream",
     "text": [
      "\n"
     ]
    },
    {
     "name": "stderr",
     "output_type": "stream",
     "text": [
      "Epoch 71: 10.3s to complete\n",
      "    error(train)=1.01e-01, acc(train)=9.66e-01, error(valid)=2.63e+00, acc(valid)=8.19e-01\n"
     ]
    },
    {
     "data": {
      "application/vnd.jupyter.widget-view+json": {
       "model_id": "1b46c40218884324ade4eb8f5a19872a",
       "version_major": 2,
       "version_minor": 0
      },
      "text/plain": [
       "HBox(children=(IntProgress(value=0, max=1000), HTML(value='')))"
      ]
     },
     "metadata": {},
     "output_type": "display_data"
    },
    {
     "name": "stdout",
     "output_type": "stream",
     "text": [
      "\n"
     ]
    },
    {
     "name": "stderr",
     "output_type": "stream",
     "text": [
      "Epoch 72: 7.5s to complete\n",
      "    error(train)=1.08e-01, acc(train)=9.66e-01, error(valid)=2.57e+00, acc(valid)=8.15e-01\n"
     ]
    },
    {
     "data": {
      "application/vnd.jupyter.widget-view+json": {
       "model_id": "6e52e217fe234156b988561838c99a4f",
       "version_major": 2,
       "version_minor": 0
      },
      "text/plain": [
       "HBox(children=(IntProgress(value=0, max=1000), HTML(value='')))"
      ]
     },
     "metadata": {},
     "output_type": "display_data"
    },
    {
     "name": "stdout",
     "output_type": "stream",
     "text": [
      "\n"
     ]
    },
    {
     "name": "stderr",
     "output_type": "stream",
     "text": [
      "Epoch 73: 8.8s to complete\n",
      "    error(train)=8.58e-02, acc(train)=9.70e-01, error(valid)=2.58e+00, acc(valid)=8.22e-01\n"
     ]
    },
    {
     "data": {
      "application/vnd.jupyter.widget-view+json": {
       "model_id": "c775111f2c40490f80481637dd0ec746",
       "version_major": 2,
       "version_minor": 0
      },
      "text/plain": [
       "HBox(children=(IntProgress(value=0, max=1000), HTML(value='')))"
      ]
     },
     "metadata": {},
     "output_type": "display_data"
    },
    {
     "name": "stdout",
     "output_type": "stream",
     "text": [
      "\n"
     ]
    },
    {
     "name": "stderr",
     "output_type": "stream",
     "text": [
      "Epoch 74: 9.8s to complete\n",
      "    error(train)=1.21e-01, acc(train)=9.60e-01, error(valid)=2.64e+00, acc(valid)=8.16e-01\n"
     ]
    },
    {
     "data": {
      "application/vnd.jupyter.widget-view+json": {
       "model_id": "6358430651194918bbd8fb3fd7f1bc52",
       "version_major": 2,
       "version_minor": 0
      },
      "text/plain": [
       "HBox(children=(IntProgress(value=0, max=1000), HTML(value='')))"
      ]
     },
     "metadata": {},
     "output_type": "display_data"
    },
    {
     "name": "stdout",
     "output_type": "stream",
     "text": [
      "\n"
     ]
    },
    {
     "name": "stderr",
     "output_type": "stream",
     "text": [
      "Epoch 75: 7.4s to complete\n",
      "    error(train)=9.85e-02, acc(train)=9.67e-01, error(valid)=2.66e+00, acc(valid)=8.19e-01\n"
     ]
    },
    {
     "data": {
      "application/vnd.jupyter.widget-view+json": {
       "model_id": "ac94320f7c474fc185b76f16a7678e68",
       "version_major": 2,
       "version_minor": 0
      },
      "text/plain": [
       "HBox(children=(IntProgress(value=0, max=1000), HTML(value='')))"
      ]
     },
     "metadata": {},
     "output_type": "display_data"
    },
    {
     "name": "stdout",
     "output_type": "stream",
     "text": [
      "\n"
     ]
    },
    {
     "name": "stderr",
     "output_type": "stream",
     "text": [
      "Epoch 76: 7.1s to complete\n",
      "    error(train)=8.94e-02, acc(train)=9.69e-01, error(valid)=2.59e+00, acc(valid)=8.16e-01\n"
     ]
    },
    {
     "data": {
      "application/vnd.jupyter.widget-view+json": {
       "model_id": "9bf42a17271d43c8afe2b9d6b753b79d",
       "version_major": 2,
       "version_minor": 0
      },
      "text/plain": [
       "HBox(children=(IntProgress(value=0, max=1000), HTML(value='')))"
      ]
     },
     "metadata": {},
     "output_type": "display_data"
    },
    {
     "name": "stdout",
     "output_type": "stream",
     "text": [
      "\n"
     ]
    },
    {
     "name": "stderr",
     "output_type": "stream",
     "text": [
      "Epoch 77: 7.0s to complete\n",
      "    error(train)=9.44e-02, acc(train)=9.68e-01, error(valid)=2.64e+00, acc(valid)=8.21e-01\n"
     ]
    },
    {
     "data": {
      "application/vnd.jupyter.widget-view+json": {
       "model_id": "78592aed1f8449328f1ee60f2d115ae3",
       "version_major": 2,
       "version_minor": 0
      },
      "text/plain": [
       "HBox(children=(IntProgress(value=0, max=1000), HTML(value='')))"
      ]
     },
     "metadata": {},
     "output_type": "display_data"
    },
    {
     "name": "stdout",
     "output_type": "stream",
     "text": [
      "\n"
     ]
    },
    {
     "name": "stderr",
     "output_type": "stream",
     "text": [
      "Epoch 78: 7.0s to complete\n",
      "    error(train)=9.78e-02, acc(train)=9.67e-01, error(valid)=2.74e+00, acc(valid)=8.16e-01\n"
     ]
    },
    {
     "data": {
      "application/vnd.jupyter.widget-view+json": {
       "model_id": "d8cedef3f90a4bab91805fe9a9cc93e7",
       "version_major": 2,
       "version_minor": 0
      },
      "text/plain": [
       "HBox(children=(IntProgress(value=0, max=1000), HTML(value='')))"
      ]
     },
     "metadata": {},
     "output_type": "display_data"
    },
    {
     "name": "stdout",
     "output_type": "stream",
     "text": [
      "\n"
     ]
    },
    {
     "name": "stderr",
     "output_type": "stream",
     "text": [
      "Epoch 79: 7.2s to complete\n",
      "    error(train)=1.12e-01, acc(train)=9.65e-01, error(valid)=2.75e+00, acc(valid)=8.16e-01\n"
     ]
    },
    {
     "data": {
      "application/vnd.jupyter.widget-view+json": {
       "model_id": "48a5a3c48e10464693448e60abbe4b3b",
       "version_major": 2,
       "version_minor": 0
      },
      "text/plain": [
       "HBox(children=(IntProgress(value=0, max=1000), HTML(value='')))"
      ]
     },
     "metadata": {},
     "output_type": "display_data"
    },
    {
     "name": "stdout",
     "output_type": "stream",
     "text": [
      "\n"
     ]
    },
    {
     "name": "stderr",
     "output_type": "stream",
     "text": [
      "Epoch 80: 20.2s to complete\n",
      "    error(train)=8.88e-02, acc(train)=9.70e-01, error(valid)=2.76e+00, acc(valid)=8.19e-01\n"
     ]
    },
    {
     "data": {
      "application/vnd.jupyter.widget-view+json": {
       "model_id": "4a16ee91f34b4614aeaf46a0740513e1",
       "version_major": 2,
       "version_minor": 0
      },
      "text/plain": [
       "HBox(children=(IntProgress(value=0, max=1000), HTML(value='')))"
      ]
     },
     "metadata": {},
     "output_type": "display_data"
    },
    {
     "name": "stdout",
     "output_type": "stream",
     "text": [
      "\n"
     ]
    },
    {
     "name": "stderr",
     "output_type": "stream",
     "text": [
      "Epoch 81: 8.4s to complete\n",
      "    error(train)=8.72e-02, acc(train)=9.71e-01, error(valid)=2.74e+00, acc(valid)=8.22e-01\n"
     ]
    },
    {
     "data": {
      "application/vnd.jupyter.widget-view+json": {
       "model_id": "dda41bb2b9bf4ad19604b2db9c3d43cb",
       "version_major": 2,
       "version_minor": 0
      },
      "text/plain": [
       "HBox(children=(IntProgress(value=0, max=1000), HTML(value='')))"
      ]
     },
     "metadata": {},
     "output_type": "display_data"
    },
    {
     "name": "stdout",
     "output_type": "stream",
     "text": [
      "\n"
     ]
    },
    {
     "name": "stderr",
     "output_type": "stream",
     "text": [
      "Epoch 82: 7.7s to complete\n",
      "    error(train)=9.00e-02, acc(train)=9.69e-01, error(valid)=2.75e+00, acc(valid)=8.18e-01\n"
     ]
    },
    {
     "data": {
      "application/vnd.jupyter.widget-view+json": {
       "model_id": "dfa887f71b744b66a9599aeab7006457",
       "version_major": 2,
       "version_minor": 0
      },
      "text/plain": [
       "HBox(children=(IntProgress(value=0, max=1000), HTML(value='')))"
      ]
     },
     "metadata": {},
     "output_type": "display_data"
    },
    {
     "name": "stdout",
     "output_type": "stream",
     "text": [
      "\n"
     ]
    },
    {
     "name": "stderr",
     "output_type": "stream",
     "text": [
      "Epoch 83: 11.7s to complete\n",
      "    error(train)=1.06e-01, acc(train)=9.65e-01, error(valid)=2.77e+00, acc(valid)=8.18e-01\n"
     ]
    },
    {
     "data": {
      "application/vnd.jupyter.widget-view+json": {
       "model_id": "57bc39410a9a421ea05974028d544d18",
       "version_major": 2,
       "version_minor": 0
      },
      "text/plain": [
       "HBox(children=(IntProgress(value=0, max=1000), HTML(value='')))"
      ]
     },
     "metadata": {},
     "output_type": "display_data"
    },
    {
     "name": "stdout",
     "output_type": "stream",
     "text": [
      "\n"
     ]
    },
    {
     "name": "stderr",
     "output_type": "stream",
     "text": [
      "Epoch 84: 8.3s to complete\n",
      "    error(train)=9.25e-02, acc(train)=9.69e-01, error(valid)=2.76e+00, acc(valid)=8.17e-01\n"
     ]
    },
    {
     "data": {
      "application/vnd.jupyter.widget-view+json": {
       "model_id": "ebf4010ddcd94512b8f91190a8c36efa",
       "version_major": 2,
       "version_minor": 0
      },
      "text/plain": [
       "HBox(children=(IntProgress(value=0, max=1000), HTML(value='')))"
      ]
     },
     "metadata": {},
     "output_type": "display_data"
    },
    {
     "name": "stdout",
     "output_type": "stream",
     "text": [
      "\n"
     ]
    },
    {
     "name": "stderr",
     "output_type": "stream",
     "text": [
      "Epoch 85: 7.4s to complete\n",
      "    error(train)=1.27e-01, acc(train)=9.62e-01, error(valid)=2.83e+00, acc(valid)=8.14e-01\n"
     ]
    },
    {
     "data": {
      "application/vnd.jupyter.widget-view+json": {
       "model_id": "714c1d5ae193439dbf6e24a78274bb95",
       "version_major": 2,
       "version_minor": 0
      },
      "text/plain": [
       "HBox(children=(IntProgress(value=0, max=1000), HTML(value='')))"
      ]
     },
     "metadata": {},
     "output_type": "display_data"
    },
    {
     "name": "stdout",
     "output_type": "stream",
     "text": [
      "\n"
     ]
    },
    {
     "name": "stderr",
     "output_type": "stream",
     "text": [
      "Epoch 86: 14.6s to complete\n",
      "    error(train)=1.21e-01, acc(train)=9.61e-01, error(valid)=2.90e+00, acc(valid)=8.15e-01\n"
     ]
    },
    {
     "data": {
      "application/vnd.jupyter.widget-view+json": {
       "model_id": "3eece194666d48e58d0e2c40bfab62c0",
       "version_major": 2,
       "version_minor": 0
      },
      "text/plain": [
       "HBox(children=(IntProgress(value=0, max=1000), HTML(value='')))"
      ]
     },
     "metadata": {},
     "output_type": "display_data"
    },
    {
     "name": "stdout",
     "output_type": "stream",
     "text": [
      "\n"
     ]
    },
    {
     "name": "stderr",
     "output_type": "stream",
     "text": [
      "Epoch 87: 10.1s to complete\n",
      "    error(train)=8.44e-02, acc(train)=9.71e-01, error(valid)=2.80e+00, acc(valid)=8.16e-01\n"
     ]
    },
    {
     "data": {
      "application/vnd.jupyter.widget-view+json": {
       "model_id": "d25ccdd3b5854eae88039f4454a0b9bf",
       "version_major": 2,
       "version_minor": 0
      },
      "text/plain": [
       "HBox(children=(IntProgress(value=0, max=1000), HTML(value='')))"
      ]
     },
     "metadata": {},
     "output_type": "display_data"
    },
    {
     "name": "stdout",
     "output_type": "stream",
     "text": [
      "\n"
     ]
    },
    {
     "name": "stderr",
     "output_type": "stream",
     "text": [
      "Epoch 88: 10.7s to complete\n",
      "    error(train)=9.63e-02, acc(train)=9.68e-01, error(valid)=2.87e+00, acc(valid)=8.20e-01\n"
     ]
    },
    {
     "data": {
      "application/vnd.jupyter.widget-view+json": {
       "model_id": "0238b5cc5e414f0f9cc7c5f2a1aa1eae",
       "version_major": 2,
       "version_minor": 0
      },
      "text/plain": [
       "HBox(children=(IntProgress(value=0, max=1000), HTML(value='')))"
      ]
     },
     "metadata": {},
     "output_type": "display_data"
    },
    {
     "name": "stdout",
     "output_type": "stream",
     "text": [
      "\n"
     ]
    },
    {
     "name": "stderr",
     "output_type": "stream",
     "text": [
      "Epoch 89: 9.1s to complete\n",
      "    error(train)=9.50e-02, acc(train)=9.69e-01, error(valid)=2.90e+00, acc(valid)=8.13e-01\n"
     ]
    },
    {
     "data": {
      "application/vnd.jupyter.widget-view+json": {
       "model_id": "27759d6107374057bb8349681fc4b4cf",
       "version_major": 2,
       "version_minor": 0
      },
      "text/plain": [
       "HBox(children=(IntProgress(value=0, max=1000), HTML(value='')))"
      ]
     },
     "metadata": {},
     "output_type": "display_data"
    },
    {
     "name": "stdout",
     "output_type": "stream",
     "text": [
      "\n"
     ]
    },
    {
     "name": "stderr",
     "output_type": "stream",
     "text": [
      "Epoch 90: 8.9s to complete\n",
      "    error(train)=9.75e-02, acc(train)=9.68e-01, error(valid)=2.92e+00, acc(valid)=8.16e-01\n"
     ]
    },
    {
     "data": {
      "application/vnd.jupyter.widget-view+json": {
       "model_id": "7ad52b165ab74045b6750fe35220cc59",
       "version_major": 2,
       "version_minor": 0
      },
      "text/plain": [
       "HBox(children=(IntProgress(value=0, max=1000), HTML(value='')))"
      ]
     },
     "metadata": {},
     "output_type": "display_data"
    },
    {
     "name": "stdout",
     "output_type": "stream",
     "text": [
      "\n"
     ]
    },
    {
     "name": "stderr",
     "output_type": "stream",
     "text": [
      "Epoch 91: 7.9s to complete\n",
      "    error(train)=9.64e-02, acc(train)=9.68e-01, error(valid)=2.88e+00, acc(valid)=8.18e-01\n"
     ]
    },
    {
     "data": {
      "application/vnd.jupyter.widget-view+json": {
       "model_id": "eb2b5fac3b3048d08d1099a4aa9ec153",
       "version_major": 2,
       "version_minor": 0
      },
      "text/plain": [
       "HBox(children=(IntProgress(value=0, max=1000), HTML(value='')))"
      ]
     },
     "metadata": {},
     "output_type": "display_data"
    },
    {
     "name": "stdout",
     "output_type": "stream",
     "text": [
      "\n"
     ]
    },
    {
     "name": "stderr",
     "output_type": "stream",
     "text": [
      "Epoch 92: 7.7s to complete\n",
      "    error(train)=8.62e-02, acc(train)=9.71e-01, error(valid)=2.85e+00, acc(valid)=8.18e-01\n"
     ]
    },
    {
     "data": {
      "application/vnd.jupyter.widget-view+json": {
       "model_id": "e328f67cbf554de1885f0b193d7ccf45",
       "version_major": 2,
       "version_minor": 0
      },
      "text/plain": [
       "HBox(children=(IntProgress(value=0, max=1000), HTML(value='')))"
      ]
     },
     "metadata": {},
     "output_type": "display_data"
    },
    {
     "name": "stdout",
     "output_type": "stream",
     "text": [
      "\n"
     ]
    },
    {
     "name": "stderr",
     "output_type": "stream",
     "text": [
      "Epoch 93: 6.9s to complete\n",
      "    error(train)=1.11e-01, acc(train)=9.66e-01, error(valid)=2.92e+00, acc(valid)=8.19e-01\n"
     ]
    },
    {
     "data": {
      "application/vnd.jupyter.widget-view+json": {
       "model_id": "c1c56f13504842e98d54a15f4b5fa312",
       "version_major": 2,
       "version_minor": 0
      },
      "text/plain": [
       "HBox(children=(IntProgress(value=0, max=1000), HTML(value='')))"
      ]
     },
     "metadata": {},
     "output_type": "display_data"
    },
    {
     "name": "stdout",
     "output_type": "stream",
     "text": [
      "\n"
     ]
    },
    {
     "name": "stderr",
     "output_type": "stream",
     "text": [
      "Epoch 94: 7.8s to complete\n",
      "    error(train)=9.60e-02, acc(train)=9.70e-01, error(valid)=2.93e+00, acc(valid)=8.20e-01\n"
     ]
    },
    {
     "data": {
      "application/vnd.jupyter.widget-view+json": {
       "model_id": "6f68b5b8b27548a1b09554cfcc78a8ef",
       "version_major": 2,
       "version_minor": 0
      },
      "text/plain": [
       "HBox(children=(IntProgress(value=0, max=1000), HTML(value='')))"
      ]
     },
     "metadata": {},
     "output_type": "display_data"
    },
    {
     "name": "stdout",
     "output_type": "stream",
     "text": [
      "\n"
     ]
    },
    {
     "name": "stderr",
     "output_type": "stream",
     "text": [
      "Epoch 95: 7.7s to complete\n",
      "    error(train)=9.26e-02, acc(train)=9.69e-01, error(valid)=2.86e+00, acc(valid)=8.19e-01\n"
     ]
    },
    {
     "data": {
      "application/vnd.jupyter.widget-view+json": {
       "model_id": "520588cadcd44bd9ae9cb6472e5cb3de",
       "version_major": 2,
       "version_minor": 0
      },
      "text/plain": [
       "HBox(children=(IntProgress(value=0, max=1000), HTML(value='')))"
      ]
     },
     "metadata": {},
     "output_type": "display_data"
    },
    {
     "name": "stdout",
     "output_type": "stream",
     "text": [
      "\n"
     ]
    },
    {
     "name": "stderr",
     "output_type": "stream",
     "text": [
      "Epoch 96: 9.7s to complete\n",
      "    error(train)=1.01e-01, acc(train)=9.68e-01, error(valid)=2.94e+00, acc(valid)=8.18e-01\n"
     ]
    },
    {
     "data": {
      "application/vnd.jupyter.widget-view+json": {
       "model_id": "bcd033bd339745409c7a95972a17db4a",
       "version_major": 2,
       "version_minor": 0
      },
      "text/plain": [
       "HBox(children=(IntProgress(value=0, max=1000), HTML(value='')))"
      ]
     },
     "metadata": {},
     "output_type": "display_data"
    },
    {
     "name": "stdout",
     "output_type": "stream",
     "text": [
      "\n"
     ]
    },
    {
     "name": "stderr",
     "output_type": "stream",
     "text": [
      "Epoch 97: 7.4s to complete\n",
      "    error(train)=9.99e-02, acc(train)=9.69e-01, error(valid)=2.89e+00, acc(valid)=8.20e-01\n"
     ]
    },
    {
     "data": {
      "application/vnd.jupyter.widget-view+json": {
       "model_id": "964e63d19ddd4a8e9b7ae798736bd1b4",
       "version_major": 2,
       "version_minor": 0
      },
      "text/plain": [
       "HBox(children=(IntProgress(value=0, max=1000), HTML(value='')))"
      ]
     },
     "metadata": {},
     "output_type": "display_data"
    },
    {
     "name": "stdout",
     "output_type": "stream",
     "text": [
      "\n"
     ]
    },
    {
     "name": "stderr",
     "output_type": "stream",
     "text": [
      "Epoch 98: 8.9s to complete\n",
      "    error(train)=8.83e-02, acc(train)=9.71e-01, error(valid)=2.88e+00, acc(valid)=8.14e-01\n"
     ]
    },
    {
     "data": {
      "application/vnd.jupyter.widget-view+json": {
       "model_id": "6b6f0eadcfcb477ab25ce11bdc2f70ff",
       "version_major": 2,
       "version_minor": 0
      },
      "text/plain": [
       "HBox(children=(IntProgress(value=0, max=1000), HTML(value='')))"
      ]
     },
     "metadata": {},
     "output_type": "display_data"
    },
    {
     "name": "stdout",
     "output_type": "stream",
     "text": [
      "\n"
     ]
    },
    {
     "name": "stderr",
     "output_type": "stream",
     "text": [
      "Epoch 99: 9.9s to complete\n",
      "    error(train)=8.93e-02, acc(train)=9.71e-01, error(valid)=2.97e+00, acc(valid)=8.22e-01\n"
     ]
    },
    {
     "data": {
      "application/vnd.jupyter.widget-view+json": {
       "model_id": "54d57d60acde44cb8d8b38e8e4a602d8",
       "version_major": 2,
       "version_minor": 0
      },
      "text/plain": [
       "HBox(children=(IntProgress(value=0, max=1000), HTML(value='')))"
      ]
     },
     "metadata": {},
     "output_type": "display_data"
    },
    {
     "name": "stdout",
     "output_type": "stream",
     "text": [
      "\n"
     ]
    },
    {
     "name": "stderr",
     "output_type": "stream",
     "text": [
      "Epoch 100: 9.6s to complete\n",
      "    error(train)=8.84e-02, acc(train)=9.70e-01, error(valid)=3.00e+00, acc(valid)=8.20e-01\n"
     ]
    },
    {
     "name": "stdout",
     "output_type": "stream",
     "text": [
      "\n"
     ]
    },
    {
     "data": {
      "image/png": "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\n",
      "text/plain": [
       "<Figure size 576x288 with 1 Axes>"
      ]
     },
     "metadata": {
      "needs_background": "light"
     },
     "output_type": "display_data"
    },
    {
     "data": {
      "image/png": "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\n",
      "text/plain": [
       "<Figure size 576x288 with 1 Axes>"
      ]
     },
     "metadata": {
      "needs_background": "light"
     },
     "output_type": "display_data"
    }
   ],
   "source": [
    "# The model set up code below is provided as a starting point.\n",
    "# You will probably want to add further code cells for the\n",
    "# different experiments you run.\n",
    "\n",
    "from mlp.layers import AffineLayer, SoftmaxLayer, SigmoidLayer, ReluLayer\n",
    "from mlp.layers import LeakyReluLayer, RandomReluLayer, ParametricReluLayer, ExponentialLinearUnitLayer\n",
    "from mlp.errors import CrossEntropySoftmaxError\n",
    "from mlp.models import MultipleLayerModel\n",
    "from mlp.initialisers import ConstantInit, GlorotUniformInit\n",
    "from mlp.learning_rules import AdamLearningRule\n",
    "from mlp.optimisers import Optimiser\n",
    "\n",
    "#setup hyperparameters\n",
    "learning_rate = 0.1\n",
    "num_epochs = 100\n",
    "stats_interval = 1\n",
    "input_dim, output_dim, hidden_dim = 784, 47, 32\n",
    "\n",
    "weights_init = GlorotUniformInit(rng=rng)\n",
    "biases_init = ConstantInit(0.)\n",
    "model_32 = MultipleLayerModel([\n",
    "    AffineLayer(input_dim, hidden_dim, weights_init, biases_init), \n",
    "    ReluLayer(),\n",
    "    AffineLayer(hidden_dim, hidden_dim, weights_init, biases_init), \n",
    "    ReluLayer(),\n",
    "    #AffineLayer(hidden_dim, hidden_dim, weights_init, biases_init),\n",
    "    #LeakyReluLayer(),\n",
    "    AffineLayer(hidden_dim, output_dim, weights_init, biases_init)\n",
    "])\n",
    "\n",
    "error = CrossEntropySoftmaxError()\n",
    "# Use a basic gradient descent learning rule\n",
    "learning_rule = AdamLearningRule()\n",
    "\n",
    "#Remember to use notebook=False when you write a script to be run in a terminal\n",
    "_ = train_model_and_plot_stats(\n",
    "    model, error, learning_rule, train_data, valid_data, num_epochs, stats_interval, notebook=True)"
   ]
  },
  {
   "cell_type": "markdown",
   "metadata": {},
   "source": [
    "## 32 ReLU hidden Unit 1 layer"
   ]
  },
  {
   "cell_type": "code",
   "execution_count": 22,
   "metadata": {},
   "outputs": [
    {
     "data": {
      "application/vnd.jupyter.widget-view+json": {
       "model_id": "4ed57348888a4b45ac1cb9d54ecab9b2",
       "version_major": 2,
       "version_minor": 0
      },
      "text/plain": [
       "HBox(children=(IntProgress(value=0), HTML(value='')))"
      ]
     },
     "metadata": {},
     "output_type": "display_data"
    },
    {
     "data": {
      "application/vnd.jupyter.widget-view+json": {
       "model_id": "7d0e2541d1804693b52921b389c7084d",
       "version_major": 2,
       "version_minor": 0
      },
      "text/plain": [
       "HBox(children=(IntProgress(value=0, max=1000), HTML(value='')))"
      ]
     },
     "metadata": {},
     "output_type": "display_data"
    },
    {
     "name": "stdout",
     "output_type": "stream",
     "text": [
      "\n"
     ]
    },
    {
     "name": "stderr",
     "output_type": "stream",
     "text": [
      "Epoch 1: 10.7s to complete\n",
      "    error(train)=8.39e-02, acc(train)=9.72e-01, error(valid)=3.02e+00, acc(valid)=8.19e-01\n"
     ]
    },
    {
     "data": {
      "application/vnd.jupyter.widget-view+json": {
       "model_id": "089ae6d6b32b4301bc91b10c589588e7",
       "version_major": 2,
       "version_minor": 0
      },
      "text/plain": [
       "HBox(children=(IntProgress(value=0, max=1000), HTML(value='')))"
      ]
     },
     "metadata": {},
     "output_type": "display_data"
    },
    {
     "name": "stdout",
     "output_type": "stream",
     "text": [
      "\n"
     ]
    },
    {
     "name": "stderr",
     "output_type": "stream",
     "text": [
      "Epoch 2: 10.2s to complete\n",
      "    error(train)=9.29e-02, acc(train)=9.69e-01, error(valid)=3.15e+00, acc(valid)=8.19e-01\n"
     ]
    },
    {
     "data": {
      "application/vnd.jupyter.widget-view+json": {
       "model_id": "173e4bd18c5e4d808991d0384f67c0d2",
       "version_major": 2,
       "version_minor": 0
      },
      "text/plain": [
       "HBox(children=(IntProgress(value=0, max=1000), HTML(value='')))"
      ]
     },
     "metadata": {},
     "output_type": "display_data"
    },
    {
     "name": "stdout",
     "output_type": "stream",
     "text": [
      "\n"
     ]
    },
    {
     "name": "stderr",
     "output_type": "stream",
     "text": [
      "Epoch 3: 12.9s to complete\n",
      "    error(train)=9.29e-02, acc(train)=9.70e-01, error(valid)=3.05e+00, acc(valid)=8.18e-01\n"
     ]
    },
    {
     "data": {
      "application/vnd.jupyter.widget-view+json": {
       "model_id": "df4829c12c364db692d0f92a966c8734",
       "version_major": 2,
       "version_minor": 0
      },
      "text/plain": [
       "HBox(children=(IntProgress(value=0, max=1000), HTML(value='')))"
      ]
     },
     "metadata": {},
     "output_type": "display_data"
    },
    {
     "name": "stdout",
     "output_type": "stream",
     "text": [
      "\n"
     ]
    },
    {
     "name": "stderr",
     "output_type": "stream",
     "text": [
      "Epoch 4: 13.0s to complete\n",
      "    error(train)=9.47e-02, acc(train)=9.70e-01, error(valid)=3.08e+00, acc(valid)=8.18e-01\n"
     ]
    },
    {
     "data": {
      "application/vnd.jupyter.widget-view+json": {
       "model_id": "7e98a819483b4beda2e6db090e862926",
       "version_major": 2,
       "version_minor": 0
      },
      "text/plain": [
       "HBox(children=(IntProgress(value=0, max=1000), HTML(value='')))"
      ]
     },
     "metadata": {},
     "output_type": "display_data"
    },
    {
     "name": "stdout",
     "output_type": "stream",
     "text": [
      "\n"
     ]
    },
    {
     "name": "stderr",
     "output_type": "stream",
     "text": [
      "Epoch 5: 10.4s to complete\n",
      "    error(train)=9.62e-02, acc(train)=9.69e-01, error(valid)=3.08e+00, acc(valid)=8.18e-01\n"
     ]
    },
    {
     "data": {
      "application/vnd.jupyter.widget-view+json": {
       "model_id": "941f691e637840f2af143aad379eee8a",
       "version_major": 2,
       "version_minor": 0
      },
      "text/plain": [
       "HBox(children=(IntProgress(value=0, max=1000), HTML(value='')))"
      ]
     },
     "metadata": {},
     "output_type": "display_data"
    },
    {
     "name": "stdout",
     "output_type": "stream",
     "text": [
      "\n"
     ]
    },
    {
     "name": "stderr",
     "output_type": "stream",
     "text": [
      "Epoch 6: 10.9s to complete\n",
      "    error(train)=8.28e-02, acc(train)=9.71e-01, error(valid)=3.08e+00, acc(valid)=8.21e-01\n"
     ]
    },
    {
     "data": {
      "application/vnd.jupyter.widget-view+json": {
       "model_id": "acbd7512e5424c78a03b5aca94fafd86",
       "version_major": 2,
       "version_minor": 0
      },
      "text/plain": [
       "HBox(children=(IntProgress(value=0, max=1000), HTML(value='')))"
      ]
     },
     "metadata": {},
     "output_type": "display_data"
    },
    {
     "name": "stdout",
     "output_type": "stream",
     "text": [
      "\n"
     ]
    },
    {
     "name": "stderr",
     "output_type": "stream",
     "text": [
      "Epoch 7: 8.2s to complete\n",
      "    error(train)=9.42e-02, acc(train)=9.72e-01, error(valid)=3.17e+00, acc(valid)=8.16e-01\n"
     ]
    },
    {
     "data": {
      "application/vnd.jupyter.widget-view+json": {
       "model_id": "978c746007f045c4b7ed8f38ed0eb0c5",
       "version_major": 2,
       "version_minor": 0
      },
      "text/plain": [
       "HBox(children=(IntProgress(value=0, max=1000), HTML(value='')))"
      ]
     },
     "metadata": {},
     "output_type": "display_data"
    },
    {
     "name": "stdout",
     "output_type": "stream",
     "text": [
      "\n"
     ]
    },
    {
     "name": "stderr",
     "output_type": "stream",
     "text": [
      "Epoch 8: 8.5s to complete\n",
      "    error(train)=9.34e-02, acc(train)=9.70e-01, error(valid)=3.06e+00, acc(valid)=8.15e-01\n"
     ]
    },
    {
     "data": {
      "application/vnd.jupyter.widget-view+json": {
       "model_id": "2efe04f05d2a41a680365dd36804040c",
       "version_major": 2,
       "version_minor": 0
      },
      "text/plain": [
       "HBox(children=(IntProgress(value=0, max=1000), HTML(value='')))"
      ]
     },
     "metadata": {},
     "output_type": "display_data"
    },
    {
     "name": "stdout",
     "output_type": "stream",
     "text": [
      "\n"
     ]
    },
    {
     "name": "stderr",
     "output_type": "stream",
     "text": [
      "Epoch 9: 7.8s to complete\n",
      "    error(train)=8.64e-02, acc(train)=9.71e-01, error(valid)=2.99e+00, acc(valid)=8.20e-01\n"
     ]
    },
    {
     "data": {
      "application/vnd.jupyter.widget-view+json": {
       "model_id": "5aa6cc632d414fccaceeb13ec32de454",
       "version_major": 2,
       "version_minor": 0
      },
      "text/plain": [
       "HBox(children=(IntProgress(value=0, max=1000), HTML(value='')))"
      ]
     },
     "metadata": {},
     "output_type": "display_data"
    },
    {
     "name": "stdout",
     "output_type": "stream",
     "text": [
      "\n"
     ]
    },
    {
     "name": "stderr",
     "output_type": "stream",
     "text": [
      "Epoch 10: 7.8s to complete\n",
      "    error(train)=9.34e-02, acc(train)=9.70e-01, error(valid)=3.11e+00, acc(valid)=8.16e-01\n"
     ]
    },
    {
     "data": {
      "application/vnd.jupyter.widget-view+json": {
       "model_id": "5e0df5910fe64158846d2bb207b3b650",
       "version_major": 2,
       "version_minor": 0
      },
      "text/plain": [
       "HBox(children=(IntProgress(value=0, max=1000), HTML(value='')))"
      ]
     },
     "metadata": {},
     "output_type": "display_data"
    },
    {
     "name": "stdout",
     "output_type": "stream",
     "text": [
      "\n"
     ]
    },
    {
     "name": "stderr",
     "output_type": "stream",
     "text": [
      "Epoch 11: 8.2s to complete\n",
      "    error(train)=1.21e-01, acc(train)=9.64e-01, error(valid)=3.17e+00, acc(valid)=8.17e-01\n"
     ]
    },
    {
     "data": {
      "application/vnd.jupyter.widget-view+json": {
       "model_id": "570cf02de40c42d0b2f3f25e75b494af",
       "version_major": 2,
       "version_minor": 0
      },
      "text/plain": [
       "HBox(children=(IntProgress(value=0, max=1000), HTML(value='')))"
      ]
     },
     "metadata": {},
     "output_type": "display_data"
    },
    {
     "name": "stdout",
     "output_type": "stream",
     "text": [
      "\n"
     ]
    },
    {
     "name": "stderr",
     "output_type": "stream",
     "text": [
      "Epoch 12: 7.3s to complete\n",
      "    error(train)=9.33e-02, acc(train)=9.71e-01, error(valid)=3.15e+00, acc(valid)=8.21e-01\n"
     ]
    },
    {
     "data": {
      "application/vnd.jupyter.widget-view+json": {
       "model_id": "85dbf0630f194206a9ff24a4985b1f68",
       "version_major": 2,
       "version_minor": 0
      },
      "text/plain": [
       "HBox(children=(IntProgress(value=0, max=1000), HTML(value='')))"
      ]
     },
     "metadata": {},
     "output_type": "display_data"
    },
    {
     "name": "stdout",
     "output_type": "stream",
     "text": [
      "\n"
     ]
    },
    {
     "name": "stderr",
     "output_type": "stream",
     "text": [
      "Epoch 13: 7.5s to complete\n",
      "    error(train)=1.15e-01, acc(train)=9.67e-01, error(valid)=3.27e+00, acc(valid)=8.20e-01\n"
     ]
    },
    {
     "data": {
      "application/vnd.jupyter.widget-view+json": {
       "model_id": "7349957483c444ff8c31a7c64506e98a",
       "version_major": 2,
       "version_minor": 0
      },
      "text/plain": [
       "HBox(children=(IntProgress(value=0, max=1000), HTML(value='')))"
      ]
     },
     "metadata": {},
     "output_type": "display_data"
    },
    {
     "name": "stdout",
     "output_type": "stream",
     "text": [
      "\n"
     ]
    },
    {
     "name": "stderr",
     "output_type": "stream",
     "text": [
      "Epoch 14: 7.8s to complete\n",
      "    error(train)=9.00e-02, acc(train)=9.72e-01, error(valid)=3.15e+00, acc(valid)=8.20e-01\n"
     ]
    },
    {
     "data": {
      "application/vnd.jupyter.widget-view+json": {
       "model_id": "ed92147583744d2ea77c9ec61b8a81f5",
       "version_major": 2,
       "version_minor": 0
      },
      "text/plain": [
       "HBox(children=(IntProgress(value=0, max=1000), HTML(value='')))"
      ]
     },
     "metadata": {},
     "output_type": "display_data"
    },
    {
     "name": "stdout",
     "output_type": "stream",
     "text": [
      "\n"
     ]
    },
    {
     "name": "stderr",
     "output_type": "stream",
     "text": [
      "Epoch 15: 8.8s to complete\n",
      "    error(train)=1.01e-01, acc(train)=9.69e-01, error(valid)=3.19e+00, acc(valid)=8.16e-01\n"
     ]
    },
    {
     "data": {
      "application/vnd.jupyter.widget-view+json": {
       "model_id": "5bb4300c859c46fd8e3580c41d9b94e1",
       "version_major": 2,
       "version_minor": 0
      },
      "text/plain": [
       "HBox(children=(IntProgress(value=0, max=1000), HTML(value='')))"
      ]
     },
     "metadata": {},
     "output_type": "display_data"
    },
    {
     "name": "stdout",
     "output_type": "stream",
     "text": [
      "\n"
     ]
    },
    {
     "name": "stderr",
     "output_type": "stream",
     "text": [
      "Epoch 16: 10.7s to complete\n",
      "    error(train)=1.03e-01, acc(train)=9.69e-01, error(valid)=3.25e+00, acc(valid)=8.19e-01\n"
     ]
    },
    {
     "data": {
      "application/vnd.jupyter.widget-view+json": {
       "model_id": "47201ab26a8c490aa8aeacfd1eb5e2c4",
       "version_major": 2,
       "version_minor": 0
      },
      "text/plain": [
       "HBox(children=(IntProgress(value=0, max=1000), HTML(value='')))"
      ]
     },
     "metadata": {},
     "output_type": "display_data"
    },
    {
     "name": "stdout",
     "output_type": "stream",
     "text": [
      "\n"
     ]
    },
    {
     "name": "stderr",
     "output_type": "stream",
     "text": [
      "Epoch 17: 7.5s to complete\n",
      "    error(train)=7.76e-02, acc(train)=9.75e-01, error(valid)=3.19e+00, acc(valid)=8.22e-01\n"
     ]
    },
    {
     "data": {
      "application/vnd.jupyter.widget-view+json": {
       "model_id": "dae39f27adcd408783695564bab40ced",
       "version_major": 2,
       "version_minor": 0
      },
      "text/plain": [
       "HBox(children=(IntProgress(value=0, max=1000), HTML(value='')))"
      ]
     },
     "metadata": {},
     "output_type": "display_data"
    },
    {
     "name": "stdout",
     "output_type": "stream",
     "text": [
      "\n"
     ]
    },
    {
     "name": "stderr",
     "output_type": "stream",
     "text": [
      "Epoch 18: 7.3s to complete\n",
      "    error(train)=8.74e-02, acc(train)=9.72e-01, error(valid)=3.27e+00, acc(valid)=8.20e-01\n"
     ]
    },
    {
     "data": {
      "application/vnd.jupyter.widget-view+json": {
       "model_id": "7534b42494ec4d50a74df5322b2ea275",
       "version_major": 2,
       "version_minor": 0
      },
      "text/plain": [
       "HBox(children=(IntProgress(value=0, max=1000), HTML(value='')))"
      ]
     },
     "metadata": {},
     "output_type": "display_data"
    },
    {
     "name": "stdout",
     "output_type": "stream",
     "text": [
      "\n"
     ]
    },
    {
     "name": "stderr",
     "output_type": "stream",
     "text": [
      "Epoch 19: 7.9s to complete\n",
      "    error(train)=9.02e-02, acc(train)=9.70e-01, error(valid)=3.28e+00, acc(valid)=8.16e-01\n"
     ]
    },
    {
     "data": {
      "application/vnd.jupyter.widget-view+json": {
       "model_id": "5e49b1f4081e47a59545f075c55503ec",
       "version_major": 2,
       "version_minor": 0
      },
      "text/plain": [
       "HBox(children=(IntProgress(value=0, max=1000), HTML(value='')))"
      ]
     },
     "metadata": {},
     "output_type": "display_data"
    },
    {
     "name": "stdout",
     "output_type": "stream",
     "text": [
      "\n"
     ]
    },
    {
     "name": "stderr",
     "output_type": "stream",
     "text": [
      "Epoch 20: 8.3s to complete\n",
      "    error(train)=9.31e-02, acc(train)=9.70e-01, error(valid)=3.29e+00, acc(valid)=8.17e-01\n"
     ]
    },
    {
     "data": {
      "application/vnd.jupyter.widget-view+json": {
       "model_id": "42f19e6201be4201a97e3b6274d71b6f",
       "version_major": 2,
       "version_minor": 0
      },
      "text/plain": [
       "HBox(children=(IntProgress(value=0, max=1000), HTML(value='')))"
      ]
     },
     "metadata": {},
     "output_type": "display_data"
    },
    {
     "name": "stdout",
     "output_type": "stream",
     "text": [
      "\n"
     ]
    },
    {
     "name": "stderr",
     "output_type": "stream",
     "text": [
      "Epoch 21: 8.5s to complete\n",
      "    error(train)=8.42e-02, acc(train)=9.72e-01, error(valid)=3.32e+00, acc(valid)=8.19e-01\n"
     ]
    },
    {
     "data": {
      "application/vnd.jupyter.widget-view+json": {
       "model_id": "500e175ace1c4c44a5349cf504c6fdf9",
       "version_major": 2,
       "version_minor": 0
      },
      "text/plain": [
       "HBox(children=(IntProgress(value=0, max=1000), HTML(value='')))"
      ]
     },
     "metadata": {},
     "output_type": "display_data"
    },
    {
     "name": "stdout",
     "output_type": "stream",
     "text": [
      "\n"
     ]
    },
    {
     "name": "stderr",
     "output_type": "stream",
     "text": [
      "Epoch 22: 10.6s to complete\n",
      "    error(train)=7.42e-02, acc(train)=9.75e-01, error(valid)=3.23e+00, acc(valid)=8.18e-01\n"
     ]
    },
    {
     "data": {
      "application/vnd.jupyter.widget-view+json": {
       "model_id": "bfe3184de87c4526b22b92c95df4589b",
       "version_major": 2,
       "version_minor": 0
      },
      "text/plain": [
       "HBox(children=(IntProgress(value=0, max=1000), HTML(value='')))"
      ]
     },
     "metadata": {},
     "output_type": "display_data"
    },
    {
     "name": "stdout",
     "output_type": "stream",
     "text": [
      "\n"
     ]
    },
    {
     "name": "stderr",
     "output_type": "stream",
     "text": [
      "Epoch 23: 8.3s to complete\n",
      "    error(train)=9.01e-02, acc(train)=9.72e-01, error(valid)=3.28e+00, acc(valid)=8.19e-01\n"
     ]
    },
    {
     "data": {
      "application/vnd.jupyter.widget-view+json": {
       "model_id": "994fee13dbd8426cbd7113b8ffabda9e",
       "version_major": 2,
       "version_minor": 0
      },
      "text/plain": [
       "HBox(children=(IntProgress(value=0, max=1000), HTML(value='')))"
      ]
     },
     "metadata": {},
     "output_type": "display_data"
    },
    {
     "name": "stdout",
     "output_type": "stream",
     "text": [
      "\n"
     ]
    },
    {
     "name": "stderr",
     "output_type": "stream",
     "text": [
      "Epoch 24: 8.0s to complete\n",
      "    error(train)=8.07e-02, acc(train)=9.75e-01, error(valid)=3.33e+00, acc(valid)=8.18e-01\n"
     ]
    },
    {
     "data": {
      "application/vnd.jupyter.widget-view+json": {
       "model_id": "f9e9073864084ced9d081e77db447822",
       "version_major": 2,
       "version_minor": 0
      },
      "text/plain": [
       "HBox(children=(IntProgress(value=0, max=1000), HTML(value='')))"
      ]
     },
     "metadata": {},
     "output_type": "display_data"
    },
    {
     "name": "stdout",
     "output_type": "stream",
     "text": [
      "\n"
     ]
    },
    {
     "name": "stderr",
     "output_type": "stream",
     "text": [
      "Epoch 25: 8.7s to complete\n",
      "    error(train)=9.35e-02, acc(train)=9.70e-01, error(valid)=3.17e+00, acc(valid)=8.18e-01\n"
     ]
    },
    {
     "data": {
      "application/vnd.jupyter.widget-view+json": {
       "model_id": "2ce22966d9ce4864b4b045ff0b8d7514",
       "version_major": 2,
       "version_minor": 0
      },
      "text/plain": [
       "HBox(children=(IntProgress(value=0, max=1000), HTML(value='')))"
      ]
     },
     "metadata": {},
     "output_type": "display_data"
    },
    {
     "name": "stdout",
     "output_type": "stream",
     "text": [
      "\n"
     ]
    },
    {
     "name": "stderr",
     "output_type": "stream",
     "text": [
      "Epoch 26: 8.9s to complete\n",
      "    error(train)=8.65e-02, acc(train)=9.72e-01, error(valid)=3.37e+00, acc(valid)=8.20e-01\n"
     ]
    },
    {
     "data": {
      "application/vnd.jupyter.widget-view+json": {
       "model_id": "5da0cd76076745bab651f675830789da",
       "version_major": 2,
       "version_minor": 0
      },
      "text/plain": [
       "HBox(children=(IntProgress(value=0, max=1000), HTML(value='')))"
      ]
     },
     "metadata": {},
     "output_type": "display_data"
    },
    {
     "name": "stdout",
     "output_type": "stream",
     "text": [
      "\n"
     ]
    },
    {
     "name": "stderr",
     "output_type": "stream",
     "text": [
      "Epoch 27: 8.3s to complete\n",
      "    error(train)=8.85e-02, acc(train)=9.73e-01, error(valid)=3.36e+00, acc(valid)=8.20e-01\n"
     ]
    },
    {
     "data": {
      "application/vnd.jupyter.widget-view+json": {
       "model_id": "3133a59d97c94231bad00c2ac9e486a2",
       "version_major": 2,
       "version_minor": 0
      },
      "text/plain": [
       "HBox(children=(IntProgress(value=0, max=1000), HTML(value='')))"
      ]
     },
     "metadata": {},
     "output_type": "display_data"
    },
    {
     "name": "stdout",
     "output_type": "stream",
     "text": [
      "\n"
     ]
    },
    {
     "name": "stderr",
     "output_type": "stream",
     "text": [
      "Epoch 28: 7.7s to complete\n",
      "    error(train)=1.02e-01, acc(train)=9.69e-01, error(valid)=3.33e+00, acc(valid)=8.17e-01\n"
     ]
    },
    {
     "data": {
      "application/vnd.jupyter.widget-view+json": {
       "model_id": "ef4ed3c719904d9082b8984c38426f64",
       "version_major": 2,
       "version_minor": 0
      },
      "text/plain": [
       "HBox(children=(IntProgress(value=0, max=1000), HTML(value='')))"
      ]
     },
     "metadata": {},
     "output_type": "display_data"
    },
    {
     "name": "stdout",
     "output_type": "stream",
     "text": [
      "\n"
     ]
    },
    {
     "name": "stderr",
     "output_type": "stream",
     "text": [
      "Epoch 29: 7.7s to complete\n",
      "    error(train)=8.39e-02, acc(train)=9.73e-01, error(valid)=3.37e+00, acc(valid)=8.16e-01\n"
     ]
    },
    {
     "data": {
      "application/vnd.jupyter.widget-view+json": {
       "model_id": "f2e447585d8647af993a4e9c83206fc0",
       "version_major": 2,
       "version_minor": 0
      },
      "text/plain": [
       "HBox(children=(IntProgress(value=0, max=1000), HTML(value='')))"
      ]
     },
     "metadata": {},
     "output_type": "display_data"
    },
    {
     "name": "stdout",
     "output_type": "stream",
     "text": [
      "\n"
     ]
    },
    {
     "name": "stderr",
     "output_type": "stream",
     "text": [
      "Epoch 30: 7.9s to complete\n",
      "    error(train)=9.32e-02, acc(train)=9.71e-01, error(valid)=3.29e+00, acc(valid)=8.23e-01\n"
     ]
    },
    {
     "data": {
      "application/vnd.jupyter.widget-view+json": {
       "model_id": "6616b753684847a2b0a36b206b7edf19",
       "version_major": 2,
       "version_minor": 0
      },
      "text/plain": [
       "HBox(children=(IntProgress(value=0, max=1000), HTML(value='')))"
      ]
     },
     "metadata": {},
     "output_type": "display_data"
    },
    {
     "name": "stdout",
     "output_type": "stream",
     "text": [
      "\n"
     ]
    },
    {
     "name": "stderr",
     "output_type": "stream",
     "text": [
      "Epoch 31: 7.2s to complete\n",
      "    error(train)=9.96e-02, acc(train)=9.70e-01, error(valid)=3.47e+00, acc(valid)=8.17e-01\n"
     ]
    },
    {
     "data": {
      "application/vnd.jupyter.widget-view+json": {
       "model_id": "c6e0216229ed4b3d98ad47513bcca37b",
       "version_major": 2,
       "version_minor": 0
      },
      "text/plain": [
       "HBox(children=(IntProgress(value=0, max=1000), HTML(value='')))"
      ]
     },
     "metadata": {},
     "output_type": "display_data"
    },
    {
     "name": "stdout",
     "output_type": "stream",
     "text": [
      "\n"
     ]
    },
    {
     "name": "stderr",
     "output_type": "stream",
     "text": [
      "Epoch 32: 7.1s to complete\n",
      "    error(train)=9.90e-02, acc(train)=9.70e-01, error(valid)=3.49e+00, acc(valid)=8.15e-01\n"
     ]
    },
    {
     "data": {
      "application/vnd.jupyter.widget-view+json": {
       "model_id": "366a5fec8fae4ecb8d3565be40b42738",
       "version_major": 2,
       "version_minor": 0
      },
      "text/plain": [
       "HBox(children=(IntProgress(value=0, max=1000), HTML(value='')))"
      ]
     },
     "metadata": {},
     "output_type": "display_data"
    },
    {
     "name": "stdout",
     "output_type": "stream",
     "text": [
      "\n"
     ]
    },
    {
     "name": "stderr",
     "output_type": "stream",
     "text": [
      "Epoch 33: 8.0s to complete\n",
      "    error(train)=1.06e-01, acc(train)=9.68e-01, error(valid)=3.51e+00, acc(valid)=8.16e-01\n"
     ]
    },
    {
     "data": {
      "application/vnd.jupyter.widget-view+json": {
       "model_id": "e075a7a8e546476c950818ce12dc3c43",
       "version_major": 2,
       "version_minor": 0
      },
      "text/plain": [
       "HBox(children=(IntProgress(value=0, max=1000), HTML(value='')))"
      ]
     },
     "metadata": {},
     "output_type": "display_data"
    },
    {
     "name": "stdout",
     "output_type": "stream",
     "text": [
      "\n"
     ]
    },
    {
     "name": "stderr",
     "output_type": "stream",
     "text": [
      "Epoch 34: 8.0s to complete\n",
      "    error(train)=9.68e-02, acc(train)=9.71e-01, error(valid)=3.49e+00, acc(valid)=8.20e-01\n"
     ]
    },
    {
     "data": {
      "application/vnd.jupyter.widget-view+json": {
       "model_id": "3973d8a410d947019e3c8cbdc6850250",
       "version_major": 2,
       "version_minor": 0
      },
      "text/plain": [
       "HBox(children=(IntProgress(value=0, max=1000), HTML(value='')))"
      ]
     },
     "metadata": {},
     "output_type": "display_data"
    },
    {
     "name": "stdout",
     "output_type": "stream",
     "text": [
      "\n"
     ]
    },
    {
     "name": "stderr",
     "output_type": "stream",
     "text": [
      "Epoch 35: 7.5s to complete\n",
      "    error(train)=9.61e-02, acc(train)=9.71e-01, error(valid)=3.51e+00, acc(valid)=8.19e-01\n"
     ]
    },
    {
     "data": {
      "application/vnd.jupyter.widget-view+json": {
       "model_id": "f8ae3b9c44f3430a86ff36fa3c54bd0e",
       "version_major": 2,
       "version_minor": 0
      },
      "text/plain": [
       "HBox(children=(IntProgress(value=0, max=1000), HTML(value='')))"
      ]
     },
     "metadata": {},
     "output_type": "display_data"
    },
    {
     "name": "stdout",
     "output_type": "stream",
     "text": [
      "\n"
     ]
    },
    {
     "name": "stderr",
     "output_type": "stream",
     "text": [
      "Epoch 36: 9.8s to complete\n",
      "    error(train)=8.49e-02, acc(train)=9.73e-01, error(valid)=3.49e+00, acc(valid)=8.20e-01\n"
     ]
    },
    {
     "data": {
      "application/vnd.jupyter.widget-view+json": {
       "model_id": "25d2a55ac0e14e3f8e8e22c216646128",
       "version_major": 2,
       "version_minor": 0
      },
      "text/plain": [
       "HBox(children=(IntProgress(value=0, max=1000), HTML(value='')))"
      ]
     },
     "metadata": {},
     "output_type": "display_data"
    },
    {
     "name": "stdout",
     "output_type": "stream",
     "text": [
      "\n"
     ]
    },
    {
     "name": "stderr",
     "output_type": "stream",
     "text": [
      "Epoch 37: 8.9s to complete\n",
      "    error(train)=9.66e-02, acc(train)=9.71e-01, error(valid)=3.51e+00, acc(valid)=8.18e-01\n"
     ]
    },
    {
     "data": {
      "application/vnd.jupyter.widget-view+json": {
       "model_id": "13a224dce19b41f3a38c9d154058980a",
       "version_major": 2,
       "version_minor": 0
      },
      "text/plain": [
       "HBox(children=(IntProgress(value=0, max=1000), HTML(value='')))"
      ]
     },
     "metadata": {},
     "output_type": "display_data"
    },
    {
     "name": "stdout",
     "output_type": "stream",
     "text": [
      "\n"
     ]
    },
    {
     "name": "stderr",
     "output_type": "stream",
     "text": [
      "Epoch 38: 12.6s to complete\n",
      "    error(train)=9.31e-02, acc(train)=9.72e-01, error(valid)=3.53e+00, acc(valid)=8.19e-01\n"
     ]
    },
    {
     "data": {
      "application/vnd.jupyter.widget-view+json": {
       "model_id": "22ae1f3331254c5ca667c95d909b0604",
       "version_major": 2,
       "version_minor": 0
      },
      "text/plain": [
       "HBox(children=(IntProgress(value=0, max=1000), HTML(value='')))"
      ]
     },
     "metadata": {},
     "output_type": "display_data"
    },
    {
     "name": "stdout",
     "output_type": "stream",
     "text": [
      "\n"
     ]
    },
    {
     "name": "stderr",
     "output_type": "stream",
     "text": [
      "Epoch 39: 7.8s to complete\n",
      "    error(train)=7.21e-02, acc(train)=9.76e-01, error(valid)=3.43e+00, acc(valid)=8.24e-01\n"
     ]
    },
    {
     "data": {
      "application/vnd.jupyter.widget-view+json": {
       "model_id": "3bcadb94a3c44232b50f5e0847bd7112",
       "version_major": 2,
       "version_minor": 0
      },
      "text/plain": [
       "HBox(children=(IntProgress(value=0, max=1000), HTML(value='')))"
      ]
     },
     "metadata": {},
     "output_type": "display_data"
    },
    {
     "name": "stdout",
     "output_type": "stream",
     "text": [
      "\n"
     ]
    },
    {
     "name": "stderr",
     "output_type": "stream",
     "text": [
      "Epoch 40: 8.0s to complete\n",
      "    error(train)=8.02e-02, acc(train)=9.74e-01, error(valid)=3.65e+00, acc(valid)=8.20e-01\n"
     ]
    },
    {
     "data": {
      "application/vnd.jupyter.widget-view+json": {
       "model_id": "24191c6d69b44038b5fd4bb5df307d1c",
       "version_major": 2,
       "version_minor": 0
      },
      "text/plain": [
       "HBox(children=(IntProgress(value=0, max=1000), HTML(value='')))"
      ]
     },
     "metadata": {},
     "output_type": "display_data"
    },
    {
     "name": "stdout",
     "output_type": "stream",
     "text": [
      "\n"
     ]
    },
    {
     "name": "stderr",
     "output_type": "stream",
     "text": [
      "Epoch 41: 10.6s to complete\n",
      "    error(train)=9.68e-02, acc(train)=9.72e-01, error(valid)=3.59e+00, acc(valid)=8.19e-01\n"
     ]
    },
    {
     "data": {
      "application/vnd.jupyter.widget-view+json": {
       "model_id": "7391e64c39cf496bb7751ed78947ecee",
       "version_major": 2,
       "version_minor": 0
      },
      "text/plain": [
       "HBox(children=(IntProgress(value=0, max=1000), HTML(value='')))"
      ]
     },
     "metadata": {},
     "output_type": "display_data"
    },
    {
     "name": "stdout",
     "output_type": "stream",
     "text": [
      "\n"
     ]
    },
    {
     "name": "stderr",
     "output_type": "stream",
     "text": [
      "Epoch 42: 7.5s to complete\n",
      "    error(train)=9.94e-02, acc(train)=9.70e-01, error(valid)=3.64e+00, acc(valid)=8.17e-01\n"
     ]
    },
    {
     "data": {
      "application/vnd.jupyter.widget-view+json": {
       "model_id": "3c1e7f74e22b4033a28ced301c52220c",
       "version_major": 2,
       "version_minor": 0
      },
      "text/plain": [
       "HBox(children=(IntProgress(value=0, max=1000), HTML(value='')))"
      ]
     },
     "metadata": {},
     "output_type": "display_data"
    },
    {
     "name": "stdout",
     "output_type": "stream",
     "text": [
      "\n"
     ]
    },
    {
     "name": "stderr",
     "output_type": "stream",
     "text": [
      "Epoch 43: 8.6s to complete\n",
      "    error(train)=9.42e-02, acc(train)=9.72e-01, error(valid)=3.59e+00, acc(valid)=8.18e-01\n"
     ]
    },
    {
     "data": {
      "application/vnd.jupyter.widget-view+json": {
       "model_id": "d5a23b941e0d42868ef797d190d4b6a5",
       "version_major": 2,
       "version_minor": 0
      },
      "text/plain": [
       "HBox(children=(IntProgress(value=0, max=1000), HTML(value='')))"
      ]
     },
     "metadata": {},
     "output_type": "display_data"
    },
    {
     "name": "stdout",
     "output_type": "stream",
     "text": [
      "\n"
     ]
    },
    {
     "name": "stderr",
     "output_type": "stream",
     "text": [
      "Epoch 44: 14.4s to complete\n",
      "    error(train)=8.30e-02, acc(train)=9.73e-01, error(valid)=3.62e+00, acc(valid)=8.20e-01\n"
     ]
    },
    {
     "data": {
      "application/vnd.jupyter.widget-view+json": {
       "model_id": "46dcf3bcd84b44d09bc81815e6b42753",
       "version_major": 2,
       "version_minor": 0
      },
      "text/plain": [
       "HBox(children=(IntProgress(value=0, max=1000), HTML(value='')))"
      ]
     },
     "metadata": {},
     "output_type": "display_data"
    },
    {
     "name": "stdout",
     "output_type": "stream",
     "text": [
      "\n"
     ]
    },
    {
     "name": "stderr",
     "output_type": "stream",
     "text": [
      "Epoch 45: 8.7s to complete\n",
      "    error(train)=8.45e-02, acc(train)=9.73e-01, error(valid)=3.68e+00, acc(valid)=8.18e-01\n"
     ]
    },
    {
     "data": {
      "application/vnd.jupyter.widget-view+json": {
       "model_id": "4681178c40c146158072d91d1b4a8b9d",
       "version_major": 2,
       "version_minor": 0
      },
      "text/plain": [
       "HBox(children=(IntProgress(value=0, max=1000), HTML(value='')))"
      ]
     },
     "metadata": {},
     "output_type": "display_data"
    },
    {
     "name": "stdout",
     "output_type": "stream",
     "text": [
      "\n"
     ]
    },
    {
     "name": "stderr",
     "output_type": "stream",
     "text": [
      "Epoch 46: 9.4s to complete\n",
      "    error(train)=1.11e-01, acc(train)=9.69e-01, error(valid)=3.68e+00, acc(valid)=8.19e-01\n"
     ]
    },
    {
     "data": {
      "application/vnd.jupyter.widget-view+json": {
       "model_id": "fb87c48d83604dd7b6cd2d30e65b2aa9",
       "version_major": 2,
       "version_minor": 0
      },
      "text/plain": [
       "HBox(children=(IntProgress(value=0, max=1000), HTML(value='')))"
      ]
     },
     "metadata": {},
     "output_type": "display_data"
    },
    {
     "name": "stdout",
     "output_type": "stream",
     "text": [
      "\n"
     ]
    },
    {
     "name": "stderr",
     "output_type": "stream",
     "text": [
      "Epoch 47: 9.0s to complete\n",
      "    error(train)=7.90e-02, acc(train)=9.76e-01, error(valid)=3.65e+00, acc(valid)=8.21e-01\n"
     ]
    },
    {
     "data": {
      "application/vnd.jupyter.widget-view+json": {
       "model_id": "84154a20970d4150976397628d0f011c",
       "version_major": 2,
       "version_minor": 0
      },
      "text/plain": [
       "HBox(children=(IntProgress(value=0, max=1000), HTML(value='')))"
      ]
     },
     "metadata": {},
     "output_type": "display_data"
    },
    {
     "name": "stdout",
     "output_type": "stream",
     "text": [
      "\n"
     ]
    },
    {
     "name": "stderr",
     "output_type": "stream",
     "text": [
      "Epoch 48: 7.6s to complete\n",
      "    error(train)=1.05e-01, acc(train)=9.70e-01, error(valid)=3.69e+00, acc(valid)=8.16e-01\n"
     ]
    },
    {
     "data": {
      "application/vnd.jupyter.widget-view+json": {
       "model_id": "736658cc293444bda62a3715a9ec8741",
       "version_major": 2,
       "version_minor": 0
      },
      "text/plain": [
       "HBox(children=(IntProgress(value=0, max=1000), HTML(value='')))"
      ]
     },
     "metadata": {},
     "output_type": "display_data"
    },
    {
     "name": "stdout",
     "output_type": "stream",
     "text": [
      "\n"
     ]
    },
    {
     "name": "stderr",
     "output_type": "stream",
     "text": [
      "Epoch 49: 7.0s to complete\n",
      "    error(train)=1.01e-01, acc(train)=9.71e-01, error(valid)=3.77e+00, acc(valid)=8.17e-01\n"
     ]
    },
    {
     "data": {
      "application/vnd.jupyter.widget-view+json": {
       "model_id": "935766885f41473f9a42451b409c36a9",
       "version_major": 2,
       "version_minor": 0
      },
      "text/plain": [
       "HBox(children=(IntProgress(value=0, max=1000), HTML(value='')))"
      ]
     },
     "metadata": {},
     "output_type": "display_data"
    },
    {
     "name": "stdout",
     "output_type": "stream",
     "text": [
      "\n"
     ]
    },
    {
     "name": "stderr",
     "output_type": "stream",
     "text": [
      "Epoch 50: 7.3s to complete\n",
      "    error(train)=8.27e-02, acc(train)=9.74e-01, error(valid)=3.81e+00, acc(valid)=8.19e-01\n"
     ]
    },
    {
     "data": {
      "application/vnd.jupyter.widget-view+json": {
       "model_id": "8f6fb51b531e44d6b60d746e6d00f911",
       "version_major": 2,
       "version_minor": 0
      },
      "text/plain": [
       "HBox(children=(IntProgress(value=0, max=1000), HTML(value='')))"
      ]
     },
     "metadata": {},
     "output_type": "display_data"
    },
    {
     "name": "stdout",
     "output_type": "stream",
     "text": [
      "\n"
     ]
    },
    {
     "name": "stderr",
     "output_type": "stream",
     "text": [
      "Epoch 51: 7.6s to complete\n",
      "    error(train)=7.12e-02, acc(train)=9.77e-01, error(valid)=3.73e+00, acc(valid)=8.18e-01\n"
     ]
    },
    {
     "data": {
      "application/vnd.jupyter.widget-view+json": {
       "model_id": "4b3ced29479f4e7fbfeb9f9667914273",
       "version_major": 2,
       "version_minor": 0
      },
      "text/plain": [
       "HBox(children=(IntProgress(value=0, max=1000), HTML(value='')))"
      ]
     },
     "metadata": {},
     "output_type": "display_data"
    },
    {
     "name": "stdout",
     "output_type": "stream",
     "text": [
      "\n"
     ]
    },
    {
     "name": "stderr",
     "output_type": "stream",
     "text": [
      "Epoch 52: 7.9s to complete\n",
      "    error(train)=1.05e-01, acc(train)=9.69e-01, error(valid)=3.72e+00, acc(valid)=8.19e-01\n"
     ]
    },
    {
     "data": {
      "application/vnd.jupyter.widget-view+json": {
       "model_id": "cecac204a3ed427bada22a36f368e08c",
       "version_major": 2,
       "version_minor": 0
      },
      "text/plain": [
       "HBox(children=(IntProgress(value=0, max=1000), HTML(value='')))"
      ]
     },
     "metadata": {},
     "output_type": "display_data"
    },
    {
     "name": "stdout",
     "output_type": "stream",
     "text": [
      "\n"
     ]
    },
    {
     "name": "stderr",
     "output_type": "stream",
     "text": [
      "Epoch 53: 7.8s to complete\n",
      "    error(train)=1.02e-01, acc(train)=9.71e-01, error(valid)=3.81e+00, acc(valid)=8.17e-01\n"
     ]
    },
    {
     "data": {
      "application/vnd.jupyter.widget-view+json": {
       "model_id": "0c723e682dd44fec95633bf8057f5cfd",
       "version_major": 2,
       "version_minor": 0
      },
      "text/plain": [
       "HBox(children=(IntProgress(value=0, max=1000), HTML(value='')))"
      ]
     },
     "metadata": {},
     "output_type": "display_data"
    },
    {
     "name": "stdout",
     "output_type": "stream",
     "text": [
      "\n"
     ]
    },
    {
     "name": "stderr",
     "output_type": "stream",
     "text": [
      "Epoch 54: 9.1s to complete\n",
      "    error(train)=1.43e-01, acc(train)=9.65e-01, error(valid)=3.92e+00, acc(valid)=8.16e-01\n"
     ]
    },
    {
     "data": {
      "application/vnd.jupyter.widget-view+json": {
       "model_id": "8fbfe27874e94429b1bab158f3f8592f",
       "version_major": 2,
       "version_minor": 0
      },
      "text/plain": [
       "HBox(children=(IntProgress(value=0, max=1000), HTML(value='')))"
      ]
     },
     "metadata": {},
     "output_type": "display_data"
    },
    {
     "name": "stdout",
     "output_type": "stream",
     "text": [
      "\n"
     ]
    },
    {
     "name": "stderr",
     "output_type": "stream",
     "text": [
      "Epoch 55: 7.8s to complete\n",
      "    error(train)=8.23e-02, acc(train)=9.74e-01, error(valid)=3.84e+00, acc(valid)=8.18e-01\n"
     ]
    },
    {
     "data": {
      "application/vnd.jupyter.widget-view+json": {
       "model_id": "a51828e2b26647d0864f65578a2765c5",
       "version_major": 2,
       "version_minor": 0
      },
      "text/plain": [
       "HBox(children=(IntProgress(value=0, max=1000), HTML(value='')))"
      ]
     },
     "metadata": {},
     "output_type": "display_data"
    },
    {
     "name": "stdout",
     "output_type": "stream",
     "text": [
      "\n"
     ]
    },
    {
     "name": "stderr",
     "output_type": "stream",
     "text": [
      "Epoch 56: 24.4s to complete\n",
      "    error(train)=7.22e-02, acc(train)=9.76e-01, error(valid)=3.74e+00, acc(valid)=8.20e-01\n"
     ]
    },
    {
     "data": {
      "application/vnd.jupyter.widget-view+json": {
       "model_id": "996bfc0c925047b39f470dcd8ed151fc",
       "version_major": 2,
       "version_minor": 0
      },
      "text/plain": [
       "HBox(children=(IntProgress(value=0, max=1000), HTML(value='')))"
      ]
     },
     "metadata": {},
     "output_type": "display_data"
    },
    {
     "name": "stdout",
     "output_type": "stream",
     "text": [
      "\n"
     ]
    },
    {
     "name": "stderr",
     "output_type": "stream",
     "text": [
      "Epoch 57: 10.4s to complete\n",
      "    error(train)=9.55e-02, acc(train)=9.72e-01, error(valid)=3.84e+00, acc(valid)=8.21e-01\n"
     ]
    },
    {
     "data": {
      "application/vnd.jupyter.widget-view+json": {
       "model_id": "46f5a86587914a54b84437166e304ac4",
       "version_major": 2,
       "version_minor": 0
      },
      "text/plain": [
       "HBox(children=(IntProgress(value=0, max=1000), HTML(value='')))"
      ]
     },
     "metadata": {},
     "output_type": "display_data"
    },
    {
     "name": "stdout",
     "output_type": "stream",
     "text": [
      "\n"
     ]
    },
    {
     "name": "stderr",
     "output_type": "stream",
     "text": [
      "Epoch 58: 9.0s to complete\n",
      "    error(train)=8.85e-02, acc(train)=9.73e-01, error(valid)=3.83e+00, acc(valid)=8.22e-01\n"
     ]
    },
    {
     "data": {
      "application/vnd.jupyter.widget-view+json": {
       "model_id": "241c2e47a5884ebb9465b772923e6ac1",
       "version_major": 2,
       "version_minor": 0
      },
      "text/plain": [
       "HBox(children=(IntProgress(value=0, max=1000), HTML(value='')))"
      ]
     },
     "metadata": {},
     "output_type": "display_data"
    },
    {
     "name": "stdout",
     "output_type": "stream",
     "text": [
      "\n"
     ]
    },
    {
     "name": "stderr",
     "output_type": "stream",
     "text": [
      "Epoch 59: 8.7s to complete\n",
      "    error(train)=8.76e-02, acc(train)=9.74e-01, error(valid)=3.95e+00, acc(valid)=8.16e-01\n"
     ]
    },
    {
     "data": {
      "application/vnd.jupyter.widget-view+json": {
       "model_id": "f762bbf4267542f88f069338ac97d0e6",
       "version_major": 2,
       "version_minor": 0
      },
      "text/plain": [
       "HBox(children=(IntProgress(value=0, max=1000), HTML(value='')))"
      ]
     },
     "metadata": {},
     "output_type": "display_data"
    },
    {
     "name": "stdout",
     "output_type": "stream",
     "text": [
      "\n"
     ]
    },
    {
     "name": "stderr",
     "output_type": "stream",
     "text": [
      "Epoch 60: 11.7s to complete\n",
      "    error(train)=7.87e-02, acc(train)=9.74e-01, error(valid)=3.75e+00, acc(valid)=8.22e-01\n"
     ]
    },
    {
     "data": {
      "application/vnd.jupyter.widget-view+json": {
       "model_id": "6dd0e964386548e2a5c2af1746faf8ff",
       "version_major": 2,
       "version_minor": 0
      },
      "text/plain": [
       "HBox(children=(IntProgress(value=0, max=1000), HTML(value='')))"
      ]
     },
     "metadata": {},
     "output_type": "display_data"
    },
    {
     "name": "stdout",
     "output_type": "stream",
     "text": [
      "\n"
     ]
    },
    {
     "name": "stderr",
     "output_type": "stream",
     "text": [
      "Epoch 61: 7.3s to complete\n",
      "    error(train)=9.55e-02, acc(train)=9.71e-01, error(valid)=3.95e+00, acc(valid)=8.19e-01\n"
     ]
    },
    {
     "data": {
      "application/vnd.jupyter.widget-view+json": {
       "model_id": "858a2fd364ab48369bfc51595c140161",
       "version_major": 2,
       "version_minor": 0
      },
      "text/plain": [
       "HBox(children=(IntProgress(value=0, max=1000), HTML(value='')))"
      ]
     },
     "metadata": {},
     "output_type": "display_data"
    },
    {
     "name": "stdout",
     "output_type": "stream",
     "text": [
      "\n"
     ]
    },
    {
     "name": "stderr",
     "output_type": "stream",
     "text": [
      "Epoch 62: 8.4s to complete\n",
      "    error(train)=9.18e-02, acc(train)=9.72e-01, error(valid)=3.96e+00, acc(valid)=8.18e-01\n"
     ]
    },
    {
     "data": {
      "application/vnd.jupyter.widget-view+json": {
       "model_id": "1ea88ead2dea453196daf084f1934cea",
       "version_major": 2,
       "version_minor": 0
      },
      "text/plain": [
       "HBox(children=(IntProgress(value=0, max=1000), HTML(value='')))"
      ]
     },
     "metadata": {},
     "output_type": "display_data"
    },
    {
     "name": "stdout",
     "output_type": "stream",
     "text": [
      "\n"
     ]
    },
    {
     "name": "stderr",
     "output_type": "stream",
     "text": [
      "Epoch 63: 8.1s to complete\n",
      "    error(train)=7.82e-02, acc(train)=9.76e-01, error(valid)=3.95e+00, acc(valid)=8.22e-01\n"
     ]
    },
    {
     "data": {
      "application/vnd.jupyter.widget-view+json": {
       "model_id": "6aa18cea6a6947b7ad153f792a4d73b5",
       "version_major": 2,
       "version_minor": 0
      },
      "text/plain": [
       "HBox(children=(IntProgress(value=0, max=1000), HTML(value='')))"
      ]
     },
     "metadata": {},
     "output_type": "display_data"
    },
    {
     "name": "stdout",
     "output_type": "stream",
     "text": [
      "\n"
     ]
    },
    {
     "name": "stderr",
     "output_type": "stream",
     "text": [
      "Epoch 64: 7.9s to complete\n",
      "    error(train)=8.75e-02, acc(train)=9.74e-01, error(valid)=3.97e+00, acc(valid)=8.18e-01\n"
     ]
    },
    {
     "data": {
      "application/vnd.jupyter.widget-view+json": {
       "model_id": "866241886c274ad4980557a1c4f8b62e",
       "version_major": 2,
       "version_minor": 0
      },
      "text/plain": [
       "HBox(children=(IntProgress(value=0, max=1000), HTML(value='')))"
      ]
     },
     "metadata": {},
     "output_type": "display_data"
    },
    {
     "name": "stdout",
     "output_type": "stream",
     "text": [
      "\n"
     ]
    },
    {
     "name": "stderr",
     "output_type": "stream",
     "text": [
      "Epoch 65: 8.2s to complete\n",
      "    error(train)=8.85e-02, acc(train)=9.75e-01, error(valid)=3.96e+00, acc(valid)=8.21e-01\n"
     ]
    },
    {
     "data": {
      "application/vnd.jupyter.widget-view+json": {
       "model_id": "59054f2d88434857ba5d767e7ae03d42",
       "version_major": 2,
       "version_minor": 0
      },
      "text/plain": [
       "HBox(children=(IntProgress(value=0, max=1000), HTML(value='')))"
      ]
     },
     "metadata": {},
     "output_type": "display_data"
    },
    {
     "name": "stdout",
     "output_type": "stream",
     "text": [
      "\n"
     ]
    },
    {
     "name": "stderr",
     "output_type": "stream",
     "text": [
      "Epoch 66: 7.8s to complete\n",
      "    error(train)=1.02e-01, acc(train)=9.71e-01, error(valid)=4.10e+00, acc(valid)=8.17e-01\n"
     ]
    },
    {
     "data": {
      "application/vnd.jupyter.widget-view+json": {
       "model_id": "1701f56c0605453181f788efe9075460",
       "version_major": 2,
       "version_minor": 0
      },
      "text/plain": [
       "HBox(children=(IntProgress(value=0, max=1000), HTML(value='')))"
      ]
     },
     "metadata": {},
     "output_type": "display_data"
    },
    {
     "name": "stdout",
     "output_type": "stream",
     "text": [
      "\n"
     ]
    },
    {
     "name": "stderr",
     "output_type": "stream",
     "text": [
      "Epoch 67: 9.0s to complete\n",
      "    error(train)=9.26e-02, acc(train)=9.74e-01, error(valid)=4.01e+00, acc(valid)=8.14e-01\n"
     ]
    },
    {
     "data": {
      "application/vnd.jupyter.widget-view+json": {
       "model_id": "7d6d4b1ea8d0428abaa1e74382f02a31",
       "version_major": 2,
       "version_minor": 0
      },
      "text/plain": [
       "HBox(children=(IntProgress(value=0, max=1000), HTML(value='')))"
      ]
     },
     "metadata": {},
     "output_type": "display_data"
    },
    {
     "name": "stdout",
     "output_type": "stream",
     "text": [
      "\n"
     ]
    },
    {
     "name": "stderr",
     "output_type": "stream",
     "text": [
      "Epoch 68: 8.8s to complete\n",
      "    error(train)=8.99e-02, acc(train)=9.74e-01, error(valid)=3.92e+00, acc(valid)=8.22e-01\n"
     ]
    },
    {
     "data": {
      "application/vnd.jupyter.widget-view+json": {
       "model_id": "72136a31c29d47129fb3b81ab11425b1",
       "version_major": 2,
       "version_minor": 0
      },
      "text/plain": [
       "HBox(children=(IntProgress(value=0, max=1000), HTML(value='')))"
      ]
     },
     "metadata": {},
     "output_type": "display_data"
    },
    {
     "name": "stdout",
     "output_type": "stream",
     "text": [
      "\n"
     ]
    },
    {
     "name": "stderr",
     "output_type": "stream",
     "text": [
      "Epoch 69: 9.6s to complete\n",
      "    error(train)=8.99e-02, acc(train)=9.75e-01, error(valid)=3.96e+00, acc(valid)=8.19e-01\n"
     ]
    },
    {
     "data": {
      "application/vnd.jupyter.widget-view+json": {
       "model_id": "00f93a140f934449a188c85a86e1f124",
       "version_major": 2,
       "version_minor": 0
      },
      "text/plain": [
       "HBox(children=(IntProgress(value=0, max=1000), HTML(value='')))"
      ]
     },
     "metadata": {},
     "output_type": "display_data"
    },
    {
     "name": "stdout",
     "output_type": "stream",
     "text": [
      "\n"
     ]
    },
    {
     "name": "stderr",
     "output_type": "stream",
     "text": [
      "Epoch 70: 8.3s to complete\n",
      "    error(train)=1.15e-01, acc(train)=9.70e-01, error(valid)=4.05e+00, acc(valid)=8.19e-01\n"
     ]
    },
    {
     "data": {
      "application/vnd.jupyter.widget-view+json": {
       "model_id": "03a295ef2e224f5f96c6191abfa6dd4f",
       "version_major": 2,
       "version_minor": 0
      },
      "text/plain": [
       "HBox(children=(IntProgress(value=0, max=1000), HTML(value='')))"
      ]
     },
     "metadata": {},
     "output_type": "display_data"
    },
    {
     "name": "stdout",
     "output_type": "stream",
     "text": [
      "\n"
     ]
    },
    {
     "name": "stderr",
     "output_type": "stream",
     "text": [
      "Epoch 71: 8.9s to complete\n",
      "    error(train)=1.05e-01, acc(train)=9.70e-01, error(valid)=3.97e+00, acc(valid)=8.16e-01\n"
     ]
    },
    {
     "data": {
      "application/vnd.jupyter.widget-view+json": {
       "model_id": "5cd8862653d44413ad9fdf4f9df0208d",
       "version_major": 2,
       "version_minor": 0
      },
      "text/plain": [
       "HBox(children=(IntProgress(value=0, max=1000), HTML(value='')))"
      ]
     },
     "metadata": {},
     "output_type": "display_data"
    },
    {
     "name": "stdout",
     "output_type": "stream",
     "text": [
      "\n"
     ]
    },
    {
     "name": "stderr",
     "output_type": "stream",
     "text": [
      "Epoch 72: 8.2s to complete\n",
      "    error(train)=9.03e-02, acc(train)=9.73e-01, error(valid)=4.04e+00, acc(valid)=8.18e-01\n"
     ]
    },
    {
     "data": {
      "application/vnd.jupyter.widget-view+json": {
       "model_id": "b2b2947fc2684ed08a4b7ad01798df32",
       "version_major": 2,
       "version_minor": 0
      },
      "text/plain": [
       "HBox(children=(IntProgress(value=0, max=1000), HTML(value='')))"
      ]
     },
     "metadata": {},
     "output_type": "display_data"
    },
    {
     "name": "stdout",
     "output_type": "stream",
     "text": [
      "\n"
     ]
    },
    {
     "name": "stderr",
     "output_type": "stream",
     "text": [
      "Epoch 73: 7.7s to complete\n",
      "    error(train)=9.46e-02, acc(train)=9.72e-01, error(valid)=4.04e+00, acc(valid)=8.16e-01\n"
     ]
    },
    {
     "data": {
      "application/vnd.jupyter.widget-view+json": {
       "model_id": "0d13c296c917418e9d6ad0f8955a14e8",
       "version_major": 2,
       "version_minor": 0
      },
      "text/plain": [
       "HBox(children=(IntProgress(value=0, max=1000), HTML(value='')))"
      ]
     },
     "metadata": {},
     "output_type": "display_data"
    },
    {
     "name": "stdout",
     "output_type": "stream",
     "text": [
      "\n"
     ]
    },
    {
     "name": "stderr",
     "output_type": "stream",
     "text": [
      "Epoch 74: 9.7s to complete\n",
      "    error(train)=1.08e-01, acc(train)=9.71e-01, error(valid)=4.08e+00, acc(valid)=8.21e-01\n"
     ]
    },
    {
     "data": {
      "application/vnd.jupyter.widget-view+json": {
       "model_id": "7f2cfd68aec54be3b5c5d53c07b0a735",
       "version_major": 2,
       "version_minor": 0
      },
      "text/plain": [
       "HBox(children=(IntProgress(value=0, max=1000), HTML(value='')))"
      ]
     },
     "metadata": {},
     "output_type": "display_data"
    },
    {
     "name": "stdout",
     "output_type": "stream",
     "text": [
      "\n"
     ]
    },
    {
     "name": "stderr",
     "output_type": "stream",
     "text": [
      "Epoch 75: 8.1s to complete\n",
      "    error(train)=8.33e-02, acc(train)=9.75e-01, error(valid)=4.14e+00, acc(valid)=8.22e-01\n"
     ]
    },
    {
     "data": {
      "application/vnd.jupyter.widget-view+json": {
       "model_id": "a3f8f77acb874a898c0ca5ea8f745d9b",
       "version_major": 2,
       "version_minor": 0
      },
      "text/plain": [
       "HBox(children=(IntProgress(value=0, max=1000), HTML(value='')))"
      ]
     },
     "metadata": {},
     "output_type": "display_data"
    },
    {
     "name": "stdout",
     "output_type": "stream",
     "text": [
      "\n"
     ]
    },
    {
     "name": "stderr",
     "output_type": "stream",
     "text": [
      "Epoch 76: 7.8s to complete\n",
      "    error(train)=9.24e-02, acc(train)=9.73e-01, error(valid)=4.22e+00, acc(valid)=8.23e-01\n"
     ]
    },
    {
     "data": {
      "application/vnd.jupyter.widget-view+json": {
       "model_id": "c81f06857e3a4e0eaf2b258dcbba1c26",
       "version_major": 2,
       "version_minor": 0
      },
      "text/plain": [
       "HBox(children=(IntProgress(value=0, max=1000), HTML(value='')))"
      ]
     },
     "metadata": {},
     "output_type": "display_data"
    },
    {
     "name": "stdout",
     "output_type": "stream",
     "text": [
      "\n"
     ]
    },
    {
     "name": "stderr",
     "output_type": "stream",
     "text": [
      "Epoch 77: 7.7s to complete\n",
      "    error(train)=7.86e-02, acc(train)=9.76e-01, error(valid)=4.13e+00, acc(valid)=8.20e-01\n"
     ]
    },
    {
     "data": {
      "application/vnd.jupyter.widget-view+json": {
       "model_id": "7c1e711f53194d969336a4318ed0f639",
       "version_major": 2,
       "version_minor": 0
      },
      "text/plain": [
       "HBox(children=(IntProgress(value=0, max=1000), HTML(value='')))"
      ]
     },
     "metadata": {},
     "output_type": "display_data"
    },
    {
     "name": "stdout",
     "output_type": "stream",
     "text": [
      "\n"
     ]
    },
    {
     "name": "stderr",
     "output_type": "stream",
     "text": [
      "Epoch 78: 7.0s to complete\n",
      "    error(train)=9.36e-02, acc(train)=9.73e-01, error(valid)=4.21e+00, acc(valid)=8.16e-01\n"
     ]
    },
    {
     "data": {
      "application/vnd.jupyter.widget-view+json": {
       "model_id": "93f0133757a4488d95b2ec94cb2eb8f5",
       "version_major": 2,
       "version_minor": 0
      },
      "text/plain": [
       "HBox(children=(IntProgress(value=0, max=1000), HTML(value='')))"
      ]
     },
     "metadata": {},
     "output_type": "display_data"
    },
    {
     "name": "stdout",
     "output_type": "stream",
     "text": [
      "\n"
     ]
    },
    {
     "name": "stderr",
     "output_type": "stream",
     "text": [
      "Epoch 79: 7.1s to complete\n",
      "    error(train)=1.17e-01, acc(train)=9.69e-01, error(valid)=4.32e+00, acc(valid)=8.17e-01\n"
     ]
    },
    {
     "data": {
      "application/vnd.jupyter.widget-view+json": {
       "model_id": "570bbda88c6844a58ac9f77c5997710d",
       "version_major": 2,
       "version_minor": 0
      },
      "text/plain": [
       "HBox(children=(IntProgress(value=0, max=1000), HTML(value='')))"
      ]
     },
     "metadata": {},
     "output_type": "display_data"
    },
    {
     "name": "stdout",
     "output_type": "stream",
     "text": [
      "\n"
     ]
    },
    {
     "name": "stderr",
     "output_type": "stream",
     "text": [
      "Epoch 80: 7.2s to complete\n",
      "    error(train)=9.42e-02, acc(train)=9.73e-01, error(valid)=4.30e+00, acc(valid)=8.16e-01\n"
     ]
    },
    {
     "data": {
      "application/vnd.jupyter.widget-view+json": {
       "model_id": "f9627bed29014898a44af83ec79171bb",
       "version_major": 2,
       "version_minor": 0
      },
      "text/plain": [
       "HBox(children=(IntProgress(value=0, max=1000), HTML(value='')))"
      ]
     },
     "metadata": {},
     "output_type": "display_data"
    },
    {
     "name": "stdout",
     "output_type": "stream",
     "text": [
      "\n"
     ]
    },
    {
     "name": "stderr",
     "output_type": "stream",
     "text": [
      "Epoch 81: 7.0s to complete\n",
      "    error(train)=1.03e-01, acc(train)=9.72e-01, error(valid)=4.32e+00, acc(valid)=8.17e-01\n"
     ]
    },
    {
     "data": {
      "application/vnd.jupyter.widget-view+json": {
       "model_id": "1e7df34cb7994875a8bfba212be8de7d",
       "version_major": 2,
       "version_minor": 0
      },
      "text/plain": [
       "HBox(children=(IntProgress(value=0, max=1000), HTML(value='')))"
      ]
     },
     "metadata": {},
     "output_type": "display_data"
    },
    {
     "name": "stdout",
     "output_type": "stream",
     "text": [
      "\n"
     ]
    },
    {
     "name": "stderr",
     "output_type": "stream",
     "text": [
      "Epoch 82: 7.2s to complete\n",
      "    error(train)=8.65e-02, acc(train)=9.74e-01, error(valid)=4.33e+00, acc(valid)=8.18e-01\n"
     ]
    },
    {
     "data": {
      "application/vnd.jupyter.widget-view+json": {
       "model_id": "e26f0b0d2777490a961b4975590a7ec2",
       "version_major": 2,
       "version_minor": 0
      },
      "text/plain": [
       "HBox(children=(IntProgress(value=0, max=1000), HTML(value='')))"
      ]
     },
     "metadata": {},
     "output_type": "display_data"
    },
    {
     "name": "stdout",
     "output_type": "stream",
     "text": [
      "\n"
     ]
    },
    {
     "name": "stderr",
     "output_type": "stream",
     "text": [
      "Epoch 83: 7.5s to complete\n",
      "    error(train)=1.05e-01, acc(train)=9.72e-01, error(valid)=4.34e+00, acc(valid)=8.18e-01\n"
     ]
    },
    {
     "data": {
      "application/vnd.jupyter.widget-view+json": {
       "model_id": "2cd003bade5f429ab72d87d97da25c55",
       "version_major": 2,
       "version_minor": 0
      },
      "text/plain": [
       "HBox(children=(IntProgress(value=0, max=1000), HTML(value='')))"
      ]
     },
     "metadata": {},
     "output_type": "display_data"
    },
    {
     "name": "stdout",
     "output_type": "stream",
     "text": [
      "\n"
     ]
    },
    {
     "name": "stderr",
     "output_type": "stream",
     "text": [
      "Epoch 84: 7.3s to complete\n",
      "    error(train)=1.05e-01, acc(train)=9.72e-01, error(valid)=4.17e+00, acc(valid)=8.19e-01\n"
     ]
    },
    {
     "data": {
      "application/vnd.jupyter.widget-view+json": {
       "model_id": "27a816c1aa3a4d45a149cf958ff7d154",
       "version_major": 2,
       "version_minor": 0
      },
      "text/plain": [
       "HBox(children=(IntProgress(value=0, max=1000), HTML(value='')))"
      ]
     },
     "metadata": {},
     "output_type": "display_data"
    },
    {
     "name": "stdout",
     "output_type": "stream",
     "text": [
      "\n"
     ]
    },
    {
     "name": "stderr",
     "output_type": "stream",
     "text": [
      "Epoch 85: 7.6s to complete\n",
      "    error(train)=1.08e-01, acc(train)=9.72e-01, error(valid)=4.26e+00, acc(valid)=8.16e-01\n"
     ]
    },
    {
     "data": {
      "application/vnd.jupyter.widget-view+json": {
       "model_id": "3813b4b4efbf4cdeb894ba479373e6cd",
       "version_major": 2,
       "version_minor": 0
      },
      "text/plain": [
       "HBox(children=(IntProgress(value=0, max=1000), HTML(value='')))"
      ]
     },
     "metadata": {},
     "output_type": "display_data"
    },
    {
     "name": "stdout",
     "output_type": "stream",
     "text": [
      "\n"
     ]
    },
    {
     "name": "stderr",
     "output_type": "stream",
     "text": [
      "Epoch 86: 7.6s to complete\n",
      "    error(train)=8.76e-02, acc(train)=9.75e-01, error(valid)=4.33e+00, acc(valid)=8.19e-01\n"
     ]
    },
    {
     "data": {
      "application/vnd.jupyter.widget-view+json": {
       "model_id": "7ab0c9f38e7d46048b32d8cc670f6df3",
       "version_major": 2,
       "version_minor": 0
      },
      "text/plain": [
       "HBox(children=(IntProgress(value=0, max=1000), HTML(value='')))"
      ]
     },
     "metadata": {},
     "output_type": "display_data"
    },
    {
     "name": "stdout",
     "output_type": "stream",
     "text": [
      "\n"
     ]
    },
    {
     "name": "stderr",
     "output_type": "stream",
     "text": [
      "Epoch 87: 9.8s to complete\n",
      "    error(train)=9.15e-02, acc(train)=9.75e-01, error(valid)=4.29e+00, acc(valid)=8.16e-01\n"
     ]
    },
    {
     "data": {
      "application/vnd.jupyter.widget-view+json": {
       "model_id": "ce730a1eab1740d08a855b9062a17c13",
       "version_major": 2,
       "version_minor": 0
      },
      "text/plain": [
       "HBox(children=(IntProgress(value=0, max=1000), HTML(value='')))"
      ]
     },
     "metadata": {},
     "output_type": "display_data"
    },
    {
     "name": "stdout",
     "output_type": "stream",
     "text": [
      "\n"
     ]
    },
    {
     "name": "stderr",
     "output_type": "stream",
     "text": [
      "Epoch 88: 9.1s to complete\n",
      "    error(train)=1.16e-01, acc(train)=9.71e-01, error(valid)=4.45e+00, acc(valid)=8.18e-01\n"
     ]
    },
    {
     "data": {
      "application/vnd.jupyter.widget-view+json": {
       "model_id": "fea4e0322f9645b9bf59cf7e12b4862e",
       "version_major": 2,
       "version_minor": 0
      },
      "text/plain": [
       "HBox(children=(IntProgress(value=0, max=1000), HTML(value='')))"
      ]
     },
     "metadata": {},
     "output_type": "display_data"
    },
    {
     "name": "stdout",
     "output_type": "stream",
     "text": [
      "\n"
     ]
    },
    {
     "name": "stderr",
     "output_type": "stream",
     "text": [
      "Epoch 89: 9.8s to complete\n",
      "    error(train)=1.01e-01, acc(train)=9.73e-01, error(valid)=4.49e+00, acc(valid)=8.18e-01\n"
     ]
    },
    {
     "data": {
      "application/vnd.jupyter.widget-view+json": {
       "model_id": "71aefc221dfc4335baaa923f0c927617",
       "version_major": 2,
       "version_minor": 0
      },
      "text/plain": [
       "HBox(children=(IntProgress(value=0, max=1000), HTML(value='')))"
      ]
     },
     "metadata": {},
     "output_type": "display_data"
    },
    {
     "name": "stdout",
     "output_type": "stream",
     "text": [
      "\n"
     ]
    },
    {
     "name": "stderr",
     "output_type": "stream",
     "text": [
      "Epoch 90: 8.8s to complete\n",
      "    error(train)=7.51e-02, acc(train)=9.77e-01, error(valid)=4.31e+00, acc(valid)=8.22e-01\n"
     ]
    },
    {
     "data": {
      "application/vnd.jupyter.widget-view+json": {
       "model_id": "721eb0e8b9584535896c2ea4353f507a",
       "version_major": 2,
       "version_minor": 0
      },
      "text/plain": [
       "HBox(children=(IntProgress(value=0, max=1000), HTML(value='')))"
      ]
     },
     "metadata": {},
     "output_type": "display_data"
    },
    {
     "name": "stdout",
     "output_type": "stream",
     "text": [
      "\n"
     ]
    },
    {
     "name": "stderr",
     "output_type": "stream",
     "text": [
      "Epoch 91: 31.3s to complete\n",
      "    error(train)=1.04e-01, acc(train)=9.71e-01, error(valid)=4.38e+00, acc(valid)=8.19e-01\n"
     ]
    },
    {
     "data": {
      "application/vnd.jupyter.widget-view+json": {
       "model_id": "55c77af44b364b5fb9648d74c5624b19",
       "version_major": 2,
       "version_minor": 0
      },
      "text/plain": [
       "HBox(children=(IntProgress(value=0, max=1000), HTML(value='')))"
      ]
     },
     "metadata": {},
     "output_type": "display_data"
    },
    {
     "name": "stdout",
     "output_type": "stream",
     "text": [
      "\n"
     ]
    },
    {
     "name": "stderr",
     "output_type": "stream",
     "text": [
      "Epoch 92: 7.5s to complete\n",
      "    error(train)=9.51e-02, acc(train)=9.73e-01, error(valid)=4.35e+00, acc(valid)=8.20e-01\n"
     ]
    },
    {
     "data": {
      "application/vnd.jupyter.widget-view+json": {
       "model_id": "18ff6a62045d49869d0e0e0cbe0d90a3",
       "version_major": 2,
       "version_minor": 0
      },
      "text/plain": [
       "HBox(children=(IntProgress(value=0, max=1000), HTML(value='')))"
      ]
     },
     "metadata": {},
     "output_type": "display_data"
    },
    {
     "name": "stdout",
     "output_type": "stream",
     "text": [
      "\n"
     ]
    },
    {
     "name": "stderr",
     "output_type": "stream",
     "text": [
      "Epoch 93: 8.4s to complete\n",
      "    error(train)=1.14e-01, acc(train)=9.71e-01, error(valid)=4.37e+00, acc(valid)=8.19e-01\n"
     ]
    },
    {
     "data": {
      "application/vnd.jupyter.widget-view+json": {
       "model_id": "45570cc92ffb4faeada62e3d35a4b360",
       "version_major": 2,
       "version_minor": 0
      },
      "text/plain": [
       "HBox(children=(IntProgress(value=0, max=1000), HTML(value='')))"
      ]
     },
     "metadata": {},
     "output_type": "display_data"
    },
    {
     "name": "stdout",
     "output_type": "stream",
     "text": [
      "\n"
     ]
    },
    {
     "name": "stderr",
     "output_type": "stream",
     "text": [
      "Epoch 94: 11.0s to complete\n",
      "    error(train)=9.98e-02, acc(train)=9.74e-01, error(valid)=4.66e+00, acc(valid)=8.16e-01\n"
     ]
    },
    {
     "data": {
      "application/vnd.jupyter.widget-view+json": {
       "model_id": "270387ea93af403988e7c0b5747c3c97",
       "version_major": 2,
       "version_minor": 0
      },
      "text/plain": [
       "HBox(children=(IntProgress(value=0, max=1000), HTML(value='')))"
      ]
     },
     "metadata": {},
     "output_type": "display_data"
    },
    {
     "name": "stdout",
     "output_type": "stream",
     "text": [
      "\n"
     ]
    },
    {
     "name": "stderr",
     "output_type": "stream",
     "text": [
      "Epoch 95: 8.7s to complete\n",
      "    error(train)=8.27e-02, acc(train)=9.75e-01, error(valid)=4.30e+00, acc(valid)=8.19e-01\n"
     ]
    },
    {
     "data": {
      "application/vnd.jupyter.widget-view+json": {
       "model_id": "e67e937bb77347f995f04d84a722604f",
       "version_major": 2,
       "version_minor": 0
      },
      "text/plain": [
       "HBox(children=(IntProgress(value=0, max=1000), HTML(value='')))"
      ]
     },
     "metadata": {},
     "output_type": "display_data"
    },
    {
     "name": "stdout",
     "output_type": "stream",
     "text": [
      "\n"
     ]
    },
    {
     "name": "stderr",
     "output_type": "stream",
     "text": [
      "Epoch 96: 11.1s to complete\n",
      "    error(train)=9.12e-02, acc(train)=9.74e-01, error(valid)=4.46e+00, acc(valid)=8.13e-01\n"
     ]
    },
    {
     "data": {
      "application/vnd.jupyter.widget-view+json": {
       "model_id": "84885653ace24cabab1100b1a19fa745",
       "version_major": 2,
       "version_minor": 0
      },
      "text/plain": [
       "HBox(children=(IntProgress(value=0, max=1000), HTML(value='')))"
      ]
     },
     "metadata": {},
     "output_type": "display_data"
    },
    {
     "name": "stdout",
     "output_type": "stream",
     "text": [
      "\n"
     ]
    },
    {
     "name": "stderr",
     "output_type": "stream",
     "text": [
      "Epoch 97: 9.1s to complete\n",
      "    error(train)=8.55e-02, acc(train)=9.75e-01, error(valid)=4.59e+00, acc(valid)=8.19e-01\n"
     ]
    },
    {
     "data": {
      "application/vnd.jupyter.widget-view+json": {
       "model_id": "39c3dbc67bfb4a22be21d700fd652509",
       "version_major": 2,
       "version_minor": 0
      },
      "text/plain": [
       "HBox(children=(IntProgress(value=0, max=1000), HTML(value='')))"
      ]
     },
     "metadata": {},
     "output_type": "display_data"
    },
    {
     "name": "stdout",
     "output_type": "stream",
     "text": [
      "\n"
     ]
    },
    {
     "name": "stderr",
     "output_type": "stream",
     "text": [
      "Epoch 98: 8.3s to complete\n",
      "    error(train)=8.49e-02, acc(train)=9.75e-01, error(valid)=4.37e+00, acc(valid)=8.18e-01\n"
     ]
    },
    {
     "data": {
      "application/vnd.jupyter.widget-view+json": {
       "model_id": "47a86a4101a442caa392815c52b778ed",
       "version_major": 2,
       "version_minor": 0
      },
      "text/plain": [
       "HBox(children=(IntProgress(value=0, max=1000), HTML(value='')))"
      ]
     },
     "metadata": {},
     "output_type": "display_data"
    },
    {
     "name": "stdout",
     "output_type": "stream",
     "text": [
      "\n"
     ]
    },
    {
     "name": "stderr",
     "output_type": "stream",
     "text": [
      "Epoch 99: 7.9s to complete\n",
      "    error(train)=9.47e-02, acc(train)=9.73e-01, error(valid)=4.57e+00, acc(valid)=8.19e-01\n"
     ]
    },
    {
     "data": {
      "application/vnd.jupyter.widget-view+json": {
       "model_id": "68b62c66cc474717862137474cc668c6",
       "version_major": 2,
       "version_minor": 0
      },
      "text/plain": [
       "HBox(children=(IntProgress(value=0, max=1000), HTML(value='')))"
      ]
     },
     "metadata": {},
     "output_type": "display_data"
    },
    {
     "name": "stdout",
     "output_type": "stream",
     "text": [
      "\n"
     ]
    },
    {
     "name": "stderr",
     "output_type": "stream",
     "text": [
      "Epoch 100: 8.3s to complete\n",
      "    error(train)=9.74e-02, acc(train)=9.74e-01, error(valid)=4.48e+00, acc(valid)=8.19e-01\n"
     ]
    },
    {
     "name": "stdout",
     "output_type": "stream",
     "text": [
      "\n"
     ]
    },
    {
     "data": {
      "image/png": "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\n",
      "text/plain": [
       "<Figure size 576x288 with 1 Axes>"
      ]
     },
     "metadata": {
      "needs_background": "light"
     },
     "output_type": "display_data"
    },
    {
     "data": {
      "image/png": "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\n",
      "text/plain": [
       "<Figure size 576x288 with 1 Axes>"
      ]
     },
     "metadata": {
      "needs_background": "light"
     },
     "output_type": "display_data"
    }
   ],
   "source": [
    "# The model set up code below is provided as a starting point.\n",
    "# You will probably want to add further code cells for the\n",
    "# different experiments you run.\n",
    "\n",
    "from mlp.layers import AffineLayer, SoftmaxLayer, SigmoidLayer, ReluLayer\n",
    "from mlp.layers import LeakyReluLayer, RandomReluLayer, ParametricReluLayer, ExponentialLinearUnitLayer\n",
    "from mlp.errors import CrossEntropySoftmaxError\n",
    "from mlp.models import MultipleLayerModel\n",
    "from mlp.initialisers import ConstantInit, GlorotUniformInit\n",
    "from mlp.learning_rules import AdamLearningRule\n",
    "from mlp.optimisers import Optimiser\n",
    "\n",
    "#setup hyperparameters\n",
    "learning_rate = 0.1\n",
    "num_epochs = 100\n",
    "stats_interval = 1\n",
    "input_dim, output_dim, hidden_dim = 784, 47, 32\n",
    "\n",
    "weights_init = GlorotUniformInit(rng=rng)\n",
    "biases_init = ConstantInit(0.)\n",
    "model_32 = MultipleLayerModel([\n",
    "    AffineLayer(input_dim, hidden_dim, weights_init, biases_init), \n",
    "    ReluLayer(),\n",
    "    #AffineLayer(hidden_dim, hidden_dim, weights_init, biases_init), \n",
    "    #ReluLayer(),\n",
    "    #AffineLayer(hidden_dim, hidden_dim, weights_init, biases_init),\n",
    "    #LeakyReluLayer(),\n",
    "    AffineLayer(hidden_dim, output_dim, weights_init, biases_init)\n",
    "])\n",
    "\n",
    "error = CrossEntropySoftmaxError()\n",
    "# Use a basic gradient descent learning rule\n",
    "learning_rule = AdamLearningRule()\n",
    "\n",
    "#Remember to use notebook=False when you write a script to be run in a terminal\n",
    "_ = train_model_and_plot_stats(\n",
    "    model, error, learning_rule, train_data, valid_data, num_epochs, stats_interval, notebook=True)"
   ]
  },
  {
   "cell_type": "markdown",
   "metadata": {},
   "source": [
    "## 64 ReLU hidden Unit 3 layer"
   ]
  },
  {
   "cell_type": "code",
   "execution_count": 13,
   "metadata": {
    "scrolled": true
   },
   "outputs": [
    {
     "data": {
      "application/vnd.jupyter.widget-view+json": {
       "model_id": "60ff0be6cfbd498c82cba65f3492d45e",
       "version_major": 2,
       "version_minor": 0
      },
      "text/plain": [
       "HBox(children=(IntProgress(value=0), HTML(value='')))"
      ]
     },
     "metadata": {},
     "output_type": "display_data"
    },
    {
     "data": {
      "application/vnd.jupyter.widget-view+json": {
       "model_id": "e24ba5e7d51e48628bd98f60b9e2bfb4",
       "version_major": 2,
       "version_minor": 0
      },
      "text/plain": [
       "HBox(children=(IntProgress(value=0, max=1000), HTML(value='')))"
      ]
     },
     "metadata": {},
     "output_type": "display_data"
    },
    {
     "name": "stdout",
     "output_type": "stream",
     "text": [
      "\n"
     ]
    },
    {
     "name": "stderr",
     "output_type": "stream",
     "text": [
      "Epoch 1: 5.6s to complete\n",
      "    error(train)=8.85e-01, acc(train)=7.34e-01, error(valid)=9.08e-01, acc(valid)=7.27e-01\n"
     ]
    },
    {
     "data": {
      "application/vnd.jupyter.widget-view+json": {
       "model_id": "5df78556b9a04a3a8bdf2912ca3c8e27",
       "version_major": 2,
       "version_minor": 0
      },
      "text/plain": [
       "HBox(children=(IntProgress(value=0, max=1000), HTML(value='')))"
      ]
     },
     "metadata": {},
     "output_type": "display_data"
    },
    {
     "name": "stdout",
     "output_type": "stream",
     "text": [
      "\n"
     ]
    },
    {
     "name": "stderr",
     "output_type": "stream",
     "text": [
      "Epoch 2: 4.7s to complete\n",
      "    error(train)=7.18e-01, acc(train)=7.74e-01, error(valid)=7.49e-01, acc(valid)=7.62e-01\n"
     ]
    },
    {
     "data": {
      "application/vnd.jupyter.widget-view+json": {
       "model_id": "4aecd8e5043f4ebcbd152ade312b81e9",
       "version_major": 2,
       "version_minor": 0
      },
      "text/plain": [
       "HBox(children=(IntProgress(value=0, max=1000), HTML(value='')))"
      ]
     },
     "metadata": {},
     "output_type": "display_data"
    },
    {
     "name": "stdout",
     "output_type": "stream",
     "text": [
      "\n"
     ]
    },
    {
     "name": "stderr",
     "output_type": "stream",
     "text": [
      "Epoch 3: 4.6s to complete\n",
      "    error(train)=6.27e-01, acc(train)=8.01e-01, error(valid)=6.74e-01, acc(valid)=7.87e-01\n"
     ]
    },
    {
     "data": {
      "application/vnd.jupyter.widget-view+json": {
       "model_id": "b7f0e3fbd1f04faeada3e548fb5bf356",
       "version_major": 2,
       "version_minor": 0
      },
      "text/plain": [
       "HBox(children=(IntProgress(value=0, max=1000), HTML(value='')))"
      ]
     },
     "metadata": {},
     "output_type": "display_data"
    },
    {
     "name": "stdout",
     "output_type": "stream",
     "text": [
      "\n"
     ]
    },
    {
     "name": "stderr",
     "output_type": "stream",
     "text": [
      "Epoch 4: 5.2s to complete\n",
      "    error(train)=5.73e-01, acc(train)=8.15e-01, error(valid)=6.32e-01, acc(valid)=8.00e-01\n"
     ]
    },
    {
     "data": {
      "application/vnd.jupyter.widget-view+json": {
       "model_id": "5cf351878c7e4c3da0de9fcc0d565699",
       "version_major": 2,
       "version_minor": 0
      },
      "text/plain": [
       "HBox(children=(IntProgress(value=0, max=1000), HTML(value='')))"
      ]
     },
     "metadata": {},
     "output_type": "display_data"
    },
    {
     "name": "stdout",
     "output_type": "stream",
     "text": [
      "\n"
     ]
    },
    {
     "name": "stderr",
     "output_type": "stream",
     "text": [
      "Epoch 5: 4.7s to complete\n",
      "    error(train)=5.40e-01, acc(train)=8.23e-01, error(valid)=6.08e-01, acc(valid)=8.04e-01\n"
     ]
    },
    {
     "data": {
      "application/vnd.jupyter.widget-view+json": {
       "model_id": "f44baea2bbdd470fa98b6d065084594c",
       "version_major": 2,
       "version_minor": 0
      },
      "text/plain": [
       "HBox(children=(IntProgress(value=0, max=1000), HTML(value='')))"
      ]
     },
     "metadata": {},
     "output_type": "display_data"
    },
    {
     "name": "stdout",
     "output_type": "stream",
     "text": [
      "\n"
     ]
    },
    {
     "name": "stderr",
     "output_type": "stream",
     "text": [
      "Epoch 6: 4.5s to complete\n",
      "    error(train)=5.22e-01, acc(train)=8.26e-01, error(valid)=6.01e-01, acc(valid)=8.07e-01\n"
     ]
    },
    {
     "data": {
      "application/vnd.jupyter.widget-view+json": {
       "model_id": "1892021c47434074a4d8a1e9c8dbc466",
       "version_major": 2,
       "version_minor": 0
      },
      "text/plain": [
       "HBox(children=(IntProgress(value=0, max=1000), HTML(value='')))"
      ]
     },
     "metadata": {},
     "output_type": "display_data"
    },
    {
     "name": "stdout",
     "output_type": "stream",
     "text": [
      "\n"
     ]
    },
    {
     "name": "stderr",
     "output_type": "stream",
     "text": [
      "Epoch 7: 5.2s to complete\n",
      "    error(train)=5.00e-01, acc(train)=8.33e-01, error(valid)=5.89e-01, acc(valid)=8.11e-01\n"
     ]
    },
    {
     "data": {
      "application/vnd.jupyter.widget-view+json": {
       "model_id": "c290e5d90fb14ab4854df9f4e24e8163",
       "version_major": 2,
       "version_minor": 0
      },
      "text/plain": [
       "HBox(children=(IntProgress(value=0, max=1000), HTML(value='')))"
      ]
     },
     "metadata": {},
     "output_type": "display_data"
    },
    {
     "name": "stdout",
     "output_type": "stream",
     "text": [
      "\n"
     ]
    },
    {
     "name": "stderr",
     "output_type": "stream",
     "text": [
      "Epoch 8: 5.2s to complete\n",
      "    error(train)=4.78e-01, acc(train)=8.39e-01, error(valid)=5.72e-01, acc(valid)=8.13e-01\n"
     ]
    },
    {
     "data": {
      "application/vnd.jupyter.widget-view+json": {
       "model_id": "a9dcca4b13bf46c4b333b874600e1f9d",
       "version_major": 2,
       "version_minor": 0
      },
      "text/plain": [
       "HBox(children=(IntProgress(value=0, max=1000), HTML(value='')))"
      ]
     },
     "metadata": {},
     "output_type": "display_data"
    },
    {
     "name": "stdout",
     "output_type": "stream",
     "text": [
      "\n"
     ]
    },
    {
     "name": "stderr",
     "output_type": "stream",
     "text": [
      "Epoch 9: 4.7s to complete\n",
      "    error(train)=4.62e-01, acc(train)=8.45e-01, error(valid)=5.66e-01, acc(valid)=8.16e-01\n"
     ]
    },
    {
     "data": {
      "application/vnd.jupyter.widget-view+json": {
       "model_id": "07ac857ac5a24ecfb00975e61f3e74f7",
       "version_major": 2,
       "version_minor": 0
      },
      "text/plain": [
       "HBox(children=(IntProgress(value=0, max=1000), HTML(value='')))"
      ]
     },
     "metadata": {},
     "output_type": "display_data"
    },
    {
     "name": "stdout",
     "output_type": "stream",
     "text": [
      "\n"
     ]
    },
    {
     "name": "stderr",
     "output_type": "stream",
     "text": [
      "Epoch 10: 4.8s to complete\n",
      "    error(train)=4.60e-01, acc(train)=8.43e-01, error(valid)=5.65e-01, acc(valid)=8.17e-01\n"
     ]
    },
    {
     "data": {
      "application/vnd.jupyter.widget-view+json": {
       "model_id": "05ad5b5d3d1346958f5ffb47c96e8dbd",
       "version_major": 2,
       "version_minor": 0
      },
      "text/plain": [
       "HBox(children=(IntProgress(value=0, max=1000), HTML(value='')))"
      ]
     },
     "metadata": {},
     "output_type": "display_data"
    },
    {
     "name": "stdout",
     "output_type": "stream",
     "text": [
      "\n"
     ]
    },
    {
     "name": "stderr",
     "output_type": "stream",
     "text": [
      "Epoch 11: 5.0s to complete\n",
      "    error(train)=4.43e-01, acc(train)=8.48e-01, error(valid)=5.59e-01, acc(valid)=8.15e-01\n"
     ]
    },
    {
     "data": {
      "application/vnd.jupyter.widget-view+json": {
       "model_id": "e912a5bf9e9d4ac583bdfed3409096de",
       "version_major": 2,
       "version_minor": 0
      },
      "text/plain": [
       "HBox(children=(IntProgress(value=0, max=1000), HTML(value='')))"
      ]
     },
     "metadata": {},
     "output_type": "display_data"
    },
    {
     "name": "stdout",
     "output_type": "stream",
     "text": [
      "\n"
     ]
    },
    {
     "name": "stderr",
     "output_type": "stream",
     "text": [
      "Epoch 12: 4.8s to complete\n",
      "    error(train)=4.28e-01, acc(train)=8.54e-01, error(valid)=5.47e-01, acc(valid)=8.24e-01\n"
     ]
    },
    {
     "data": {
      "application/vnd.jupyter.widget-view+json": {
       "model_id": "a5f41ea69f16462dbc6ad47a9edfa66f",
       "version_major": 2,
       "version_minor": 0
      },
      "text/plain": [
       "HBox(children=(IntProgress(value=0, max=1000), HTML(value='')))"
      ]
     },
     "metadata": {},
     "output_type": "display_data"
    },
    {
     "name": "stdout",
     "output_type": "stream",
     "text": [
      "\n"
     ]
    },
    {
     "name": "stderr",
     "output_type": "stream",
     "text": [
      "Epoch 13: 4.5s to complete\n",
      "    error(train)=4.37e-01, acc(train)=8.49e-01, error(valid)=5.75e-01, acc(valid)=8.16e-01\n"
     ]
    },
    {
     "data": {
      "application/vnd.jupyter.widget-view+json": {
       "model_id": "e58cba03b79e46449a2ecd1b8be6f7f0",
       "version_major": 2,
       "version_minor": 0
      },
      "text/plain": [
       "HBox(children=(IntProgress(value=0, max=1000), HTML(value='')))"
      ]
     },
     "metadata": {},
     "output_type": "display_data"
    },
    {
     "name": "stdout",
     "output_type": "stream",
     "text": [
      "\n"
     ]
    },
    {
     "name": "stderr",
     "output_type": "stream",
     "text": [
      "Epoch 14: 4.5s to complete\n",
      "    error(train)=4.04e-01, acc(train)=8.59e-01, error(valid)=5.42e-01, acc(valid)=8.27e-01\n"
     ]
    },
    {
     "data": {
      "application/vnd.jupyter.widget-view+json": {
       "model_id": "b8b5a4c5a1a547a98755863bad7656b7",
       "version_major": 2,
       "version_minor": 0
      },
      "text/plain": [
       "HBox(children=(IntProgress(value=0, max=1000), HTML(value='')))"
      ]
     },
     "metadata": {},
     "output_type": "display_data"
    },
    {
     "name": "stdout",
     "output_type": "stream",
     "text": [
      "\n"
     ]
    },
    {
     "name": "stderr",
     "output_type": "stream",
     "text": [
      "Epoch 15: 4.8s to complete\n",
      "    error(train)=4.07e-01, acc(train)=8.59e-01, error(valid)=5.49e-01, acc(valid)=8.23e-01\n"
     ]
    },
    {
     "data": {
      "application/vnd.jupyter.widget-view+json": {
       "model_id": "9b1dcf69a2454b3e80ad4d2f16a02583",
       "version_major": 2,
       "version_minor": 0
      },
      "text/plain": [
       "HBox(children=(IntProgress(value=0, max=1000), HTML(value='')))"
      ]
     },
     "metadata": {},
     "output_type": "display_data"
    },
    {
     "name": "stdout",
     "output_type": "stream",
     "text": [
      "\n"
     ]
    },
    {
     "name": "stderr",
     "output_type": "stream",
     "text": [
      "Epoch 16: 5.0s to complete\n",
      "    error(train)=3.99e-01, acc(train)=8.62e-01, error(valid)=5.52e-01, acc(valid)=8.25e-01\n"
     ]
    },
    {
     "data": {
      "application/vnd.jupyter.widget-view+json": {
       "model_id": "aa537c52bd114cd3af30121cb7b49ff8",
       "version_major": 2,
       "version_minor": 0
      },
      "text/plain": [
       "HBox(children=(IntProgress(value=0, max=1000), HTML(value='')))"
      ]
     },
     "metadata": {},
     "output_type": "display_data"
    },
    {
     "name": "stdout",
     "output_type": "stream",
     "text": [
      "\n"
     ]
    },
    {
     "name": "stderr",
     "output_type": "stream",
     "text": [
      "Epoch 17: 4.8s to complete\n",
      "    error(train)=3.95e-01, acc(train)=8.62e-01, error(valid)=5.56e-01, acc(valid)=8.23e-01\n"
     ]
    },
    {
     "data": {
      "application/vnd.jupyter.widget-view+json": {
       "model_id": "265f7276ce65458a9f8a4bb9264705fd",
       "version_major": 2,
       "version_minor": 0
      },
      "text/plain": [
       "HBox(children=(IntProgress(value=0, max=1000), HTML(value='')))"
      ]
     },
     "metadata": {},
     "output_type": "display_data"
    },
    {
     "name": "stdout",
     "output_type": "stream",
     "text": [
      "\n"
     ]
    },
    {
     "name": "stderr",
     "output_type": "stream",
     "text": [
      "Epoch 18: 4.6s to complete\n",
      "    error(train)=3.89e-01, acc(train)=8.62e-01, error(valid)=5.53e-01, acc(valid)=8.23e-01\n"
     ]
    },
    {
     "data": {
      "application/vnd.jupyter.widget-view+json": {
       "model_id": "6b06a985c57d40439a596a26b4f91db7",
       "version_major": 2,
       "version_minor": 0
      },
      "text/plain": [
       "HBox(children=(IntProgress(value=0, max=1000), HTML(value='')))"
      ]
     },
     "metadata": {},
     "output_type": "display_data"
    },
    {
     "name": "stdout",
     "output_type": "stream",
     "text": [
      "\n"
     ]
    },
    {
     "name": "stderr",
     "output_type": "stream",
     "text": [
      "Epoch 19: 4.7s to complete\n",
      "    error(train)=3.78e-01, acc(train)=8.65e-01, error(valid)=5.47e-01, acc(valid)=8.25e-01\n"
     ]
    },
    {
     "data": {
      "application/vnd.jupyter.widget-view+json": {
       "model_id": "d882f556c4734e2a9b01287ea3d5a29e",
       "version_major": 2,
       "version_minor": 0
      },
      "text/plain": [
       "HBox(children=(IntProgress(value=0, max=1000), HTML(value='')))"
      ]
     },
     "metadata": {},
     "output_type": "display_data"
    },
    {
     "name": "stdout",
     "output_type": "stream",
     "text": [
      "\n"
     ]
    },
    {
     "name": "stderr",
     "output_type": "stream",
     "text": [
      "Epoch 20: 4.6s to complete\n",
      "    error(train)=3.61e-01, acc(train)=8.70e-01, error(valid)=5.37e-01, acc(valid)=8.29e-01\n"
     ]
    },
    {
     "data": {
      "application/vnd.jupyter.widget-view+json": {
       "model_id": "1c330fddb56b46f4becf16ccd3bea0c6",
       "version_major": 2,
       "version_minor": 0
      },
      "text/plain": [
       "HBox(children=(IntProgress(value=0, max=1000), HTML(value='')))"
      ]
     },
     "metadata": {},
     "output_type": "display_data"
    },
    {
     "name": "stdout",
     "output_type": "stream",
     "text": [
      "\n"
     ]
    },
    {
     "name": "stderr",
     "output_type": "stream",
     "text": [
      "Epoch 21: 4.4s to complete\n",
      "    error(train)=3.76e-01, acc(train)=8.66e-01, error(valid)=5.59e-01, acc(valid)=8.23e-01\n"
     ]
    },
    {
     "data": {
      "application/vnd.jupyter.widget-view+json": {
       "model_id": "9f2a87523e744ac6a4bcd77bfbc3b748",
       "version_major": 2,
       "version_minor": 0
      },
      "text/plain": [
       "HBox(children=(IntProgress(value=0, max=1000), HTML(value='')))"
      ]
     },
     "metadata": {},
     "output_type": "display_data"
    },
    {
     "name": "stdout",
     "output_type": "stream",
     "text": [
      "\n"
     ]
    },
    {
     "name": "stderr",
     "output_type": "stream",
     "text": [
      "Epoch 22: 4.9s to complete\n",
      "    error(train)=3.64e-01, acc(train)=8.70e-01, error(valid)=5.53e-01, acc(valid)=8.24e-01\n"
     ]
    },
    {
     "data": {
      "application/vnd.jupyter.widget-view+json": {
       "model_id": "e90fb7ecf03d4b18ba9fe5fff9c09869",
       "version_major": 2,
       "version_minor": 0
      },
      "text/plain": [
       "HBox(children=(IntProgress(value=0, max=1000), HTML(value='')))"
      ]
     },
     "metadata": {},
     "output_type": "display_data"
    },
    {
     "name": "stdout",
     "output_type": "stream",
     "text": [
      "\n"
     ]
    },
    {
     "name": "stderr",
     "output_type": "stream",
     "text": [
      "Epoch 23: 4.7s to complete\n",
      "    error(train)=3.60e-01, acc(train)=8.70e-01, error(valid)=5.58e-01, acc(valid)=8.25e-01\n"
     ]
    },
    {
     "data": {
      "application/vnd.jupyter.widget-view+json": {
       "model_id": "f4597b569f8148ec853cdc94e64ac322",
       "version_major": 2,
       "version_minor": 0
      },
      "text/plain": [
       "HBox(children=(IntProgress(value=0, max=1000), HTML(value='')))"
      ]
     },
     "metadata": {},
     "output_type": "display_data"
    },
    {
     "name": "stdout",
     "output_type": "stream",
     "text": [
      "\n"
     ]
    },
    {
     "name": "stderr",
     "output_type": "stream",
     "text": [
      "Epoch 24: 4.5s to complete\n",
      "    error(train)=3.72e-01, acc(train)=8.66e-01, error(valid)=5.81e-01, acc(valid)=8.18e-01\n"
     ]
    },
    {
     "data": {
      "application/vnd.jupyter.widget-view+json": {
       "model_id": "932f9765b97d45068245dba528516f50",
       "version_major": 2,
       "version_minor": 0
      },
      "text/plain": [
       "HBox(children=(IntProgress(value=0, max=1000), HTML(value='')))"
      ]
     },
     "metadata": {},
     "output_type": "display_data"
    },
    {
     "name": "stdout",
     "output_type": "stream",
     "text": [
      "\n"
     ]
    },
    {
     "name": "stderr",
     "output_type": "stream",
     "text": [
      "Epoch 25: 4.8s to complete\n",
      "    error(train)=3.44e-01, acc(train)=8.76e-01, error(valid)=5.49e-01, acc(valid)=8.29e-01\n"
     ]
    },
    {
     "data": {
      "application/vnd.jupyter.widget-view+json": {
       "model_id": "659efbdd4a66453a93af010f48e17a1a",
       "version_major": 2,
       "version_minor": 0
      },
      "text/plain": [
       "HBox(children=(IntProgress(value=0, max=1000), HTML(value='')))"
      ]
     },
     "metadata": {},
     "output_type": "display_data"
    },
    {
     "name": "stdout",
     "output_type": "stream",
     "text": [
      "\n"
     ]
    },
    {
     "name": "stderr",
     "output_type": "stream",
     "text": [
      "Epoch 26: 4.6s to complete\n",
      "    error(train)=3.48e-01, acc(train)=8.74e-01, error(valid)=5.70e-01, acc(valid)=8.23e-01\n"
     ]
    },
    {
     "data": {
      "application/vnd.jupyter.widget-view+json": {
       "model_id": "f3149f3488f14c7da73891e2471c7faf",
       "version_major": 2,
       "version_minor": 0
      },
      "text/plain": [
       "HBox(children=(IntProgress(value=0, max=1000), HTML(value='')))"
      ]
     },
     "metadata": {},
     "output_type": "display_data"
    },
    {
     "name": "stdout",
     "output_type": "stream",
     "text": [
      "\n"
     ]
    },
    {
     "name": "stderr",
     "output_type": "stream",
     "text": [
      "Epoch 27: 4.7s to complete\n",
      "    error(train)=3.32e-01, acc(train)=8.80e-01, error(valid)=5.51e-01, acc(valid)=8.27e-01\n"
     ]
    },
    {
     "data": {
      "application/vnd.jupyter.widget-view+json": {
       "model_id": "a23ba7706f2c41749452958d4739df9e",
       "version_major": 2,
       "version_minor": 0
      },
      "text/plain": [
       "HBox(children=(IntProgress(value=0, max=1000), HTML(value='')))"
      ]
     },
     "metadata": {},
     "output_type": "display_data"
    },
    {
     "name": "stdout",
     "output_type": "stream",
     "text": [
      "\n"
     ]
    },
    {
     "name": "stderr",
     "output_type": "stream",
     "text": [
      "Epoch 28: 5.7s to complete\n",
      "    error(train)=3.36e-01, acc(train)=8.77e-01, error(valid)=5.68e-01, acc(valid)=8.25e-01\n"
     ]
    },
    {
     "data": {
      "application/vnd.jupyter.widget-view+json": {
       "model_id": "1f686041cc4f453b8ffac2c5621fb75f",
       "version_major": 2,
       "version_minor": 0
      },
      "text/plain": [
       "HBox(children=(IntProgress(value=0, max=1000), HTML(value='')))"
      ]
     },
     "metadata": {},
     "output_type": "display_data"
    },
    {
     "name": "stdout",
     "output_type": "stream",
     "text": [
      "\n"
     ]
    },
    {
     "name": "stderr",
     "output_type": "stream",
     "text": [
      "Epoch 29: 4.4s to complete\n",
      "    error(train)=3.45e-01, acc(train)=8.72e-01, error(valid)=5.86e-01, acc(valid)=8.22e-01\n"
     ]
    },
    {
     "data": {
      "application/vnd.jupyter.widget-view+json": {
       "model_id": "4369923e12084434a6e2054bebe221e3",
       "version_major": 2,
       "version_minor": 0
      },
      "text/plain": [
       "HBox(children=(IntProgress(value=0, max=1000), HTML(value='')))"
      ]
     },
     "metadata": {},
     "output_type": "display_data"
    },
    {
     "name": "stdout",
     "output_type": "stream",
     "text": [
      "\n"
     ]
    },
    {
     "name": "stderr",
     "output_type": "stream",
     "text": [
      "Epoch 30: 4.5s to complete\n",
      "    error(train)=3.36e-01, acc(train)=8.75e-01, error(valid)=5.82e-01, acc(valid)=8.22e-01\n"
     ]
    },
    {
     "data": {
      "application/vnd.jupyter.widget-view+json": {
       "model_id": "f35b41929a1f4d8c9b28b1094b53797d",
       "version_major": 2,
       "version_minor": 0
      },
      "text/plain": [
       "HBox(children=(IntProgress(value=0, max=1000), HTML(value='')))"
      ]
     },
     "metadata": {},
     "output_type": "display_data"
    },
    {
     "name": "stdout",
     "output_type": "stream",
     "text": [
      "\n"
     ]
    },
    {
     "name": "stderr",
     "output_type": "stream",
     "text": [
      "Epoch 31: 4.6s to complete\n",
      "    error(train)=3.40e-01, acc(train)=8.76e-01, error(valid)=5.93e-01, acc(valid)=8.19e-01\n"
     ]
    },
    {
     "data": {
      "application/vnd.jupyter.widget-view+json": {
       "model_id": "985392a229fb4371aed8d7254e23a131",
       "version_major": 2,
       "version_minor": 0
      },
      "text/plain": [
       "HBox(children=(IntProgress(value=0, max=1000), HTML(value='')))"
      ]
     },
     "metadata": {},
     "output_type": "display_data"
    },
    {
     "name": "stdout",
     "output_type": "stream",
     "text": [
      "\n"
     ]
    },
    {
     "name": "stderr",
     "output_type": "stream",
     "text": [
      "Epoch 32: 4.7s to complete\n",
      "    error(train)=3.16e-01, acc(train)=8.85e-01, error(valid)=5.75e-01, acc(valid)=8.24e-01\n"
     ]
    },
    {
     "data": {
      "application/vnd.jupyter.widget-view+json": {
       "model_id": "ced522746e9042a885993c609eeee7b1",
       "version_major": 2,
       "version_minor": 0
      },
      "text/plain": [
       "HBox(children=(IntProgress(value=0, max=1000), HTML(value='')))"
      ]
     },
     "metadata": {},
     "output_type": "display_data"
    },
    {
     "name": "stdout",
     "output_type": "stream",
     "text": [
      "\n"
     ]
    },
    {
     "name": "stderr",
     "output_type": "stream",
     "text": [
      "Epoch 33: 6.5s to complete\n",
      "    error(train)=3.21e-01, acc(train)=8.82e-01, error(valid)=5.85e-01, acc(valid)=8.27e-01\n"
     ]
    },
    {
     "data": {
      "application/vnd.jupyter.widget-view+json": {
       "model_id": "349e2ebfcccb46f4823082bf76ed6865",
       "version_major": 2,
       "version_minor": 0
      },
      "text/plain": [
       "HBox(children=(IntProgress(value=0, max=1000), HTML(value='')))"
      ]
     },
     "metadata": {},
     "output_type": "display_data"
    },
    {
     "name": "stdout",
     "output_type": "stream",
     "text": [
      "\n"
     ]
    },
    {
     "name": "stderr",
     "output_type": "stream",
     "text": [
      "Epoch 34: 5.4s to complete\n",
      "    error(train)=3.18e-01, acc(train)=8.83e-01, error(valid)=5.85e-01, acc(valid)=8.26e-01\n"
     ]
    },
    {
     "data": {
      "application/vnd.jupyter.widget-view+json": {
       "model_id": "ce8ca349832a4fa9b438912a82462a23",
       "version_major": 2,
       "version_minor": 0
      },
      "text/plain": [
       "HBox(children=(IntProgress(value=0, max=1000), HTML(value='')))"
      ]
     },
     "metadata": {},
     "output_type": "display_data"
    },
    {
     "name": "stdout",
     "output_type": "stream",
     "text": [
      "\n"
     ]
    },
    {
     "name": "stderr",
     "output_type": "stream",
     "text": [
      "Epoch 35: 5.7s to complete\n",
      "    error(train)=3.08e-01, acc(train)=8.86e-01, error(valid)=5.88e-01, acc(valid)=8.24e-01\n"
     ]
    },
    {
     "data": {
      "application/vnd.jupyter.widget-view+json": {
       "model_id": "78930ac1e5214122a24c22b7210a9fa2",
       "version_major": 2,
       "version_minor": 0
      },
      "text/plain": [
       "HBox(children=(IntProgress(value=0, max=1000), HTML(value='')))"
      ]
     },
     "metadata": {},
     "output_type": "display_data"
    },
    {
     "name": "stdout",
     "output_type": "stream",
     "text": [
      "\n"
     ]
    },
    {
     "name": "stderr",
     "output_type": "stream",
     "text": [
      "Epoch 36: 4.9s to complete\n",
      "    error(train)=3.19e-01, acc(train)=8.80e-01, error(valid)=6.06e-01, acc(valid)=8.19e-01\n"
     ]
    },
    {
     "data": {
      "application/vnd.jupyter.widget-view+json": {
       "model_id": "9c82c96574bc410c948a05fee00f665a",
       "version_major": 2,
       "version_minor": 0
      },
      "text/plain": [
       "HBox(children=(IntProgress(value=0, max=1000), HTML(value='')))"
      ]
     },
     "metadata": {},
     "output_type": "display_data"
    },
    {
     "name": "stdout",
     "output_type": "stream",
     "text": [
      "\n"
     ]
    },
    {
     "name": "stderr",
     "output_type": "stream",
     "text": [
      "Epoch 37: 4.7s to complete\n",
      "    error(train)=3.03e-01, acc(train)=8.88e-01, error(valid)=5.85e-01, acc(valid)=8.27e-01\n"
     ]
    },
    {
     "data": {
      "application/vnd.jupyter.widget-view+json": {
       "model_id": "19a9811475b949d292ccbf896e38195e",
       "version_major": 2,
       "version_minor": 0
      },
      "text/plain": [
       "HBox(children=(IntProgress(value=0, max=1000), HTML(value='')))"
      ]
     },
     "metadata": {},
     "output_type": "display_data"
    },
    {
     "name": "stdout",
     "output_type": "stream",
     "text": [
      "\n"
     ]
    },
    {
     "name": "stderr",
     "output_type": "stream",
     "text": [
      "Epoch 38: 4.7s to complete\n",
      "    error(train)=3.00e-01, acc(train)=8.89e-01, error(valid)=6.01e-01, acc(valid)=8.27e-01\n"
     ]
    },
    {
     "data": {
      "application/vnd.jupyter.widget-view+json": {
       "model_id": "ee3b7600bb4c436cb3baf96ddab33f29",
       "version_major": 2,
       "version_minor": 0
      },
      "text/plain": [
       "HBox(children=(IntProgress(value=0, max=1000), HTML(value='')))"
      ]
     },
     "metadata": {},
     "output_type": "display_data"
    },
    {
     "name": "stdout",
     "output_type": "stream",
     "text": [
      "\n"
     ]
    },
    {
     "name": "stderr",
     "output_type": "stream",
     "text": [
      "Epoch 39: 5.2s to complete\n",
      "    error(train)=3.05e-01, acc(train)=8.86e-01, error(valid)=6.05e-01, acc(valid)=8.21e-01\n"
     ]
    },
    {
     "data": {
      "application/vnd.jupyter.widget-view+json": {
       "model_id": "5bfcf9bf755d443f8c726a7b5066fe34",
       "version_major": 2,
       "version_minor": 0
      },
      "text/plain": [
       "HBox(children=(IntProgress(value=0, max=1000), HTML(value='')))"
      ]
     },
     "metadata": {},
     "output_type": "display_data"
    },
    {
     "name": "stdout",
     "output_type": "stream",
     "text": [
      "\n"
     ]
    },
    {
     "name": "stderr",
     "output_type": "stream",
     "text": [
      "Epoch 40: 4.4s to complete\n",
      "    error(train)=2.92e-01, acc(train)=8.91e-01, error(valid)=5.95e-01, acc(valid)=8.27e-01\n"
     ]
    },
    {
     "data": {
      "application/vnd.jupyter.widget-view+json": {
       "model_id": "aa292b1720624cc4aa6e6d2375afe19a",
       "version_major": 2,
       "version_minor": 0
      },
      "text/plain": [
       "HBox(children=(IntProgress(value=0, max=1000), HTML(value='')))"
      ]
     },
     "metadata": {},
     "output_type": "display_data"
    },
    {
     "name": "stdout",
     "output_type": "stream",
     "text": [
      "\n"
     ]
    },
    {
     "name": "stderr",
     "output_type": "stream",
     "text": [
      "Epoch 41: 5.0s to complete\n",
      "    error(train)=2.99e-01, acc(train)=8.88e-01, error(valid)=6.16e-01, acc(valid)=8.22e-01\n"
     ]
    },
    {
     "data": {
      "application/vnd.jupyter.widget-view+json": {
       "model_id": "2cf64d3f35814ec0b33ba9b2f236fccd",
       "version_major": 2,
       "version_minor": 0
      },
      "text/plain": [
       "HBox(children=(IntProgress(value=0, max=1000), HTML(value='')))"
      ]
     },
     "metadata": {},
     "output_type": "display_data"
    },
    {
     "name": "stdout",
     "output_type": "stream",
     "text": [
      "\n"
     ]
    },
    {
     "name": "stderr",
     "output_type": "stream",
     "text": [
      "Epoch 42: 5.2s to complete\n",
      "    error(train)=2.99e-01, acc(train)=8.88e-01, error(valid)=6.20e-01, acc(valid)=8.24e-01\n"
     ]
    },
    {
     "data": {
      "application/vnd.jupyter.widget-view+json": {
       "model_id": "f5ced2a4de51483caba6fe3455f5212f",
       "version_major": 2,
       "version_minor": 0
      },
      "text/plain": [
       "HBox(children=(IntProgress(value=0, max=1000), HTML(value='')))"
      ]
     },
     "metadata": {},
     "output_type": "display_data"
    },
    {
     "name": "stdout",
     "output_type": "stream",
     "text": [
      "\n"
     ]
    },
    {
     "name": "stderr",
     "output_type": "stream",
     "text": [
      "Epoch 43: 6.3s to complete\n",
      "    error(train)=2.98e-01, acc(train)=8.89e-01, error(valid)=6.22e-01, acc(valid)=8.22e-01\n"
     ]
    },
    {
     "data": {
      "application/vnd.jupyter.widget-view+json": {
       "model_id": "d97af675ed854c749dcf60a099660fde",
       "version_major": 2,
       "version_minor": 0
      },
      "text/plain": [
       "HBox(children=(IntProgress(value=0, max=1000), HTML(value='')))"
      ]
     },
     "metadata": {},
     "output_type": "display_data"
    },
    {
     "name": "stdout",
     "output_type": "stream",
     "text": [
      "\n"
     ]
    },
    {
     "name": "stderr",
     "output_type": "stream",
     "text": [
      "Epoch 44: 4.4s to complete\n",
      "    error(train)=3.06e-01, acc(train)=8.83e-01, error(valid)=6.32e-01, acc(valid)=8.20e-01\n"
     ]
    },
    {
     "data": {
      "application/vnd.jupyter.widget-view+json": {
       "model_id": "aaad4bdd05dd4b78aa2b3247b8c0bb29",
       "version_major": 2,
       "version_minor": 0
      },
      "text/plain": [
       "HBox(children=(IntProgress(value=0, max=1000), HTML(value='')))"
      ]
     },
     "metadata": {},
     "output_type": "display_data"
    },
    {
     "name": "stdout",
     "output_type": "stream",
     "text": [
      "\n"
     ]
    },
    {
     "name": "stderr",
     "output_type": "stream",
     "text": [
      "Epoch 45: 5.0s to complete\n",
      "    error(train)=2.87e-01, acc(train)=8.92e-01, error(valid)=6.18e-01, acc(valid)=8.25e-01\n"
     ]
    },
    {
     "data": {
      "application/vnd.jupyter.widget-view+json": {
       "model_id": "9e312ba9c2854f248ca5bd3e1eecbf7f",
       "version_major": 2,
       "version_minor": 0
      },
      "text/plain": [
       "HBox(children=(IntProgress(value=0, max=1000), HTML(value='')))"
      ]
     },
     "metadata": {},
     "output_type": "display_data"
    },
    {
     "name": "stdout",
     "output_type": "stream",
     "text": [
      "\n"
     ]
    },
    {
     "name": "stderr",
     "output_type": "stream",
     "text": [
      "Epoch 46: 4.2s to complete\n",
      "    error(train)=2.83e-01, acc(train)=8.93e-01, error(valid)=6.25e-01, acc(valid)=8.26e-01\n"
     ]
    },
    {
     "data": {
      "application/vnd.jupyter.widget-view+json": {
       "model_id": "256b2c66af214bf180fbd43cd644487b",
       "version_major": 2,
       "version_minor": 0
      },
      "text/plain": [
       "HBox(children=(IntProgress(value=0, max=1000), HTML(value='')))"
      ]
     },
     "metadata": {},
     "output_type": "display_data"
    },
    {
     "name": "stdout",
     "output_type": "stream",
     "text": [
      "\n"
     ]
    },
    {
     "name": "stderr",
     "output_type": "stream",
     "text": [
      "Epoch 47: 4.6s to complete\n",
      "    error(train)=2.87e-01, acc(train)=8.92e-01, error(valid)=6.20e-01, acc(valid)=8.21e-01\n"
     ]
    },
    {
     "data": {
      "application/vnd.jupyter.widget-view+json": {
       "model_id": "d741d6e5ce5e418b8e813ff6d2a91eee",
       "version_major": 2,
       "version_minor": 0
      },
      "text/plain": [
       "HBox(children=(IntProgress(value=0, max=1000), HTML(value='')))"
      ]
     },
     "metadata": {},
     "output_type": "display_data"
    },
    {
     "name": "stdout",
     "output_type": "stream",
     "text": [
      "\n"
     ]
    },
    {
     "name": "stderr",
     "output_type": "stream",
     "text": [
      "Epoch 48: 4.5s to complete\n",
      "    error(train)=2.89e-01, acc(train)=8.91e-01, error(valid)=6.39e-01, acc(valid)=8.22e-01\n"
     ]
    },
    {
     "data": {
      "application/vnd.jupyter.widget-view+json": {
       "model_id": "fb65e6ed3b7a4de69e703b4770899e4c",
       "version_major": 2,
       "version_minor": 0
      },
      "text/plain": [
       "HBox(children=(IntProgress(value=0, max=1000), HTML(value='')))"
      ]
     },
     "metadata": {},
     "output_type": "display_data"
    },
    {
     "name": "stdout",
     "output_type": "stream",
     "text": [
      "\n"
     ]
    },
    {
     "name": "stderr",
     "output_type": "stream",
     "text": [
      "Epoch 49: 4.4s to complete\n",
      "    error(train)=2.87e-01, acc(train)=8.91e-01, error(valid)=6.51e-01, acc(valid)=8.22e-01\n"
     ]
    },
    {
     "data": {
      "application/vnd.jupyter.widget-view+json": {
       "model_id": "4f24213c18e2471faa4f3c13daaba720",
       "version_major": 2,
       "version_minor": 0
      },
      "text/plain": [
       "HBox(children=(IntProgress(value=0, max=1000), HTML(value='')))"
      ]
     },
     "metadata": {},
     "output_type": "display_data"
    },
    {
     "name": "stdout",
     "output_type": "stream",
     "text": [
      "\n"
     ]
    },
    {
     "name": "stderr",
     "output_type": "stream",
     "text": [
      "Epoch 50: 4.4s to complete\n",
      "    error(train)=2.91e-01, acc(train)=8.89e-01, error(valid)=6.64e-01, acc(valid)=8.16e-01\n"
     ]
    },
    {
     "data": {
      "application/vnd.jupyter.widget-view+json": {
       "model_id": "f18ab5ed6ddb4b79a25220c37d0f1dd2",
       "version_major": 2,
       "version_minor": 0
      },
      "text/plain": [
       "HBox(children=(IntProgress(value=0, max=1000), HTML(value='')))"
      ]
     },
     "metadata": {},
     "output_type": "display_data"
    },
    {
     "name": "stdout",
     "output_type": "stream",
     "text": [
      "\n"
     ]
    },
    {
     "name": "stderr",
     "output_type": "stream",
     "text": [
      "Epoch 51: 4.6s to complete\n",
      "    error(train)=2.79e-01, acc(train)=8.94e-01, error(valid)=6.42e-01, acc(valid)=8.20e-01\n"
     ]
    },
    {
     "data": {
      "application/vnd.jupyter.widget-view+json": {
       "model_id": "218385593a2043e79f0e8a782e2d6e41",
       "version_major": 2,
       "version_minor": 0
      },
      "text/plain": [
       "HBox(children=(IntProgress(value=0, max=1000), HTML(value='')))"
      ]
     },
     "metadata": {},
     "output_type": "display_data"
    },
    {
     "name": "stdout",
     "output_type": "stream",
     "text": [
      "\n"
     ]
    },
    {
     "name": "stderr",
     "output_type": "stream",
     "text": [
      "Epoch 52: 4.2s to complete\n",
      "    error(train)=2.94e-01, acc(train)=8.88e-01, error(valid)=6.77e-01, acc(valid)=8.15e-01\n"
     ]
    },
    {
     "data": {
      "application/vnd.jupyter.widget-view+json": {
       "model_id": "3385c9ee761c4fa58e06c2aac8d816d7",
       "version_major": 2,
       "version_minor": 0
      },
      "text/plain": [
       "HBox(children=(IntProgress(value=0, max=1000), HTML(value='')))"
      ]
     },
     "metadata": {},
     "output_type": "display_data"
    },
    {
     "name": "stdout",
     "output_type": "stream",
     "text": [
      "\n"
     ]
    },
    {
     "name": "stderr",
     "output_type": "stream",
     "text": [
      "Epoch 53: 5.7s to complete\n",
      "    error(train)=2.82e-01, acc(train)=8.92e-01, error(valid)=6.63e-01, acc(valid)=8.18e-01\n"
     ]
    },
    {
     "data": {
      "application/vnd.jupyter.widget-view+json": {
       "model_id": "0fd3888a00744d79a5a4f4dbf02d1110",
       "version_major": 2,
       "version_minor": 0
      },
      "text/plain": [
       "HBox(children=(IntProgress(value=0, max=1000), HTML(value='')))"
      ]
     },
     "metadata": {},
     "output_type": "display_data"
    },
    {
     "name": "stdout",
     "output_type": "stream",
     "text": [
      "\n"
     ]
    },
    {
     "name": "stderr",
     "output_type": "stream",
     "text": [
      "Epoch 54: 5.8s to complete\n",
      "    error(train)=2.74e-01, acc(train)=8.95e-01, error(valid)=6.57e-01, acc(valid)=8.20e-01\n"
     ]
    },
    {
     "data": {
      "application/vnd.jupyter.widget-view+json": {
       "model_id": "59838e09c6df4d7aaaf64552899f5200",
       "version_major": 2,
       "version_minor": 0
      },
      "text/plain": [
       "HBox(children=(IntProgress(value=0, max=1000), HTML(value='')))"
      ]
     },
     "metadata": {},
     "output_type": "display_data"
    },
    {
     "name": "stdout",
     "output_type": "stream",
     "text": [
      "\n"
     ]
    },
    {
     "name": "stderr",
     "output_type": "stream",
     "text": [
      "Epoch 55: 4.5s to complete\n",
      "    error(train)=2.72e-01, acc(train)=8.97e-01, error(valid)=6.66e-01, acc(valid)=8.19e-01\n"
     ]
    },
    {
     "data": {
      "application/vnd.jupyter.widget-view+json": {
       "model_id": "b793e97543c94e2788b07c082e58cff8",
       "version_major": 2,
       "version_minor": 0
      },
      "text/plain": [
       "HBox(children=(IntProgress(value=0, max=1000), HTML(value='')))"
      ]
     },
     "metadata": {},
     "output_type": "display_data"
    },
    {
     "name": "stdout",
     "output_type": "stream",
     "text": [
      "\n"
     ]
    },
    {
     "name": "stderr",
     "output_type": "stream",
     "text": [
      "Epoch 56: 4.7s to complete\n",
      "    error(train)=2.61e-01, acc(train)=9.00e-01, error(valid)=6.56e-01, acc(valid)=8.19e-01\n"
     ]
    },
    {
     "data": {
      "application/vnd.jupyter.widget-view+json": {
       "model_id": "fd2463ed46074d3fbe3834265b7c34b3",
       "version_major": 2,
       "version_minor": 0
      },
      "text/plain": [
       "HBox(children=(IntProgress(value=0, max=1000), HTML(value='')))"
      ]
     },
     "metadata": {},
     "output_type": "display_data"
    },
    {
     "name": "stdout",
     "output_type": "stream",
     "text": [
      "\n"
     ]
    },
    {
     "name": "stderr",
     "output_type": "stream",
     "text": [
      "Epoch 57: 4.6s to complete\n",
      "    error(train)=2.77e-01, acc(train)=8.94e-01, error(valid)=6.84e-01, acc(valid)=8.18e-01\n"
     ]
    },
    {
     "data": {
      "application/vnd.jupyter.widget-view+json": {
       "model_id": "abfba6f468f84e829076d1702ba17d5a",
       "version_major": 2,
       "version_minor": 0
      },
      "text/plain": [
       "HBox(children=(IntProgress(value=0, max=1000), HTML(value='')))"
      ]
     },
     "metadata": {},
     "output_type": "display_data"
    },
    {
     "name": "stdout",
     "output_type": "stream",
     "text": [
      "\n"
     ]
    },
    {
     "name": "stderr",
     "output_type": "stream",
     "text": [
      "Epoch 58: 5.2s to complete\n",
      "    error(train)=2.68e-01, acc(train)=8.96e-01, error(valid)=6.70e-01, acc(valid)=8.21e-01\n"
     ]
    },
    {
     "data": {
      "application/vnd.jupyter.widget-view+json": {
       "model_id": "bd8a6ef8b1db4962b0c33c9a7fed9b4f",
       "version_major": 2,
       "version_minor": 0
      },
      "text/plain": [
       "HBox(children=(IntProgress(value=0, max=1000), HTML(value='')))"
      ]
     },
     "metadata": {},
     "output_type": "display_data"
    },
    {
     "name": "stdout",
     "output_type": "stream",
     "text": [
      "\n"
     ]
    },
    {
     "name": "stderr",
     "output_type": "stream",
     "text": [
      "Epoch 59: 6.2s to complete\n",
      "    error(train)=2.67e-01, acc(train)=8.98e-01, error(valid)=6.77e-01, acc(valid)=8.19e-01\n"
     ]
    },
    {
     "data": {
      "application/vnd.jupyter.widget-view+json": {
       "model_id": "acf40800907f44abbec4c407013c8ab6",
       "version_major": 2,
       "version_minor": 0
      },
      "text/plain": [
       "HBox(children=(IntProgress(value=0, max=1000), HTML(value='')))"
      ]
     },
     "metadata": {},
     "output_type": "display_data"
    },
    {
     "name": "stdout",
     "output_type": "stream",
     "text": [
      "\n"
     ]
    },
    {
     "name": "stderr",
     "output_type": "stream",
     "text": [
      "Epoch 60: 5.9s to complete\n",
      "    error(train)=2.63e-01, acc(train)=8.98e-01, error(valid)=6.86e-01, acc(valid)=8.17e-01\n"
     ]
    },
    {
     "data": {
      "application/vnd.jupyter.widget-view+json": {
       "model_id": "40e0b406d6fb41ff90dc00b8a8043093",
       "version_major": 2,
       "version_minor": 0
      },
      "text/plain": [
       "HBox(children=(IntProgress(value=0, max=1000), HTML(value='')))"
      ]
     },
     "metadata": {},
     "output_type": "display_data"
    },
    {
     "name": "stdout",
     "output_type": "stream",
     "text": [
      "\n"
     ]
    },
    {
     "name": "stderr",
     "output_type": "stream",
     "text": [
      "Epoch 61: 5.0s to complete\n",
      "    error(train)=2.67e-01, acc(train)=8.98e-01, error(valid)=6.88e-01, acc(valid)=8.18e-01\n"
     ]
    },
    {
     "data": {
      "application/vnd.jupyter.widget-view+json": {
       "model_id": "d664fa8c46904d1bb11fe86b0e341148",
       "version_major": 2,
       "version_minor": 0
      },
      "text/plain": [
       "HBox(children=(IntProgress(value=0, max=1000), HTML(value='')))"
      ]
     },
     "metadata": {},
     "output_type": "display_data"
    },
    {
     "name": "stdout",
     "output_type": "stream",
     "text": [
      "\n"
     ]
    },
    {
     "name": "stderr",
     "output_type": "stream",
     "text": [
      "Epoch 62: 4.5s to complete\n",
      "    error(train)=2.58e-01, acc(train)=9.02e-01, error(valid)=6.83e-01, acc(valid)=8.19e-01\n"
     ]
    },
    {
     "data": {
      "application/vnd.jupyter.widget-view+json": {
       "model_id": "2df87fe800004a8e9d8e56a7da31d3ca",
       "version_major": 2,
       "version_minor": 0
      },
      "text/plain": [
       "HBox(children=(IntProgress(value=0, max=1000), HTML(value='')))"
      ]
     },
     "metadata": {},
     "output_type": "display_data"
    },
    {
     "name": "stdout",
     "output_type": "stream",
     "text": [
      "\n"
     ]
    },
    {
     "name": "stderr",
     "output_type": "stream",
     "text": [
      "Epoch 63: 7.2s to complete\n",
      "    error(train)=2.66e-01, acc(train)=8.96e-01, error(valid)=6.93e-01, acc(valid)=8.16e-01\n"
     ]
    },
    {
     "data": {
      "application/vnd.jupyter.widget-view+json": {
       "model_id": "393614c68e2a402f81cca12fe73c6054",
       "version_major": 2,
       "version_minor": 0
      },
      "text/plain": [
       "HBox(children=(IntProgress(value=0, max=1000), HTML(value='')))"
      ]
     },
     "metadata": {},
     "output_type": "display_data"
    },
    {
     "name": "stdout",
     "output_type": "stream",
     "text": [
      "\n"
     ]
    },
    {
     "name": "stderr",
     "output_type": "stream",
     "text": [
      "Epoch 64: 5.0s to complete\n",
      "    error(train)=2.70e-01, acc(train)=8.93e-01, error(valid)=7.04e-01, acc(valid)=8.14e-01\n"
     ]
    },
    {
     "data": {
      "application/vnd.jupyter.widget-view+json": {
       "model_id": "b8d2ebd536524c44a29dc98929433f46",
       "version_major": 2,
       "version_minor": 0
      },
      "text/plain": [
       "HBox(children=(IntProgress(value=0, max=1000), HTML(value='')))"
      ]
     },
     "metadata": {},
     "output_type": "display_data"
    },
    {
     "name": "stdout",
     "output_type": "stream",
     "text": [
      "\n"
     ]
    },
    {
     "name": "stderr",
     "output_type": "stream",
     "text": [
      "Epoch 65: 6.1s to complete\n",
      "    error(train)=2.58e-01, acc(train)=9.00e-01, error(valid)=6.96e-01, acc(valid)=8.20e-01\n"
     ]
    },
    {
     "data": {
      "application/vnd.jupyter.widget-view+json": {
       "model_id": "36f56f39984748c2bf7ecd0c78c447f9",
       "version_major": 2,
       "version_minor": 0
      },
      "text/plain": [
       "HBox(children=(IntProgress(value=0, max=1000), HTML(value='')))"
      ]
     },
     "metadata": {},
     "output_type": "display_data"
    },
    {
     "name": "stdout",
     "output_type": "stream",
     "text": [
      "\n"
     ]
    },
    {
     "name": "stderr",
     "output_type": "stream",
     "text": [
      "Epoch 66: 5.1s to complete\n",
      "    error(train)=2.57e-01, acc(train)=9.01e-01, error(valid)=7.13e-01, acc(valid)=8.20e-01\n"
     ]
    },
    {
     "data": {
      "application/vnd.jupyter.widget-view+json": {
       "model_id": "5581924422644320b2c25d7104bb77a7",
       "version_major": 2,
       "version_minor": 0
      },
      "text/plain": [
       "HBox(children=(IntProgress(value=0, max=1000), HTML(value='')))"
      ]
     },
     "metadata": {},
     "output_type": "display_data"
    },
    {
     "name": "stdout",
     "output_type": "stream",
     "text": [
      "\n"
     ]
    },
    {
     "name": "stderr",
     "output_type": "stream",
     "text": [
      "Epoch 67: 5.1s to complete\n",
      "    error(train)=2.63e-01, acc(train)=8.96e-01, error(valid)=7.16e-01, acc(valid)=8.16e-01\n"
     ]
    },
    {
     "data": {
      "application/vnd.jupyter.widget-view+json": {
       "model_id": "b69defa02c81449a95f93bb963987ba4",
       "version_major": 2,
       "version_minor": 0
      },
      "text/plain": [
       "HBox(children=(IntProgress(value=0, max=1000), HTML(value='')))"
      ]
     },
     "metadata": {},
     "output_type": "display_data"
    },
    {
     "name": "stdout",
     "output_type": "stream",
     "text": [
      "\n"
     ]
    },
    {
     "name": "stderr",
     "output_type": "stream",
     "text": [
      "Epoch 68: 5.3s to complete\n",
      "    error(train)=2.64e-01, acc(train)=8.98e-01, error(valid)=7.23e-01, acc(valid)=8.16e-01\n"
     ]
    },
    {
     "data": {
      "application/vnd.jupyter.widget-view+json": {
       "model_id": "bb1b886f0d9947429521f32befa4fdc7",
       "version_major": 2,
       "version_minor": 0
      },
      "text/plain": [
       "HBox(children=(IntProgress(value=0, max=1000), HTML(value='')))"
      ]
     },
     "metadata": {},
     "output_type": "display_data"
    },
    {
     "name": "stdout",
     "output_type": "stream",
     "text": [
      "\n"
     ]
    },
    {
     "name": "stderr",
     "output_type": "stream",
     "text": [
      "Epoch 69: 5.7s to complete\n",
      "    error(train)=2.60e-01, acc(train)=8.98e-01, error(valid)=7.25e-01, acc(valid)=8.14e-01\n"
     ]
    },
    {
     "data": {
      "application/vnd.jupyter.widget-view+json": {
       "model_id": "d26ca9893ac5413bbc94207d07f35118",
       "version_major": 2,
       "version_minor": 0
      },
      "text/plain": [
       "HBox(children=(IntProgress(value=0, max=1000), HTML(value='')))"
      ]
     },
     "metadata": {},
     "output_type": "display_data"
    },
    {
     "name": "stdout",
     "output_type": "stream",
     "text": [
      "\n"
     ]
    },
    {
     "name": "stderr",
     "output_type": "stream",
     "text": [
      "Epoch 70: 5.8s to complete\n",
      "    error(train)=2.50e-01, acc(train)=9.03e-01, error(valid)=7.32e-01, acc(valid)=8.18e-01\n"
     ]
    },
    {
     "data": {
      "application/vnd.jupyter.widget-view+json": {
       "model_id": "4532ee6c4b00436aa8092efb26e28522",
       "version_major": 2,
       "version_minor": 0
      },
      "text/plain": [
       "HBox(children=(IntProgress(value=0, max=1000), HTML(value='')))"
      ]
     },
     "metadata": {},
     "output_type": "display_data"
    },
    {
     "name": "stdout",
     "output_type": "stream",
     "text": [
      "\n"
     ]
    },
    {
     "name": "stderr",
     "output_type": "stream",
     "text": [
      "Epoch 71: 4.8s to complete\n",
      "    error(train)=2.40e-01, acc(train)=9.07e-01, error(valid)=7.20e-01, acc(valid)=8.21e-01\n"
     ]
    },
    {
     "data": {
      "application/vnd.jupyter.widget-view+json": {
       "model_id": "5fcdf18cddba464ba366eedfd4706c30",
       "version_major": 2,
       "version_minor": 0
      },
      "text/plain": [
       "HBox(children=(IntProgress(value=0, max=1000), HTML(value='')))"
      ]
     },
     "metadata": {},
     "output_type": "display_data"
    },
    {
     "name": "stdout",
     "output_type": "stream",
     "text": [
      "\n"
     ]
    },
    {
     "name": "stderr",
     "output_type": "stream",
     "text": [
      "Epoch 72: 5.3s to complete\n",
      "    error(train)=2.54e-01, acc(train)=9.01e-01, error(valid)=7.44e-01, acc(valid)=8.16e-01\n"
     ]
    },
    {
     "data": {
      "application/vnd.jupyter.widget-view+json": {
       "model_id": "24948058ffac460da91f167cb5f8e49a",
       "version_major": 2,
       "version_minor": 0
      },
      "text/plain": [
       "HBox(children=(IntProgress(value=0, max=1000), HTML(value='')))"
      ]
     },
     "metadata": {},
     "output_type": "display_data"
    },
    {
     "name": "stdout",
     "output_type": "stream",
     "text": [
      "\n"
     ]
    },
    {
     "name": "stderr",
     "output_type": "stream",
     "text": [
      "Epoch 73: 6.6s to complete\n",
      "    error(train)=2.50e-01, acc(train)=9.03e-01, error(valid)=7.45e-01, acc(valid)=8.14e-01\n"
     ]
    },
    {
     "data": {
      "application/vnd.jupyter.widget-view+json": {
       "model_id": "7aede67421d24355b24d737b92534b2e",
       "version_major": 2,
       "version_minor": 0
      },
      "text/plain": [
       "HBox(children=(IntProgress(value=0, max=1000), HTML(value='')))"
      ]
     },
     "metadata": {},
     "output_type": "display_data"
    },
    {
     "name": "stdout",
     "output_type": "stream",
     "text": [
      "\n"
     ]
    },
    {
     "name": "stderr",
     "output_type": "stream",
     "text": [
      "Epoch 74: 5.2s to complete\n",
      "    error(train)=2.36e-01, acc(train)=9.09e-01, error(valid)=7.24e-01, acc(valid)=8.21e-01\n"
     ]
    },
    {
     "data": {
      "application/vnd.jupyter.widget-view+json": {
       "model_id": "a428995b9f8941c0be5987d05ac461c4",
       "version_major": 2,
       "version_minor": 0
      },
      "text/plain": [
       "HBox(children=(IntProgress(value=0, max=1000), HTML(value='')))"
      ]
     },
     "metadata": {},
     "output_type": "display_data"
    },
    {
     "name": "stdout",
     "output_type": "stream",
     "text": [
      "\n"
     ]
    },
    {
     "name": "stderr",
     "output_type": "stream",
     "text": [
      "Epoch 75: 5.1s to complete\n",
      "    error(train)=2.60e-01, acc(train)=8.99e-01, error(valid)=7.39e-01, acc(valid)=8.12e-01\n"
     ]
    },
    {
     "data": {
      "application/vnd.jupyter.widget-view+json": {
       "model_id": "35d4a07b48614f8bb47e7f11c42a5064",
       "version_major": 2,
       "version_minor": 0
      },
      "text/plain": [
       "HBox(children=(IntProgress(value=0, max=1000), HTML(value='')))"
      ]
     },
     "metadata": {},
     "output_type": "display_data"
    },
    {
     "name": "stdout",
     "output_type": "stream",
     "text": [
      "\n"
     ]
    },
    {
     "name": "stderr",
     "output_type": "stream",
     "text": [
      "Epoch 76: 5.7s to complete\n",
      "    error(train)=2.50e-01, acc(train)=9.02e-01, error(valid)=7.44e-01, acc(valid)=8.14e-01\n"
     ]
    },
    {
     "data": {
      "application/vnd.jupyter.widget-view+json": {
       "model_id": "31477ab2de4d45cda18ce87482765ef7",
       "version_major": 2,
       "version_minor": 0
      },
      "text/plain": [
       "HBox(children=(IntProgress(value=0, max=1000), HTML(value='')))"
      ]
     },
     "metadata": {},
     "output_type": "display_data"
    },
    {
     "name": "stdout",
     "output_type": "stream",
     "text": [
      "\n"
     ]
    },
    {
     "name": "stderr",
     "output_type": "stream",
     "text": [
      "Epoch 77: 6.1s to complete\n",
      "    error(train)=2.47e-01, acc(train)=9.01e-01, error(valid)=7.68e-01, acc(valid)=8.12e-01\n"
     ]
    },
    {
     "data": {
      "application/vnd.jupyter.widget-view+json": {
       "model_id": "8581bc90eec6469c9390ce8f507875b8",
       "version_major": 2,
       "version_minor": 0
      },
      "text/plain": [
       "HBox(children=(IntProgress(value=0, max=1000), HTML(value='')))"
      ]
     },
     "metadata": {},
     "output_type": "display_data"
    },
    {
     "name": "stdout",
     "output_type": "stream",
     "text": [
      "\n"
     ]
    },
    {
     "name": "stderr",
     "output_type": "stream",
     "text": [
      "Epoch 78: 5.6s to complete\n",
      "    error(train)=2.36e-01, acc(train)=9.08e-01, error(valid)=7.60e-01, acc(valid)=8.16e-01\n"
     ]
    },
    {
     "data": {
      "application/vnd.jupyter.widget-view+json": {
       "model_id": "7100a39f5e0543d7b7f2a8f77fa006a2",
       "version_major": 2,
       "version_minor": 0
      },
      "text/plain": [
       "HBox(children=(IntProgress(value=0, max=1000), HTML(value='')))"
      ]
     },
     "metadata": {},
     "output_type": "display_data"
    },
    {
     "name": "stdout",
     "output_type": "stream",
     "text": [
      "\n"
     ]
    },
    {
     "name": "stderr",
     "output_type": "stream",
     "text": [
      "Epoch 79: 9.3s to complete\n",
      "    error(train)=2.48e-01, acc(train)=9.02e-01, error(valid)=7.72e-01, acc(valid)=8.13e-01\n"
     ]
    },
    {
     "data": {
      "application/vnd.jupyter.widget-view+json": {
       "model_id": "2f84b5f9e4e34a7fb38906cd988bf734",
       "version_major": 2,
       "version_minor": 0
      },
      "text/plain": [
       "HBox(children=(IntProgress(value=0, max=1000), HTML(value='')))"
      ]
     },
     "metadata": {},
     "output_type": "display_data"
    },
    {
     "name": "stdout",
     "output_type": "stream",
     "text": [
      "\n"
     ]
    },
    {
     "name": "stderr",
     "output_type": "stream",
     "text": [
      "Epoch 80: 4.9s to complete\n",
      "    error(train)=2.37e-01, acc(train)=9.07e-01, error(valid)=7.62e-01, acc(valid)=8.15e-01\n"
     ]
    },
    {
     "data": {
      "application/vnd.jupyter.widget-view+json": {
       "model_id": "be4814d8a72f4e3a81ef60196fb3e124",
       "version_major": 2,
       "version_minor": 0
      },
      "text/plain": [
       "HBox(children=(IntProgress(value=0, max=1000), HTML(value='')))"
      ]
     },
     "metadata": {},
     "output_type": "display_data"
    },
    {
     "name": "stdout",
     "output_type": "stream",
     "text": [
      "\n"
     ]
    },
    {
     "name": "stderr",
     "output_type": "stream",
     "text": [
      "Epoch 81: 4.6s to complete\n",
      "    error(train)=2.54e-01, acc(train)=9.01e-01, error(valid)=7.89e-01, acc(valid)=8.13e-01\n"
     ]
    },
    {
     "data": {
      "application/vnd.jupyter.widget-view+json": {
       "model_id": "db903a0bd44f40daa86eedb49e4a1dc7",
       "version_major": 2,
       "version_minor": 0
      },
      "text/plain": [
       "HBox(children=(IntProgress(value=0, max=1000), HTML(value='')))"
      ]
     },
     "metadata": {},
     "output_type": "display_data"
    },
    {
     "name": "stdout",
     "output_type": "stream",
     "text": [
      "\n"
     ]
    },
    {
     "name": "stderr",
     "output_type": "stream",
     "text": [
      "Epoch 82: 5.6s to complete\n",
      "    error(train)=2.57e-01, acc(train)=9.00e-01, error(valid)=7.99e-01, acc(valid)=8.11e-01\n"
     ]
    },
    {
     "data": {
      "application/vnd.jupyter.widget-view+json": {
       "model_id": "f4abaa26e5f94dcb9db6c018353d6ff8",
       "version_major": 2,
       "version_minor": 0
      },
      "text/plain": [
       "HBox(children=(IntProgress(value=0, max=1000), HTML(value='')))"
      ]
     },
     "metadata": {},
     "output_type": "display_data"
    },
    {
     "name": "stdout",
     "output_type": "stream",
     "text": [
      "\n"
     ]
    },
    {
     "name": "stderr",
     "output_type": "stream",
     "text": [
      "Epoch 83: 4.7s to complete\n",
      "    error(train)=2.31e-01, acc(train)=9.09e-01, error(valid)=7.77e-01, acc(valid)=8.16e-01\n"
     ]
    },
    {
     "data": {
      "application/vnd.jupyter.widget-view+json": {
       "model_id": "d77073b8db0049e7a717e65477c53654",
       "version_major": 2,
       "version_minor": 0
      },
      "text/plain": [
       "HBox(children=(IntProgress(value=0, max=1000), HTML(value='')))"
      ]
     },
     "metadata": {},
     "output_type": "display_data"
    },
    {
     "name": "stdout",
     "output_type": "stream",
     "text": [
      "\n"
     ]
    },
    {
     "name": "stderr",
     "output_type": "stream",
     "text": [
      "Epoch 84: 4.9s to complete\n",
      "    error(train)=2.40e-01, acc(train)=9.04e-01, error(valid)=7.88e-01, acc(valid)=8.11e-01\n"
     ]
    },
    {
     "data": {
      "application/vnd.jupyter.widget-view+json": {
       "model_id": "89373a0ebc224218939edf1201551006",
       "version_major": 2,
       "version_minor": 0
      },
      "text/plain": [
       "HBox(children=(IntProgress(value=0, max=1000), HTML(value='')))"
      ]
     },
     "metadata": {},
     "output_type": "display_data"
    },
    {
     "name": "stdout",
     "output_type": "stream",
     "text": [
      "\n"
     ]
    },
    {
     "name": "stderr",
     "output_type": "stream",
     "text": [
      "Epoch 85: 4.7s to complete\n",
      "    error(train)=2.47e-01, acc(train)=9.03e-01, error(valid)=7.94e-01, acc(valid)=8.11e-01\n"
     ]
    },
    {
     "data": {
      "application/vnd.jupyter.widget-view+json": {
       "model_id": "6c69952747e74012a9a1c9dfc440842e",
       "version_major": 2,
       "version_minor": 0
      },
      "text/plain": [
       "HBox(children=(IntProgress(value=0, max=1000), HTML(value='')))"
      ]
     },
     "metadata": {},
     "output_type": "display_data"
    },
    {
     "name": "stdout",
     "output_type": "stream",
     "text": [
      "\n"
     ]
    },
    {
     "name": "stderr",
     "output_type": "stream",
     "text": [
      "Epoch 86: 4.9s to complete\n",
      "    error(train)=2.43e-01, acc(train)=9.03e-01, error(valid)=8.10e-01, acc(valid)=8.12e-01\n"
     ]
    },
    {
     "data": {
      "application/vnd.jupyter.widget-view+json": {
       "model_id": "b34006f528e04eb3834315799c78479f",
       "version_major": 2,
       "version_minor": 0
      },
      "text/plain": [
       "HBox(children=(IntProgress(value=0, max=1000), HTML(value='')))"
      ]
     },
     "metadata": {},
     "output_type": "display_data"
    },
    {
     "name": "stdout",
     "output_type": "stream",
     "text": [
      "\n"
     ]
    },
    {
     "name": "stderr",
     "output_type": "stream",
     "text": [
      "Epoch 87: 4.6s to complete\n",
      "    error(train)=2.33e-01, acc(train)=9.07e-01, error(valid)=7.96e-01, acc(valid)=8.13e-01\n"
     ]
    },
    {
     "data": {
      "application/vnd.jupyter.widget-view+json": {
       "model_id": "478824b373024d15848d0c8c87e0b56f",
       "version_major": 2,
       "version_minor": 0
      },
      "text/plain": [
       "HBox(children=(IntProgress(value=0, max=1000), HTML(value='')))"
      ]
     },
     "metadata": {},
     "output_type": "display_data"
    },
    {
     "name": "stdout",
     "output_type": "stream",
     "text": [
      "\n"
     ]
    },
    {
     "name": "stderr",
     "output_type": "stream",
     "text": [
      "Epoch 88: 4.9s to complete\n",
      "    error(train)=2.29e-01, acc(train)=9.09e-01, error(valid)=7.99e-01, acc(valid)=8.16e-01\n"
     ]
    },
    {
     "data": {
      "application/vnd.jupyter.widget-view+json": {
       "model_id": "5fd5085154ad476f8394bb5d7a4263e5",
       "version_major": 2,
       "version_minor": 0
      },
      "text/plain": [
       "HBox(children=(IntProgress(value=0, max=1000), HTML(value='')))"
      ]
     },
     "metadata": {},
     "output_type": "display_data"
    },
    {
     "name": "stdout",
     "output_type": "stream",
     "text": [
      "\n"
     ]
    },
    {
     "name": "stderr",
     "output_type": "stream",
     "text": [
      "Epoch 89: 20.8s to complete\n",
      "    error(train)=2.34e-01, acc(train)=9.09e-01, error(valid)=8.15e-01, acc(valid)=8.15e-01\n"
     ]
    },
    {
     "data": {
      "application/vnd.jupyter.widget-view+json": {
       "model_id": "cd58ad937414497aa3b28ba2f63c45ea",
       "version_major": 2,
       "version_minor": 0
      },
      "text/plain": [
       "HBox(children=(IntProgress(value=0, max=1000), HTML(value='')))"
      ]
     },
     "metadata": {},
     "output_type": "display_data"
    },
    {
     "name": "stdout",
     "output_type": "stream",
     "text": [
      "\n"
     ]
    },
    {
     "name": "stderr",
     "output_type": "stream",
     "text": [
      "Epoch 90: 6.2s to complete\n",
      "    error(train)=2.34e-01, acc(train)=9.09e-01, error(valid)=8.05e-01, acc(valid)=8.12e-01\n"
     ]
    },
    {
     "data": {
      "application/vnd.jupyter.widget-view+json": {
       "model_id": "c9110050c9454036b70b947519ecef2b",
       "version_major": 2,
       "version_minor": 0
      },
      "text/plain": [
       "HBox(children=(IntProgress(value=0, max=1000), HTML(value='')))"
      ]
     },
     "metadata": {},
     "output_type": "display_data"
    },
    {
     "name": "stdout",
     "output_type": "stream",
     "text": [
      "\n"
     ]
    },
    {
     "name": "stderr",
     "output_type": "stream",
     "text": [
      "Epoch 91: 4.9s to complete\n",
      "    error(train)=2.27e-01, acc(train)=9.09e-01, error(valid)=8.03e-01, acc(valid)=8.12e-01\n"
     ]
    },
    {
     "data": {
      "application/vnd.jupyter.widget-view+json": {
       "model_id": "158fe893b40646e2bb4237079f9b5004",
       "version_major": 2,
       "version_minor": 0
      },
      "text/plain": [
       "HBox(children=(IntProgress(value=0, max=1000), HTML(value='')))"
      ]
     },
     "metadata": {},
     "output_type": "display_data"
    },
    {
     "name": "stdout",
     "output_type": "stream",
     "text": [
      "\n"
     ]
    },
    {
     "name": "stderr",
     "output_type": "stream",
     "text": [
      "Epoch 92: 4.7s to complete\n",
      "    error(train)=2.36e-01, acc(train)=9.07e-01, error(valid)=8.22e-01, acc(valid)=8.11e-01\n"
     ]
    },
    {
     "data": {
      "application/vnd.jupyter.widget-view+json": {
       "model_id": "5a5d1ea9a4974785b0f0c7a77484f762",
       "version_major": 2,
       "version_minor": 0
      },
      "text/plain": [
       "HBox(children=(IntProgress(value=0, max=1000), HTML(value='')))"
      ]
     },
     "metadata": {},
     "output_type": "display_data"
    },
    {
     "name": "stdout",
     "output_type": "stream",
     "text": [
      "\n"
     ]
    },
    {
     "name": "stderr",
     "output_type": "stream",
     "text": [
      "Epoch 93: 5.2s to complete\n",
      "    error(train)=2.36e-01, acc(train)=9.07e-01, error(valid)=8.33e-01, acc(valid)=8.12e-01\n"
     ]
    },
    {
     "data": {
      "application/vnd.jupyter.widget-view+json": {
       "model_id": "99d99751713e4e37ade152c0c41d7c51",
       "version_major": 2,
       "version_minor": 0
      },
      "text/plain": [
       "HBox(children=(IntProgress(value=0, max=1000), HTML(value='')))"
      ]
     },
     "metadata": {},
     "output_type": "display_data"
    },
    {
     "name": "stdout",
     "output_type": "stream",
     "text": [
      "\n"
     ]
    },
    {
     "name": "stderr",
     "output_type": "stream",
     "text": [
      "Epoch 94: 5.1s to complete\n",
      "    error(train)=2.23e-01, acc(train)=9.11e-01, error(valid)=8.26e-01, acc(valid)=8.14e-01\n"
     ]
    },
    {
     "data": {
      "application/vnd.jupyter.widget-view+json": {
       "model_id": "881b2093343941a2ac81ee8989b1c109",
       "version_major": 2,
       "version_minor": 0
      },
      "text/plain": [
       "HBox(children=(IntProgress(value=0, max=1000), HTML(value='')))"
      ]
     },
     "metadata": {},
     "output_type": "display_data"
    },
    {
     "name": "stdout",
     "output_type": "stream",
     "text": [
      "\n"
     ]
    },
    {
     "name": "stderr",
     "output_type": "stream",
     "text": [
      "Epoch 95: 6.4s to complete\n",
      "    error(train)=2.40e-01, acc(train)=9.04e-01, error(valid)=8.36e-01, acc(valid)=8.05e-01\n"
     ]
    },
    {
     "data": {
      "application/vnd.jupyter.widget-view+json": {
       "model_id": "c8056c73748643c9a46f604f24b1efd9",
       "version_major": 2,
       "version_minor": 0
      },
      "text/plain": [
       "HBox(children=(IntProgress(value=0, max=1000), HTML(value='')))"
      ]
     },
     "metadata": {},
     "output_type": "display_data"
    },
    {
     "name": "stdout",
     "output_type": "stream",
     "text": [
      "\n"
     ]
    },
    {
     "name": "stderr",
     "output_type": "stream",
     "text": [
      "Epoch 96: 6.6s to complete\n",
      "    error(train)=2.31e-01, acc(train)=9.07e-01, error(valid)=8.44e-01, acc(valid)=8.10e-01\n"
     ]
    },
    {
     "data": {
      "application/vnd.jupyter.widget-view+json": {
       "model_id": "bf79601da16844eb8e4baeb5195db7e2",
       "version_major": 2,
       "version_minor": 0
      },
      "text/plain": [
       "HBox(children=(IntProgress(value=0, max=1000), HTML(value='')))"
      ]
     },
     "metadata": {},
     "output_type": "display_data"
    },
    {
     "name": "stdout",
     "output_type": "stream",
     "text": [
      "\n"
     ]
    },
    {
     "name": "stderr",
     "output_type": "stream",
     "text": [
      "Epoch 97: 6.3s to complete\n",
      "    error(train)=2.46e-01, acc(train)=9.03e-01, error(valid)=8.70e-01, acc(valid)=8.08e-01\n"
     ]
    },
    {
     "data": {
      "application/vnd.jupyter.widget-view+json": {
       "model_id": "499f7bbb53d542bd933105eccb257336",
       "version_major": 2,
       "version_minor": 0
      },
      "text/plain": [
       "HBox(children=(IntProgress(value=0, max=1000), HTML(value='')))"
      ]
     },
     "metadata": {},
     "output_type": "display_data"
    },
    {
     "name": "stdout",
     "output_type": "stream",
     "text": [
      "\n"
     ]
    },
    {
     "name": "stderr",
     "output_type": "stream",
     "text": [
      "Epoch 98: 4.9s to complete\n",
      "    error(train)=2.33e-01, acc(train)=9.08e-01, error(valid)=8.57e-01, acc(valid)=8.11e-01\n"
     ]
    },
    {
     "data": {
      "application/vnd.jupyter.widget-view+json": {
       "model_id": "bf783ba25e61434baf3d2330e92cfda5",
       "version_major": 2,
       "version_minor": 0
      },
      "text/plain": [
       "HBox(children=(IntProgress(value=0, max=1000), HTML(value='')))"
      ]
     },
     "metadata": {},
     "output_type": "display_data"
    },
    {
     "name": "stdout",
     "output_type": "stream",
     "text": [
      "\n"
     ]
    },
    {
     "name": "stderr",
     "output_type": "stream",
     "text": [
      "Epoch 99: 5.0s to complete\n",
      "    error(train)=2.19e-01, acc(train)=9.12e-01, error(valid)=8.41e-01, acc(valid)=8.13e-01\n"
     ]
    },
    {
     "data": {
      "application/vnd.jupyter.widget-view+json": {
       "model_id": "d6819c2a688d48f38acb708300468113",
       "version_major": 2,
       "version_minor": 0
      },
      "text/plain": [
       "HBox(children=(IntProgress(value=0, max=1000), HTML(value='')))"
      ]
     },
     "metadata": {},
     "output_type": "display_data"
    },
    {
     "name": "stdout",
     "output_type": "stream",
     "text": [
      "\n"
     ]
    },
    {
     "name": "stderr",
     "output_type": "stream",
     "text": [
      "Epoch 100: 5.1s to complete\n",
      "    error(train)=2.19e-01, acc(train)=9.12e-01, error(valid)=8.45e-01, acc(valid)=8.13e-01\n"
     ]
    },
    {
     "name": "stdout",
     "output_type": "stream",
     "text": [
      "\n"
     ]
    },
    {
     "data": {
      "image/png": "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\n",
      "text/plain": [
       "<Figure size 576x288 with 1 Axes>"
      ]
     },
     "metadata": {
      "needs_background": "light"
     },
     "output_type": "display_data"
    },
    {
     "data": {
      "image/png": "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\n",
      "text/plain": [
       "<Figure size 576x288 with 1 Axes>"
      ]
     },
     "metadata": {
      "needs_background": "light"
     },
     "output_type": "display_data"
    }
   ],
   "source": [
    "# The model set up code below is provided as a starting point.\n",
    "# You will probably want to add further code cells for the\n",
    "# different experiments you run.\n",
    "\n",
    "from mlp.layers import AffineLayer, SoftmaxLayer, SigmoidLayer, ReluLayer\n",
    "from mlp.layers import LeakyReluLayer, RandomReluLayer, ParametricReluLayer, ExponentialLinearUnitLayer\n",
    "from mlp.errors import CrossEntropySoftmaxError\n",
    "from mlp.models import MultipleLayerModel\n",
    "from mlp.initialisers import ConstantInit, GlorotUniformInit\n",
    "from mlp.learning_rules import AdamLearningRule\n",
    "from mlp.optimisers import Optimiser\n",
    "\n",
    "#setup hyperparameters\n",
    "learning_rate = 0.1\n",
    "num_epochs = 100\n",
    "stats_interval = 1\n",
    "input_dim, output_dim, hidden_dim = 784, 47, 64\n",
    "\n",
    "weights_init = GlorotUniformInit(rng=rng)\n",
    "biases_init = ConstantInit(0.)\n",
    "model = MultipleLayerModel([\n",
    "    AffineLayer(input_dim, hidden_dim, weights_init, biases_init), \n",
    "    LeakyReluLayer(),\n",
    "    AffineLayer(hidden_dim, hidden_dim, weights_init, biases_init), \n",
    "    LeakyReluLayer(),\n",
    "    AffineLayer(hidden_dim, hidden_dim, weights_init, biases_init),\n",
    "    LeakyReluLayer(),\n",
    "    AffineLayer(hidden_dim, output_dim, weights_init, biases_init)\n",
    "])\n",
    "\n",
    "error = CrossEntropySoftmaxError()\n",
    "# Use a basic gradient descent learning rule\n",
    "learning_rule = AdamLearningRule()\n",
    "\n",
    "#Remember to use notebook=False when you write a script to be run in a terminal\n",
    "_ = train_model_and_plot_stats(\n",
    "    model, error, learning_rule, train_data, valid_data, num_epochs, stats_interval, notebook=True)"
   ]
  },
  {
   "cell_type": "markdown",
   "metadata": {},
   "source": [
    "## Part 2: EMNIST Experiments LeakyReLULayer"
   ]
  },
  {
   "cell_type": "code",
   "execution_count": 17,
   "metadata": {},
   "outputs": [],
   "source": [
    "import keras\n",
    "early_stopping = keras.callbacks.EarlyStopping(monitor='val_loss', min_delta=0.001, patience=20, verbose=1, mode='min')   \n",
    "#lr_schedule = keras.callbacks.LearningRateScheduler(step_decay, verbose=1)"
   ]
  },
  {
   "cell_type": "code",
   "execution_count": 20,
   "metadata": {
    "scrolled": true
   },
   "outputs": [
    {
     "data": {
      "application/vnd.jupyter.widget-view+json": {
       "model_id": "9b1d9063390a4acbb591add40c01162c",
       "version_major": 2,
       "version_minor": 0
      },
      "text/plain": [
       "HBox(children=(IntProgress(value=0), HTML(value='')))"
      ]
     },
     "metadata": {},
     "output_type": "display_data"
    },
    {
     "data": {
      "application/vnd.jupyter.widget-view+json": {
       "model_id": "75898e9defd74a9e9ec314b4f05a2f4d",
       "version_major": 2,
       "version_minor": 0
      },
      "text/plain": [
       "HBox(children=(IntProgress(value=0, max=1000), HTML(value='')))"
      ]
     },
     "metadata": {},
     "output_type": "display_data"
    },
    {
     "name": "stdout",
     "output_type": "stream",
     "text": [
      "\n"
     ]
    },
    {
     "name": "stderr",
     "output_type": "stream",
     "text": [
      "Epoch 1: 8.1s to complete\n",
      "    error(train)=7.01e-01, acc(train)=7.75e-01, error(valid)=7.30e-01, acc(valid)=7.68e-01\n"
     ]
    },
    {
     "data": {
      "application/vnd.jupyter.widget-view+json": {
       "model_id": "0db6e25b593043e9b359a9b1cbe3d5be",
       "version_major": 2,
       "version_minor": 0
      },
      "text/plain": [
       "HBox(children=(IntProgress(value=0, max=1000), HTML(value='')))"
      ]
     },
     "metadata": {},
     "output_type": "display_data"
    },
    {
     "name": "stdout",
     "output_type": "stream",
     "text": [
      "\n"
     ]
    },
    {
     "name": "stderr",
     "output_type": "stream",
     "text": [
      "Epoch 2: 8.0s to complete\n",
      "    error(train)=5.51e-01, acc(train)=8.16e-01, error(valid)=6.04e-01, acc(valid)=8.01e-01\n"
     ]
    },
    {
     "data": {
      "application/vnd.jupyter.widget-view+json": {
       "model_id": "74b6ed2c438441debcd6858247eab6d1",
       "version_major": 2,
       "version_minor": 0
      },
      "text/plain": [
       "HBox(children=(IntProgress(value=0, max=1000), HTML(value='')))"
      ]
     },
     "metadata": {},
     "output_type": "display_data"
    },
    {
     "name": "stdout",
     "output_type": "stream",
     "text": [
      "\n"
     ]
    },
    {
     "name": "stderr",
     "output_type": "stream",
     "text": [
      "Epoch 3: 8.2s to complete\n",
      "    error(train)=4.85e-01, acc(train)=8.36e-01, error(valid)=5.53e-01, acc(valid)=8.19e-01\n"
     ]
    },
    {
     "data": {
      "application/vnd.jupyter.widget-view+json": {
       "model_id": "782bf47ba4444ceb89c5483456595954",
       "version_major": 2,
       "version_minor": 0
      },
      "text/plain": [
       "HBox(children=(IntProgress(value=0, max=1000), HTML(value='')))"
      ]
     },
     "metadata": {},
     "output_type": "display_data"
    },
    {
     "name": "stdout",
     "output_type": "stream",
     "text": [
      "\n"
     ]
    },
    {
     "name": "stderr",
     "output_type": "stream",
     "text": [
      "Epoch 4: 9.3s to complete\n",
      "    error(train)=4.30e-01, acc(train)=8.53e-01, error(valid)=5.16e-01, acc(valid)=8.27e-01\n"
     ]
    },
    {
     "data": {
      "application/vnd.jupyter.widget-view+json": {
       "model_id": "06ec47bcda524a1b8b60783e6c828762",
       "version_major": 2,
       "version_minor": 0
      },
      "text/plain": [
       "HBox(children=(IntProgress(value=0, max=1000), HTML(value='')))"
      ]
     },
     "metadata": {},
     "output_type": "display_data"
    },
    {
     "name": "stdout",
     "output_type": "stream",
     "text": [
      "\n"
     ]
    },
    {
     "name": "stderr",
     "output_type": "stream",
     "text": [
      "Epoch 5: 8.0s to complete\n",
      "    error(train)=3.97e-01, acc(train)=8.62e-01, error(valid)=4.98e-01, acc(valid)=8.35e-01\n"
     ]
    },
    {
     "data": {
      "application/vnd.jupyter.widget-view+json": {
       "model_id": "183b78f3bf054b1a903e2840d020454b",
       "version_major": 2,
       "version_minor": 0
      },
      "text/plain": [
       "HBox(children=(IntProgress(value=0, max=1000), HTML(value='')))"
      ]
     },
     "metadata": {},
     "output_type": "display_data"
    },
    {
     "name": "stdout",
     "output_type": "stream",
     "text": [
      "\n"
     ]
    },
    {
     "name": "stderr",
     "output_type": "stream",
     "text": [
      "Epoch 6: 9.2s to complete\n",
      "    error(train)=3.72e-01, acc(train)=8.68e-01, error(valid)=4.91e-01, acc(valid)=8.37e-01\n"
     ]
    },
    {
     "data": {
      "application/vnd.jupyter.widget-view+json": {
       "model_id": "3aa9b948fecc4f5480483af2845770a2",
       "version_major": 2,
       "version_minor": 0
      },
      "text/plain": [
       "HBox(children=(IntProgress(value=0, max=1000), HTML(value='')))"
      ]
     },
     "metadata": {},
     "output_type": "display_data"
    },
    {
     "name": "stdout",
     "output_type": "stream",
     "text": [
      "\n"
     ]
    },
    {
     "name": "stderr",
     "output_type": "stream",
     "text": [
      "Epoch 7: 20.8s to complete\n",
      "    error(train)=3.65e-01, acc(train)=8.69e-01, error(valid)=5.00e-01, acc(valid)=8.31e-01\n"
     ]
    },
    {
     "data": {
      "application/vnd.jupyter.widget-view+json": {
       "model_id": "393d50be484c400989f208748247c6c9",
       "version_major": 2,
       "version_minor": 0
      },
      "text/plain": [
       "HBox(children=(IntProgress(value=0, max=1000), HTML(value='')))"
      ]
     },
     "metadata": {},
     "output_type": "display_data"
    },
    {
     "name": "stdout",
     "output_type": "stream",
     "text": [
      "\n"
     ]
    },
    {
     "name": "stderr",
     "output_type": "stream",
     "text": [
      "Epoch 8: 8.9s to complete\n",
      "    error(train)=3.56e-01, acc(train)=8.71e-01, error(valid)=5.14e-01, acc(valid)=8.34e-01\n"
     ]
    },
    {
     "data": {
      "application/vnd.jupyter.widget-view+json": {
       "model_id": "aeab2febb4654660a531c2adffe289c9",
       "version_major": 2,
       "version_minor": 0
      },
      "text/plain": [
       "HBox(children=(IntProgress(value=0, max=1000), HTML(value='')))"
      ]
     },
     "metadata": {},
     "output_type": "display_data"
    },
    {
     "name": "stdout",
     "output_type": "stream",
     "text": [
      "\n"
     ]
    },
    {
     "name": "stderr",
     "output_type": "stream",
     "text": [
      "Epoch 9: 8.6s to complete\n",
      "    error(train)=3.27e-01, acc(train)=8.80e-01, error(valid)=4.97e-01, acc(valid)=8.39e-01\n"
     ]
    },
    {
     "data": {
      "application/vnd.jupyter.widget-view+json": {
       "model_id": "267e21db03fc4cf5b00ab02c37e3c408",
       "version_major": 2,
       "version_minor": 0
      },
      "text/plain": [
       "HBox(children=(IntProgress(value=0, max=1000), HTML(value='')))"
      ]
     },
     "metadata": {},
     "output_type": "display_data"
    },
    {
     "name": "stdout",
     "output_type": "stream",
     "text": [
      "\n"
     ]
    },
    {
     "name": "stderr",
     "output_type": "stream",
     "text": [
      "Epoch 10: 14.8s to complete\n",
      "    error(train)=3.00e-01, acc(train)=8.89e-01, error(valid)=4.87e-01, acc(valid)=8.47e-01\n"
     ]
    },
    {
     "data": {
      "application/vnd.jupyter.widget-view+json": {
       "model_id": "1d0be4c7cc6547438fe48b0ff8471d19",
       "version_major": 2,
       "version_minor": 0
      },
      "text/plain": [
       "HBox(children=(IntProgress(value=0, max=1000), HTML(value='')))"
      ]
     },
     "metadata": {},
     "output_type": "display_data"
    },
    {
     "name": "stdout",
     "output_type": "stream",
     "text": [
      "\n"
     ]
    },
    {
     "name": "stderr",
     "output_type": "stream",
     "text": [
      "Epoch 11: 10.2s to complete\n",
      "    error(train)=3.05e-01, acc(train)=8.85e-01, error(valid)=5.04e-01, acc(valid)=8.37e-01\n"
     ]
    },
    {
     "data": {
      "application/vnd.jupyter.widget-view+json": {
       "model_id": "18ac9dc30dd24c28bf8c6ef9893192a2",
       "version_major": 2,
       "version_minor": 0
      },
      "text/plain": [
       "HBox(children=(IntProgress(value=0, max=1000), HTML(value='')))"
      ]
     },
     "metadata": {},
     "output_type": "display_data"
    },
    {
     "name": "stdout",
     "output_type": "stream",
     "text": [
      "\n"
     ]
    },
    {
     "name": "stderr",
     "output_type": "stream",
     "text": [
      "Epoch 12: 11.3s to complete\n",
      "    error(train)=3.03e-01, acc(train)=8.86e-01, error(valid)=5.19e-01, acc(valid)=8.36e-01\n"
     ]
    },
    {
     "data": {
      "application/vnd.jupyter.widget-view+json": {
       "model_id": "d5016a0d624b4205b80c6186bed0cd4b",
       "version_major": 2,
       "version_minor": 0
      },
      "text/plain": [
       "HBox(children=(IntProgress(value=0, max=1000), HTML(value='')))"
      ]
     },
     "metadata": {},
     "output_type": "display_data"
    },
    {
     "name": "stdout",
     "output_type": "stream",
     "text": [
      "\n"
     ]
    },
    {
     "name": "stderr",
     "output_type": "stream",
     "text": [
      "Epoch 13: 11.6s to complete\n",
      "    error(train)=2.74e-01, acc(train)=8.96e-01, error(valid)=5.06e-01, acc(valid)=8.42e-01\n"
     ]
    },
    {
     "data": {
      "application/vnd.jupyter.widget-view+json": {
       "model_id": "113a36ab5d6f446baaeeedfe763432b4",
       "version_major": 2,
       "version_minor": 0
      },
      "text/plain": [
       "HBox(children=(IntProgress(value=0, max=1000), HTML(value='')))"
      ]
     },
     "metadata": {},
     "output_type": "display_data"
    },
    {
     "name": "stdout",
     "output_type": "stream",
     "text": [
      "\n"
     ]
    },
    {
     "name": "stderr",
     "output_type": "stream",
     "text": [
      "Epoch 14: 12.7s to complete\n",
      "    error(train)=2.66e-01, acc(train)=9.00e-01, error(valid)=5.17e-01, acc(valid)=8.38e-01\n"
     ]
    },
    {
     "data": {
      "application/vnd.jupyter.widget-view+json": {
       "model_id": "6abc2f9424d44db389f7ddf237ebbc66",
       "version_major": 2,
       "version_minor": 0
      },
      "text/plain": [
       "HBox(children=(IntProgress(value=0, max=1000), HTML(value='')))"
      ]
     },
     "metadata": {},
     "output_type": "display_data"
    },
    {
     "name": "stdout",
     "output_type": "stream",
     "text": [
      "\n"
     ]
    },
    {
     "name": "stderr",
     "output_type": "stream",
     "text": [
      "Epoch 15: 9.2s to complete\n",
      "    error(train)=2.48e-01, acc(train)=9.05e-01, error(valid)=5.12e-01, acc(valid)=8.43e-01\n"
     ]
    },
    {
     "data": {
      "application/vnd.jupyter.widget-view+json": {
       "model_id": "eeefb942933142578ae26dcffeb36956",
       "version_major": 2,
       "version_minor": 0
      },
      "text/plain": [
       "HBox(children=(IntProgress(value=0, max=1000), HTML(value='')))"
      ]
     },
     "metadata": {},
     "output_type": "display_data"
    },
    {
     "name": "stdout",
     "output_type": "stream",
     "text": [
      "\n"
     ]
    },
    {
     "name": "stderr",
     "output_type": "stream",
     "text": [
      "Epoch 16: 9.1s to complete\n",
      "    error(train)=2.61e-01, acc(train)=8.97e-01, error(valid)=5.47e-01, acc(valid)=8.35e-01\n"
     ]
    },
    {
     "data": {
      "application/vnd.jupyter.widget-view+json": {
       "model_id": "46f6db7ddf844439862fdc1c2682f080",
       "version_major": 2,
       "version_minor": 0
      },
      "text/plain": [
       "HBox(children=(IntProgress(value=0, max=1000), HTML(value='')))"
      ]
     },
     "metadata": {},
     "output_type": "display_data"
    },
    {
     "name": "stdout",
     "output_type": "stream",
     "text": [
      "\n"
     ]
    },
    {
     "name": "stderr",
     "output_type": "stream",
     "text": [
      "Epoch 17: 8.3s to complete\n",
      "    error(train)=2.41e-01, acc(train)=9.05e-01, error(valid)=5.41e-01, acc(valid)=8.37e-01\n"
     ]
    },
    {
     "data": {
      "application/vnd.jupyter.widget-view+json": {
       "model_id": "38bb38e5cfec42ba875120a79917e704",
       "version_major": 2,
       "version_minor": 0
      },
      "text/plain": [
       "HBox(children=(IntProgress(value=0, max=1000), HTML(value='')))"
      ]
     },
     "metadata": {},
     "output_type": "display_data"
    },
    {
     "name": "stdout",
     "output_type": "stream",
     "text": [
      "\n"
     ]
    },
    {
     "name": "stderr",
     "output_type": "stream",
     "text": [
      "Epoch 18: 10.3s to complete\n",
      "    error(train)=2.27e-01, acc(train)=9.11e-01, error(valid)=5.45e-01, acc(valid)=8.43e-01\n"
     ]
    },
    {
     "data": {
      "application/vnd.jupyter.widget-view+json": {
       "model_id": "677df18095fd4d738252e23fe5776393",
       "version_major": 2,
       "version_minor": 0
      },
      "text/plain": [
       "HBox(children=(IntProgress(value=0, max=1000), HTML(value='')))"
      ]
     },
     "metadata": {},
     "output_type": "display_data"
    },
    {
     "name": "stdout",
     "output_type": "stream",
     "text": [
      "\n"
     ]
    },
    {
     "name": "stderr",
     "output_type": "stream",
     "text": [
      "Epoch 19: 11.2s to complete\n",
      "    error(train)=2.25e-01, acc(train)=9.12e-01, error(valid)=5.66e-01, acc(valid)=8.39e-01\n"
     ]
    },
    {
     "data": {
      "application/vnd.jupyter.widget-view+json": {
       "model_id": "90bdf8b8b58c485fa3931e73886a7c0b",
       "version_major": 2,
       "version_minor": 0
      },
      "text/plain": [
       "HBox(children=(IntProgress(value=0, max=1000), HTML(value='')))"
      ]
     },
     "metadata": {},
     "output_type": "display_data"
    },
    {
     "name": "stdout",
     "output_type": "stream",
     "text": [
      "\n"
     ]
    },
    {
     "name": "stderr",
     "output_type": "stream",
     "text": [
      "Epoch 20: 15.5s to complete\n",
      "    error(train)=2.29e-01, acc(train)=9.07e-01, error(valid)=5.81e-01, acc(valid)=8.34e-01\n"
     ]
    },
    {
     "data": {
      "application/vnd.jupyter.widget-view+json": {
       "model_id": "392a4fdfaaf84dd1987e74a32cad4205",
       "version_major": 2,
       "version_minor": 0
      },
      "text/plain": [
       "HBox(children=(IntProgress(value=0, max=1000), HTML(value='')))"
      ]
     },
     "metadata": {},
     "output_type": "display_data"
    },
    {
     "name": "stdout",
     "output_type": "stream",
     "text": [
      "\n"
     ]
    },
    {
     "name": "stderr",
     "output_type": "stream",
     "text": [
      "Epoch 21: 8.3s to complete\n",
      "    error(train)=2.13e-01, acc(train)=9.16e-01, error(valid)=5.86e-01, acc(valid)=8.36e-01\n"
     ]
    },
    {
     "data": {
      "application/vnd.jupyter.widget-view+json": {
       "model_id": "19fbe9fdefab4fd3abddcbb0788edaa8",
       "version_major": 2,
       "version_minor": 0
      },
      "text/plain": [
       "HBox(children=(IntProgress(value=0, max=1000), HTML(value='')))"
      ]
     },
     "metadata": {},
     "output_type": "display_data"
    },
    {
     "name": "stdout",
     "output_type": "stream",
     "text": [
      "\n"
     ]
    },
    {
     "name": "stderr",
     "output_type": "stream",
     "text": [
      "Epoch 22: 7.8s to complete\n",
      "    error(train)=2.02e-01, acc(train)=9.19e-01, error(valid)=5.76e-01, acc(valid)=8.43e-01\n"
     ]
    },
    {
     "data": {
      "application/vnd.jupyter.widget-view+json": {
       "model_id": "50aafd5e151d4a53b853637e4c19a902",
       "version_major": 2,
       "version_minor": 0
      },
      "text/plain": [
       "HBox(children=(IntProgress(value=0, max=1000), HTML(value='')))"
      ]
     },
     "metadata": {},
     "output_type": "display_data"
    },
    {
     "name": "stdout",
     "output_type": "stream",
     "text": [
      "\n"
     ]
    },
    {
     "name": "stderr",
     "output_type": "stream",
     "text": [
      "Epoch 23: 9.3s to complete\n",
      "    error(train)=2.20e-01, acc(train)=9.11e-01, error(valid)=6.31e-01, acc(valid)=8.36e-01\n"
     ]
    },
    {
     "data": {
      "application/vnd.jupyter.widget-view+json": {
       "model_id": "9d65186f206b4b609a3e77cada7b8d36",
       "version_major": 2,
       "version_minor": 0
      },
      "text/plain": [
       "HBox(children=(IntProgress(value=0, max=1000), HTML(value='')))"
      ]
     },
     "metadata": {},
     "output_type": "display_data"
    },
    {
     "name": "stdout",
     "output_type": "stream",
     "text": [
      "\n"
     ]
    },
    {
     "name": "stderr",
     "output_type": "stream",
     "text": [
      "Epoch 24: 8.1s to complete\n",
      "    error(train)=2.00e-01, acc(train)=9.18e-01, error(valid)=6.26e-01, acc(valid)=8.37e-01\n"
     ]
    },
    {
     "data": {
      "application/vnd.jupyter.widget-view+json": {
       "model_id": "09c40e4325f44a6bbaf6429a55c8159e",
       "version_major": 2,
       "version_minor": 0
      },
      "text/plain": [
       "HBox(children=(IntProgress(value=0, max=1000), HTML(value='')))"
      ]
     },
     "metadata": {},
     "output_type": "display_data"
    },
    {
     "name": "stdout",
     "output_type": "stream",
     "text": [
      "\n"
     ]
    },
    {
     "name": "stderr",
     "output_type": "stream",
     "text": [
      "Epoch 25: 12.4s to complete\n",
      "    error(train)=1.92e-01, acc(train)=9.22e-01, error(valid)=6.22e-01, acc(valid)=8.38e-01\n"
     ]
    },
    {
     "data": {
      "application/vnd.jupyter.widget-view+json": {
       "model_id": "f2b795f5e7e8414f9d02effbfc2dec7d",
       "version_major": 2,
       "version_minor": 0
      },
      "text/plain": [
       "HBox(children=(IntProgress(value=0, max=1000), HTML(value='')))"
      ]
     },
     "metadata": {},
     "output_type": "display_data"
    },
    {
     "name": "stdout",
     "output_type": "stream",
     "text": [
      "\n"
     ]
    },
    {
     "name": "stderr",
     "output_type": "stream",
     "text": [
      "Epoch 26: 10.1s to complete\n",
      "    error(train)=1.90e-01, acc(train)=9.24e-01, error(valid)=6.38e-01, acc(valid)=8.33e-01\n"
     ]
    },
    {
     "data": {
      "application/vnd.jupyter.widget-view+json": {
       "model_id": "6e87fd28780748b4bb5ab96dce7a6ba4",
       "version_major": 2,
       "version_minor": 0
      },
      "text/plain": [
       "HBox(children=(IntProgress(value=0, max=1000), HTML(value='')))"
      ]
     },
     "metadata": {},
     "output_type": "display_data"
    },
    {
     "name": "stdout",
     "output_type": "stream",
     "text": [
      "\n"
     ]
    },
    {
     "name": "stderr",
     "output_type": "stream",
     "text": [
      "Epoch 27: 8.3s to complete\n",
      "    error(train)=1.88e-01, acc(train)=9.23e-01, error(valid)=6.66e-01, acc(valid)=8.35e-01\n"
     ]
    },
    {
     "data": {
      "application/vnd.jupyter.widget-view+json": {
       "model_id": "41ba5abe9b3e42ceae0ee610ffff4ae9",
       "version_major": 2,
       "version_minor": 0
      },
      "text/plain": [
       "HBox(children=(IntProgress(value=0, max=1000), HTML(value='')))"
      ]
     },
     "metadata": {},
     "output_type": "display_data"
    },
    {
     "name": "stdout",
     "output_type": "stream",
     "text": [
      "\n"
     ]
    },
    {
     "name": "stderr",
     "output_type": "stream",
     "text": [
      "Epoch 28: 7.5s to complete\n",
      "    error(train)=1.82e-01, acc(train)=9.25e-01, error(valid)=6.66e-01, acc(valid)=8.36e-01\n"
     ]
    },
    {
     "data": {
      "application/vnd.jupyter.widget-view+json": {
       "model_id": "5d6e2e4f92b045c29683db43d0abe1f2",
       "version_major": 2,
       "version_minor": 0
      },
      "text/plain": [
       "HBox(children=(IntProgress(value=0, max=1000), HTML(value='')))"
      ]
     },
     "metadata": {},
     "output_type": "display_data"
    },
    {
     "name": "stdout",
     "output_type": "stream",
     "text": [
      "\n"
     ]
    },
    {
     "name": "stderr",
     "output_type": "stream",
     "text": [
      "Epoch 29: 7.9s to complete\n",
      "    error(train)=1.94e-01, acc(train)=9.22e-01, error(valid)=6.93e-01, acc(valid)=8.29e-01\n"
     ]
    },
    {
     "data": {
      "application/vnd.jupyter.widget-view+json": {
       "model_id": "d190df6a70eb4bd08cbdbb068ff7d6c9",
       "version_major": 2,
       "version_minor": 0
      },
      "text/plain": [
       "HBox(children=(IntProgress(value=0, max=1000), HTML(value='')))"
      ]
     },
     "metadata": {},
     "output_type": "display_data"
    },
    {
     "name": "stdout",
     "output_type": "stream",
     "text": [
      "\n"
     ]
    },
    {
     "name": "stderr",
     "output_type": "stream",
     "text": [
      "Epoch 30: 8.8s to complete\n",
      "    error(train)=1.84e-01, acc(train)=9.24e-01, error(valid)=6.96e-01, acc(valid)=8.35e-01\n"
     ]
    },
    {
     "data": {
      "application/vnd.jupyter.widget-view+json": {
       "model_id": "9a2136fd2cbf407f88aa6af02714cd47",
       "version_major": 2,
       "version_minor": 0
      },
      "text/plain": [
       "HBox(children=(IntProgress(value=0, max=1000), HTML(value='')))"
      ]
     },
     "metadata": {},
     "output_type": "display_data"
    },
    {
     "name": "stdout",
     "output_type": "stream",
     "text": [
      "\n"
     ]
    },
    {
     "name": "stderr",
     "output_type": "stream",
     "text": [
      "Epoch 31: 8.8s to complete\n",
      "    error(train)=1.66e-01, acc(train)=9.31e-01, error(valid)=7.19e-01, acc(valid)=8.37e-01\n"
     ]
    },
    {
     "data": {
      "application/vnd.jupyter.widget-view+json": {
       "model_id": "f9737084ea574d6ab6d1d8daf42402a9",
       "version_major": 2,
       "version_minor": 0
      },
      "text/plain": [
       "HBox(children=(IntProgress(value=0, max=1000), HTML(value='')))"
      ]
     },
     "metadata": {},
     "output_type": "display_data"
    },
    {
     "name": "stdout",
     "output_type": "stream",
     "text": [
      "\n"
     ]
    },
    {
     "name": "stderr",
     "output_type": "stream",
     "text": [
      "Epoch 32: 8.9s to complete\n",
      "    error(train)=1.76e-01, acc(train)=9.27e-01, error(valid)=7.48e-01, acc(valid)=8.33e-01\n"
     ]
    },
    {
     "data": {
      "application/vnd.jupyter.widget-view+json": {
       "model_id": "e14219eb08a644daaaf5a79e9dd99733",
       "version_major": 2,
       "version_minor": 0
      },
      "text/plain": [
       "HBox(children=(IntProgress(value=0, max=1000), HTML(value='')))"
      ]
     },
     "metadata": {},
     "output_type": "display_data"
    },
    {
     "name": "stdout",
     "output_type": "stream",
     "text": [
      "\n"
     ]
    },
    {
     "name": "stderr",
     "output_type": "stream",
     "text": [
      "Epoch 33: 9.4s to complete\n",
      "    error(train)=1.63e-01, acc(train)=9.33e-01, error(valid)=7.42e-01, acc(valid)=8.36e-01\n"
     ]
    },
    {
     "data": {
      "application/vnd.jupyter.widget-view+json": {
       "model_id": "2623ceb076864a7b996a28eccfe1019c",
       "version_major": 2,
       "version_minor": 0
      },
      "text/plain": [
       "HBox(children=(IntProgress(value=0, max=1000), HTML(value='')))"
      ]
     },
     "metadata": {},
     "output_type": "display_data"
    },
    {
     "name": "stdout",
     "output_type": "stream",
     "text": [
      "\n"
     ]
    },
    {
     "name": "stderr",
     "output_type": "stream",
     "text": [
      "Epoch 34: 7.9s to complete\n",
      "    error(train)=1.72e-01, acc(train)=9.30e-01, error(valid)=7.59e-01, acc(valid)=8.33e-01\n"
     ]
    },
    {
     "data": {
      "application/vnd.jupyter.widget-view+json": {
       "model_id": "2718dbe88fa040eea258cb6fecd15f61",
       "version_major": 2,
       "version_minor": 0
      },
      "text/plain": [
       "HBox(children=(IntProgress(value=0, max=1000), HTML(value='')))"
      ]
     },
     "metadata": {},
     "output_type": "display_data"
    },
    {
     "name": "stdout",
     "output_type": "stream",
     "text": [
      "\n"
     ]
    },
    {
     "name": "stderr",
     "output_type": "stream",
     "text": [
      "Epoch 35: 8.1s to complete\n",
      "    error(train)=1.72e-01, acc(train)=9.30e-01, error(valid)=7.87e-01, acc(valid)=8.32e-01\n"
     ]
    },
    {
     "data": {
      "application/vnd.jupyter.widget-view+json": {
       "model_id": "20845d7f5fcf4ac19a02c962991aaf16",
       "version_major": 2,
       "version_minor": 0
      },
      "text/plain": [
       "HBox(children=(IntProgress(value=0, max=1000), HTML(value='')))"
      ]
     },
     "metadata": {},
     "output_type": "display_data"
    },
    {
     "name": "stdout",
     "output_type": "stream",
     "text": [
      "\n"
     ]
    },
    {
     "name": "stderr",
     "output_type": "stream",
     "text": [
      "Epoch 36: 8.6s to complete\n",
      "    error(train)=1.73e-01, acc(train)=9.28e-01, error(valid)=8.12e-01, acc(valid)=8.32e-01\n"
     ]
    },
    {
     "data": {
      "application/vnd.jupyter.widget-view+json": {
       "model_id": "ed3930b363684a8fa9514c608899a5a3",
       "version_major": 2,
       "version_minor": 0
      },
      "text/plain": [
       "HBox(children=(IntProgress(value=0, max=1000), HTML(value='')))"
      ]
     },
     "metadata": {},
     "output_type": "display_data"
    },
    {
     "name": "stdout",
     "output_type": "stream",
     "text": [
      "\n"
     ]
    },
    {
     "name": "stderr",
     "output_type": "stream",
     "text": [
      "Epoch 37: 7.5s to complete\n",
      "    error(train)=1.69e-01, acc(train)=9.30e-01, error(valid)=8.23e-01, acc(valid)=8.33e-01\n"
     ]
    },
    {
     "data": {
      "application/vnd.jupyter.widget-view+json": {
       "model_id": "eab0c737e8d045e28793e69b1fb82329",
       "version_major": 2,
       "version_minor": 0
      },
      "text/plain": [
       "HBox(children=(IntProgress(value=0, max=1000), HTML(value='')))"
      ]
     },
     "metadata": {},
     "output_type": "display_data"
    },
    {
     "name": "stdout",
     "output_type": "stream",
     "text": [
      "\n"
     ]
    },
    {
     "name": "stderr",
     "output_type": "stream",
     "text": [
      "Epoch 38: 9.2s to complete\n",
      "    error(train)=1.50e-01, acc(train)=9.38e-01, error(valid)=8.02e-01, acc(valid)=8.38e-01\n"
     ]
    },
    {
     "data": {
      "application/vnd.jupyter.widget-view+json": {
       "model_id": "ecd095cec90145b68f57873aed9dad99",
       "version_major": 2,
       "version_minor": 0
      },
      "text/plain": [
       "HBox(children=(IntProgress(value=0, max=1000), HTML(value='')))"
      ]
     },
     "metadata": {},
     "output_type": "display_data"
    },
    {
     "name": "stdout",
     "output_type": "stream",
     "text": [
      "\n"
     ]
    },
    {
     "name": "stderr",
     "output_type": "stream",
     "text": [
      "Epoch 39: 11.5s to complete\n",
      "    error(train)=1.57e-01, acc(train)=9.36e-01, error(valid)=8.17e-01, acc(valid)=8.28e-01\n"
     ]
    },
    {
     "data": {
      "application/vnd.jupyter.widget-view+json": {
       "model_id": "57388c5ecf0d4710b1b50d707e0a460e",
       "version_major": 2,
       "version_minor": 0
      },
      "text/plain": [
       "HBox(children=(IntProgress(value=0, max=1000), HTML(value='')))"
      ]
     },
     "metadata": {},
     "output_type": "display_data"
    },
    {
     "name": "stdout",
     "output_type": "stream",
     "text": [
      "\n"
     ]
    },
    {
     "name": "stderr",
     "output_type": "stream",
     "text": [
      "Epoch 40: 9.2s to complete\n",
      "    error(train)=1.51e-01, acc(train)=9.37e-01, error(valid)=8.27e-01, acc(valid)=8.31e-01\n"
     ]
    },
    {
     "data": {
      "application/vnd.jupyter.widget-view+json": {
       "model_id": "08755e72a4c147c68192bf2321c42438",
       "version_major": 2,
       "version_minor": 0
      },
      "text/plain": [
       "HBox(children=(IntProgress(value=0, max=1000), HTML(value='')))"
      ]
     },
     "metadata": {},
     "output_type": "display_data"
    },
    {
     "name": "stdout",
     "output_type": "stream",
     "text": [
      "\n"
     ]
    },
    {
     "name": "stderr",
     "output_type": "stream",
     "text": [
      "Epoch 41: 8.6s to complete\n",
      "    error(train)=1.48e-01, acc(train)=9.39e-01, error(valid)=8.62e-01, acc(valid)=8.31e-01\n"
     ]
    },
    {
     "data": {
      "application/vnd.jupyter.widget-view+json": {
       "model_id": "557ffd83b1ff43ecbdd362613ecf5bdb",
       "version_major": 2,
       "version_minor": 0
      },
      "text/plain": [
       "HBox(children=(IntProgress(value=0, max=1000), HTML(value='')))"
      ]
     },
     "metadata": {},
     "output_type": "display_data"
    },
    {
     "name": "stdout",
     "output_type": "stream",
     "text": [
      "\n"
     ]
    },
    {
     "name": "stderr",
     "output_type": "stream",
     "text": [
      "Epoch 42: 7.9s to complete\n",
      "    error(train)=1.49e-01, acc(train)=9.39e-01, error(valid)=8.97e-01, acc(valid)=8.29e-01\n"
     ]
    },
    {
     "data": {
      "application/vnd.jupyter.widget-view+json": {
       "model_id": "dff48f0284ff403cb14eabc9d3291c51",
       "version_major": 2,
       "version_minor": 0
      },
      "text/plain": [
       "HBox(children=(IntProgress(value=0, max=1000), HTML(value='')))"
      ]
     },
     "metadata": {},
     "output_type": "display_data"
    },
    {
     "name": "stdout",
     "output_type": "stream",
     "text": [
      "\n"
     ]
    },
    {
     "name": "stderr",
     "output_type": "stream",
     "text": [
      "Epoch 43: 9.1s to complete\n",
      "    error(train)=1.51e-01, acc(train)=9.37e-01, error(valid)=8.90e-01, acc(valid)=8.24e-01\n"
     ]
    },
    {
     "data": {
      "application/vnd.jupyter.widget-view+json": {
       "model_id": "653686bf45524f15b43d3f18b5602d2c",
       "version_major": 2,
       "version_minor": 0
      },
      "text/plain": [
       "HBox(children=(IntProgress(value=0, max=1000), HTML(value='')))"
      ]
     },
     "metadata": {},
     "output_type": "display_data"
    },
    {
     "name": "stdout",
     "output_type": "stream",
     "text": [
      "\n"
     ]
    },
    {
     "name": "stderr",
     "output_type": "stream",
     "text": [
      "Epoch 44: 8.0s to complete\n",
      "    error(train)=1.48e-01, acc(train)=9.38e-01, error(valid)=9.08e-01, acc(valid)=8.28e-01\n"
     ]
    },
    {
     "data": {
      "application/vnd.jupyter.widget-view+json": {
       "model_id": "5d8a0f95b9a94f22a4b538be3a916466",
       "version_major": 2,
       "version_minor": 0
      },
      "text/plain": [
       "HBox(children=(IntProgress(value=0, max=1000), HTML(value='')))"
      ]
     },
     "metadata": {},
     "output_type": "display_data"
    },
    {
     "name": "stdout",
     "output_type": "stream",
     "text": [
      "\n"
     ]
    },
    {
     "name": "stderr",
     "output_type": "stream",
     "text": [
      "Epoch 45: 8.2s to complete\n",
      "    error(train)=1.43e-01, acc(train)=9.40e-01, error(valid)=9.12e-01, acc(valid)=8.28e-01\n"
     ]
    },
    {
     "data": {
      "application/vnd.jupyter.widget-view+json": {
       "model_id": "be8210bffc544a6bb2988a6b58969799",
       "version_major": 2,
       "version_minor": 0
      },
      "text/plain": [
       "HBox(children=(IntProgress(value=0, max=1000), HTML(value='')))"
      ]
     },
     "metadata": {},
     "output_type": "display_data"
    },
    {
     "name": "stdout",
     "output_type": "stream",
     "text": [
      "\n"
     ]
    },
    {
     "name": "stderr",
     "output_type": "stream",
     "text": [
      "Epoch 46: 8.7s to complete\n",
      "    error(train)=1.40e-01, acc(train)=9.42e-01, error(valid)=9.14e-01, acc(valid)=8.29e-01\n"
     ]
    },
    {
     "data": {
      "application/vnd.jupyter.widget-view+json": {
       "model_id": "cb4a8e849b544762bba647b602639a3a",
       "version_major": 2,
       "version_minor": 0
      },
      "text/plain": [
       "HBox(children=(IntProgress(value=0, max=1000), HTML(value='')))"
      ]
     },
     "metadata": {},
     "output_type": "display_data"
    },
    {
     "name": "stdout",
     "output_type": "stream",
     "text": [
      "\n"
     ]
    },
    {
     "name": "stderr",
     "output_type": "stream",
     "text": [
      "Epoch 47: 11.4s to complete\n",
      "    error(train)=1.46e-01, acc(train)=9.40e-01, error(valid)=9.53e-01, acc(valid)=8.28e-01\n"
     ]
    },
    {
     "data": {
      "application/vnd.jupyter.widget-view+json": {
       "model_id": "b81deb2c1fb4437197313e091998e537",
       "version_major": 2,
       "version_minor": 0
      },
      "text/plain": [
       "HBox(children=(IntProgress(value=0, max=1000), HTML(value='')))"
      ]
     },
     "metadata": {},
     "output_type": "display_data"
    },
    {
     "name": "stdout",
     "output_type": "stream",
     "text": [
      "\n"
     ]
    },
    {
     "name": "stderr",
     "output_type": "stream",
     "text": [
      "Epoch 48: 12.0s to complete\n",
      "    error(train)=1.32e-01, acc(train)=9.44e-01, error(valid)=9.32e-01, acc(valid)=8.30e-01\n"
     ]
    },
    {
     "data": {
      "application/vnd.jupyter.widget-view+json": {
       "model_id": "12648ff6801447b3b54e1a4700e41b29",
       "version_major": 2,
       "version_minor": 0
      },
      "text/plain": [
       "HBox(children=(IntProgress(value=0, max=1000), HTML(value='')))"
      ]
     },
     "metadata": {},
     "output_type": "display_data"
    },
    {
     "name": "stdout",
     "output_type": "stream",
     "text": [
      "\n"
     ]
    },
    {
     "name": "stderr",
     "output_type": "stream",
     "text": [
      "Epoch 49: 9.5s to complete\n",
      "    error(train)=1.38e-01, acc(train)=9.44e-01, error(valid)=9.68e-01, acc(valid)=8.26e-01\n"
     ]
    },
    {
     "data": {
      "application/vnd.jupyter.widget-view+json": {
       "model_id": "bffdde3afcb24495ae5b0cbc9d23fe50",
       "version_major": 2,
       "version_minor": 0
      },
      "text/plain": [
       "HBox(children=(IntProgress(value=0, max=1000), HTML(value='')))"
      ]
     },
     "metadata": {},
     "output_type": "display_data"
    },
    {
     "name": "stdout",
     "output_type": "stream",
     "text": [
      "\n"
     ]
    },
    {
     "name": "stderr",
     "output_type": "stream",
     "text": [
      "Epoch 50: 9.4s to complete\n",
      "    error(train)=1.43e-01, acc(train)=9.40e-01, error(valid)=1.02e+00, acc(valid)=8.23e-01\n"
     ]
    },
    {
     "data": {
      "application/vnd.jupyter.widget-view+json": {
       "model_id": "0aed5a1d1fd6464f85abebcf4f4dcf67",
       "version_major": 2,
       "version_minor": 0
      },
      "text/plain": [
       "HBox(children=(IntProgress(value=0, max=1000), HTML(value='')))"
      ]
     },
     "metadata": {},
     "output_type": "display_data"
    },
    {
     "name": "stdout",
     "output_type": "stream",
     "text": [
      "\n"
     ]
    },
    {
     "name": "stderr",
     "output_type": "stream",
     "text": [
      "Epoch 51: 8.9s to complete\n",
      "    error(train)=1.51e-01, acc(train)=9.39e-01, error(valid)=1.02e+00, acc(valid)=8.26e-01\n"
     ]
    },
    {
     "data": {
      "application/vnd.jupyter.widget-view+json": {
       "model_id": "03c00cb84d7e4c0b9623b281290b2318",
       "version_major": 2,
       "version_minor": 0
      },
      "text/plain": [
       "HBox(children=(IntProgress(value=0, max=1000), HTML(value='')))"
      ]
     },
     "metadata": {},
     "output_type": "display_data"
    },
    {
     "name": "stdout",
     "output_type": "stream",
     "text": [
      "\n"
     ]
    },
    {
     "name": "stderr",
     "output_type": "stream",
     "text": [
      "Epoch 52: 8.2s to complete\n",
      "    error(train)=1.43e-01, acc(train)=9.43e-01, error(valid)=1.04e+00, acc(valid)=8.28e-01\n"
     ]
    },
    {
     "data": {
      "application/vnd.jupyter.widget-view+json": {
       "model_id": "9be366c55bac49ed9a11887ba00b5b63",
       "version_major": 2,
       "version_minor": 0
      },
      "text/plain": [
       "HBox(children=(IntProgress(value=0, max=1000), HTML(value='')))"
      ]
     },
     "metadata": {},
     "output_type": "display_data"
    },
    {
     "name": "stdout",
     "output_type": "stream",
     "text": [
      "\n"
     ]
    },
    {
     "name": "stderr",
     "output_type": "stream",
     "text": [
      "Epoch 53: 10.1s to complete\n",
      "    error(train)=1.36e-01, acc(train)=9.44e-01, error(valid)=1.04e+00, acc(valid)=8.25e-01\n"
     ]
    },
    {
     "data": {
      "application/vnd.jupyter.widget-view+json": {
       "model_id": "836d24e38e234e9eb294315ffa50555f",
       "version_major": 2,
       "version_minor": 0
      },
      "text/plain": [
       "HBox(children=(IntProgress(value=0, max=1000), HTML(value='')))"
      ]
     },
     "metadata": {},
     "output_type": "display_data"
    },
    {
     "name": "stdout",
     "output_type": "stream",
     "text": [
      "\n"
     ]
    },
    {
     "name": "stderr",
     "output_type": "stream",
     "text": [
      "Epoch 54: 7.1s to complete\n",
      "    error(train)=1.24e-01, acc(train)=9.48e-01, error(valid)=1.03e+00, acc(valid)=8.30e-01\n"
     ]
    },
    {
     "data": {
      "application/vnd.jupyter.widget-view+json": {
       "model_id": "8cac9999c6d3451aa55803be69590de9",
       "version_major": 2,
       "version_minor": 0
      },
      "text/plain": [
       "HBox(children=(IntProgress(value=0, max=1000), HTML(value='')))"
      ]
     },
     "metadata": {},
     "output_type": "display_data"
    },
    {
     "name": "stdout",
     "output_type": "stream",
     "text": [
      "\n"
     ]
    },
    {
     "name": "stderr",
     "output_type": "stream",
     "text": [
      "Epoch 55: 8.7s to complete\n",
      "    error(train)=1.41e-01, acc(train)=9.43e-01, error(valid)=1.09e+00, acc(valid)=8.25e-01\n"
     ]
    },
    {
     "data": {
      "application/vnd.jupyter.widget-view+json": {
       "model_id": "ba28ff39ef5e4ef1beba01e4fbd478e8",
       "version_major": 2,
       "version_minor": 0
      },
      "text/plain": [
       "HBox(children=(IntProgress(value=0, max=1000), HTML(value='')))"
      ]
     },
     "metadata": {},
     "output_type": "display_data"
    },
    {
     "name": "stdout",
     "output_type": "stream",
     "text": [
      "\n"
     ]
    },
    {
     "name": "stderr",
     "output_type": "stream",
     "text": [
      "Epoch 56: 8.1s to complete\n",
      "    error(train)=1.42e-01, acc(train)=9.42e-01, error(valid)=1.10e+00, acc(valid)=8.18e-01\n"
     ]
    },
    {
     "data": {
      "application/vnd.jupyter.widget-view+json": {
       "model_id": "c3bcedb3452a4aea9015ec45ec5b4d5b",
       "version_major": 2,
       "version_minor": 0
      },
      "text/plain": [
       "HBox(children=(IntProgress(value=0, max=1000), HTML(value='')))"
      ]
     },
     "metadata": {},
     "output_type": "display_data"
    },
    {
     "name": "stdout",
     "output_type": "stream",
     "text": [
      "\n"
     ]
    },
    {
     "name": "stderr",
     "output_type": "stream",
     "text": [
      "Epoch 57: 7.3s to complete\n",
      "    error(train)=1.30e-01, acc(train)=9.47e-01, error(valid)=1.09e+00, acc(valid)=8.26e-01\n"
     ]
    },
    {
     "data": {
      "application/vnd.jupyter.widget-view+json": {
       "model_id": "01984928750a4e6d9405acc7552fb4f6",
       "version_major": 2,
       "version_minor": 0
      },
      "text/plain": [
       "HBox(children=(IntProgress(value=0, max=1000), HTML(value='')))"
      ]
     },
     "metadata": {},
     "output_type": "display_data"
    },
    {
     "name": "stdout",
     "output_type": "stream",
     "text": [
      "\n"
     ]
    },
    {
     "name": "stderr",
     "output_type": "stream",
     "text": [
      "Epoch 58: 7.2s to complete\n",
      "    error(train)=1.31e-01, acc(train)=9.47e-01, error(valid)=1.10e+00, acc(valid)=8.26e-01\n"
     ]
    },
    {
     "data": {
      "application/vnd.jupyter.widget-view+json": {
       "model_id": "81ee86588baa4fc6ae085e463f0b8847",
       "version_major": 2,
       "version_minor": 0
      },
      "text/plain": [
       "HBox(children=(IntProgress(value=0, max=1000), HTML(value='')))"
      ]
     },
     "metadata": {},
     "output_type": "display_data"
    },
    {
     "name": "stdout",
     "output_type": "stream",
     "text": [
      "\n"
     ]
    },
    {
     "name": "stderr",
     "output_type": "stream",
     "text": [
      "Epoch 59: 7.3s to complete\n",
      "    error(train)=1.21e-01, acc(train)=9.51e-01, error(valid)=1.11e+00, acc(valid)=8.25e-01\n"
     ]
    },
    {
     "data": {
      "application/vnd.jupyter.widget-view+json": {
       "model_id": "6023b2c5974b4d74a323361242f11a57",
       "version_major": 2,
       "version_minor": 0
      },
      "text/plain": [
       "HBox(children=(IntProgress(value=0, max=1000), HTML(value='')))"
      ]
     },
     "metadata": {},
     "output_type": "display_data"
    },
    {
     "name": "stdout",
     "output_type": "stream",
     "text": [
      "\n"
     ]
    },
    {
     "name": "stderr",
     "output_type": "stream",
     "text": [
      "Epoch 60: 7.5s to complete\n",
      "    error(train)=1.35e-01, acc(train)=9.46e-01, error(valid)=1.12e+00, acc(valid)=8.28e-01\n"
     ]
    },
    {
     "data": {
      "application/vnd.jupyter.widget-view+json": {
       "model_id": "2b3ce695ab3a484393c055e7a5d279a1",
       "version_major": 2,
       "version_minor": 0
      },
      "text/plain": [
       "HBox(children=(IntProgress(value=0, max=1000), HTML(value='')))"
      ]
     },
     "metadata": {},
     "output_type": "display_data"
    },
    {
     "name": "stdout",
     "output_type": "stream",
     "text": [
      "\n"
     ]
    },
    {
     "name": "stderr",
     "output_type": "stream",
     "text": [
      "Epoch 61: 7.0s to complete\n",
      "    error(train)=1.21e-01, acc(train)=9.50e-01, error(valid)=1.15e+00, acc(valid)=8.25e-01\n"
     ]
    },
    {
     "data": {
      "application/vnd.jupyter.widget-view+json": {
       "model_id": "5e97bfa935304bfeac7a26f213c7e77f",
       "version_major": 2,
       "version_minor": 0
      },
      "text/plain": [
       "HBox(children=(IntProgress(value=0, max=1000), HTML(value='')))"
      ]
     },
     "metadata": {},
     "output_type": "display_data"
    },
    {
     "name": "stdout",
     "output_type": "stream",
     "text": [
      "\n"
     ]
    },
    {
     "name": "stderr",
     "output_type": "stream",
     "text": [
      "Epoch 62: 7.7s to complete\n",
      "    error(train)=1.24e-01, acc(train)=9.49e-01, error(valid)=1.14e+00, acc(valid)=8.27e-01\n"
     ]
    },
    {
     "data": {
      "application/vnd.jupyter.widget-view+json": {
       "model_id": "c2566f02b4424b9bace4eccd1a173be5",
       "version_major": 2,
       "version_minor": 0
      },
      "text/plain": [
       "HBox(children=(IntProgress(value=0, max=1000), HTML(value='')))"
      ]
     },
     "metadata": {},
     "output_type": "display_data"
    },
    {
     "name": "stdout",
     "output_type": "stream",
     "text": [
      "\n"
     ]
    },
    {
     "name": "stderr",
     "output_type": "stream",
     "text": [
      "Epoch 63: 7.5s to complete\n",
      "    error(train)=1.36e-01, acc(train)=9.44e-01, error(valid)=1.14e+00, acc(valid)=8.22e-01\n"
     ]
    },
    {
     "data": {
      "application/vnd.jupyter.widget-view+json": {
       "model_id": "bc64395d218449268eab275f3c9e76e4",
       "version_major": 2,
       "version_minor": 0
      },
      "text/plain": [
       "HBox(children=(IntProgress(value=0, max=1000), HTML(value='')))"
      ]
     },
     "metadata": {},
     "output_type": "display_data"
    },
    {
     "name": "stdout",
     "output_type": "stream",
     "text": [
      "\n"
     ]
    },
    {
     "name": "stderr",
     "output_type": "stream",
     "text": [
      "Epoch 64: 7.6s to complete\n",
      "    error(train)=1.37e-01, acc(train)=9.45e-01, error(valid)=1.19e+00, acc(valid)=8.20e-01\n"
     ]
    },
    {
     "data": {
      "application/vnd.jupyter.widget-view+json": {
       "model_id": "a07c540f979540d48b4ce126fe4c2759",
       "version_major": 2,
       "version_minor": 0
      },
      "text/plain": [
       "HBox(children=(IntProgress(value=0, max=1000), HTML(value='')))"
      ]
     },
     "metadata": {},
     "output_type": "display_data"
    },
    {
     "name": "stdout",
     "output_type": "stream",
     "text": [
      "\n"
     ]
    },
    {
     "name": "stderr",
     "output_type": "stream",
     "text": [
      "Epoch 65: 7.3s to complete\n",
      "    error(train)=1.23e-01, acc(train)=9.50e-01, error(valid)=1.17e+00, acc(valid)=8.24e-01\n"
     ]
    },
    {
     "data": {
      "application/vnd.jupyter.widget-view+json": {
       "model_id": "af8be7064f784da093ea11a363674b72",
       "version_major": 2,
       "version_minor": 0
      },
      "text/plain": [
       "HBox(children=(IntProgress(value=0, max=1000), HTML(value='')))"
      ]
     },
     "metadata": {},
     "output_type": "display_data"
    },
    {
     "name": "stdout",
     "output_type": "stream",
     "text": [
      "\n"
     ]
    },
    {
     "name": "stderr",
     "output_type": "stream",
     "text": [
      "Epoch 66: 7.6s to complete\n",
      "    error(train)=1.27e-01, acc(train)=9.49e-01, error(valid)=1.21e+00, acc(valid)=8.26e-01\n"
     ]
    },
    {
     "data": {
      "application/vnd.jupyter.widget-view+json": {
       "model_id": "aa2fc117234f4948a171c179b2d11a79",
       "version_major": 2,
       "version_minor": 0
      },
      "text/plain": [
       "HBox(children=(IntProgress(value=0, max=1000), HTML(value='')))"
      ]
     },
     "metadata": {},
     "output_type": "display_data"
    },
    {
     "name": "stdout",
     "output_type": "stream",
     "text": [
      "\n"
     ]
    },
    {
     "name": "stderr",
     "output_type": "stream",
     "text": [
      "Epoch 67: 7.5s to complete\n",
      "    error(train)=1.41e-01, acc(train)=9.44e-01, error(valid)=1.24e+00, acc(valid)=8.20e-01\n"
     ]
    },
    {
     "data": {
      "application/vnd.jupyter.widget-view+json": {
       "model_id": "5d700299d2484d75a6972a5b2571fe94",
       "version_major": 2,
       "version_minor": 0
      },
      "text/plain": [
       "HBox(children=(IntProgress(value=0, max=1000), HTML(value='')))"
      ]
     },
     "metadata": {},
     "output_type": "display_data"
    },
    {
     "name": "stdout",
     "output_type": "stream",
     "text": [
      "\n"
     ]
    },
    {
     "name": "stderr",
     "output_type": "stream",
     "text": [
      "Epoch 68: 7.2s to complete\n",
      "    error(train)=1.28e-01, acc(train)=9.48e-01, error(valid)=1.26e+00, acc(valid)=8.18e-01\n"
     ]
    },
    {
     "data": {
      "application/vnd.jupyter.widget-view+json": {
       "model_id": "bab6a1cf42d943029111f5aca3cc15fb",
       "version_major": 2,
       "version_minor": 0
      },
      "text/plain": [
       "HBox(children=(IntProgress(value=0, max=1000), HTML(value='')))"
      ]
     },
     "metadata": {},
     "output_type": "display_data"
    },
    {
     "name": "stdout",
     "output_type": "stream",
     "text": [
      "\n"
     ]
    },
    {
     "name": "stderr",
     "output_type": "stream",
     "text": [
      "Epoch 69: 7.4s to complete\n",
      "    error(train)=1.30e-01, acc(train)=9.49e-01, error(valid)=1.27e+00, acc(valid)=8.24e-01\n"
     ]
    },
    {
     "data": {
      "application/vnd.jupyter.widget-view+json": {
       "model_id": "db03d57f784b4c6e84d9adcbf40259ec",
       "version_major": 2,
       "version_minor": 0
      },
      "text/plain": [
       "HBox(children=(IntProgress(value=0, max=1000), HTML(value='')))"
      ]
     },
     "metadata": {},
     "output_type": "display_data"
    },
    {
     "name": "stdout",
     "output_type": "stream",
     "text": [
      "\n"
     ]
    },
    {
     "name": "stderr",
     "output_type": "stream",
     "text": [
      "Epoch 70: 8.7s to complete\n",
      "    error(train)=1.10e-01, acc(train)=9.55e-01, error(valid)=1.27e+00, acc(valid)=8.25e-01\n"
     ]
    },
    {
     "data": {
      "application/vnd.jupyter.widget-view+json": {
       "model_id": "cbb5dbeab2be468483fecce882e6e223",
       "version_major": 2,
       "version_minor": 0
      },
      "text/plain": [
       "HBox(children=(IntProgress(value=0, max=1000), HTML(value='')))"
      ]
     },
     "metadata": {},
     "output_type": "display_data"
    },
    {
     "name": "stdout",
     "output_type": "stream",
     "text": [
      "\n"
     ]
    },
    {
     "name": "stderr",
     "output_type": "stream",
     "text": [
      "Epoch 71: 8.3s to complete\n",
      "    error(train)=1.28e-01, acc(train)=9.49e-01, error(valid)=1.28e+00, acc(valid)=8.17e-01\n"
     ]
    },
    {
     "data": {
      "application/vnd.jupyter.widget-view+json": {
       "model_id": "4b6b01456ba8421fbf496022f0bf8baf",
       "version_major": 2,
       "version_minor": 0
      },
      "text/plain": [
       "HBox(children=(IntProgress(value=0, max=1000), HTML(value='')))"
      ]
     },
     "metadata": {},
     "output_type": "display_data"
    },
    {
     "name": "stdout",
     "output_type": "stream",
     "text": [
      "\n"
     ]
    },
    {
     "name": "stderr",
     "output_type": "stream",
     "text": [
      "Epoch 72: 9.3s to complete\n",
      "    error(train)=1.32e-01, acc(train)=9.49e-01, error(valid)=1.34e+00, acc(valid)=8.23e-01\n"
     ]
    },
    {
     "data": {
      "application/vnd.jupyter.widget-view+json": {
       "model_id": "a9561c84b05445bd8119229c8bce5fd9",
       "version_major": 2,
       "version_minor": 0
      },
      "text/plain": [
       "HBox(children=(IntProgress(value=0, max=1000), HTML(value='')))"
      ]
     },
     "metadata": {},
     "output_type": "display_data"
    },
    {
     "name": "stdout",
     "output_type": "stream",
     "text": [
      "\n"
     ]
    },
    {
     "name": "stderr",
     "output_type": "stream",
     "text": [
      "Epoch 73: 8.5s to complete\n",
      "    error(train)=1.14e-01, acc(train)=9.54e-01, error(valid)=1.32e+00, acc(valid)=8.22e-01\n"
     ]
    },
    {
     "data": {
      "application/vnd.jupyter.widget-view+json": {
       "model_id": "4fd855dc91d44510be95144f6bc52939",
       "version_major": 2,
       "version_minor": 0
      },
      "text/plain": [
       "HBox(children=(IntProgress(value=0, max=1000), HTML(value='')))"
      ]
     },
     "metadata": {},
     "output_type": "display_data"
    },
    {
     "name": "stdout",
     "output_type": "stream",
     "text": [
      "\n"
     ]
    },
    {
     "name": "stderr",
     "output_type": "stream",
     "text": [
      "Epoch 74: 9.9s to complete\n",
      "    error(train)=1.05e-01, acc(train)=9.56e-01, error(valid)=1.29e+00, acc(valid)=8.25e-01\n"
     ]
    },
    {
     "data": {
      "application/vnd.jupyter.widget-view+json": {
       "model_id": "a67442f3f27f440498c514cbb1556354",
       "version_major": 2,
       "version_minor": 0
      },
      "text/plain": [
       "HBox(children=(IntProgress(value=0, max=1000), HTML(value='')))"
      ]
     },
     "metadata": {},
     "output_type": "display_data"
    },
    {
     "name": "stdout",
     "output_type": "stream",
     "text": [
      "\n"
     ]
    },
    {
     "name": "stderr",
     "output_type": "stream",
     "text": [
      "Epoch 75: 10.7s to complete\n",
      "    error(train)=1.19e-01, acc(train)=9.54e-01, error(valid)=1.38e+00, acc(valid)=8.22e-01\n"
     ]
    },
    {
     "data": {
      "application/vnd.jupyter.widget-view+json": {
       "model_id": "de19766b99434e7093432f696112fbaf",
       "version_major": 2,
       "version_minor": 0
      },
      "text/plain": [
       "HBox(children=(IntProgress(value=0, max=1000), HTML(value='')))"
      ]
     },
     "metadata": {},
     "output_type": "display_data"
    },
    {
     "name": "stdout",
     "output_type": "stream",
     "text": [
      "\n"
     ]
    },
    {
     "name": "stderr",
     "output_type": "stream",
     "text": [
      "Epoch 76: 9.5s to complete\n",
      "    error(train)=1.24e-01, acc(train)=9.51e-01, error(valid)=1.34e+00, acc(valid)=8.23e-01\n"
     ]
    },
    {
     "data": {
      "application/vnd.jupyter.widget-view+json": {
       "model_id": "40eb92f734474c8195d282ec60bdd636",
       "version_major": 2,
       "version_minor": 0
      },
      "text/plain": [
       "HBox(children=(IntProgress(value=0, max=1000), HTML(value='')))"
      ]
     },
     "metadata": {},
     "output_type": "display_data"
    },
    {
     "name": "stdout",
     "output_type": "stream",
     "text": [
      "\n"
     ]
    },
    {
     "name": "stderr",
     "output_type": "stream",
     "text": [
      "Epoch 77: 9.1s to complete\n",
      "    error(train)=1.32e-01, acc(train)=9.48e-01, error(valid)=1.38e+00, acc(valid)=8.21e-01\n"
     ]
    },
    {
     "data": {
      "application/vnd.jupyter.widget-view+json": {
       "model_id": "ca982e7270bf4bc4b0050ae0159b81b4",
       "version_major": 2,
       "version_minor": 0
      },
      "text/plain": [
       "HBox(children=(IntProgress(value=0, max=1000), HTML(value='')))"
      ]
     },
     "metadata": {},
     "output_type": "display_data"
    },
    {
     "name": "stdout",
     "output_type": "stream",
     "text": [
      "\n"
     ]
    },
    {
     "name": "stderr",
     "output_type": "stream",
     "text": [
      "Epoch 78: 7.4s to complete\n",
      "    error(train)=1.21e-01, acc(train)=9.52e-01, error(valid)=1.38e+00, acc(valid)=8.20e-01\n"
     ]
    },
    {
     "data": {
      "application/vnd.jupyter.widget-view+json": {
       "model_id": "2c9809380f5d4c9587ab5340b60cf427",
       "version_major": 2,
       "version_minor": 0
      },
      "text/plain": [
       "HBox(children=(IntProgress(value=0, max=1000), HTML(value='')))"
      ]
     },
     "metadata": {},
     "output_type": "display_data"
    },
    {
     "name": "stdout",
     "output_type": "stream",
     "text": [
      "\n"
     ]
    },
    {
     "name": "stderr",
     "output_type": "stream",
     "text": [
      "Epoch 79: 9.3s to complete\n",
      "    error(train)=1.28e-01, acc(train)=9.52e-01, error(valid)=1.41e+00, acc(valid)=8.21e-01\n"
     ]
    },
    {
     "data": {
      "application/vnd.jupyter.widget-view+json": {
       "model_id": "ee4bb3cee3d2470ca5d2e09b74b10f21",
       "version_major": 2,
       "version_minor": 0
      },
      "text/plain": [
       "HBox(children=(IntProgress(value=0, max=1000), HTML(value='')))"
      ]
     },
     "metadata": {},
     "output_type": "display_data"
    },
    {
     "name": "stdout",
     "output_type": "stream",
     "text": [
      "\n"
     ]
    },
    {
     "name": "stderr",
     "output_type": "stream",
     "text": [
      "Epoch 80: 9.4s to complete\n",
      "    error(train)=1.06e-01, acc(train)=9.58e-01, error(valid)=1.38e+00, acc(valid)=8.24e-01\n"
     ]
    },
    {
     "data": {
      "application/vnd.jupyter.widget-view+json": {
       "model_id": "78ed0921daf9490a9178c93823d782db",
       "version_major": 2,
       "version_minor": 0
      },
      "text/plain": [
       "HBox(children=(IntProgress(value=0, max=1000), HTML(value='')))"
      ]
     },
     "metadata": {},
     "output_type": "display_data"
    },
    {
     "name": "stdout",
     "output_type": "stream",
     "text": [
      "\n"
     ]
    },
    {
     "name": "stderr",
     "output_type": "stream",
     "text": [
      "Epoch 81: 8.5s to complete\n",
      "    error(train)=1.28e-01, acc(train)=9.50e-01, error(valid)=1.41e+00, acc(valid)=8.21e-01\n"
     ]
    },
    {
     "data": {
      "application/vnd.jupyter.widget-view+json": {
       "model_id": "f05e04588fa6446eafca60efe7f0257e",
       "version_major": 2,
       "version_minor": 0
      },
      "text/plain": [
       "HBox(children=(IntProgress(value=0, max=1000), HTML(value='')))"
      ]
     },
     "metadata": {},
     "output_type": "display_data"
    },
    {
     "name": "stdout",
     "output_type": "stream",
     "text": [
      "\n"
     ]
    },
    {
     "name": "stderr",
     "output_type": "stream",
     "text": [
      "Epoch 82: 7.9s to complete\n",
      "    error(train)=1.08e-01, acc(train)=9.56e-01, error(valid)=1.39e+00, acc(valid)=8.26e-01\n"
     ]
    },
    {
     "data": {
      "application/vnd.jupyter.widget-view+json": {
       "model_id": "3f377d944023492ebc7c4d7503cdf662",
       "version_major": 2,
       "version_minor": 0
      },
      "text/plain": [
       "HBox(children=(IntProgress(value=0, max=1000), HTML(value='')))"
      ]
     },
     "metadata": {},
     "output_type": "display_data"
    },
    {
     "name": "stdout",
     "output_type": "stream",
     "text": [
      "\n"
     ]
    },
    {
     "name": "stderr",
     "output_type": "stream",
     "text": [
      "Epoch 83: 10.2s to complete\n",
      "    error(train)=1.13e-01, acc(train)=9.56e-01, error(valid)=1.42e+00, acc(valid)=8.23e-01\n"
     ]
    },
    {
     "data": {
      "application/vnd.jupyter.widget-view+json": {
       "model_id": "1da7f844dbb640538f4073ef56a7742d",
       "version_major": 2,
       "version_minor": 0
      },
      "text/plain": [
       "HBox(children=(IntProgress(value=0, max=1000), HTML(value='')))"
      ]
     },
     "metadata": {},
     "output_type": "display_data"
    },
    {
     "name": "stdout",
     "output_type": "stream",
     "text": [
      "\n"
     ]
    },
    {
     "name": "stderr",
     "output_type": "stream",
     "text": [
      "Epoch 84: 8.2s to complete\n",
      "    error(train)=1.17e-01, acc(train)=9.54e-01, error(valid)=1.47e+00, acc(valid)=8.22e-01\n"
     ]
    },
    {
     "data": {
      "application/vnd.jupyter.widget-view+json": {
       "model_id": "a89c7f4c1b1744c3afd3200162643803",
       "version_major": 2,
       "version_minor": 0
      },
      "text/plain": [
       "HBox(children=(IntProgress(value=0, max=1000), HTML(value='')))"
      ]
     },
     "metadata": {},
     "output_type": "display_data"
    },
    {
     "name": "stdout",
     "output_type": "stream",
     "text": [
      "\n"
     ]
    },
    {
     "name": "stderr",
     "output_type": "stream",
     "text": [
      "Epoch 85: 7.5s to complete\n",
      "    error(train)=1.11e-01, acc(train)=9.56e-01, error(valid)=1.45e+00, acc(valid)=8.21e-01\n"
     ]
    },
    {
     "data": {
      "application/vnd.jupyter.widget-view+json": {
       "model_id": "f3774922b3e04741b1774099d1df0a0a",
       "version_major": 2,
       "version_minor": 0
      },
      "text/plain": [
       "HBox(children=(IntProgress(value=0, max=1000), HTML(value='')))"
      ]
     },
     "metadata": {},
     "output_type": "display_data"
    },
    {
     "name": "stdout",
     "output_type": "stream",
     "text": [
      "\n"
     ]
    },
    {
     "name": "stderr",
     "output_type": "stream",
     "text": [
      "Epoch 86: 8.7s to complete\n",
      "    error(train)=1.31e-01, acc(train)=9.50e-01, error(valid)=1.46e+00, acc(valid)=8.19e-01\n"
     ]
    },
    {
     "data": {
      "application/vnd.jupyter.widget-view+json": {
       "model_id": "d08e4e9183554c139631adca92ab62c0",
       "version_major": 2,
       "version_minor": 0
      },
      "text/plain": [
       "HBox(children=(IntProgress(value=0, max=1000), HTML(value='')))"
      ]
     },
     "metadata": {},
     "output_type": "display_data"
    },
    {
     "name": "stdout",
     "output_type": "stream",
     "text": [
      "\n"
     ]
    },
    {
     "name": "stderr",
     "output_type": "stream",
     "text": [
      "Epoch 87: 8.2s to complete\n",
      "    error(train)=1.16e-01, acc(train)=9.54e-01, error(valid)=1.48e+00, acc(valid)=8.28e-01\n"
     ]
    },
    {
     "data": {
      "application/vnd.jupyter.widget-view+json": {
       "model_id": "2aa937966f994467a9add1355073f0ce",
       "version_major": 2,
       "version_minor": 0
      },
      "text/plain": [
       "HBox(children=(IntProgress(value=0, max=1000), HTML(value='')))"
      ]
     },
     "metadata": {},
     "output_type": "display_data"
    },
    {
     "name": "stdout",
     "output_type": "stream",
     "text": [
      "\n"
     ]
    },
    {
     "name": "stderr",
     "output_type": "stream",
     "text": [
      "Epoch 88: 8.5s to complete\n",
      "    error(train)=1.09e-01, acc(train)=9.58e-01, error(valid)=1.51e+00, acc(valid)=8.21e-01\n"
     ]
    },
    {
     "data": {
      "application/vnd.jupyter.widget-view+json": {
       "model_id": "6ffba05c4a2547c0ac322c9d23e1a532",
       "version_major": 2,
       "version_minor": 0
      },
      "text/plain": [
       "HBox(children=(IntProgress(value=0, max=1000), HTML(value='')))"
      ]
     },
     "metadata": {},
     "output_type": "display_data"
    },
    {
     "name": "stdout",
     "output_type": "stream",
     "text": [
      "\n"
     ]
    },
    {
     "name": "stderr",
     "output_type": "stream",
     "text": [
      "Epoch 89: 8.0s to complete\n",
      "    error(train)=1.08e-01, acc(train)=9.57e-01, error(valid)=1.50e+00, acc(valid)=8.23e-01\n"
     ]
    },
    {
     "data": {
      "application/vnd.jupyter.widget-view+json": {
       "model_id": "fbc4f75ea1564c38929d79c48b190288",
       "version_major": 2,
       "version_minor": 0
      },
      "text/plain": [
       "HBox(children=(IntProgress(value=0, max=1000), HTML(value='')))"
      ]
     },
     "metadata": {},
     "output_type": "display_data"
    },
    {
     "name": "stdout",
     "output_type": "stream",
     "text": [
      "\n"
     ]
    },
    {
     "name": "stderr",
     "output_type": "stream",
     "text": [
      "Epoch 90: 9.8s to complete\n",
      "    error(train)=1.25e-01, acc(train)=9.52e-01, error(valid)=1.54e+00, acc(valid)=8.22e-01\n"
     ]
    },
    {
     "data": {
      "application/vnd.jupyter.widget-view+json": {
       "model_id": "65e9ddf1ec9d4f48b783a90fa204c1e3",
       "version_major": 2,
       "version_minor": 0
      },
      "text/plain": [
       "HBox(children=(IntProgress(value=0, max=1000), HTML(value='')))"
      ]
     },
     "metadata": {},
     "output_type": "display_data"
    },
    {
     "name": "stdout",
     "output_type": "stream",
     "text": [
      "\n"
     ]
    },
    {
     "name": "stderr",
     "output_type": "stream",
     "text": [
      "Epoch 91: 8.4s to complete\n",
      "    error(train)=1.10e-01, acc(train)=9.56e-01, error(valid)=1.56e+00, acc(valid)=8.22e-01\n"
     ]
    },
    {
     "data": {
      "application/vnd.jupyter.widget-view+json": {
       "model_id": "6978d3968d1749b495fd0366f415a96d",
       "version_major": 2,
       "version_minor": 0
      },
      "text/plain": [
       "HBox(children=(IntProgress(value=0, max=1000), HTML(value='')))"
      ]
     },
     "metadata": {},
     "output_type": "display_data"
    },
    {
     "name": "stdout",
     "output_type": "stream",
     "text": [
      "\n"
     ]
    },
    {
     "name": "stderr",
     "output_type": "stream",
     "text": [
      "Epoch 92: 8.5s to complete\n",
      "    error(train)=1.04e-01, acc(train)=9.57e-01, error(valid)=1.56e+00, acc(valid)=8.22e-01\n"
     ]
    },
    {
     "data": {
      "application/vnd.jupyter.widget-view+json": {
       "model_id": "40d719383c5e483ebda875c13de78ef7",
       "version_major": 2,
       "version_minor": 0
      },
      "text/plain": [
       "HBox(children=(IntProgress(value=0, max=1000), HTML(value='')))"
      ]
     },
     "metadata": {},
     "output_type": "display_data"
    },
    {
     "name": "stdout",
     "output_type": "stream",
     "text": [
      "\n"
     ]
    },
    {
     "name": "stderr",
     "output_type": "stream",
     "text": [
      "Epoch 93: 9.0s to complete\n",
      "    error(train)=1.15e-01, acc(train)=9.55e-01, error(valid)=1.60e+00, acc(valid)=8.21e-01\n"
     ]
    },
    {
     "data": {
      "application/vnd.jupyter.widget-view+json": {
       "model_id": "40e17b23f01e4f7d91aada48d71ae222",
       "version_major": 2,
       "version_minor": 0
      },
      "text/plain": [
       "HBox(children=(IntProgress(value=0, max=1000), HTML(value='')))"
      ]
     },
     "metadata": {},
     "output_type": "display_data"
    },
    {
     "name": "stdout",
     "output_type": "stream",
     "text": [
      "\n"
     ]
    },
    {
     "name": "stderr",
     "output_type": "stream",
     "text": [
      "Epoch 94: 8.2s to complete\n",
      "    error(train)=1.09e-01, acc(train)=9.58e-01, error(valid)=1.56e+00, acc(valid)=8.20e-01\n"
     ]
    },
    {
     "data": {
      "application/vnd.jupyter.widget-view+json": {
       "model_id": "d758166b9221486abdc4b77c5f9922a4",
       "version_major": 2,
       "version_minor": 0
      },
      "text/plain": [
       "HBox(children=(IntProgress(value=0, max=1000), HTML(value='')))"
      ]
     },
     "metadata": {},
     "output_type": "display_data"
    },
    {
     "name": "stdout",
     "output_type": "stream",
     "text": [
      "\n"
     ]
    },
    {
     "name": "stderr",
     "output_type": "stream",
     "text": [
      "Epoch 95: 7.3s to complete\n",
      "    error(train)=1.09e-01, acc(train)=9.58e-01, error(valid)=1.61e+00, acc(valid)=8.20e-01\n"
     ]
    },
    {
     "data": {
      "application/vnd.jupyter.widget-view+json": {
       "model_id": "858550c4e2374892a4a1e9c5c25ea026",
       "version_major": 2,
       "version_minor": 0
      },
      "text/plain": [
       "HBox(children=(IntProgress(value=0, max=1000), HTML(value='')))"
      ]
     },
     "metadata": {},
     "output_type": "display_data"
    },
    {
     "name": "stdout",
     "output_type": "stream",
     "text": [
      "\n"
     ]
    },
    {
     "name": "stderr",
     "output_type": "stream",
     "text": [
      "Epoch 96: 8.3s to complete\n",
      "    error(train)=1.15e-01, acc(train)=9.56e-01, error(valid)=1.60e+00, acc(valid)=8.20e-01\n"
     ]
    },
    {
     "data": {
      "application/vnd.jupyter.widget-view+json": {
       "model_id": "cf53cf5cb87046328ef17847e95c5614",
       "version_major": 2,
       "version_minor": 0
      },
      "text/plain": [
       "HBox(children=(IntProgress(value=0, max=1000), HTML(value='')))"
      ]
     },
     "metadata": {},
     "output_type": "display_data"
    },
    {
     "name": "stdout",
     "output_type": "stream",
     "text": [
      "\n"
     ]
    },
    {
     "name": "stderr",
     "output_type": "stream",
     "text": [
      "Epoch 97: 7.4s to complete\n",
      "    error(train)=1.19e-01, acc(train)=9.55e-01, error(valid)=1.58e+00, acc(valid)=8.23e-01\n"
     ]
    },
    {
     "data": {
      "application/vnd.jupyter.widget-view+json": {
       "model_id": "bbd48f6e86d241419abb82a4d04fb7c6",
       "version_major": 2,
       "version_minor": 0
      },
      "text/plain": [
       "HBox(children=(IntProgress(value=0, max=1000), HTML(value='')))"
      ]
     },
     "metadata": {},
     "output_type": "display_data"
    },
    {
     "name": "stdout",
     "output_type": "stream",
     "text": [
      "\n"
     ]
    },
    {
     "name": "stderr",
     "output_type": "stream",
     "text": [
      "Epoch 98: 8.4s to complete\n",
      "    error(train)=1.13e-01, acc(train)=9.57e-01, error(valid)=1.62e+00, acc(valid)=8.19e-01\n"
     ]
    },
    {
     "data": {
      "application/vnd.jupyter.widget-view+json": {
       "model_id": "b921000799fc4b8188568e961ce1cbe3",
       "version_major": 2,
       "version_minor": 0
      },
      "text/plain": [
       "HBox(children=(IntProgress(value=0, max=1000), HTML(value='')))"
      ]
     },
     "metadata": {},
     "output_type": "display_data"
    },
    {
     "name": "stdout",
     "output_type": "stream",
     "text": [
      "\n"
     ]
    },
    {
     "name": "stderr",
     "output_type": "stream",
     "text": [
      "Epoch 99: 8.8s to complete\n",
      "    error(train)=1.14e-01, acc(train)=9.56e-01, error(valid)=1.60e+00, acc(valid)=8.20e-01\n"
     ]
    },
    {
     "data": {
      "application/vnd.jupyter.widget-view+json": {
       "model_id": "dc78e5a46dbd49e1bd1ad4cc2429cf0b",
       "version_major": 2,
       "version_minor": 0
      },
      "text/plain": [
       "HBox(children=(IntProgress(value=0, max=1000), HTML(value='')))"
      ]
     },
     "metadata": {},
     "output_type": "display_data"
    },
    {
     "name": "stdout",
     "output_type": "stream",
     "text": [
      "\n"
     ]
    },
    {
     "name": "stderr",
     "output_type": "stream",
     "text": [
      "Epoch 100: 8.2s to complete\n",
      "    error(train)=1.14e-01, acc(train)=9.57e-01, error(valid)=1.65e+00, acc(valid)=8.19e-01\n"
     ]
    },
    {
     "name": "stdout",
     "output_type": "stream",
     "text": [
      "\n"
     ]
    },
    {
     "data": {
      "image/png": "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\n",
      "text/plain": [
       "<Figure size 576x288 with 1 Axes>"
      ]
     },
     "metadata": {
      "needs_background": "light"
     },
     "output_type": "display_data"
    },
    {
     "data": {
      "image/png": "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\n",
      "text/plain": [
       "<Figure size 576x288 with 1 Axes>"
      ]
     },
     "metadata": {
      "needs_background": "light"
     },
     "output_type": "display_data"
    }
   ],
   "source": [
    "# The model set up code below is provided as a starting point.\n",
    "# You will probably want to add further code cells for the\n",
    "# different experiments you run.\n",
    "\n",
    "from mlp.layers import AffineLayer, SoftmaxLayer, SigmoidLayer, ReluLayer\n",
    "from mlp.layers import LeakyReluLayer, RandomReluLayer, ParametricReluLayer, ExponentialLinearUnitLayer\n",
    "from mlp.errors import CrossEntropySoftmaxError\n",
    "from mlp.models import MultipleLayerModel\n",
    "from mlp.initialisers import ConstantInit, GlorotUniformInit\n",
    "from mlp.learning_rules import AdamLearningRule\n",
    "from mlp.optimisers import Optimiser\n",
    "\n",
    "#setup hyperparameters\n",
    "learning_rate = 0.1\n",
    "num_epochs = 100\n",
    "stats_interval = 1\n",
    "input_dim, output_dim, hidden_dim = 784, 47, 128\n",
    "\n",
    "for i in\n",
    "\n",
    "weights_init = GlorotUniformInit(rng=rng)\n",
    "biases_init = ConstantInit(0.)\n",
    "model = MultipleLayerModel([\n",
    "    AffineLayer(input_dim, hidden_dim, weights_init, biases_init), \n",
    "    LeakyReluLayer(),\n",
    "    AffineLayer(hidden_dim, hidden_dim, weights_init, biases_init), \n",
    "    LeakyReluLayer(),\n",
    "    AffineLayer(hidden_dim, hidden_dim, weights_init, biases_init),\n",
    "    LeakyReluLayer(),\n",
    "    AffineLayer(hidden_dim, output_dim, weights_init, biases_init)\n",
    "])\n",
    "\n",
    "error = CrossEntropySoftmaxError()\n",
    "# Use a basic gradient descent learning rule\n",
    "learning_rule = AdamLearningRule()\n",
    "callbacks = early_stopping\n",
    "\n",
    "#Remember to use notebook=False when you write a script to be run in a terminal\n",
    "_ = train_model_and_plot_stats(\n",
    "    model, error, learning_rule, train_data, valid_data, num_epochs, stats_interval, notebook=True)"
   ]
  },
  {
   "cell_type": "markdown",
   "metadata": {},
   "source": [
    "##  Part 2: EMNIST Experiments RandomReLULayer"
   ]
  },
  {
   "cell_type": "code",
   "execution_count": 24,
   "metadata": {},
   "outputs": [
    {
     "data": {
      "application/vnd.jupyter.widget-view+json": {
       "model_id": "80b82b635b7942318a60c91ff8e6b8cf",
       "version_major": 2,
       "version_minor": 0
      },
      "text/plain": [
       "HBox(children=(IntProgress(value=0), HTML(value='')))"
      ]
     },
     "metadata": {},
     "output_type": "display_data"
    },
    {
     "data": {
      "application/vnd.jupyter.widget-view+json": {
       "model_id": "814bd396499f4f7681b3dc4b25a53a52",
       "version_major": 2,
       "version_minor": 0
      },
      "text/plain": [
       "HBox(children=(IntProgress(value=0, max=1000), HTML(value='')))"
      ]
     },
     "metadata": {},
     "output_type": "display_data"
    },
    {
     "name": "stdout",
     "output_type": "stream",
     "text": [
      "\n"
     ]
    },
    {
     "name": "stderr",
     "output_type": "stream",
     "text": [
      "Epoch 1: 11.5s to complete\n",
      "    error(train)=7.30e-01, acc(train)=7.72e-01, error(valid)=7.60e-01, acc(valid)=7.64e-01\n"
     ]
    },
    {
     "data": {
      "application/vnd.jupyter.widget-view+json": {
       "model_id": "959cc0c21f8f4a5cbfb17591c1befa88",
       "version_major": 2,
       "version_minor": 0
      },
      "text/plain": [
       "HBox(children=(IntProgress(value=0, max=1000), HTML(value='')))"
      ]
     },
     "metadata": {},
     "output_type": "display_data"
    },
    {
     "name": "stdout",
     "output_type": "stream",
     "text": [
      "\n",
      "\n"
     ]
    },
    {
     "ename": "KeyboardInterrupt",
     "evalue": "",
     "output_type": "error",
     "traceback": [
      "\u001b[0;31m---------------------------------------------------------------------------\u001b[0m",
      "\u001b[0;31mKeyboardInterrupt\u001b[0m                         Traceback (most recent call last)",
      "\u001b[0;32m<ipython-input-24-d049e999af9c>\u001b[0m in \u001b[0;36m<module>\u001b[0;34m\u001b[0m\n\u001b[1;32m     35\u001b[0m \u001b[0;31m#Remember to use notebook=False when you write a script to be run in a terminal\u001b[0m\u001b[0;34m\u001b[0m\u001b[0;34m\u001b[0m\u001b[0;34m\u001b[0m\u001b[0m\n\u001b[1;32m     36\u001b[0m _ = train_model_and_plot_stats(\n\u001b[0;32m---> 37\u001b[0;31m     model, error, learning_rule, train_data, valid_data, num_epochs, stats_interval, notebook=True)\n\u001b[0m",
      "\u001b[0;32m<ipython-input-2-f3f945e7b3fc>\u001b[0m in \u001b[0;36mtrain_model_and_plot_stats\u001b[0;34m(model, error, learning_rule, train_data, valid_data, num_epochs, stats_interval, notebook)\u001b[0m\n\u001b[1;32m     16\u001b[0m     \u001b[0;31m# Run the optimiser for 5 epochs (full passes through the training set)\u001b[0m\u001b[0;34m\u001b[0m\u001b[0;34m\u001b[0m\u001b[0;34m\u001b[0m\u001b[0m\n\u001b[1;32m     17\u001b[0m     \u001b[0;31m# printing statistics every epoch.\u001b[0m\u001b[0;34m\u001b[0m\u001b[0;34m\u001b[0m\u001b[0;34m\u001b[0m\u001b[0m\n\u001b[0;32m---> 18\u001b[0;31m     \u001b[0mstats\u001b[0m\u001b[0;34m,\u001b[0m \u001b[0mkeys\u001b[0m\u001b[0;34m,\u001b[0m \u001b[0mrun_time\u001b[0m \u001b[0;34m=\u001b[0m \u001b[0moptimiser\u001b[0m\u001b[0;34m.\u001b[0m\u001b[0mtrain\u001b[0m\u001b[0;34m(\u001b[0m\u001b[0mnum_epochs\u001b[0m\u001b[0;34m=\u001b[0m\u001b[0mnum_epochs\u001b[0m\u001b[0;34m,\u001b[0m \u001b[0mstats_interval\u001b[0m\u001b[0;34m=\u001b[0m\u001b[0mstats_interval\u001b[0m\u001b[0;34m)\u001b[0m\u001b[0;34m\u001b[0m\u001b[0;34m\u001b[0m\u001b[0m\n\u001b[0m\u001b[1;32m     19\u001b[0m \u001b[0;34m\u001b[0m\u001b[0m\n\u001b[1;32m     20\u001b[0m     \u001b[0;31m# Plot the change in the validation and training set error over training.\u001b[0m\u001b[0;34m\u001b[0m\u001b[0;34m\u001b[0m\u001b[0;34m\u001b[0m\u001b[0m\n",
      "\u001b[0;32m~/mlpractical/mlp/optimisers.py\u001b[0m in \u001b[0;36mtrain\u001b[0;34m(self, num_epochs, stats_interval)\u001b[0m\n\u001b[1;32m    136\u001b[0m             \u001b[0;32mfor\u001b[0m \u001b[0mepoch\u001b[0m \u001b[0;32min\u001b[0m \u001b[0mrange\u001b[0m\u001b[0;34m(\u001b[0m\u001b[0;36m1\u001b[0m\u001b[0;34m,\u001b[0m \u001b[0mnum_epochs\u001b[0m \u001b[0;34m+\u001b[0m \u001b[0;36m1\u001b[0m\u001b[0;34m)\u001b[0m\u001b[0;34m:\u001b[0m\u001b[0;34m\u001b[0m\u001b[0;34m\u001b[0m\u001b[0m\n\u001b[1;32m    137\u001b[0m                 \u001b[0mstart_time\u001b[0m \u001b[0;34m=\u001b[0m \u001b[0mtime\u001b[0m\u001b[0;34m.\u001b[0m\u001b[0mtime\u001b[0m\u001b[0;34m(\u001b[0m\u001b[0;34m)\u001b[0m\u001b[0;34m\u001b[0m\u001b[0;34m\u001b[0m\u001b[0m\n\u001b[0;32m--> 138\u001b[0;31m                 \u001b[0mself\u001b[0m\u001b[0;34m.\u001b[0m\u001b[0mdo_training_epoch\u001b[0m\u001b[0;34m(\u001b[0m\u001b[0;34m)\u001b[0m\u001b[0;34m\u001b[0m\u001b[0;34m\u001b[0m\u001b[0m\n\u001b[0m\u001b[1;32m    139\u001b[0m                 \u001b[0mepoch_time\u001b[0m \u001b[0;34m=\u001b[0m \u001b[0mtime\u001b[0m\u001b[0;34m.\u001b[0m\u001b[0mtime\u001b[0m\u001b[0;34m(\u001b[0m\u001b[0;34m)\u001b[0m\u001b[0;34m-\u001b[0m \u001b[0mstart_time\u001b[0m\u001b[0;34m\u001b[0m\u001b[0;34m\u001b[0m\u001b[0m\n\u001b[1;32m    140\u001b[0m                 \u001b[0;32mif\u001b[0m \u001b[0mepoch\u001b[0m \u001b[0;34m%\u001b[0m \u001b[0mstats_interval\u001b[0m \u001b[0;34m==\u001b[0m \u001b[0;36m0\u001b[0m\u001b[0;34m:\u001b[0m\u001b[0;34m\u001b[0m\u001b[0;34m\u001b[0m\u001b[0m\n",
      "\u001b[0;32m~/mlpractical/mlp/optimisers.py\u001b[0m in \u001b[0;36mdo_training_epoch\u001b[0;34m(self)\u001b[0m\n\u001b[1;32m     66\u001b[0m                     activations, grads_wrt_outputs)\n\u001b[1;32m     67\u001b[0m                 \u001b[0mself\u001b[0m\u001b[0;34m.\u001b[0m\u001b[0mlearning_rule\u001b[0m\u001b[0;34m.\u001b[0m\u001b[0mupdate_params\u001b[0m\u001b[0;34m(\u001b[0m\u001b[0mgrads_wrt_params\u001b[0m\u001b[0;34m)\u001b[0m\u001b[0;34m\u001b[0m\u001b[0;34m\u001b[0m\u001b[0m\n\u001b[0;32m---> 68\u001b[0;31m                 \u001b[0mtrain_progress_bar\u001b[0m\u001b[0;34m.\u001b[0m\u001b[0mupdate\u001b[0m\u001b[0;34m(\u001b[0m\u001b[0;36m1\u001b[0m\u001b[0;34m)\u001b[0m\u001b[0;34m\u001b[0m\u001b[0;34m\u001b[0m\u001b[0m\n\u001b[0m\u001b[1;32m     69\u001b[0m \u001b[0;34m\u001b[0m\u001b[0m\n\u001b[1;32m     70\u001b[0m     \u001b[0;32mdef\u001b[0m \u001b[0meval_monitors\u001b[0m\u001b[0;34m(\u001b[0m\u001b[0mself\u001b[0m\u001b[0;34m,\u001b[0m \u001b[0mdataset\u001b[0m\u001b[0;34m,\u001b[0m \u001b[0mlabel\u001b[0m\u001b[0;34m)\u001b[0m\u001b[0;34m:\u001b[0m\u001b[0;34m\u001b[0m\u001b[0;34m\u001b[0m\u001b[0m\n",
      "\u001b[0;32m~/miniconda3/envs/mlp/lib/python3.7/site-packages/tqdm/notebook.py\u001b[0m in \u001b[0;36mupdate\u001b[0;34m(self, *args, **kwargs)\u001b[0m\n\u001b[1;32m    230\u001b[0m     \u001b[0;32mdef\u001b[0m \u001b[0mupdate\u001b[0m\u001b[0;34m(\u001b[0m\u001b[0mself\u001b[0m\u001b[0;34m,\u001b[0m \u001b[0;34m*\u001b[0m\u001b[0margs\u001b[0m\u001b[0;34m,\u001b[0m \u001b[0;34m**\u001b[0m\u001b[0mkwargs\u001b[0m\u001b[0;34m)\u001b[0m\u001b[0;34m:\u001b[0m\u001b[0;34m\u001b[0m\u001b[0;34m\u001b[0m\u001b[0m\n\u001b[1;32m    231\u001b[0m         \u001b[0;32mtry\u001b[0m\u001b[0;34m:\u001b[0m\u001b[0;34m\u001b[0m\u001b[0;34m\u001b[0m\u001b[0m\n\u001b[0;32m--> 232\u001b[0;31m             \u001b[0msuper\u001b[0m\u001b[0;34m(\u001b[0m\u001b[0mtqdm_notebook\u001b[0m\u001b[0;34m,\u001b[0m \u001b[0mself\u001b[0m\u001b[0;34m)\u001b[0m\u001b[0;34m.\u001b[0m\u001b[0mupdate\u001b[0m\u001b[0;34m(\u001b[0m\u001b[0;34m*\u001b[0m\u001b[0margs\u001b[0m\u001b[0;34m,\u001b[0m \u001b[0;34m**\u001b[0m\u001b[0mkwargs\u001b[0m\u001b[0;34m)\u001b[0m\u001b[0;34m\u001b[0m\u001b[0;34m\u001b[0m\u001b[0m\n\u001b[0m\u001b[1;32m    233\u001b[0m         \u001b[0;32mexcept\u001b[0m \u001b[0mException\u001b[0m \u001b[0;32mas\u001b[0m \u001b[0mexc\u001b[0m\u001b[0;34m:\u001b[0m\u001b[0;34m\u001b[0m\u001b[0;34m\u001b[0m\u001b[0m\n\u001b[1;32m    234\u001b[0m             \u001b[0;31m# cannot catch KeyboardInterrupt when using manual tqdm\u001b[0m\u001b[0;34m\u001b[0m\u001b[0;34m\u001b[0m\u001b[0;34m\u001b[0m\u001b[0m\n",
      "\u001b[0;32m~/miniconda3/envs/mlp/lib/python3.7/site-packages/tqdm/std.py\u001b[0m in \u001b[0;36mupdate\u001b[0;34m(self, n)\u001b[0m\n\u001b[1;32m   1183\u001b[0m \u001b[0;34m\u001b[0m\u001b[0m\n\u001b[1;32m   1184\u001b[0m                 \u001b[0;32mwith\u001b[0m \u001b[0mself\u001b[0m\u001b[0;34m.\u001b[0m\u001b[0m_lock\u001b[0m\u001b[0;34m:\u001b[0m\u001b[0;34m\u001b[0m\u001b[0;34m\u001b[0m\u001b[0m\n\u001b[0;32m-> 1185\u001b[0;31m                     \u001b[0mself\u001b[0m\u001b[0;34m.\u001b[0m\u001b[0mdisplay\u001b[0m\u001b[0;34m(\u001b[0m\u001b[0;34m)\u001b[0m\u001b[0;34m\u001b[0m\u001b[0;34m\u001b[0m\u001b[0m\n\u001b[0m\u001b[1;32m   1186\u001b[0m \u001b[0;34m\u001b[0m\u001b[0m\n\u001b[1;32m   1187\u001b[0m                 \u001b[0;31m# If no `miniters` was specified, adjust automatically to the\u001b[0m\u001b[0;34m\u001b[0m\u001b[0;34m\u001b[0m\u001b[0;34m\u001b[0m\u001b[0m\n",
      "\u001b[0;32m~/miniconda3/envs/mlp/lib/python3.7/site-packages/tqdm/notebook.py\u001b[0m in \u001b[0;36mdisplay\u001b[0;34m(self, msg, pos, close, bar_style)\u001b[0m\n\u001b[1;32m    174\u001b[0m             \u001b[0;31m# never clear the bar (signal: msg='')\u001b[0m\u001b[0;34m\u001b[0m\u001b[0;34m\u001b[0m\u001b[0;34m\u001b[0m\u001b[0m\n\u001b[1;32m    175\u001b[0m             \u001b[0;32mif\u001b[0m \u001b[0mright\u001b[0m\u001b[0;34m:\u001b[0m\u001b[0;34m\u001b[0m\u001b[0;34m\u001b[0m\u001b[0m\n\u001b[0;32m--> 176\u001b[0;31m                 \u001b[0mptext\u001b[0m\u001b[0;34m.\u001b[0m\u001b[0mvalue\u001b[0m \u001b[0;34m=\u001b[0m \u001b[0mright\u001b[0m\u001b[0;34m\u001b[0m\u001b[0;34m\u001b[0m\u001b[0m\n\u001b[0m\u001b[1;32m    177\u001b[0m \u001b[0;34m\u001b[0m\u001b[0m\n\u001b[1;32m    178\u001b[0m         \u001b[0;31m# Change bar style\u001b[0m\u001b[0;34m\u001b[0m\u001b[0;34m\u001b[0m\u001b[0;34m\u001b[0m\u001b[0m\n",
      "\u001b[0;32m~/miniconda3/envs/mlp/lib/python3.7/site-packages/traitlets/traitlets.py\u001b[0m in \u001b[0;36m__set__\u001b[0;34m(self, obj, value)\u001b[0m\n\u001b[1;32m    583\u001b[0m             \u001b[0;32mraise\u001b[0m \u001b[0mTraitError\u001b[0m\u001b[0;34m(\u001b[0m\u001b[0;34m'The \"%s\" trait is read-only.'\u001b[0m \u001b[0;34m%\u001b[0m \u001b[0mself\u001b[0m\u001b[0;34m.\u001b[0m\u001b[0mname\u001b[0m\u001b[0;34m)\u001b[0m\u001b[0;34m\u001b[0m\u001b[0;34m\u001b[0m\u001b[0m\n\u001b[1;32m    584\u001b[0m         \u001b[0;32melse\u001b[0m\u001b[0;34m:\u001b[0m\u001b[0;34m\u001b[0m\u001b[0;34m\u001b[0m\u001b[0m\n\u001b[0;32m--> 585\u001b[0;31m             \u001b[0mself\u001b[0m\u001b[0;34m.\u001b[0m\u001b[0mset\u001b[0m\u001b[0;34m(\u001b[0m\u001b[0mobj\u001b[0m\u001b[0;34m,\u001b[0m \u001b[0mvalue\u001b[0m\u001b[0;34m)\u001b[0m\u001b[0;34m\u001b[0m\u001b[0;34m\u001b[0m\u001b[0m\n\u001b[0m\u001b[1;32m    586\u001b[0m \u001b[0;34m\u001b[0m\u001b[0m\n\u001b[1;32m    587\u001b[0m     \u001b[0;32mdef\u001b[0m \u001b[0m_validate\u001b[0m\u001b[0;34m(\u001b[0m\u001b[0mself\u001b[0m\u001b[0;34m,\u001b[0m \u001b[0mobj\u001b[0m\u001b[0;34m,\u001b[0m \u001b[0mvalue\u001b[0m\u001b[0;34m)\u001b[0m\u001b[0;34m:\u001b[0m\u001b[0;34m\u001b[0m\u001b[0;34m\u001b[0m\u001b[0m\n",
      "\u001b[0;32m~/miniconda3/envs/mlp/lib/python3.7/site-packages/traitlets/traitlets.py\u001b[0m in \u001b[0;36mset\u001b[0;34m(self, obj, value)\u001b[0m\n\u001b[1;32m    572\u001b[0m             \u001b[0;31m# we explicitly compare silent to True just in case the equality\u001b[0m\u001b[0;34m\u001b[0m\u001b[0;34m\u001b[0m\u001b[0;34m\u001b[0m\u001b[0m\n\u001b[1;32m    573\u001b[0m             \u001b[0;31m# comparison above returns something other than True/False\u001b[0m\u001b[0;34m\u001b[0m\u001b[0;34m\u001b[0m\u001b[0;34m\u001b[0m\u001b[0m\n\u001b[0;32m--> 574\u001b[0;31m             \u001b[0mobj\u001b[0m\u001b[0;34m.\u001b[0m\u001b[0m_notify_trait\u001b[0m\u001b[0;34m(\u001b[0m\u001b[0mself\u001b[0m\u001b[0;34m.\u001b[0m\u001b[0mname\u001b[0m\u001b[0;34m,\u001b[0m \u001b[0mold_value\u001b[0m\u001b[0;34m,\u001b[0m \u001b[0mnew_value\u001b[0m\u001b[0;34m)\u001b[0m\u001b[0;34m\u001b[0m\u001b[0;34m\u001b[0m\u001b[0m\n\u001b[0m\u001b[1;32m    575\u001b[0m \u001b[0;34m\u001b[0m\u001b[0m\n\u001b[1;32m    576\u001b[0m     \u001b[0;32mdef\u001b[0m \u001b[0m__set__\u001b[0m\u001b[0;34m(\u001b[0m\u001b[0mself\u001b[0m\u001b[0;34m,\u001b[0m \u001b[0mobj\u001b[0m\u001b[0;34m,\u001b[0m \u001b[0mvalue\u001b[0m\u001b[0;34m)\u001b[0m\u001b[0;34m:\u001b[0m\u001b[0;34m\u001b[0m\u001b[0;34m\u001b[0m\u001b[0m\n",
      "\u001b[0;32m~/miniconda3/envs/mlp/lib/python3.7/site-packages/traitlets/traitlets.py\u001b[0m in \u001b[0;36m_notify_trait\u001b[0;34m(self, name, old_value, new_value)\u001b[0m\n\u001b[1;32m   1137\u001b[0m             \u001b[0mnew\u001b[0m\u001b[0;34m=\u001b[0m\u001b[0mnew_value\u001b[0m\u001b[0;34m,\u001b[0m\u001b[0;34m\u001b[0m\u001b[0;34m\u001b[0m\u001b[0m\n\u001b[1;32m   1138\u001b[0m             \u001b[0mowner\u001b[0m\u001b[0;34m=\u001b[0m\u001b[0mself\u001b[0m\u001b[0;34m,\u001b[0m\u001b[0;34m\u001b[0m\u001b[0;34m\u001b[0m\u001b[0m\n\u001b[0;32m-> 1139\u001b[0;31m             \u001b[0mtype\u001b[0m\u001b[0;34m=\u001b[0m\u001b[0;34m'change'\u001b[0m\u001b[0;34m,\u001b[0m\u001b[0;34m\u001b[0m\u001b[0;34m\u001b[0m\u001b[0m\n\u001b[0m\u001b[1;32m   1140\u001b[0m         ))\n\u001b[1;32m   1141\u001b[0m \u001b[0;34m\u001b[0m\u001b[0m\n",
      "\u001b[0;32m~/miniconda3/envs/mlp/lib/python3.7/site-packages/ipywidgets/widgets/widget.py\u001b[0m in \u001b[0;36mnotify_change\u001b[0;34m(self, change)\u001b[0m\n\u001b[1;32m    603\u001b[0m             \u001b[0;32mif\u001b[0m \u001b[0mname\u001b[0m \u001b[0;32min\u001b[0m \u001b[0mself\u001b[0m\u001b[0;34m.\u001b[0m\u001b[0mkeys\u001b[0m \u001b[0;32mand\u001b[0m \u001b[0mself\u001b[0m\u001b[0;34m.\u001b[0m\u001b[0m_should_send_property\u001b[0m\u001b[0;34m(\u001b[0m\u001b[0mname\u001b[0m\u001b[0;34m,\u001b[0m \u001b[0mgetattr\u001b[0m\u001b[0;34m(\u001b[0m\u001b[0mself\u001b[0m\u001b[0;34m,\u001b[0m \u001b[0mname\u001b[0m\u001b[0;34m)\u001b[0m\u001b[0;34m)\u001b[0m\u001b[0;34m:\u001b[0m\u001b[0;34m\u001b[0m\u001b[0;34m\u001b[0m\u001b[0m\n\u001b[1;32m    604\u001b[0m                 \u001b[0;31m# Send new state to front-end\u001b[0m\u001b[0;34m\u001b[0m\u001b[0;34m\u001b[0m\u001b[0;34m\u001b[0m\u001b[0m\n\u001b[0;32m--> 605\u001b[0;31m                 \u001b[0mself\u001b[0m\u001b[0;34m.\u001b[0m\u001b[0msend_state\u001b[0m\u001b[0;34m(\u001b[0m\u001b[0mkey\u001b[0m\u001b[0;34m=\u001b[0m\u001b[0mname\u001b[0m\u001b[0;34m)\u001b[0m\u001b[0;34m\u001b[0m\u001b[0;34m\u001b[0m\u001b[0m\n\u001b[0m\u001b[1;32m    606\u001b[0m         \u001b[0msuper\u001b[0m\u001b[0;34m(\u001b[0m\u001b[0mWidget\u001b[0m\u001b[0;34m,\u001b[0m \u001b[0mself\u001b[0m\u001b[0;34m)\u001b[0m\u001b[0;34m.\u001b[0m\u001b[0mnotify_change\u001b[0m\u001b[0;34m(\u001b[0m\u001b[0mchange\u001b[0m\u001b[0;34m)\u001b[0m\u001b[0;34m\u001b[0m\u001b[0;34m\u001b[0m\u001b[0m\n\u001b[1;32m    607\u001b[0m \u001b[0;34m\u001b[0m\u001b[0m\n",
      "\u001b[0;32m~/miniconda3/envs/mlp/lib/python3.7/site-packages/ipywidgets/widgets/widget.py\u001b[0m in \u001b[0;36msend_state\u001b[0;34m(self, key)\u001b[0m\n\u001b[1;32m    487\u001b[0m             \u001b[0mstate\u001b[0m\u001b[0;34m,\u001b[0m \u001b[0mbuffer_paths\u001b[0m\u001b[0;34m,\u001b[0m \u001b[0mbuffers\u001b[0m \u001b[0;34m=\u001b[0m \u001b[0m_remove_buffers\u001b[0m\u001b[0;34m(\u001b[0m\u001b[0mstate\u001b[0m\u001b[0;34m)\u001b[0m\u001b[0;34m\u001b[0m\u001b[0;34m\u001b[0m\u001b[0m\n\u001b[1;32m    488\u001b[0m             \u001b[0mmsg\u001b[0m \u001b[0;34m=\u001b[0m \u001b[0;34m{\u001b[0m\u001b[0;34m'method'\u001b[0m\u001b[0;34m:\u001b[0m \u001b[0;34m'update'\u001b[0m\u001b[0;34m,\u001b[0m \u001b[0;34m'state'\u001b[0m\u001b[0;34m:\u001b[0m \u001b[0mstate\u001b[0m\u001b[0;34m,\u001b[0m \u001b[0;34m'buffer_paths'\u001b[0m\u001b[0;34m:\u001b[0m \u001b[0mbuffer_paths\u001b[0m\u001b[0;34m}\u001b[0m\u001b[0;34m\u001b[0m\u001b[0;34m\u001b[0m\u001b[0m\n\u001b[0;32m--> 489\u001b[0;31m             \u001b[0mself\u001b[0m\u001b[0;34m.\u001b[0m\u001b[0m_send\u001b[0m\u001b[0;34m(\u001b[0m\u001b[0mmsg\u001b[0m\u001b[0;34m,\u001b[0m \u001b[0mbuffers\u001b[0m\u001b[0;34m=\u001b[0m\u001b[0mbuffers\u001b[0m\u001b[0;34m)\u001b[0m\u001b[0;34m\u001b[0m\u001b[0;34m\u001b[0m\u001b[0m\n\u001b[0m\u001b[1;32m    490\u001b[0m \u001b[0;34m\u001b[0m\u001b[0m\n\u001b[1;32m    491\u001b[0m \u001b[0;34m\u001b[0m\u001b[0m\n",
      "\u001b[0;32m~/miniconda3/envs/mlp/lib/python3.7/site-packages/ipywidgets/widgets/widget.py\u001b[0m in \u001b[0;36m_send\u001b[0;34m(self, msg, buffers)\u001b[0m\n\u001b[1;32m    735\u001b[0m         \u001b[0;34m\"\"\"Sends a message to the model in the front-end.\"\"\"\u001b[0m\u001b[0;34m\u001b[0m\u001b[0;34m\u001b[0m\u001b[0m\n\u001b[1;32m    736\u001b[0m         \u001b[0;32mif\u001b[0m \u001b[0mself\u001b[0m\u001b[0;34m.\u001b[0m\u001b[0mcomm\u001b[0m \u001b[0;32mis\u001b[0m \u001b[0;32mnot\u001b[0m \u001b[0;32mNone\u001b[0m \u001b[0;32mand\u001b[0m \u001b[0mself\u001b[0m\u001b[0;34m.\u001b[0m\u001b[0mcomm\u001b[0m\u001b[0;34m.\u001b[0m\u001b[0mkernel\u001b[0m \u001b[0;32mis\u001b[0m \u001b[0;32mnot\u001b[0m \u001b[0;32mNone\u001b[0m\u001b[0;34m:\u001b[0m\u001b[0;34m\u001b[0m\u001b[0;34m\u001b[0m\u001b[0m\n\u001b[0;32m--> 737\u001b[0;31m             \u001b[0mself\u001b[0m\u001b[0;34m.\u001b[0m\u001b[0mcomm\u001b[0m\u001b[0;34m.\u001b[0m\u001b[0msend\u001b[0m\u001b[0;34m(\u001b[0m\u001b[0mdata\u001b[0m\u001b[0;34m=\u001b[0m\u001b[0mmsg\u001b[0m\u001b[0;34m,\u001b[0m \u001b[0mbuffers\u001b[0m\u001b[0;34m=\u001b[0m\u001b[0mbuffers\u001b[0m\u001b[0;34m)\u001b[0m\u001b[0;34m\u001b[0m\u001b[0;34m\u001b[0m\u001b[0m\n\u001b[0m\u001b[1;32m    738\u001b[0m \u001b[0;34m\u001b[0m\u001b[0m\n\u001b[1;32m    739\u001b[0m     \u001b[0;32mdef\u001b[0m \u001b[0m_repr_keys\u001b[0m\u001b[0;34m(\u001b[0m\u001b[0mself\u001b[0m\u001b[0;34m)\u001b[0m\u001b[0;34m:\u001b[0m\u001b[0;34m\u001b[0m\u001b[0;34m\u001b[0m\u001b[0m\n",
      "\u001b[0;32m~/miniconda3/envs/mlp/lib/python3.7/site-packages/ipykernel/comm/comm.py\u001b[0m in \u001b[0;36msend\u001b[0;34m(self, data, metadata, buffers)\u001b[0m\n\u001b[1;32m    119\u001b[0m         \u001b[0;34m\"\"\"Send a message to the frontend-side version of this comm\"\"\"\u001b[0m\u001b[0;34m\u001b[0m\u001b[0;34m\u001b[0m\u001b[0m\n\u001b[1;32m    120\u001b[0m         self._publish_msg('comm_msg',\n\u001b[0;32m--> 121\u001b[0;31m             \u001b[0mdata\u001b[0m\u001b[0;34m=\u001b[0m\u001b[0mdata\u001b[0m\u001b[0;34m,\u001b[0m \u001b[0mmetadata\u001b[0m\u001b[0;34m=\u001b[0m\u001b[0mmetadata\u001b[0m\u001b[0;34m,\u001b[0m \u001b[0mbuffers\u001b[0m\u001b[0;34m=\u001b[0m\u001b[0mbuffers\u001b[0m\u001b[0;34m,\u001b[0m\u001b[0;34m\u001b[0m\u001b[0;34m\u001b[0m\u001b[0m\n\u001b[0m\u001b[1;32m    122\u001b[0m         )\n\u001b[1;32m    123\u001b[0m \u001b[0;34m\u001b[0m\u001b[0m\n",
      "\u001b[0;32m~/miniconda3/envs/mlp/lib/python3.7/site-packages/ipykernel/comm/comm.py\u001b[0m in \u001b[0;36m_publish_msg\u001b[0;34m(self, msg_type, data, metadata, buffers, **keys)\u001b[0m\n\u001b[1;32m     69\u001b[0m             \u001b[0mparent\u001b[0m\u001b[0;34m=\u001b[0m\u001b[0mself\u001b[0m\u001b[0;34m.\u001b[0m\u001b[0mkernel\u001b[0m\u001b[0;34m.\u001b[0m\u001b[0m_parent_header\u001b[0m\u001b[0;34m,\u001b[0m\u001b[0;34m\u001b[0m\u001b[0;34m\u001b[0m\u001b[0m\n\u001b[1;32m     70\u001b[0m             \u001b[0mident\u001b[0m\u001b[0;34m=\u001b[0m\u001b[0mself\u001b[0m\u001b[0;34m.\u001b[0m\u001b[0mtopic\u001b[0m\u001b[0;34m,\u001b[0m\u001b[0;34m\u001b[0m\u001b[0;34m\u001b[0m\u001b[0m\n\u001b[0;32m---> 71\u001b[0;31m             \u001b[0mbuffers\u001b[0m\u001b[0;34m=\u001b[0m\u001b[0mbuffers\u001b[0m\u001b[0;34m,\u001b[0m\u001b[0;34m\u001b[0m\u001b[0;34m\u001b[0m\u001b[0m\n\u001b[0m\u001b[1;32m     72\u001b[0m         )\n\u001b[1;32m     73\u001b[0m \u001b[0;34m\u001b[0m\u001b[0m\n",
      "\u001b[0;32m~/miniconda3/envs/mlp/lib/python3.7/site-packages/jupyter_client/session.py\u001b[0m in \u001b[0;36msend\u001b[0;34m(self, stream, msg_or_type, content, parent, ident, buffers, track, header, metadata)\u001b[0m\n\u001b[1;32m    746\u001b[0m             \u001b[0;31m# use dummy tracker, which will be done immediately\u001b[0m\u001b[0;34m\u001b[0m\u001b[0;34m\u001b[0m\u001b[0;34m\u001b[0m\u001b[0m\n\u001b[1;32m    747\u001b[0m             \u001b[0mtracker\u001b[0m \u001b[0;34m=\u001b[0m \u001b[0mDONE\u001b[0m\u001b[0;34m\u001b[0m\u001b[0;34m\u001b[0m\u001b[0m\n\u001b[0;32m--> 748\u001b[0;31m             \u001b[0mstream\u001b[0m\u001b[0;34m.\u001b[0m\u001b[0msend_multipart\u001b[0m\u001b[0;34m(\u001b[0m\u001b[0mto_send\u001b[0m\u001b[0;34m,\u001b[0m \u001b[0mcopy\u001b[0m\u001b[0;34m=\u001b[0m\u001b[0mcopy\u001b[0m\u001b[0;34m)\u001b[0m\u001b[0;34m\u001b[0m\u001b[0;34m\u001b[0m\u001b[0m\n\u001b[0m\u001b[1;32m    749\u001b[0m \u001b[0;34m\u001b[0m\u001b[0m\n\u001b[1;32m    750\u001b[0m         \u001b[0;32mif\u001b[0m \u001b[0mself\u001b[0m\u001b[0;34m.\u001b[0m\u001b[0mdebug\u001b[0m\u001b[0;34m:\u001b[0m\u001b[0;34m\u001b[0m\u001b[0;34m\u001b[0m\u001b[0m\n",
      "\u001b[0;32m~/miniconda3/envs/mlp/lib/python3.7/site-packages/ipykernel/iostream.py\u001b[0m in \u001b[0;36msend_multipart\u001b[0;34m(self, *args, **kwargs)\u001b[0m\n\u001b[1;32m    262\u001b[0m     \u001b[0;32mdef\u001b[0m \u001b[0msend_multipart\u001b[0m\u001b[0;34m(\u001b[0m\u001b[0mself\u001b[0m\u001b[0;34m,\u001b[0m \u001b[0;34m*\u001b[0m\u001b[0margs\u001b[0m\u001b[0;34m,\u001b[0m \u001b[0;34m**\u001b[0m\u001b[0mkwargs\u001b[0m\u001b[0;34m)\u001b[0m\u001b[0;34m:\u001b[0m\u001b[0;34m\u001b[0m\u001b[0;34m\u001b[0m\u001b[0m\n\u001b[1;32m    263\u001b[0m         \u001b[0;34m\"\"\"Schedule send in IO thread\"\"\"\u001b[0m\u001b[0;34m\u001b[0m\u001b[0;34m\u001b[0m\u001b[0m\n\u001b[0;32m--> 264\u001b[0;31m         \u001b[0;32mreturn\u001b[0m \u001b[0mself\u001b[0m\u001b[0;34m.\u001b[0m\u001b[0mio_thread\u001b[0m\u001b[0;34m.\u001b[0m\u001b[0msend_multipart\u001b[0m\u001b[0;34m(\u001b[0m\u001b[0;34m*\u001b[0m\u001b[0margs\u001b[0m\u001b[0;34m,\u001b[0m \u001b[0;34m**\u001b[0m\u001b[0mkwargs\u001b[0m\u001b[0;34m)\u001b[0m\u001b[0;34m\u001b[0m\u001b[0;34m\u001b[0m\u001b[0m\n\u001b[0m\u001b[1;32m    265\u001b[0m \u001b[0;34m\u001b[0m\u001b[0m\n\u001b[1;32m    266\u001b[0m \u001b[0;34m\u001b[0m\u001b[0m\n",
      "\u001b[0;32m~/miniconda3/envs/mlp/lib/python3.7/site-packages/ipykernel/iostream.py\u001b[0m in \u001b[0;36msend_multipart\u001b[0;34m(self, *args, **kwargs)\u001b[0m\n\u001b[1;32m    212\u001b[0m         \u001b[0mIf\u001b[0m \u001b[0mmy\u001b[0m \u001b[0mthread\u001b[0m \u001b[0misn\u001b[0m\u001b[0;31m'\u001b[0m\u001b[0mt\u001b[0m \u001b[0mrunning\u001b[0m \u001b[0;34m(\u001b[0m\u001b[0me\u001b[0m\u001b[0;34m.\u001b[0m\u001b[0mg\u001b[0m\u001b[0;34m.\u001b[0m \u001b[0mforked\u001b[0m \u001b[0mprocess\u001b[0m\u001b[0;34m)\u001b[0m\u001b[0;34m,\u001b[0m \u001b[0msend\u001b[0m \u001b[0mimmediately\u001b[0m\u001b[0;34m.\u001b[0m\u001b[0;34m\u001b[0m\u001b[0;34m\u001b[0m\u001b[0m\n\u001b[1;32m    213\u001b[0m         \"\"\"\n\u001b[0;32m--> 214\u001b[0;31m         \u001b[0mself\u001b[0m\u001b[0;34m.\u001b[0m\u001b[0mschedule\u001b[0m\u001b[0;34m(\u001b[0m\u001b[0;32mlambda\u001b[0m \u001b[0;34m:\u001b[0m \u001b[0mself\u001b[0m\u001b[0;34m.\u001b[0m\u001b[0m_really_send\u001b[0m\u001b[0;34m(\u001b[0m\u001b[0;34m*\u001b[0m\u001b[0margs\u001b[0m\u001b[0;34m,\u001b[0m \u001b[0;34m**\u001b[0m\u001b[0mkwargs\u001b[0m\u001b[0;34m)\u001b[0m\u001b[0;34m)\u001b[0m\u001b[0;34m\u001b[0m\u001b[0;34m\u001b[0m\u001b[0m\n\u001b[0m\u001b[1;32m    215\u001b[0m \u001b[0;34m\u001b[0m\u001b[0m\n\u001b[1;32m    216\u001b[0m     \u001b[0;32mdef\u001b[0m \u001b[0m_really_send\u001b[0m\u001b[0;34m(\u001b[0m\u001b[0mself\u001b[0m\u001b[0;34m,\u001b[0m \u001b[0mmsg\u001b[0m\u001b[0;34m,\u001b[0m \u001b[0;34m*\u001b[0m\u001b[0margs\u001b[0m\u001b[0;34m,\u001b[0m \u001b[0;34m**\u001b[0m\u001b[0mkwargs\u001b[0m\u001b[0;34m)\u001b[0m\u001b[0;34m:\u001b[0m\u001b[0;34m\u001b[0m\u001b[0;34m\u001b[0m\u001b[0m\n",
      "\u001b[0;32m~/miniconda3/envs/mlp/lib/python3.7/site-packages/ipykernel/iostream.py\u001b[0m in \u001b[0;36mschedule\u001b[0;34m(self, f)\u001b[0m\n\u001b[1;32m    203\u001b[0m             \u001b[0mself\u001b[0m\u001b[0;34m.\u001b[0m\u001b[0m_events\u001b[0m\u001b[0;34m.\u001b[0m\u001b[0mappend\u001b[0m\u001b[0;34m(\u001b[0m\u001b[0mf\u001b[0m\u001b[0;34m)\u001b[0m\u001b[0;34m\u001b[0m\u001b[0;34m\u001b[0m\u001b[0m\n\u001b[1;32m    204\u001b[0m             \u001b[0;31m# wake event thread (message content is ignored)\u001b[0m\u001b[0;34m\u001b[0m\u001b[0;34m\u001b[0m\u001b[0;34m\u001b[0m\u001b[0m\n\u001b[0;32m--> 205\u001b[0;31m             \u001b[0mself\u001b[0m\u001b[0;34m.\u001b[0m\u001b[0m_event_pipe\u001b[0m\u001b[0;34m.\u001b[0m\u001b[0msend\u001b[0m\u001b[0;34m(\u001b[0m\u001b[0;34mb''\u001b[0m\u001b[0;34m)\u001b[0m\u001b[0;34m\u001b[0m\u001b[0;34m\u001b[0m\u001b[0m\n\u001b[0m\u001b[1;32m    206\u001b[0m         \u001b[0;32melse\u001b[0m\u001b[0;34m:\u001b[0m\u001b[0;34m\u001b[0m\u001b[0;34m\u001b[0m\u001b[0m\n\u001b[1;32m    207\u001b[0m             \u001b[0mf\u001b[0m\u001b[0;34m(\u001b[0m\u001b[0;34m)\u001b[0m\u001b[0;34m\u001b[0m\u001b[0;34m\u001b[0m\u001b[0m\n",
      "\u001b[0;32m~/miniconda3/envs/mlp/lib/python3.7/site-packages/zmq/sugar/socket.py\u001b[0m in \u001b[0;36msend\u001b[0;34m(self, data, flags, copy, track, routing_id, group)\u001b[0m\n\u001b[1;32m    398\u001b[0m                                  copy_threshold=self.copy_threshold)\n\u001b[1;32m    399\u001b[0m             \u001b[0mdata\u001b[0m\u001b[0;34m.\u001b[0m\u001b[0mgroup\u001b[0m \u001b[0;34m=\u001b[0m \u001b[0mgroup\u001b[0m\u001b[0;34m\u001b[0m\u001b[0;34m\u001b[0m\u001b[0m\n\u001b[0;32m--> 400\u001b[0;31m         \u001b[0;32mreturn\u001b[0m \u001b[0msuper\u001b[0m\u001b[0;34m(\u001b[0m\u001b[0mSocket\u001b[0m\u001b[0;34m,\u001b[0m \u001b[0mself\u001b[0m\u001b[0;34m)\u001b[0m\u001b[0;34m.\u001b[0m\u001b[0msend\u001b[0m\u001b[0;34m(\u001b[0m\u001b[0mdata\u001b[0m\u001b[0;34m,\u001b[0m \u001b[0mflags\u001b[0m\u001b[0;34m=\u001b[0m\u001b[0mflags\u001b[0m\u001b[0;34m,\u001b[0m \u001b[0mcopy\u001b[0m\u001b[0;34m=\u001b[0m\u001b[0mcopy\u001b[0m\u001b[0;34m,\u001b[0m \u001b[0mtrack\u001b[0m\u001b[0;34m=\u001b[0m\u001b[0mtrack\u001b[0m\u001b[0;34m)\u001b[0m\u001b[0;34m\u001b[0m\u001b[0;34m\u001b[0m\u001b[0m\n\u001b[0m\u001b[1;32m    401\u001b[0m \u001b[0;34m\u001b[0m\u001b[0m\n\u001b[1;32m    402\u001b[0m     \u001b[0;32mdef\u001b[0m \u001b[0msend_multipart\u001b[0m\u001b[0;34m(\u001b[0m\u001b[0mself\u001b[0m\u001b[0;34m,\u001b[0m \u001b[0mmsg_parts\u001b[0m\u001b[0;34m,\u001b[0m \u001b[0mflags\u001b[0m\u001b[0;34m=\u001b[0m\u001b[0;36m0\u001b[0m\u001b[0;34m,\u001b[0m \u001b[0mcopy\u001b[0m\u001b[0;34m=\u001b[0m\u001b[0;32mTrue\u001b[0m\u001b[0;34m,\u001b[0m \u001b[0mtrack\u001b[0m\u001b[0;34m=\u001b[0m\u001b[0;32mFalse\u001b[0m\u001b[0;34m,\u001b[0m \u001b[0;34m**\u001b[0m\u001b[0mkwargs\u001b[0m\u001b[0;34m)\u001b[0m\u001b[0;34m:\u001b[0m\u001b[0;34m\u001b[0m\u001b[0;34m\u001b[0m\u001b[0m\n",
      "\u001b[0;32mzmq/backend/cython/socket.pyx\u001b[0m in \u001b[0;36mzmq.backend.cython.socket.Socket.send\u001b[0;34m()\u001b[0m\n",
      "\u001b[0;32mzmq/backend/cython/socket.pyx\u001b[0m in \u001b[0;36mzmq.backend.cython.socket.Socket.send\u001b[0;34m()\u001b[0m\n",
      "\u001b[0;32mzmq/backend/cython/socket.pyx\u001b[0m in \u001b[0;36mzmq.backend.cython.socket._send_copy\u001b[0;34m()\u001b[0m\n",
      "\u001b[0;32m~/miniconda3/envs/mlp/lib/python3.7/site-packages/zmq/backend/cython/checkrc.pxd\u001b[0m in \u001b[0;36mzmq.backend.cython.checkrc._check_rc\u001b[0;34m()\u001b[0m\n",
      "\u001b[0;31mKeyboardInterrupt\u001b[0m: "
     ]
    }
   ],
   "source": [
    "# The model set up code below is provided as a starting point.\n",
    "# You will probably want to add further code cells for the\n",
    "# different experiments you run.\n",
    "\n",
    "from mlp.layers import AffineLayer, SoftmaxLayer, SigmoidLayer, ReluLayer\n",
    "from mlp.layers import LeakyReluLayer, RandomReluLayer, ParametricReluLayer, ExponentialLinearUnitLayer\n",
    "from mlp.errors import CrossEntropySoftmaxError\n",
    "from mlp.models import MultipleLayerModel\n",
    "from mlp.initialisers import ConstantInit, GlorotUniformInit\n",
    "from mlp.learning_rules import AdamLearningRule\n",
    "from mlp.optimisers import Optimiser\n",
    "\n",
    "#setup hyperparameters\n",
    "learning_rate = 0.1\n",
    "num_epochs = 100\n",
    "stats_interval = 1\n",
    "input_dim, output_dim, hidden_dim = 784, 47, 128\n",
    "\n",
    "weights_init = GlorotUniformInit(rng=rng)\n",
    "biases_init = ConstantInit(0.)\n",
    "model = MultipleLayerModel([\n",
    "    AffineLayer(input_dim, hidden_dim, weights_init, biases_init), \n",
    "    RandomReluLayer(),\n",
    "    AffineLayer(hidden_dim, hidden_dim, weights_init, biases_init), \n",
    "    RandomReluLayer(),\n",
    "    AffineLayer(hidden_dim, hidden_dim, weights_init, biases_init),\n",
    "    RandomReluLayer(),\n",
    "    AffineLayer(hidden_dim, output_dim, weights_init, biases_init)\n",
    "])\n",
    "\n",
    "error = CrossEntropySoftmaxError()\n",
    "# Use a basic gradient descent learning rule\n",
    "learning_rule = AdamLearningRule()\n",
    "\n",
    "#Remember to use notebook=False when you write a script to be run in a terminal\n",
    "_ = train_model_and_plot_stats(\n",
    "    model, error, learning_rule, train_data, valid_data, num_epochs, stats_interval, notebook=True)"
   ]
  },
  {
   "cell_type": "markdown",
   "metadata": {},
   "source": [
    "## Part 2: EMNIST Experiments ELULayer"
   ]
  },
  {
   "cell_type": "code",
   "execution_count": 25,
   "metadata": {
    "scrolled": true
   },
   "outputs": [
    {
     "data": {
      "application/vnd.jupyter.widget-view+json": {
       "model_id": "8911cc1e7cd94fc58a1da8dff4fd5ff4",
       "version_major": 2,
       "version_minor": 0
      },
      "text/plain": [
       "HBox(children=(IntProgress(value=0), HTML(value='')))"
      ]
     },
     "metadata": {},
     "output_type": "display_data"
    },
    {
     "data": {
      "application/vnd.jupyter.widget-view+json": {
       "model_id": "f8e3c5a2319f40e4ab50894f79ab94e8",
       "version_major": 2,
       "version_minor": 0
      },
      "text/plain": [
       "HBox(children=(IntProgress(value=0, max=1000), HTML(value='')))"
      ]
     },
     "metadata": {},
     "output_type": "display_data"
    },
    {
     "name": "stdout",
     "output_type": "stream",
     "text": [
      "\n"
     ]
    },
    {
     "name": "stderr",
     "output_type": "stream",
     "text": [
      "Epoch 1: 10.9s to complete\n",
      "    error(train)=7.17e-01, acc(train)=7.71e-01, error(valid)=7.40e-01, acc(valid)=7.66e-01\n"
     ]
    },
    {
     "data": {
      "application/vnd.jupyter.widget-view+json": {
       "model_id": "761b5d0a646e4e17ab9fa84b3956740e",
       "version_major": 2,
       "version_minor": 0
      },
      "text/plain": [
       "HBox(children=(IntProgress(value=0, max=1000), HTML(value='')))"
      ]
     },
     "metadata": {},
     "output_type": "display_data"
    },
    {
     "name": "stdout",
     "output_type": "stream",
     "text": [
      "\n"
     ]
    },
    {
     "name": "stderr",
     "output_type": "stream",
     "text": [
      "Epoch 2: 12.3s to complete\n",
      "    error(train)=5.52e-01, acc(train)=8.19e-01, error(valid)=5.97e-01, acc(valid)=8.09e-01\n"
     ]
    },
    {
     "data": {
      "application/vnd.jupyter.widget-view+json": {
       "model_id": "ff31be4860c34ba0b818c7cae5ad261d",
       "version_major": 2,
       "version_minor": 0
      },
      "text/plain": [
       "HBox(children=(IntProgress(value=0, max=1000), HTML(value='')))"
      ]
     },
     "metadata": {},
     "output_type": "display_data"
    },
    {
     "name": "stdout",
     "output_type": "stream",
     "text": [
      "\n"
     ]
    },
    {
     "name": "stderr",
     "output_type": "stream",
     "text": [
      "Epoch 3: 8.8s to complete\n",
      "    error(train)=4.92e-01, acc(train)=8.35e-01, error(valid)=5.52e-01, acc(valid)=8.19e-01\n"
     ]
    },
    {
     "data": {
      "application/vnd.jupyter.widget-view+json": {
       "model_id": "e0843b2fdca4460b85f08e7a1934961c",
       "version_major": 2,
       "version_minor": 0
      },
      "text/plain": [
       "HBox(children=(IntProgress(value=0, max=1000), HTML(value='')))"
      ]
     },
     "metadata": {},
     "output_type": "display_data"
    },
    {
     "name": "stdout",
     "output_type": "stream",
     "text": [
      "\n"
     ]
    },
    {
     "name": "stderr",
     "output_type": "stream",
     "text": [
      "Epoch 4: 12.8s to complete\n",
      "    error(train)=4.34e-01, acc(train)=8.53e-01, error(valid)=5.16e-01, acc(valid)=8.31e-01\n"
     ]
    },
    {
     "data": {
      "application/vnd.jupyter.widget-view+json": {
       "model_id": "264e10c9817140e890933f49a7e7be3c",
       "version_major": 2,
       "version_minor": 0
      },
      "text/plain": [
       "HBox(children=(IntProgress(value=0, max=1000), HTML(value='')))"
      ]
     },
     "metadata": {},
     "output_type": "display_data"
    },
    {
     "name": "stdout",
     "output_type": "stream",
     "text": [
      "\n"
     ]
    },
    {
     "name": "stderr",
     "output_type": "stream",
     "text": [
      "Epoch 5: 8.8s to complete\n",
      "    error(train)=4.15e-01, acc(train)=8.55e-01, error(valid)=5.16e-01, acc(valid)=8.30e-01\n"
     ]
    },
    {
     "data": {
      "application/vnd.jupyter.widget-view+json": {
       "model_id": "89fe517d1b3245e3b2cbe1eb2ce8493c",
       "version_major": 2,
       "version_minor": 0
      },
      "text/plain": [
       "HBox(children=(IntProgress(value=0, max=1000), HTML(value='')))"
      ]
     },
     "metadata": {},
     "output_type": "display_data"
    },
    {
     "name": "stdout",
     "output_type": "stream",
     "text": [
      "\n",
      "\n"
     ]
    },
    {
     "ename": "KeyboardInterrupt",
     "evalue": "",
     "output_type": "error",
     "traceback": [
      "\u001b[0;31m---------------------------------------------------------------------------\u001b[0m",
      "\u001b[0;31mKeyboardInterrupt\u001b[0m                         Traceback (most recent call last)",
      "\u001b[0;32m<ipython-input-25-7f6ca2b9c4f1>\u001b[0m in \u001b[0;36m<module>\u001b[0;34m\u001b[0m\n\u001b[1;32m     35\u001b[0m \u001b[0;31m#Remember to use notebook=False when you write a script to be run in a terminal\u001b[0m\u001b[0;34m\u001b[0m\u001b[0;34m\u001b[0m\u001b[0;34m\u001b[0m\u001b[0m\n\u001b[1;32m     36\u001b[0m _ = train_model_and_plot_stats(\n\u001b[0;32m---> 37\u001b[0;31m     model, error, learning_rule, train_data, valid_data, num_epochs, stats_interval, notebook=True)\n\u001b[0m",
      "\u001b[0;32m<ipython-input-2-f3f945e7b3fc>\u001b[0m in \u001b[0;36mtrain_model_and_plot_stats\u001b[0;34m(model, error, learning_rule, train_data, valid_data, num_epochs, stats_interval, notebook)\u001b[0m\n\u001b[1;32m     16\u001b[0m     \u001b[0;31m# Run the optimiser for 5 epochs (full passes through the training set)\u001b[0m\u001b[0;34m\u001b[0m\u001b[0;34m\u001b[0m\u001b[0;34m\u001b[0m\u001b[0m\n\u001b[1;32m     17\u001b[0m     \u001b[0;31m# printing statistics every epoch.\u001b[0m\u001b[0;34m\u001b[0m\u001b[0;34m\u001b[0m\u001b[0;34m\u001b[0m\u001b[0m\n\u001b[0;32m---> 18\u001b[0;31m     \u001b[0mstats\u001b[0m\u001b[0;34m,\u001b[0m \u001b[0mkeys\u001b[0m\u001b[0;34m,\u001b[0m \u001b[0mrun_time\u001b[0m \u001b[0;34m=\u001b[0m \u001b[0moptimiser\u001b[0m\u001b[0;34m.\u001b[0m\u001b[0mtrain\u001b[0m\u001b[0;34m(\u001b[0m\u001b[0mnum_epochs\u001b[0m\u001b[0;34m=\u001b[0m\u001b[0mnum_epochs\u001b[0m\u001b[0;34m,\u001b[0m \u001b[0mstats_interval\u001b[0m\u001b[0;34m=\u001b[0m\u001b[0mstats_interval\u001b[0m\u001b[0;34m)\u001b[0m\u001b[0;34m\u001b[0m\u001b[0;34m\u001b[0m\u001b[0m\n\u001b[0m\u001b[1;32m     19\u001b[0m \u001b[0;34m\u001b[0m\u001b[0m\n\u001b[1;32m     20\u001b[0m     \u001b[0;31m# Plot the change in the validation and training set error over training.\u001b[0m\u001b[0;34m\u001b[0m\u001b[0;34m\u001b[0m\u001b[0;34m\u001b[0m\u001b[0m\n",
      "\u001b[0;32m~/mlpractical/mlp/optimisers.py\u001b[0m in \u001b[0;36mtrain\u001b[0;34m(self, num_epochs, stats_interval)\u001b[0m\n\u001b[1;32m    139\u001b[0m                 \u001b[0mepoch_time\u001b[0m \u001b[0;34m=\u001b[0m \u001b[0mtime\u001b[0m\u001b[0;34m.\u001b[0m\u001b[0mtime\u001b[0m\u001b[0;34m(\u001b[0m\u001b[0;34m)\u001b[0m\u001b[0;34m-\u001b[0m \u001b[0mstart_time\u001b[0m\u001b[0;34m\u001b[0m\u001b[0;34m\u001b[0m\u001b[0m\n\u001b[1;32m    140\u001b[0m                 \u001b[0;32mif\u001b[0m \u001b[0mepoch\u001b[0m \u001b[0;34m%\u001b[0m \u001b[0mstats_interval\u001b[0m \u001b[0;34m==\u001b[0m \u001b[0;36m0\u001b[0m\u001b[0;34m:\u001b[0m\u001b[0;34m\u001b[0m\u001b[0;34m\u001b[0m\u001b[0m\n\u001b[0;32m--> 141\u001b[0;31m                     \u001b[0mstats\u001b[0m \u001b[0;34m=\u001b[0m \u001b[0mself\u001b[0m\u001b[0;34m.\u001b[0m\u001b[0mget_epoch_stats\u001b[0m\u001b[0;34m(\u001b[0m\u001b[0;34m)\u001b[0m\u001b[0;34m\u001b[0m\u001b[0;34m\u001b[0m\u001b[0m\n\u001b[0m\u001b[1;32m    142\u001b[0m                     \u001b[0mself\u001b[0m\u001b[0;34m.\u001b[0m\u001b[0mlog_stats\u001b[0m\u001b[0;34m(\u001b[0m\u001b[0mepoch\u001b[0m\u001b[0;34m,\u001b[0m \u001b[0mepoch_time\u001b[0m\u001b[0;34m,\u001b[0m \u001b[0mstats\u001b[0m\u001b[0;34m)\u001b[0m\u001b[0;34m\u001b[0m\u001b[0;34m\u001b[0m\u001b[0m\n\u001b[1;32m    143\u001b[0m                     \u001b[0mrun_stats\u001b[0m\u001b[0;34m.\u001b[0m\u001b[0mappend\u001b[0m\u001b[0;34m(\u001b[0m\u001b[0mlist\u001b[0m\u001b[0;34m(\u001b[0m\u001b[0mstats\u001b[0m\u001b[0;34m.\u001b[0m\u001b[0mvalues\u001b[0m\u001b[0;34m(\u001b[0m\u001b[0;34m)\u001b[0m\u001b[0;34m)\u001b[0m\u001b[0;34m)\u001b[0m\u001b[0;34m\u001b[0m\u001b[0;34m\u001b[0m\u001b[0m\n",
      "\u001b[0;32m~/mlpractical/mlp/optimisers.py\u001b[0m in \u001b[0;36mget_epoch_stats\u001b[0;34m(self)\u001b[0m\n\u001b[1;32m     97\u001b[0m         \"\"\"\n\u001b[1;32m     98\u001b[0m         \u001b[0mepoch_stats\u001b[0m \u001b[0;34m=\u001b[0m \u001b[0mOrderedDict\u001b[0m\u001b[0;34m(\u001b[0m\u001b[0;34m)\u001b[0m\u001b[0;34m\u001b[0m\u001b[0;34m\u001b[0m\u001b[0m\n\u001b[0;32m---> 99\u001b[0;31m         \u001b[0mepoch_stats\u001b[0m\u001b[0;34m.\u001b[0m\u001b[0mupdate\u001b[0m\u001b[0;34m(\u001b[0m\u001b[0mself\u001b[0m\u001b[0;34m.\u001b[0m\u001b[0meval_monitors\u001b[0m\u001b[0;34m(\u001b[0m\u001b[0mself\u001b[0m\u001b[0;34m.\u001b[0m\u001b[0mtrain_dataset\u001b[0m\u001b[0;34m,\u001b[0m \u001b[0;34m'(train)'\u001b[0m\u001b[0;34m)\u001b[0m\u001b[0;34m)\u001b[0m\u001b[0;34m\u001b[0m\u001b[0;34m\u001b[0m\u001b[0m\n\u001b[0m\u001b[1;32m    100\u001b[0m         \u001b[0;32mif\u001b[0m \u001b[0mself\u001b[0m\u001b[0;34m.\u001b[0m\u001b[0mvalid_dataset\u001b[0m \u001b[0;32mis\u001b[0m \u001b[0;32mnot\u001b[0m \u001b[0;32mNone\u001b[0m\u001b[0;34m:\u001b[0m\u001b[0;34m\u001b[0m\u001b[0;34m\u001b[0m\u001b[0m\n\u001b[1;32m    101\u001b[0m             epoch_stats.update(self.eval_monitors(\n",
      "\u001b[0;32m~/mlpractical/mlp/optimisers.py\u001b[0m in \u001b[0;36meval_monitors\u001b[0;34m(self, dataset, label)\u001b[0m\n\u001b[1;32m     81\u001b[0m                                      in self.data_monitors.keys()])\n\u001b[1;32m     82\u001b[0m         \u001b[0;32mfor\u001b[0m \u001b[0minputs_batch\u001b[0m\u001b[0;34m,\u001b[0m \u001b[0mtargets_batch\u001b[0m \u001b[0;32min\u001b[0m \u001b[0mdataset\u001b[0m\u001b[0;34m:\u001b[0m\u001b[0;34m\u001b[0m\u001b[0;34m\u001b[0m\u001b[0m\n\u001b[0;32m---> 83\u001b[0;31m             \u001b[0mactivations\u001b[0m \u001b[0;34m=\u001b[0m \u001b[0mself\u001b[0m\u001b[0;34m.\u001b[0m\u001b[0mmodel\u001b[0m\u001b[0;34m.\u001b[0m\u001b[0mfprop\u001b[0m\u001b[0;34m(\u001b[0m\u001b[0minputs_batch\u001b[0m\u001b[0;34m,\u001b[0m \u001b[0mevaluation\u001b[0m\u001b[0;34m=\u001b[0m\u001b[0;32mTrue\u001b[0m\u001b[0;34m)\u001b[0m\u001b[0;34m\u001b[0m\u001b[0;34m\u001b[0m\u001b[0m\n\u001b[0m\u001b[1;32m     84\u001b[0m             \u001b[0;32mfor\u001b[0m \u001b[0mkey\u001b[0m\u001b[0;34m,\u001b[0m \u001b[0mdata_monitor\u001b[0m \u001b[0;32min\u001b[0m \u001b[0mself\u001b[0m\u001b[0;34m.\u001b[0m\u001b[0mdata_monitors\u001b[0m\u001b[0;34m.\u001b[0m\u001b[0mitems\u001b[0m\u001b[0;34m(\u001b[0m\u001b[0;34m)\u001b[0m\u001b[0;34m:\u001b[0m\u001b[0;34m\u001b[0m\u001b[0;34m\u001b[0m\u001b[0m\n\u001b[1;32m     85\u001b[0m                 data_mon_vals[key + label] += data_monitor(\n",
      "\u001b[0;32m~/mlpractical/mlp/models.py\u001b[0m in \u001b[0;36mfprop\u001b[0;34m(self, inputs, evaluation)\u001b[0m\n\u001b[1;32m    103\u001b[0m                     \u001b[0mcurrent_activations\u001b[0m \u001b[0;34m=\u001b[0m \u001b[0mself\u001b[0m\u001b[0;34m.\u001b[0m\u001b[0mlayers\u001b[0m\u001b[0;34m[\u001b[0m\u001b[0mi\u001b[0m\u001b[0;34m]\u001b[0m\u001b[0;34m.\u001b[0m\u001b[0mfprop\u001b[0m\u001b[0;34m(\u001b[0m\u001b[0mactivations\u001b[0m\u001b[0;34m[\u001b[0m\u001b[0mi\u001b[0m\u001b[0;34m]\u001b[0m\u001b[0;34m,\u001b[0m \u001b[0mstochastic\u001b[0m\u001b[0;34m=\u001b[0m\u001b[0;32mFalse\u001b[0m\u001b[0;34m)\u001b[0m\u001b[0;34m\u001b[0m\u001b[0;34m\u001b[0m\u001b[0m\n\u001b[1;32m    104\u001b[0m                 \u001b[0;32melse\u001b[0m\u001b[0;34m:\u001b[0m\u001b[0;34m\u001b[0m\u001b[0;34m\u001b[0m\u001b[0m\n\u001b[0;32m--> 105\u001b[0;31m                     \u001b[0mcurrent_activations\u001b[0m \u001b[0;34m=\u001b[0m \u001b[0mself\u001b[0m\u001b[0;34m.\u001b[0m\u001b[0mlayers\u001b[0m\u001b[0;34m[\u001b[0m\u001b[0mi\u001b[0m\u001b[0;34m]\u001b[0m\u001b[0;34m.\u001b[0m\u001b[0mfprop\u001b[0m\u001b[0;34m(\u001b[0m\u001b[0mactivations\u001b[0m\u001b[0;34m[\u001b[0m\u001b[0mi\u001b[0m\u001b[0;34m]\u001b[0m\u001b[0;34m)\u001b[0m\u001b[0;34m\u001b[0m\u001b[0;34m\u001b[0m\u001b[0m\n\u001b[0m\u001b[1;32m    106\u001b[0m             \u001b[0;32melse\u001b[0m\u001b[0;34m:\u001b[0m\u001b[0;34m\u001b[0m\u001b[0;34m\u001b[0m\u001b[0m\n\u001b[1;32m    107\u001b[0m                 if issubclass(type(self.layers[i]), StochasticLayer) or issubclass(type(self.layers[i]),\n",
      "\u001b[0;32m~/mlpractical/mlp/layers.py\u001b[0m in \u001b[0;36mfprop\u001b[0;34m(self, inputs)\u001b[0m\n\u001b[1;32m    263\u001b[0m             \u001b[0moutputs\u001b[0m\u001b[0;34m:\u001b[0m \u001b[0mArray\u001b[0m \u001b[0mof\u001b[0m \u001b[0mlayer\u001b[0m \u001b[0moutputs\u001b[0m \u001b[0mof\u001b[0m \u001b[0mshape\u001b[0m \u001b[0;34m(\u001b[0m\u001b[0mbatch_size\u001b[0m\u001b[0;34m,\u001b[0m \u001b[0moutput_dim\u001b[0m\u001b[0;34m)\u001b[0m\u001b[0;34m.\u001b[0m\u001b[0;34m\u001b[0m\u001b[0;34m\u001b[0m\u001b[0m\n\u001b[1;32m    264\u001b[0m         \"\"\"\n\u001b[0;32m--> 265\u001b[0;31m         \u001b[0;32mreturn\u001b[0m \u001b[0mself\u001b[0m\u001b[0;34m.\u001b[0m\u001b[0mweights\u001b[0m\u001b[0;34m.\u001b[0m\u001b[0mdot\u001b[0m\u001b[0;34m(\u001b[0m\u001b[0minputs\u001b[0m\u001b[0;34m.\u001b[0m\u001b[0mT\u001b[0m\u001b[0;34m)\u001b[0m\u001b[0;34m.\u001b[0m\u001b[0mT\u001b[0m \u001b[0;34m+\u001b[0m \u001b[0mself\u001b[0m\u001b[0;34m.\u001b[0m\u001b[0mbiases\u001b[0m\u001b[0;34m\u001b[0m\u001b[0;34m\u001b[0m\u001b[0m\n\u001b[0m\u001b[1;32m    266\u001b[0m \u001b[0;34m\u001b[0m\u001b[0m\n\u001b[1;32m    267\u001b[0m     \u001b[0;32mdef\u001b[0m \u001b[0mbprop\u001b[0m\u001b[0;34m(\u001b[0m\u001b[0mself\u001b[0m\u001b[0;34m,\u001b[0m \u001b[0minputs\u001b[0m\u001b[0;34m,\u001b[0m \u001b[0moutputs\u001b[0m\u001b[0;34m,\u001b[0m \u001b[0mgrads_wrt_outputs\u001b[0m\u001b[0;34m)\u001b[0m\u001b[0;34m:\u001b[0m\u001b[0;34m\u001b[0m\u001b[0;34m\u001b[0m\u001b[0m\n",
      "\u001b[0;31mKeyboardInterrupt\u001b[0m: "
     ]
    }
   ],
   "source": [
    "# The model set up code below is provided as a starting point.\n",
    "# You will probably want to add further code cells for the\n",
    "# different experiments you run.\n",
    "\n",
    "from mlp.layers import AffineLayer, SoftmaxLayer, SigmoidLayer, ReluLayer\n",
    "from mlp.layers import LeakyReluLayer, RandomReluLayer, ParametricReluLayer, ExponentialLinearUnitLayer\n",
    "from mlp.errors import CrossEntropySoftmaxError\n",
    "from mlp.models import MultipleLayerModel\n",
    "from mlp.initialisers import ConstantInit, GlorotUniformInit\n",
    "from mlp.learning_rules import AdamLearningRule\n",
    "from mlp.optimisers import Optimiser\n",
    "\n",
    "#setup hyperparameters\n",
    "learning_rate = 0.1\n",
    "num_epochs = 100\n",
    "stats_interval = 1\n",
    "input_dim, output_dim, hidden_dim = 784, 47, 128\n",
    "\n",
    "weights_init = GlorotUniformInit(rng=rng)\n",
    "biases_init = ConstantInit(0.)\n",
    "model = MultipleLayerModel([\n",
    "    AffineLayer(input_dim, hidden_dim, weights_init, biases_init), \n",
    "    ExponentialLinearUnitLayer(),\n",
    "    AffineLayer(hidden_dim, hidden_dim, weights_init, biases_init), \n",
    "    ExponentialLinearUnitLayer(),\n",
    "    AffineLayer(hidden_dim, hidden_dim, weights_init, biases_init),\n",
    "    ExponentialLinearUnitLayer(),\n",
    "    AffineLayer(hidden_dim, output_dim, weights_init, biases_init)\n",
    "])\n",
    "\n",
    "error = CrossEntropySoftmaxError()\n",
    "# Use a basic gradient descent learning rule\n",
    "learning_rule = AdamLearningRule()\n",
    "\n",
    "#Remember to use notebook=False when you write a script to be run in a terminal\n",
    "_ = train_model_and_plot_stats(\n",
    "    model, error, learning_rule, train_data, valid_data, num_epochs, stats_interval, notebook=True)"
   ]
  },
  {
   "cell_type": "markdown",
   "metadata": {},
   "source": [
    "## Part 2: EMNIST Experiments ParametricReluLayer"
   ]
  },
  {
   "cell_type": "code",
   "execution_count": 3,
   "metadata": {},
   "outputs": [
    {
     "data": {
      "application/vnd.jupyter.widget-view+json": {
       "model_id": "509baaacb1514fb7bae1ecbbf2db3c44",
       "version_major": 2,
       "version_minor": 0
      },
      "text/plain": [
       "HBox(children=(IntProgress(value=0), HTML(value='')))"
      ]
     },
     "metadata": {},
     "output_type": "display_data"
    },
    {
     "data": {
      "application/vnd.jupyter.widget-view+json": {
       "model_id": "092ccba470bd457a815ef651c115fb51",
       "version_major": 2,
       "version_minor": 0
      },
      "text/plain": [
       "HBox(children=(IntProgress(value=0, max=1000), HTML(value='')))"
      ]
     },
     "metadata": {},
     "output_type": "display_data"
    },
    {
     "name": "stdout",
     "output_type": "stream",
     "text": [
      "\n",
      "\n"
     ]
    },
    {
     "ename": "IndexError",
     "evalue": "invalid index to scalar variable.",
     "output_type": "error",
     "traceback": [
      "\u001b[0;31m---------------------------------------------------------------------------\u001b[0m",
      "\u001b[0;31mIndexError\u001b[0m                                Traceback (most recent call last)",
      "\u001b[0;32m<ipython-input-3-5c10343e9ef0>\u001b[0m in \u001b[0;36m<module>\u001b[0;34m\u001b[0m\n\u001b[1;32m     35\u001b[0m \u001b[0;31m#Remember to use notebook=False when you write a script to be run in a terminal\u001b[0m\u001b[0;34m\u001b[0m\u001b[0;34m\u001b[0m\u001b[0;34m\u001b[0m\u001b[0m\n\u001b[1;32m     36\u001b[0m _ = train_model_and_plot_stats(\n\u001b[0;32m---> 37\u001b[0;31m     model, error, learning_rule, train_data, valid_data, num_epochs, stats_interval, notebook=True)\n\u001b[0m",
      "\u001b[0;32m<ipython-input-1-f3f945e7b3fc>\u001b[0m in \u001b[0;36mtrain_model_and_plot_stats\u001b[0;34m(model, error, learning_rule, train_data, valid_data, num_epochs, stats_interval, notebook)\u001b[0m\n\u001b[1;32m     16\u001b[0m     \u001b[0;31m# Run the optimiser for 5 epochs (full passes through the training set)\u001b[0m\u001b[0;34m\u001b[0m\u001b[0;34m\u001b[0m\u001b[0;34m\u001b[0m\u001b[0m\n\u001b[1;32m     17\u001b[0m     \u001b[0;31m# printing statistics every epoch.\u001b[0m\u001b[0;34m\u001b[0m\u001b[0;34m\u001b[0m\u001b[0;34m\u001b[0m\u001b[0m\n\u001b[0;32m---> 18\u001b[0;31m     \u001b[0mstats\u001b[0m\u001b[0;34m,\u001b[0m \u001b[0mkeys\u001b[0m\u001b[0;34m,\u001b[0m \u001b[0mrun_time\u001b[0m \u001b[0;34m=\u001b[0m \u001b[0moptimiser\u001b[0m\u001b[0;34m.\u001b[0m\u001b[0mtrain\u001b[0m\u001b[0;34m(\u001b[0m\u001b[0mnum_epochs\u001b[0m\u001b[0;34m=\u001b[0m\u001b[0mnum_epochs\u001b[0m\u001b[0;34m,\u001b[0m \u001b[0mstats_interval\u001b[0m\u001b[0;34m=\u001b[0m\u001b[0mstats_interval\u001b[0m\u001b[0;34m)\u001b[0m\u001b[0;34m\u001b[0m\u001b[0;34m\u001b[0m\u001b[0m\n\u001b[0m\u001b[1;32m     19\u001b[0m \u001b[0;34m\u001b[0m\u001b[0m\n\u001b[1;32m     20\u001b[0m     \u001b[0;31m# Plot the change in the validation and training set error over training.\u001b[0m\u001b[0;34m\u001b[0m\u001b[0;34m\u001b[0m\u001b[0;34m\u001b[0m\u001b[0m\n",
      "\u001b[0;32m~/mlpractical/mlp/optimisers.py\u001b[0m in \u001b[0;36mtrain\u001b[0;34m(self, num_epochs, stats_interval)\u001b[0m\n\u001b[1;32m    136\u001b[0m             \u001b[0;32mfor\u001b[0m \u001b[0mepoch\u001b[0m \u001b[0;32min\u001b[0m \u001b[0mrange\u001b[0m\u001b[0;34m(\u001b[0m\u001b[0;36m1\u001b[0m\u001b[0;34m,\u001b[0m \u001b[0mnum_epochs\u001b[0m \u001b[0;34m+\u001b[0m \u001b[0;36m1\u001b[0m\u001b[0;34m)\u001b[0m\u001b[0;34m:\u001b[0m\u001b[0;34m\u001b[0m\u001b[0;34m\u001b[0m\u001b[0m\n\u001b[1;32m    137\u001b[0m                 \u001b[0mstart_time\u001b[0m \u001b[0;34m=\u001b[0m \u001b[0mtime\u001b[0m\u001b[0;34m.\u001b[0m\u001b[0mtime\u001b[0m\u001b[0;34m(\u001b[0m\u001b[0;34m)\u001b[0m\u001b[0;34m\u001b[0m\u001b[0;34m\u001b[0m\u001b[0m\n\u001b[0;32m--> 138\u001b[0;31m                 \u001b[0mself\u001b[0m\u001b[0;34m.\u001b[0m\u001b[0mdo_training_epoch\u001b[0m\u001b[0;34m(\u001b[0m\u001b[0;34m)\u001b[0m\u001b[0;34m\u001b[0m\u001b[0;34m\u001b[0m\u001b[0m\n\u001b[0m\u001b[1;32m    139\u001b[0m                 \u001b[0mepoch_time\u001b[0m \u001b[0;34m=\u001b[0m \u001b[0mtime\u001b[0m\u001b[0;34m.\u001b[0m\u001b[0mtime\u001b[0m\u001b[0;34m(\u001b[0m\u001b[0;34m)\u001b[0m\u001b[0;34m-\u001b[0m \u001b[0mstart_time\u001b[0m\u001b[0;34m\u001b[0m\u001b[0;34m\u001b[0m\u001b[0m\n\u001b[1;32m    140\u001b[0m                 \u001b[0;32mif\u001b[0m \u001b[0mepoch\u001b[0m \u001b[0;34m%\u001b[0m \u001b[0mstats_interval\u001b[0m \u001b[0;34m==\u001b[0m \u001b[0;36m0\u001b[0m\u001b[0;34m:\u001b[0m\u001b[0;34m\u001b[0m\u001b[0;34m\u001b[0m\u001b[0m\n",
      "\u001b[0;32m~/mlpractical/mlp/optimisers.py\u001b[0m in \u001b[0;36mdo_training_epoch\u001b[0;34m(self)\u001b[0m\n\u001b[1;32m     64\u001b[0m                 \u001b[0mgrads_wrt_outputs\u001b[0m \u001b[0;34m=\u001b[0m \u001b[0mself\u001b[0m\u001b[0;34m.\u001b[0m\u001b[0merror\u001b[0m\u001b[0;34m.\u001b[0m\u001b[0mgrad\u001b[0m\u001b[0;34m(\u001b[0m\u001b[0mactivations\u001b[0m\u001b[0;34m[\u001b[0m\u001b[0;34m-\u001b[0m\u001b[0;36m1\u001b[0m\u001b[0;34m]\u001b[0m\u001b[0;34m,\u001b[0m \u001b[0mtargets_batch\u001b[0m\u001b[0;34m)\u001b[0m\u001b[0;34m\u001b[0m\u001b[0;34m\u001b[0m\u001b[0m\n\u001b[1;32m     65\u001b[0m                 grads_wrt_params = self.model.grads_wrt_params(\n\u001b[0;32m---> 66\u001b[0;31m                     activations, grads_wrt_outputs)\n\u001b[0m\u001b[1;32m     67\u001b[0m                 \u001b[0mself\u001b[0m\u001b[0;34m.\u001b[0m\u001b[0mlearning_rule\u001b[0m\u001b[0;34m.\u001b[0m\u001b[0mupdate_params\u001b[0m\u001b[0;34m(\u001b[0m\u001b[0mgrads_wrt_params\u001b[0m\u001b[0;34m)\u001b[0m\u001b[0;34m\u001b[0m\u001b[0;34m\u001b[0m\u001b[0m\n\u001b[1;32m     68\u001b[0m                 \u001b[0mtrain_progress_bar\u001b[0m\u001b[0;34m.\u001b[0m\u001b[0mupdate\u001b[0m\u001b[0;34m(\u001b[0m\u001b[0;36m1\u001b[0m\u001b[0;34m)\u001b[0m\u001b[0;34m\u001b[0m\u001b[0;34m\u001b[0m\u001b[0m\n",
      "\u001b[0;32m~/mlpractical/mlp/models.py\u001b[0m in \u001b[0;36mgrads_wrt_params\u001b[0;34m(self, activations, grads_wrt_outputs)\u001b[0m\n\u001b[1;32m    123\u001b[0m             \u001b[0;32mif\u001b[0m \u001b[0misinstance\u001b[0m\u001b[0;34m(\u001b[0m\u001b[0mlayer\u001b[0m\u001b[0;34m,\u001b[0m \u001b[0mLayerWithParameters\u001b[0m\u001b[0;34m)\u001b[0m \u001b[0;32mor\u001b[0m \u001b[0misinstance\u001b[0m\u001b[0;34m(\u001b[0m\u001b[0mlayer\u001b[0m\u001b[0;34m,\u001b[0m \u001b[0mStochasticLayerWithParameters\u001b[0m\u001b[0;34m)\u001b[0m\u001b[0;34m:\u001b[0m\u001b[0;34m\u001b[0m\u001b[0;34m\u001b[0m\u001b[0m\n\u001b[1;32m    124\u001b[0m                 grads_wrt_params += layer.grads_wrt_params(\n\u001b[0;32m--> 125\u001b[0;31m                     inputs, grads_wrt_outputs)[::-1]\n\u001b[0m\u001b[1;32m    126\u001b[0m             \u001b[0mgrads_wrt_outputs\u001b[0m \u001b[0;34m=\u001b[0m \u001b[0mgrads_wrt_inputs\u001b[0m\u001b[0;34m\u001b[0m\u001b[0;34m\u001b[0m\u001b[0m\n\u001b[1;32m    127\u001b[0m         \u001b[0;32mreturn\u001b[0m \u001b[0mgrads_wrt_params\u001b[0m\u001b[0;34m[\u001b[0m\u001b[0;34m:\u001b[0m\u001b[0;34m:\u001b[0m\u001b[0;34m-\u001b[0m\u001b[0;36m1\u001b[0m\u001b[0;34m]\u001b[0m\u001b[0;34m\u001b[0m\u001b[0;34m\u001b[0m\u001b[0m\n",
      "\u001b[0;31mIndexError\u001b[0m: invalid index to scalar variable."
     ]
    }
   ],
   "source": [
    "# The model set up code below is provided as a starting point.\n",
    "# You will probably want to add further code cells for the\n",
    "# different experiments you run.\n",
    "\n",
    "from mlp.layers import AffineLayer, SoftmaxLayer, SigmoidLayer, ReluLayer\n",
    "from mlp.layers import LeakyReluLayer, RandomReluLayer, ParametricReluLayer, ExponentialLinearUnitLayer\n",
    "from mlp.errors import CrossEntropySoftmaxError\n",
    "from mlp.models import MultipleLayerModel\n",
    "from mlp.initialisers import ConstantInit, GlorotUniformInit\n",
    "from mlp.learning_rules import AdamLearningRule\n",
    "from mlp.optimisers import Optimiser\n",
    "\n",
    "#setup hyperparameters\n",
    "learning_rate = 0.1\n",
    "num_epochs = 100\n",
    "stats_interval = 1\n",
    "input_dim, output_dim, hidden_dim = 784, 47, 128\n",
    "\n",
    "weights_init = GlorotUniformInit(rng=rng)\n",
    "biases_init = ConstantInit(0.)\n",
    "model = MultipleLayerModel([\n",
    "    AffineLayer(input_dim, hidden_dim, weights_init, biases_init), \n",
    "    ParametricReluLayer(),\n",
    "    AffineLayer(hidden_dim, hidden_dim, weights_init, biases_init), \n",
    "    ParametricReluLayer(),\n",
    "    AffineLayer(hidden_dim, hidden_dim, weights_init, biases_init),\n",
    "    ParametricReluLayera(),\n",
    "    AffineLayer(hidden_dim, output_dim, weights_init, biases_init)\n",
    "])\n",
    "\n",
    "error = CrossEntropySoftmaxError()\n",
    "# Use a basic gradient descent learning rule\n",
    "learning_rule = AdamLearningRule()\n",
    "\n",
    "#Remember to use notebook=False when you write a script to be run in a terminal\n",
    "_ = train_model_and_plot_stats(\n",
    "    model, error, learning_rule, train_data, valid_data, num_epochs, stats_interval, notebook=True)"
   ]
  },
  {
   "cell_type": "code",
   "execution_count": null,
   "metadata": {},
   "outputs": [],
   "source": []
=======
>>>>>>> afb40114e9f11e8f8e95443222c7707024fbb52d
  }
 ],
 "metadata": {
  "kernelspec": {
   "display_name": "Python 3",
   "language": "python",
   "name": "python3"
  },
  "language_info": {
   "codemirror_mode": {
    "name": "ipython",
    "version": 3
   },
   "file_extension": ".py",
   "mimetype": "text/x-python",
   "name": "python",
   "nbconvert_exporter": "python",
   "pygments_lexer": "ipython3",
   "version": "3.7.4"
  }
 },
 "nbformat": 4,
 "nbformat_minor": 1
}
